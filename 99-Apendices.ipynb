{
 "cells": [
  {
   "cell_type": "markdown",
   "metadata": {},
   "source": [
    "# Class Schedule and Activities\n",
    "\n",
    "**Monday; June 14 -** Introduction, using R, and the Binomial Distribution: Number of Students in your class? Mirror or non-mirror video for Zoom? Odometer Readings.\n",
    "\n",
    "0. How many students did you have your classes this Spring?\n",
    "\n",
    "1. Before class, bring the odometer readings from all of the cars your family has. Making a frequency table of the digits from the readings. What is the most common digit, what is the least common digit?  Are you surprised by what you got, can you explain why you have the distribution you have?\n",
    "\n",
    "2. Consider the poll: <br/>\n",
    "<img src=\"class_ideas/zoom_video.png\" alt=\"Poll of Zoom Mirroring Preferences:  133 votes, 54.9% Mirrored; 45.1% Unmirrored\" width=\"500\"/> <br/>\n",
    "what can we conclude about the proportion of people that have a preference for mirrored videos in their Zoom casts?\n",
    "\n",
    "**Tuesday; June 15 -** Geometric and Poisson Distributions. Traffic Cameras:  How many pickup trucks versus cars? How many vehicles per minute? How many people are getting in line at the supermarket?\n",
    "\n",
    "1. Find a traffic camera for a section of free way or an intersection. How many cars go through before the first pickup truck you see? What can we conclude about the proportion of pickup trucks?\n",
    "\n",
    "2. With your team, watch the video for one minute and count how many vehicles you see. Do this a couple of times. How unusual would it be to see twice as many vehicles or more in a minute?  How unusual would it be to see half as many or fewer vehicles in a minute?  How many vehicles would we expect to see in an hour?  How likely would it be to see that many or fewer in that hour?\n",
    "\n",
    "\n",
    "\n",
    "\n",
    "**Wednesday; June 16 -** Moments and moment generating functions; Continuous distributions. Uniform and Normal Distributions. Odometer Readings? Gas Prices? \n",
    "\n",
    "1. Bring the odometer readings from all of the cars your family has. How likely is it that we have an odometer reading more than 100,000 miles?\n",
    "\n",
    "2. Use Gas Buddy or a similar website to find the lowest price of gas within 10 miles of your house (approximately). How likely is it that the cheapest gas near us is less than $2.90?\n",
    "\n",
    "**Thursday; June 17 -** Gamma, and Beta Distributions:  Radioactive Decay? Where will a pedestrian cross a road?\n",
    "\n",
    "3. The radioactive decay problem from the motivating examples.\n",
    "\n",
    "4. Let's consider a section of street bounded by two intersections with traffic lights. We want to model where a pedestrian will decide to cross the street. \n",
    "\n",
    "\n",
    "# R Notes \n",
    "\n",
    "Putt suggested code for doing tasks here.\n",
    "\n",
    "\n"
   ]
  },
  {
   "cell_type": "code",
   "execution_count": null,
   "metadata": {},
   "outputs": [],
   "source": []
  }
 ],
 "metadata": {
  "kernelspec": {
   "display_name": "R",
   "language": "R",
   "name": "ir"
  },
  "language_info": {
   "codemirror_mode": "r",
   "file_extension": ".r",
   "mimetype": "text/x-r-source",
   "name": "R",
   "pygments_lexer": "r",
   "version": "4.0.2"
  }
 },
 "nbformat": 4,
 "nbformat_minor": 4
}
