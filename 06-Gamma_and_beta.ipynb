{
 "cells": [
  {
   "cell_type": "markdown",
   "metadata": {},
   "source": [
    "# Gamma and Beta Distributions\n",
    "\n",
    "So we have now met the following distributions.\n",
    "\n",
    "For Discrete Distributions we learned that they can be specified by giving the probability distribution for each of the valid outputs. We met a few named distributions that cover common situations and also have sufficient structure that exact computations are possible:  Uniform Distribution, Bernouli Ditribution, Binomial Distribution, Geometric Distribution, and the Poisson Distribution. Note that the support of the Binomial Distribution is 0, 1, 2, ... n; the support of the Geometric and Poisson distributions are 0, 1, 2, ....\n",
    "\n",
    "For Continuous Distributions we can specify them by giving the Cummulative Distribution Function or its derivative the Proability Density Function. We have met two named distributions again either they have enough structure that we can give exact answers or they fit common situations:  The uniform distribution, and the normal distribution. \n",
    "\n",
    "The uniform distribution has compact support on an interval $[a, b]$, while the nomral distribution has support on all real numbers. Note even so, provided $\\sigma^2$ is small enough the likliehood that a normal distribution will return values far from $\\mu$ is limited. \n",
    "\n",
    "However its not hard to imagine a probability distribution with other types of support. \n",
    "\n",
    "*Motivating Question*: Consider our Poisson Process from before. For example at a super market where on average 0.9 customers get in line at one of the checkout counters every minute. This fits our requirements for being a Poisson Process and so we expect the distribution of $N$ the number of customers that get in line each minute to fit our Poisson distribution:\n",
    "\n",
    "$$ P(N= r) = \\frac{0.9^r}{r!} e^{-0.9} $$\n"
   ]
  },
  {
   "cell_type": "code",
   "execution_count": 2,
   "metadata": {},
   "outputs": [
    {
     "data": {
      "image/png": "[encoded data removed]",
      "text/plain": [
       "plot without title"
      ]
     },
     "metadata": {
      "image/png": {
       "height": 420,
       "width": 420
      }
     },
     "output_type": "display_data"
    }
   ],
   "source": [
    "r <- c(0:10)\n",
    "v <- dpois(r, 0.9)\n",
    "plot(r, v)"
   ]
  },
  {
   "cell_type": "markdown",
   "metadata": {},
   "source": [
    "## Exponential Distribution\n",
    "\n",
    "A rather obvious question then is: after a customer gets in line, how many minutes $Y$ will it be before the next customer gets in line. What will the support of $Y$ be? Let's answer this for a general $\\lambda$ and then set $\\lambda = 0.9$.\n",
    "\n",
    "To find a description for this distribution, lets consider what the cummulative distribution function looks like: Define $F(t) = P(Y\\leq t) = \\mbox{what is the probability that the next customer will appear within $t$ minutes}$\n",
    "\n",
    "$$ P(Y \\leq t ) = 1 - P(Y > t) $$\n",
    "\n",
    "We can think of $P(Y>t)$ as the probability that in the time interval $[0, t]$ the Poisson process has not had a single event happen (no customer has been in line). If t=1 this is just \n",
    "\n",
    "$$ P(Y > 1) = P(N = 0) = e^{-\\lambda} $$\n",
    "\n",
    "Then notice that  \n",
    "\n",
    "$$ P(Y > n) = P(N=0)^n = e^{-n \\lambda} $$\n",
    "\n",
    "i.e. for n time units the Poisson process has not had a single success.\n",
    "\n",
    "and from here its not hard to convince yourself that \n",
    "\n",
    "$$ P( Y > t) = e^{-t \\lambda} $$\n",
    "\n",
    "We could even change the units and measure $t$ in seconds even though $\\lambda$ is in customers/minute by just scaling the $\\lambda$ by $1/60$ minutes/second.\n",
    "Thus we have the CDF for our wait time until the first customer:\n",
    "\n",
    "$$ F(t) = P( Y \\leq t ) = 1 - e^{-t \\lambda} $$\n",
    "\n",
    "Differentiating this with respect to $t$ we get the PDF:\n",
    "\n",
    "$$ f(t) = \\lambda e^{-t \\lambda} $$\n",
    "\n",
    "This is called the **Exponential Distribution**:\n",
    "\n",
    "\n",
    "\n",
    "\n",
    "\n"
   ]
  },
  {
   "cell_type": "code",
   "execution_count": 5,
   "metadata": {},
   "outputs": [
    {
     "data": {
      "image/png": "[encoded data removed]",
      "text/plain": [
       "plot without title"
      ]
     },
     "metadata": {
      "image/png": {
       "height": 420,
       "width": 420
      }
     },
     "output_type": "display_data"
    }
   ],
   "source": [
    "n <- 100\n",
    "t <- c(0:(n*5))/n\n",
    "v <- dexp(t, 0.9)\n",
    "plot(t, v, type='l')"
   ]
  },
  {
   "cell_type": "markdown",
   "metadata": {},
   "source": [
    "### Expected Value and Variance\n",
    "\n",
    "The exponential distribution is a joy to work with - integrals are easily found using techniques from Calculus 2. For example the expected value:\n",
    "\n",
    "$$ E(Y) = \\int_0^\\infty t \\lambda e^{-t\\lambda} dt = \\frac{1}{\\lambda} $$\n",
    "\n",
    "Likewise:\n",
    "\n",
    "$$ V(Y) = E(Y^2) - \\frac{1}{\\lambda^2} $$\n",
    "\n",
    "With\n",
    "\n",
    "$$ E(Y^2) = \\int_0^\\infty t^2 \\lambda e^{-t\\lambda} dt = \\frac{2}{\\lambda^2} $$\n",
    "\n",
    "giving us\n",
    "\n",
    "$$ V(Y) = \\frac{1}{\\lambda^2} $$\n",
    "\n",
    "### When will the next customer arrive 95% of the time?\n",
    "\n",
    "Find $a$ such that $P(Y < a) = 0.95$. \n",
    "\n",
    "The R command *qexp* gives the inverse exponential CDF. Using this we can find?"
   ]
  },
  {
   "cell_type": "code",
   "execution_count": 6,
   "metadata": {},
   "outputs": [
    {
     "data": {
      "text/html": [
       "3.32859141505999"
      ],
      "text/latex": [
       "3.32859141505999"
      ],
      "text/markdown": [
       "3.32859141505999"
      ],
      "text/plain": [
       "[1] 3.328591"
      ]
     },
     "metadata": {},
     "output_type": "display_data"
    }
   ],
   "source": [
    "qexp(0.95, 0.9)"
   ]
  },
  {
   "cell_type": "markdown",
   "metadata": {},
   "source": [
    "We can check this result by putting it through the CDF function itself:"
   ]
  },
  {
   "cell_type": "code",
   "execution_count": 7,
   "metadata": {},
   "outputs": [
    {
     "data": {
      "text/html": [
       "0.950000386320808"
      ],
      "text/latex": [
       "0.950000386320808"
      ],
      "text/markdown": [
       "0.950000386320808"
      ],
      "text/plain": [
       "[1] 0.9500004"
      ]
     },
     "metadata": {},
     "output_type": "display_data"
    }
   ],
   "source": [
    "pexp(3.3286, 0.9)"
   ]
  },
  {
   "cell_type": "markdown",
   "metadata": {},
   "source": [
    "### Effect of $\\lambda$\n",
    "\n",
    "As we increase $\\lambda$, increasing the number of customers that arrive per minute, what should happen to the random variable $Y$?"
   ]
  },
  {
   "cell_type": "markdown",
   "metadata": {},
   "source": [
    "## Gamma Distribution\n",
    "\n",
    "Consider now the weight time for more two customers to get in line. As above the best way to compute this is to work from the CDF:\n",
    "\n",
    "$$ P(Y_2 \\leq t) = \\mbox{The likliehood that we need to wait t or fewer minutes before two customers have arrived.} $$\n",
    "\n",
    "As above, this is easiest to compute by finding the complement:\n",
    "\n",
    "$$ P(Y_2 \\leq t) = 1 - P(Y_2 > t) $$\n",
    "\n",
    "and then we are asking how liklie is it that in t seconds we have not had two or more events from our Poisson process:\n",
    "\n",
    "$$ P(Y_2 > t) = e^{-\\lambda t} + \\frac{(\\lambda t)^1 e^{-\\lambda t}}{1!} $$\n",
    "\n",
    "Differentiating our CDF then gives the PDF:\n",
    "\n",
    "$$ f(t) = \\lambda e^{-\\lambda t} - \\lambda e^{-\\lambda t} + \\lambda^2 t e^{-\\lambda t} = \\lambda^2 t e^{-\\lambda t} $$\n",
    "\n",
    "In general the time until $k$ customers have arrived will have a PDF given by:\n",
    "\n",
    "$$ f(t) = \\frac{t^{k-1} \\lambda^k e^{-\\lambda t}}{(k-1)!} $$\n"
   ]
  },
  {
   "cell_type": "code",
   "execution_count": 7,
   "metadata": {},
   "outputs": [
    {
     "data": {
      "image/png": "[encoded data removed]",
      "text/plain": [
       "plot without title"
      ]
     },
     "metadata": {
      "image/png": {
       "height": 420,
       "width": 420
      }
     },
     "output_type": "display_data"
    }
   ],
   "source": [
    "n <- 100\n",
    "lambda <- 0.9\n",
    "k <- 2\n",
    "t <- c(0:(n*5))/n\n",
    "v <- dgamma(t, rate = lambda, shape = k)\n",
    "plot(t, v, type='l')"
   ]
  },
  {
   "cell_type": "markdown",
   "metadata": {},
   "source": [
    "Note we specify the names of the parameters when we call *dgamma* this is because with two parameters it is easy to get the order backwards. If you set $k = 1$ you get back the exponential distribution so this formula is just a direct generalization of that distribution. \n",
    "\n",
    "### General Gamma Distribution\n",
    "\n",
    "More generally the gamma distribution is defined by the PDF:\n",
    "\n",
    "$$ f(x) = \\frac{\\beta^\\alpha x^{\\alpha - 1} e^{-\\beta x} }{\\Gamma(\\alpha)} $$\n",
    "\n",
    "Where $\\Gamma$ is defined by:\n",
    "\n",
    "$$ \\Gamma(\\alpha) = \\int_0^\\infty x^{\\alpha - 1} e^{-x} dx $$ \n",
    "\n",
    "The Gamma Function is quite famous: https://en.wikipedia.org/wiki/Gamma_function\n",
    "\n",
    "However for our purposes you should think of it as doing two things:\n",
    "\n",
    "- It is precisely the constant needed so that the total mass of $f(x)$ is 1.\n",
    "- When $\\alpha$ is a positive integer:\n",
    "$$ \\Gamma(\\alpha) = (\\alpha - 1)! $$\n"
   ]
  },
  {
   "cell_type": "code",
   "execution_count": null,
   "metadata": {},
   "outputs": [],
   "source": []
  }
 ],
 "metadata": {
  "kernelspec": {
   "display_name": "R",
   "language": "R",
   "name": "ir"
  },
  "language_info": {
   "codemirror_mode": "r",
   "file_extension": ".r",
   "mimetype": "text/x-r-source",
   "name": "R",
   "pygments_lexer": "r",
   "version": "4.0.2"
  }
 },
 "nbformat": 4,
 "nbformat_minor": 4
}
