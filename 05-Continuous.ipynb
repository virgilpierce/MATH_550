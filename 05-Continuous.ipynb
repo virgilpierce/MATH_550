{
 "cells": [
  {
   "cell_type": "markdown",
   "metadata": {},
   "source": [
    "# Continuous Random Variables\n",
    "\n",
    "We spent the last two days thinking about discrete probability distributions. Particularly these include random variables that are counting things (what do the binomial, geometric, and Poisson random variables count?).  \n",
    "\n",
    "However you can probably give some examples of numerical random variables which are not discrete.\n",
    "\n",
    "Note the thing that should give us pause, and explains why we have to introduce these random variables in a slightly different way from how we introduced discrete random variables:\n",
    "\n",
    "- For a discrete random variable, it makes sense to ask $P(Y = r)$ for some $r$. I.e. there will be some $r$ such that this number is non-zero. In fact we took this as our starting point for all of the discrete random distributions we have talked about.\n",
    "\n",
    "- For a continuous random variable:  $P(Y=x)$ has us a little bit nervous. If $Y$ is truly continuous then near $x$ there are infinitely many (uncountably infinitely many) values that are also possible. They can't all have a non-zero value without us having trouble adding them all up, and at the same time if only a discrete set of them are non-zero so that we can add them up then what we have is a discrete variable. In other words, we have a bit of a paradox. Luckily Calculus, as it usually does, gives us the language to talk about continuous things as generalizations of discrete things. \n",
    "\n",
    "\n",
    "First we need to make our definition precise: How will we recognize a continuous random variable?  (if you were in my class last summer you might recall our *sandwich* activity). \n",
    "\n",
    "One picture that should have you thinking from earlier this week is the graphs we made of the *Cumulative Distribution Function* for our random variables, here is the one for the binomials random variable:"
   ]
  },
  {
   "cell_type": "code",
   "execution_count": 1,
   "metadata": {},
   "outputs": [
    {
     "data": {
      "image/png": "[encoded data removed]",
      "text/plain": [
       "plot without title"
      ]
     },
     "metadata": {
      "image/png": {
       "height": 420,
       "width": 420
      }
     },
     "output_type": "display_data"
    }
   ],
   "source": [
    "n <- 10\n",
    "p <- 0.38\n",
    "r <- c(-1:(50*n))/50\n",
    "plot(r, pbinom(r, n, p), type=\"l\")"
   ]
  },
  {
   "cell_type": "markdown",
   "metadata": {},
   "source": [
    "onsider instead what this graph will need to look like for a random variable that can take any value rather than just the integer values?  \n",
    "\n",
    "Recall the properties of our CDF $F(x) = P(Y \\leq x)$:\n",
    "\n",
    "- $\\lim_{x\\to -\\infty} F(x) = 0$\n",
    "- $0 \\leq F(x) \\leq 1$ for all x.\n",
    "- $F(x)$ is a non decreasing function of $x$:  given $x_1 < x_2$ then $F(x_1) < F(x_2)$. \n",
    "- $\\lim_{x\\to \\infty} F(x) = 1$\n",
    "\n",
    "A *Continuous Random Variable* is one for which the cumulative distribution function: $F(x) = P(Y \\leq x)$ is a continuous function. \n",
    "\n",
    "Note that we can't say a discrete random variable is one where the CDF is not-continuous as it could have continuous and non-continuous parts. There is a whole theory of decomposing a general random variable into discrete and continuous components that is beyond what we want to do for this class. \n",
    "\n",
    "The next thing to note is that for our discrete random variables, the jump for the steps in the CDF is the probability distribution for that value.\n",
    "\n",
    "For a continuous random variable then, the probability that the variable achieves any specific value must be 0 because otherwise $P(Y = x) $ would be the size of a jump discontinuity in the CDF.\n",
    "\n",
    "\n",
    "## Probability Density Function\n",
    "\n",
    "So we don't have a distribution in the sense that we do for discrete random variables, however note that for continuous functions the idea which captures how much the function is increasing (the size of the steps) is given by the derivative. This leads to:\n",
    "\n",
    "The *Probability Density Function* of a continuous random variable with CDF $F(x) = P(Y \\leq x)$ is given by:\n",
    "$$ f(x) = \\frac{d}{dx} F(x) $$\n",
    "where the derivative exists. \n",
    "\n",
    "Note a few consequences:\n",
    "\n",
    "- $ f(x) \\geq 0 $\n",
    "- $ \\int_{-\\infty}^\\infty f(x) dx = 1$\n",
    "\n",
    "### Why is this called the density function?  \n",
    "\n",
    "Let's assume that $f(x)$ exists everywhere. Then the Fundamental Theorem of Calculus implies that:\n",
    "\n",
    "$$ F(x) = P(Y \\leq x) = \\int_{-\\infty}^x f(t) dt $$\n",
    "\n",
    "Suppose we wanted to know $P(a \\leq Y \\leq b)$?  On the one hand we compute this from the CDF:\n",
    "\n",
    "$$ P( a \\leq Y \\leq b) = F(b) - F(a) $$\n",
    "\n",
    "However we can rewrite this in terms of the PDF using the algebra of integrals: \n",
    "\n",
    "$$ P(a \\leq Y \\leq b) = \\int_a^b f(x) dx $$\n",
    "\n",
    "I.e. the area under $f(x)$ over a region of $x$-space gives the probability that $Y$ lies in that region. Note some consequences:\n",
    "\n",
    "- This is another way of thinking about why $P(Y = x) = 0 $:  It corresponds to an integral over a single point. \n",
    "\n",
    "I think of this as density in the same sense as we would use in Physics if the density is a proportion of the whole (i.e. we choose units so the total mass is 1). The integral of the density function for an object gives the mass of that object, center of mass and mean are the same thing, and the variance we are using corresponds to moments - describing how much the mass of an object is spread from its center.\n",
    "\n",
    "## Uniform Distribution\n",
    "\n",
    "For our first example consider the cumulative distribution function:\n",
    "\n",
    "$$ F(x) = \\left\\{ \\begin{matrix} 0 & x < 0 \\\\ x & 0 \\leq x \\leq 1 \\\\ 1 & x > 1 \\end{matrix}    \\right\\} $$\n",
    "\n",
    "To plot this, we first need to define the function. We will go over this in class, but this is the syntax for definition a function in R and also because it is piecewise the syntax for *if* statements. Note this is the most complicated programming we will do and you can just copy this function and modify it. A couple of notes about using this in R - from the notebook you need to execute this command with the cursor at the very top, working from the middle will only run the middle block of code. The other note is that I want to write the function so that it handles columns the same way the builtin functions we have already met do. That means I need to assume the input is a list of values and it needs to return a list of values."
   ]
  },
  {
   "cell_type": "code",
   "execution_count": 2,
   "metadata": {},
   "outputs": [
    {
     "data": {
      "text/html": [
       "<style>\n",
       ".list-inline {list-style: none; margin:0; padding: 0}\n",
       ".list-inline>li {display: inline-block}\n",
       ".list-inline>li:not(:last-child)::after {content: \"\\00b7\"; padding: 0 .5ex}\n",
       "</style>\n",
       "<ol class=list-inline><li>0</li><li>0.25</li><li>1</li></ol>\n"
      ],
      "text/latex": [
       "\\begin{enumerate*}\n",
       "\\item 0\n",
       "\\item 0.25\n",
       "\\item 1\n",
       "\\end{enumerate*}\n"
      ],
      "text/markdown": [
       "1. 0\n",
       "2. 0.25\n",
       "3. 1\n",
       "\n",
       "\n"
      ],
      "text/plain": [
       "[1] 0.00 0.25 1.00"
      ]
     },
     "metadata": {},
     "output_type": "display_data"
    }
   ],
   "source": [
    "# We need to write functions so they take a column of input values and return a column of output values, \n",
    "# This will make what we do next easier.\n",
    "\n",
    "F <- function(x) {\n",
    "  result <- c()\n",
    "  \n",
    "  for (k in x) {\n",
    "    \n",
    "    # The actual function - note the if statements we need because of the piecewise nature\n",
    "    if (k < 0) {\n",
    "      result <- c(result, 0)\n",
    "    }\n",
    "    else if (k > 1) {\n",
    "      result <- c(result, 1)\n",
    "    }\n",
    "    else {\n",
    "      result <- c(result, k)\n",
    "    }\n",
    "  }\n",
    "  result\n",
    "} \n",
    "\n",
    "# testing that it works\n",
    "F(c(-0.25, 0.25, 3))"
   ]
  },
  {
   "cell_type": "markdown",
   "metadata": {},
   "source": [
    "With that defined we can now plot the function. "
   ]
  },
  {
   "cell_type": "code",
   "execution_count": 3,
   "metadata": {},
   "outputs": [
    {
     "data": {
      "image/png": "[encoded data removed]",
      "text/plain": [
       "plot without title"
      ]
     },
     "metadata": {
      "image/png": {
       "height": 420,
       "width": 420
      }
     },
     "output_type": "display_data"
    }
   ],
   "source": [
    "n <- 100\n",
    "x <- c((-2*n):(2*n))/n\n",
    "plot(x, F(x), type = \"l\")"
   ]
  },
  {
   "cell_type": "markdown",
   "metadata": {},
   "source": [
    "This is our cumulative distribution. Without even computing anything we can tell that the support of our density is on the interval $[0, 1]$. Note that we have corners in the CDF so there are two places where the density is not defined - your instincts from Calculus are correct that not having a density at a discrete set of values is not a big deal. You may recall from MATH 534 that there are some particularly nasty functions, but while they are theoretically interesting as CDFs they do not correspond to random variables we see often (if at all).\n",
    "\n",
    "We can compute the probability density function by differentiating this one.  We get a piecewise defined function:\n",
    "\n",
    "$$ f(x) = \\left\\{ \\begin{matrix} 0 & x < 0 \\\\ 1 & 0 \\leq x \\leq 1 \\\\ 0 & x > 1 \\end{matrix} \\right\\} $$\n",
    "\n",
    "This is an example of a uniform continuous distribution. On the support of the variable, the probability that $Y$ is in an interval is proportional to the length of that interval. It is tempting to say that each value of $Y$ is equally likely, however this while being correct is meaningless - for a continuous random variable the probability of any value occuring is zero - hence they are all the same, regardless of what the density is. For continuous random variables we can only talk in terms of (a) the probability density or (b) the probability of the variable occuring in a set.  This distinction is what separates those who have been carefully learning probability and statistics from those who tried to cut some corners or are getting sloppy.\n",
    "\n",
    "### General Unifrom Distributions\n",
    "\n",
    "Find the constant $C$ such that $f(x)$ below is a valid PDF:\n",
    "\n",
    "$$ f(x) = \\left\\{ \\begin{matrix} 0 & x < a \\\\ C & a \\leq x \\leq b \\\\ 0 & x > b \\end{matrix} \\right\\} $$\n",
    "\n",
    "If you translate this question into Physics:  Find $C$ such that the total mass of the object with density $f(x)$ is 1, you will not be surprised by the answer.\n",
    "\n",
    "1. Make a prediction about the Expected Value of the uniform random variable on $[a, b]$.\n",
    "\n",
    "### Simmulating continuous random variables\n",
    "\n",
    "Following our pattern for discrete random variables, I would like to first simmulate this random variable so we can experiment and see what we think the Expected Value and Variance are. However simmulating continuous random variables is somewhat harder than discrete ones. For example with discrete ones we could even simmulate them mechanically by filling a bag with chips with different markings on them.\n",
    "\n",
    "Luckily, R comes with a uniform random variable simmulator already prepared for us. It uses similar technology that that hiding behind our discrete *sample* command we used already. The command is *runif* r is the prefix and unif is the name of the distribution - hence we could simmulate our Poisson variable for example using *rpois*.\n",
    "\n",
    "\n",
    "\n",
    "\n"
   ]
  },
  {
   "cell_type": "code",
   "execution_count": 3,
   "metadata": {},
   "outputs": [
    {
     "data": {
      "text/html": [
       "<style>\n",
       ".list-inline {list-style: none; margin:0; padding: 0}\n",
       ".list-inline>li {display: inline-block}\n",
       ".list-inline>li:not(:last-child)::after {content: \"\\00b7\"; padding: 0 .5ex}\n",
       "</style>\n",
       "<ol class=list-inline><li>0.319393652724102</li><li>0.207220384385437</li><li>0.916254987707362</li><li>0.684657288482413</li><li>0.248310792492703</li><li>0.933810803806409</li><li>0.564567581517622</li><li>0.861180072650313</li><li>0.366238017100841</li><li>0.818717478308827</li><li>0.36278925719671</li><li>0.74150142702274</li><li>0.937513625947759</li><li>0.770486322464421</li><li>0.323491985909641</li><li>0.233722955919802</li><li>0.379345145775005</li><li>0.118393048644066</li><li>0.387825543759391</li><li>0.163439399329945</li><li>0.360754005610943</li><li>0.50504719093442</li><li>0.284939517034218</li><li>0.334353906102479</li><li>0.719828973058611</li><li>0.824787321034819</li><li>0.564193005906418</li><li>0.574649747693911</li><li>0.79351018415764</li><li>0.761046403553337</li><li>0.63698564376682</li><li>0.837981539079919</li><li>0.518178730504587</li><li>0.31504775211215</li><li>0.922427522251382</li><li>0.797051992733032</li><li>0.618176450254396</li><li>0.407883052714169</li><li>0.690970848314464</li><li>0.335755401290953</li><li>0.651398866903037</li><li>0.967865736689419</li><li>0.234464736888185</li><li>0.260403885040432</li><li>0.86681800079532</li><li>0.72558361152187</li><li>0.823717466555536</li><li>0.726553611457348</li><li>0.202642381889746</li><li>0.312932050786912</li></ol>\n"
      ],
      "text/latex": [
       "\\begin{enumerate*}\n",
       "\\item 0.319393652724102\n",
       "\\item 0.207220384385437\n",
       "\\item 0.916254987707362\n",
       "\\item 0.684657288482413\n",
       "\\item 0.248310792492703\n",
       "\\item 0.933810803806409\n",
       "\\item 0.564567581517622\n",
       "\\item 0.861180072650313\n",
       "\\item 0.366238017100841\n",
       "\\item 0.818717478308827\n",
       "\\item 0.36278925719671\n",
       "\\item 0.74150142702274\n",
       "\\item 0.937513625947759\n",
       "\\item 0.770486322464421\n",
       "\\item 0.323491985909641\n",
       "\\item 0.233722955919802\n",
       "\\item 0.379345145775005\n",
       "\\item 0.118393048644066\n",
       "\\item 0.387825543759391\n",
       "\\item 0.163439399329945\n",
       "\\item 0.360754005610943\n",
       "\\item 0.50504719093442\n",
       "\\item 0.284939517034218\n",
       "\\item 0.334353906102479\n",
       "\\item 0.719828973058611\n",
       "\\item 0.824787321034819\n",
       "\\item 0.564193005906418\n",
       "\\item 0.574649747693911\n",
       "\\item 0.79351018415764\n",
       "\\item 0.761046403553337\n",
       "\\item 0.63698564376682\n",
       "\\item 0.837981539079919\n",
       "\\item 0.518178730504587\n",
       "\\item 0.31504775211215\n",
       "\\item 0.922427522251382\n",
       "\\item 0.797051992733032\n",
       "\\item 0.618176450254396\n",
       "\\item 0.407883052714169\n",
       "\\item 0.690970848314464\n",
       "\\item 0.335755401290953\n",
       "\\item 0.651398866903037\n",
       "\\item 0.967865736689419\n",
       "\\item 0.234464736888185\n",
       "\\item 0.260403885040432\n",
       "\\item 0.86681800079532\n",
       "\\item 0.72558361152187\n",
       "\\item 0.823717466555536\n",
       "\\item 0.726553611457348\n",
       "\\item 0.202642381889746\n",
       "\\item 0.312932050786912\n",
       "\\end{enumerate*}\n"
      ],
      "text/markdown": [
       "1. 0.319393652724102\n",
       "2. 0.207220384385437\n",
       "3. 0.916254987707362\n",
       "4. 0.684657288482413\n",
       "5. 0.248310792492703\n",
       "6. 0.933810803806409\n",
       "7. 0.564567581517622\n",
       "8. 0.861180072650313\n",
       "9. 0.366238017100841\n",
       "10. 0.818717478308827\n",
       "11. 0.36278925719671\n",
       "12. 0.74150142702274\n",
       "13. 0.937513625947759\n",
       "14. 0.770486322464421\n",
       "15. 0.323491985909641\n",
       "16. 0.233722955919802\n",
       "17. 0.379345145775005\n",
       "18. 0.118393048644066\n",
       "19. 0.387825543759391\n",
       "20. 0.163439399329945\n",
       "21. 0.360754005610943\n",
       "22. 0.50504719093442\n",
       "23. 0.284939517034218\n",
       "24. 0.334353906102479\n",
       "25. 0.719828973058611\n",
       "26. 0.824787321034819\n",
       "27. 0.564193005906418\n",
       "28. 0.574649747693911\n",
       "29. 0.79351018415764\n",
       "30. 0.761046403553337\n",
       "31. 0.63698564376682\n",
       "32. 0.837981539079919\n",
       "33. 0.518178730504587\n",
       "34. 0.31504775211215\n",
       "35. 0.922427522251382\n",
       "36. 0.797051992733032\n",
       "37. 0.618176450254396\n",
       "38. 0.407883052714169\n",
       "39. 0.690970848314464\n",
       "40. 0.335755401290953\n",
       "41. 0.651398866903037\n",
       "42. 0.967865736689419\n",
       "43. 0.234464736888185\n",
       "44. 0.260403885040432\n",
       "45. 0.86681800079532\n",
       "46. 0.72558361152187\n",
       "47. 0.823717466555536\n",
       "48. 0.726553611457348\n",
       "49. 0.202642381889746\n",
       "50. 0.312932050786912\n",
       "\n",
       "\n"
      ],
      "text/plain": [
       " [1] 0.3193937 0.2072204 0.9162550 0.6846573 0.2483108 0.9338108 0.5645676\n",
       " [8] 0.8611801 0.3662380 0.8187175 0.3627893 0.7415014 0.9375136 0.7704863\n",
       "[15] 0.3234920 0.2337230 0.3793451 0.1183930 0.3878255 0.1634394 0.3607540\n",
       "[22] 0.5050472 0.2849395 0.3343539 0.7198290 0.8247873 0.5641930 0.5746497\n",
       "[29] 0.7935102 0.7610464 0.6369856 0.8379815 0.5181787 0.3150478 0.9224275\n",
       "[36] 0.7970520 0.6181765 0.4078831 0.6909708 0.3357554 0.6513989 0.9678657\n",
       "[43] 0.2344647 0.2604039 0.8668180 0.7255836 0.8237175 0.7265536 0.2026424\n",
       "[50] 0.3129321"
      ]
     },
     "metadata": {},
     "output_type": "display_data"
    }
   ],
   "source": [
    "result = runif(50, 0, 1)\n",
    "result"
   ]
  },
  {
   "cell_type": "code",
   "execution_count": 5,
   "metadata": {},
   "outputs": [
    {
     "data": {
      "image/png": "[encoded data removed]",
      "text/plain": [
       "Plot with title “Histogram of result”"
      ]
     },
     "metadata": {
      "image/png": {
       "height": 420,
       "width": 420
      }
     },
     "output_type": "display_data"
    }
   ],
   "source": [
    "hist(result, 20)"
   ]
  },
  {
   "cell_type": "markdown",
   "metadata": {},
   "source": [
    "and maybe you can see that we might have a problem. Our sample is just that a sample. It is only a loose approximation of the distribution and in fact if all we knew was the sample we might conclude something veyr different about our distribution. Addressing this discrepency or maybe a defeciency is going to be out goal for the next few weeks."
   ]
  },
  {
   "cell_type": "markdown",
   "metadata": {},
   "source": [
    "### Expected Value \n",
    "\n",
    "In any case, we can use our sample to estimate the expected value of the distribution - intuitively, we expect or maybe hope that the mean of the sample is close to the expected value of the distribution. We will show that this precisely what is happening later, but for now let us allow ourselves to be naive."
   ]
  },
  {
   "cell_type": "code",
   "execution_count": 6,
   "metadata": {},
   "outputs": [
    {
     "data": {
      "text/plain": [
       "   Min. 1st Qu.  Median    Mean 3rd Qu.    Max. \n",
       " 0.1184  0.3262  0.5696  0.5583  0.7878  0.9679 "
      ]
     },
     "metadata": {},
     "output_type": "display_data"
    }
   ],
   "source": [
    "summary(result)"
   ]
  },
  {
   "cell_type": "markdown",
   "metadata": {},
   "source": [
    "You might try increasing the size of the sample we take and check what happens to our summary statistics.\n",
    "\n",
    "#### Exact Value\n",
    "\n",
    "We can find the exact value similarly to how we did it in the discrete case. Recall that for a discrete random variable $Y$ the expected value is computed exactly but finding the sum (if we can find it):\n",
    "\n",
    "$$ E(Y) = \\sum r P(Y=r) $$\n",
    "\n",
    "In the continuous case with a random variable $Y$ with PDF $f(x)$ we appeal to our intuition from Calculus: \n",
    "\n",
    "$$ E(Y) = \\sum x P(\\mbox{$Y$ is in a small neighborhood near x}) = \\sum x f(x) \\Delta x$$\n",
    "\n",
    "and in the limit as the neighborhood sizes $\\Delta x \\to 0$ we get (again no surprises here if you use your intuition that sums become integrals):\n",
    "\n",
    "$$ E(Y) = \\int x f(x) dx  $$\n",
    "\n",
    "Where the integral is over the support of the random variable. \n",
    "\n",
    "For $Y$ the uniform random variable on the interval $[a, b]$:\n",
    "\n",
    "$$ E(Y) = \\int_a^b x \\frac{1}{b-a} dx = \\frac{1}{2(b-a)} x^2 \\bigg|_a^b = \\frac{b^2 - a^2}{2 (b-a)} = \\frac{b+a}{2} $$\n",
    "\n",
    "Which surprise, surprise is the midpoint of the interval $[a, b]$.\n",
    "\n",
    "### Variance\n",
    "\n",
    "The estimate variance from our sample can be found using *var*:"
   ]
  },
  {
   "cell_type": "code",
   "execution_count": 7,
   "metadata": {},
   "outputs": [
    {
     "data": {
      "text/html": [
       "0.0644280781586725"
      ],
      "text/latex": [
       "0.0644280781586725"
      ],
      "text/markdown": [
       "0.0644280781586725"
      ],
      "text/plain": [
       "[1] 0.06442808"
      ]
     },
     "metadata": {},
     "output_type": "display_data"
    }
   ],
   "source": [
    "var(result)"
   ]
  },
  {
   "cell_type": "markdown",
   "metadata": {},
   "source": [
    "Again this actually just an estimate of the variance of the random variable. You should check what happens as the size of the sample is changed. \n",
    "\n",
    "#### Exact Value\n",
    "\n",
    "Again we can find the exact value using some algebra:  \n",
    "\n",
    "$$ V(Y) = E(Y^2) - \\frac{(b+a)^2}{4} $$\n",
    "\n",
    "and an integral:\n",
    "\n",
    "$$ E(Y^2) = \\int_a^b x^2 \\frac{1}{b-a} dx = \\frac{1}{3(b-a)} x^3 \\bigg|_a^b = \\frac{b^3 - a^3}{3 (b-a)} $$\n",
    "\n",
    "I would just use Wolfram Alpha to simplify this, but you could also factor the cubic using the binomial theorem:\n",
    "\n",
    "$$ E(Y^2) = \\frac{b^2 + ab + a^2}{3} $$\n",
    "\n",
    "(again one reason I like to teach this class to our MA program is all of these exercises from Calculus get used).\n",
    "\n",
    "Then we combine this with the expected value to get:\n",
    "\n",
    "$$ V(Y) = \\frac{b^2 + ab + a^2}{3} - \\frac{b^2 + 2 ab + a^2}{4} = \\frac{b^2 - 2 ab + a^2}{12} = \\frac{(b-a)^2}{12} $$ \n",
    "\n",
    "For the interval $[0, 1]$ we have:"
   ]
  },
  {
   "cell_type": "code",
   "execution_count": 9,
   "metadata": {},
   "outputs": [
    {
     "data": {
      "text/html": [
       "0.0833333333333333"
      ],
      "text/latex": [
       "0.0833333333333333"
      ],
      "text/markdown": [
       "0.0833333333333333"
      ],
      "text/plain": [
       "[1] 0.08333333"
      ]
     },
     "metadata": {},
     "output_type": "display_data"
    }
   ],
   "source": [
    "(1-0)^2 / 12"
   ]
  },
  {
   "cell_type": "code",
   "execution_count": null,
   "metadata": {},
   "outputs": [],
   "source": []
  }
 ],
 "metadata": {
  "kernelspec": {
   "display_name": "R",
   "language": "R",
   "name": "ir"
  },
  "language_info": {
   "codemirror_mode": "r",
   "file_extension": ".r",
   "mimetype": "text/x-r-source",
   "name": "R",
   "pygments_lexer": "r",
   "version": "4.0.2"
  }
 },
 "nbformat": 4,
 "nbformat_minor": 4
}
