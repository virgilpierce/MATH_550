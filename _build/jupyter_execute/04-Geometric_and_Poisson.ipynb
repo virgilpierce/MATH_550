{
 "cells": [
  {
   "cell_type": "markdown",
   "metadata": {},
   "source": [
    "# Geometric and Poisson Distributions\n",
    "\n",
    "We can use the Bernouli Trials we met in the last chapter to build two other distributions that describe common situations (and also have enough symmetry they are computable).\n",
    "\n",
    "## Geometric Distributions\n",
    "\n",
    "This question worked better in Texas than it does in Colorado because of mail in voting, but still:  We are trying to quickly estimate what proportion of voters in Greeley are casting their ballots for candidate A running for mayor of the city. We do this by standing outside a voting location and asking candidates whether they voted for A or B and counting how many people we have to ask before we find our first person voting for A. Say for example that the 4th person we ask says they are voting for candidate A.\n",
    "\n",
    "Let's see if we can use that number to estimate what proportion of the population p is voting for A. \n",
    "\n",
    "Assuming that our sample is random (and note that's the problem with Colorado voting) we could think of each time we ask a voter leaving the polling location who they voted for as a Bernouli trial with a probability of success p (granted we don't know p, but that's why we study math!).\n",
    "\n",
    "So the question becomes:  If Y is the number of times we had to conduct our Bernouli trial before we got our first success, what is $P(Y=4)$?  Note that in order for trial 4 to be our first success 4 things had to happen - we had to have 3 trials in succession that were failures, each with a probability of 1-p; and then we had to have one trial that was a success with probability p. Provided that these events are independent then the likliehood of all 4 of them happening is just the product of these 4 factors:\n",
    "\n",
    "$$ (1-p)^3 p $$\n",
    "\n",
    "More generally the *geometric distribution* has a probability distribution function given by, for $r\\geq 0$:\n",
    "\n",
    "$$ P(Y=r+1) = (1-p)^{r} p $$\n",
    "\n",
    "\n",
    "\n",
    "This is fundamentally different from our Binomial Distribution. For the binomial distribution with $n$ trials the largest the random variable could be is $n$. In this case, for our geometric distribution $Y$ is potentially unbounded.  For every $r$ the value of $P(Y=r+1)$ is non-zero (though possibly very small). \n",
    "\n",
    "It's helpful to fix a $p$ and plot the probabilities of $Y=r+1$ for the first few r.  The thing to notice in the plot is that in order for the random variable to have a chance of getting large, p needs to be small so that there is a large probability of the failures in the trial stacking up. Depending on the value of p you put in, you may need to extend the values r is using by adjusting the 25."
   ]
  },
  {
   "cell_type": "code",
   "execution_count": 1,
   "metadata": {},
   "outputs": [
    {
     "data": {
      "image/png": "[encoded data removed]",
      "text/plain": [
       "plot without title"
      ]
     },
     "metadata": {
      "filenames": {
       "image/png": "/home/virgilpierce/Documents/GitHub/MATH_550/_build/jupyter_execute/04-Geometric_and_Poisson_1_0.png"
      },
      "image/png": {
       "height": 420,
       "width": 420
      }
     },
     "output_type": "display_data"
    }
   ],
   "source": [
    "p <- 0.51\n",
    "r <- c(0:25)\n",
    "v <- (1-p)^(r) * p\n",
    "plot(r, v)"
   ]
  },
  {
   "cell_type": "markdown",
   "metadata": {},
   "source": [
    "So for example:  If candidate A has 0.51 of the population supporting them, the probability that we needed to ask 4 voters before we found the first one voting for candidate A is:"
   ]
  },
  {
   "cell_type": "code",
   "execution_count": 2,
   "metadata": {},
   "outputs": [
    {
     "data": {
      "text/html": [
       "0.06000099"
      ],
      "text/latex": [
       "0.06000099"
      ],
      "text/markdown": [
       "0.06000099"
      ],
      "text/plain": [
       "[1] 0.06000099"
      ]
     },
     "metadata": {},
     "output_type": "display_data"
    }
   ],
   "source": [
    "p <- 0.51\n",
    "(1-p)^3 * p"
   ]
  },
  {
   "cell_type": "markdown",
   "metadata": {},
   "source": [
    "Meaning if we did this experiment at 100 polling sites or 100 different times, 6 of those times we would expect to wait until the 4th voter. But wait there is more. \n",
    "\n",
    "What we really care about is the complement of the cummulative distribution:  What is the probability that we had to wait until the 4th or **LATER** voter to find the first vote for A. This is a better way to ask because we are really asking how likely is it that candidate A with 0.51 of the vote, is doing this badly OR worse in the voters we have talked to. Note that the complement of this event is:  What is the probability that we found the first voter for A in 0, 1, 2, or 3 voters questioned?  We can than subtract that number from 1 to answer the question above."
   ]
  },
  {
   "cell_type": "code",
   "execution_count": 3,
   "metadata": {},
   "outputs": [
    {
     "data": {
      "text/html": [
       "0.882351"
      ],
      "text/latex": [
       "0.882351"
      ],
      "text/markdown": [
       "0.882351"
      ],
      "text/plain": [
       "[1] 0.882351"
      ]
     },
     "metadata": {},
     "output_type": "display_data"
    }
   ],
   "source": [
    "c <- (1-0.51)^0 * 0.51 + (1-0.51)^1 * 0.51 + (1-0.51)^2 * 0.51\n",
    "c"
   ]
  },
  {
   "cell_type": "markdown",
   "metadata": {},
   "source": [
    "R has a cumulative distribution for the geometric distribution coded in *pgeom* (note that there is an annoying thing in R where its definition of the geometric distribution is off by 1 from others):"
   ]
  },
  {
   "cell_type": "code",
   "execution_count": 4,
   "metadata": {},
   "outputs": [
    {
     "data": {
      "text/html": [
       "0.882351"
      ],
      "text/latex": [
       "0.882351"
      ],
      "text/markdown": [
       "0.882351"
      ],
      "text/plain": [
       "[1] 0.882351"
      ]
     },
     "metadata": {},
     "output_type": "display_data"
    }
   ],
   "source": [
    "pgeom(2, 0.51)"
   ]
  },
  {
   "cell_type": "markdown",
   "metadata": {},
   "source": [
    "and then subtracking this from 1 we get:"
   ]
  },
  {
   "cell_type": "code",
   "execution_count": 5,
   "metadata": {},
   "outputs": [
    {
     "data": {
      "text/html": [
       "0.117649"
      ],
      "text/latex": [
       "0.117649"
      ],
      "text/markdown": [
       "0.117649"
      ],
      "text/plain": [
       "[1] 0.117649"
      ]
     },
     "metadata": {},
     "output_type": "display_data"
    }
   ],
   "source": [
    "1 - pgeom(2, 0.51)"
   ]
  },
  {
   "cell_type": "markdown",
   "metadata": {},
   "source": [
    "Meaning that even for a candidate with 0.51 of the vote, we are not overly surprised when we have to talk to 4 voters before we find a supporter. \n",
    "\n",
    "It is interesting to ask, how does this probability change as p changes:"
   ]
  },
  {
   "cell_type": "code",
   "execution_count": 6,
   "metadata": {},
   "outputs": [
    {
     "name": "stderr",
     "output_type": "stream",
     "text": [
      "Warning message in pgeom(2, p):\n",
      "“NaNs produced”\n"
     ]
    },
    {
     "data": {
      "image/png": "[encoded data removed]",
      "text/plain": [
       "plot without title"
      ]
     },
     "metadata": {
      "filenames": {
       "image/png": "/home/virgilpierce/Documents/GitHub/MATH_550/_build/jupyter_execute/04-Geometric_and_Poisson_11_1.png"
      },
      "image/png": {
       "height": 420,
       "width": 420
      }
     },
     "output_type": "display_data"
    }
   ],
   "source": [
    "p <- c(0:1000)/1000\n",
    "v <- 1 - pgeom(2, p)\n",
    "plot(p, v, type=\"l\")\n",
    "# You can safely ignore the warning if you get it, "
   ]
  },
  {
   "cell_type": "markdown",
   "metadata": {},
   "source": [
    "### Expected Value\n",
    "\n",
    "The expected value can be computed exactly, and in this case we sort of prefer to do it that way as note that the one thing computers are not great at is infinite sums and infinite integrals. However the values of the distribution decay exponentially and so we actually do expect sums over the distribution to converge quickly. So we can find the approximate expected value by computing \n",
    "\n",
    "$$ \\sum_{r=0}^N (r+1) p(r) $$ \n",
    "\n",
    "for a medium to large value of $N$. "
   ]
  },
  {
   "cell_type": "code",
   "execution_count": 7,
   "metadata": {},
   "outputs": [
    {
     "data": {
      "text/html": [
       "1.96078431372549"
      ],
      "text/latex": [
       "1.96078431372549"
      ],
      "text/markdown": [
       "1.96078431372549"
      ],
      "text/plain": [
       "[1] 1.960784"
      ]
     },
     "metadata": {},
     "output_type": "display_data"
    }
   ],
   "source": [
    "N <- 100\n",
    "r <- c(0:N)\n",
    "p <- 0.51\n",
    "sum( (r+1)*(1-p)^r * p )"
   ]
  },
  {
   "cell_type": "markdown",
   "metadata": {},
   "source": [
    "Can you make a prediction about the exact value?\n",
    "\n",
    "#### Exact Value\n",
    "\n",
    "To compute the exact value of the sum, we just do it, using our one trick for adding up infinite sums - *write it in terms of a geometric series*.\n",
    "\n",
    "$$ E(Y) = \\sum_{r=0}^\\infty (r+1) q^r p = p \\frac{d}{dq} \\sum_{r=0}^\\infty q^{r+1} $$\n",
    "\n",
    "The sum is now a geometric series and we have a formula for its result:\n",
    "\n",
    "$$ E(Y) = p \\frac{d}{dq} \\left[ \\frac{q}{1-q} \\right] = \\mbox{algebra/calculus or calcugebra} = \\frac{1}{p} $$\n",
    "\n",
    "### Variance \n",
    "\n",
    "The approximate variance can be found using the formula $\\sigma^2 = V(Y) = E(Y^2) - \\mu^2$ with $\\mu = E(Y)$.  For example:"
   ]
  },
  {
   "cell_type": "code",
   "execution_count": 8,
   "metadata": {},
   "outputs": [
    {
     "data": {
      "text/html": [
       "1.88389081122645"
      ],
      "text/latex": [
       "1.88389081122645"
      ],
      "text/markdown": [
       "1.88389081122645"
      ],
      "text/plain": [
       "[1] 1.883891"
      ]
     },
     "metadata": {},
     "output_type": "display_data"
    }
   ],
   "source": [
    "N <- 100\n",
    "r <- c(0:N)\n",
    "p <- 0.51\n",
    "sum( (r+1)^2 * (1-p)^r * p )  - 1/p^2"
   ]
  },
  {
   "cell_type": "markdown",
   "metadata": {},
   "source": [
    "#### Exact Value\n",
    "\n",
    "To compute the exact value of the sum:\n",
    "\n",
    "$$ \\sigma^2 = V(Y) = E(Y^2) - \\frac{1}{p^2} = E(Y (Y+1) ) - \\frac{1}{p} - \\frac{1}{p^2} $$\n",
    "\n",
    "So we look for:\n",
    "\n",
    "$$ E(Y (Y+1) ) = \\sum_{r=0}^\\infty (r+1) (r+2) q^r p = p \\frac{d^2}{dq^2} \\sum_{r=0}^\\infty q^{r+2} = p \\frac{d^2}{dq^2} \\frac{q^2}{1-q} $$\n",
    "\n",
    "Some Calculus and Algebra later:\n",
    "\n",
    "$$ E(Y(Y+1)) = \\frac{2}{p^2} $$\n",
    "\n",
    "Putting it all together:\n",
    "\n",
    "$$ V(Y) = \\frac{2}{p^2} - \\frac{1}{p} - \\frac{1}{p^2} = \\frac{1-p}{p^2} $$\n",
    "\n",
    "## Poisson Distributions\n",
    "\n",
    "Consider a particular intersection. We are interested in understanding the number of accidents that will happen at this intersection in a week. One way to think about this is to consider that if we break our units of time down to a small enough amount of time that only one accident can happen at a time - say we consider individual minutes. Now that only one accident is possible we could consider $p$ the probability that an accident occurs in any given minute at this intersection:\n",
    "\n",
    "$$ P( \\mbox{an accident occurs in a minute}) = p$$\n",
    "\n",
    "$$ P( \\mbox{no accident occurs in a minute}) = 1- p $$\n",
    "\n",
    "$$ P( \\mbox{more than one accident occurs in a minute}) = 0 $$\n",
    "\n",
    "We then take smaller and smaller units of time.  \n",
    "\n",
    "Our implicit assumption here is each subunit of time is an identically distributed independent Bernouli trial. This is probably a shaky assumption, but lets proceed and see what happens. \n",
    "\n",
    "So for a subunit with $n$ occurences in a week we have:\n",
    "\n",
    "$$ P(Y = r) \\sim \\binom{n}{r} p^r (1-p)^{n - r} $$\n",
    "\n",
    "We now want to take a limit as $n\\to \\infty$, i.e. as the size of the subunits of time become smaller and smaller. Of course in doing this the probability $p$ will change. Let's assume that it just scales linearly:  i.e. the probability of an accident in a given minute is 60 times the probability of an accident in a given second. This is a reasonable assumption if:  \n",
    "\n",
    "- Everything for a given subunit size is IID; and \n",
    "- the subunits are small enough that only one accident can happen at a time.\n",
    "\n",
    "Let $p = n \\lambda$ for some parameter $\\lambda$ and then we take the limit of $P(Y=r)$ above:\n",
    "\n",
    "$$ P(Y=r) = \\lim_{n\\to \\infty} \\binom{n}{r} \\left( \\frac{\\lambda}{n} \\right)^r \\left( 1 - \\frac{\\lambda}{n} \\right)^{n-r} $$\n",
    "\n",
    "We expand out the binomial coefficient:\n",
    "\n",
    "$$ = \\lim_{n\\to \\infty} \\frac{n (n-1) \\cdots (n-r+1)}{r!} \\left( \\frac{\\lambda}{n} \\right)^r \\left( 1 - \\frac{\\lambda}{n} \\right)^{n-r} $$\n",
    "\n",
    "factor the $\\lambda/n$ and $1- \\lambda/n$ terms apart and recombine:\n",
    "\n",
    "\n",
    "$$ = \\lim_{n\\to \\infty} \\frac{\\lambda^r}{r!} \\left(1 - \\frac{\\lambda}{n} \\right)^n \\cdot \\frac{ n (n-1) \\cdots (n-r+1)}{n^r} \\left(1 - \\frac{\\lambda}{n}\\right)^{-r} $$\n",
    "\n",
    "expand the numerator of the fraction and factor out the parts not depending on $n$:\n",
    "\n",
    "$$ = \\frac{\\lambda^r}{r!} \\lim_{n\\to \\infty} \\left(1 - \\frac{\\lambda}{n}\\right)^n \\left(1 - \\frac{\\lambda}{n}\\right)^{-r} \\left(1 - \\frac{1}{n}\\right) \\left( 1 - \\frac{2}{n} \\right) \\cdots \\left( 1- \\frac{r-1}{n} \\right) $$\n",
    "\n",
    "Now inside the limit, all but the first factor only depends on $n$ inside of the parenthesis; each of this is going to 1. We also recall that \n",
    "\n",
    "$$ \\lim_{n\\to \\infty} \\left(1 - \\frac{\\lambda}{n}\\right)^n = e^{-\\lambda} $$\n",
    "\n",
    "and putting it all back together we have:\n",
    "\n",
    "$$ P(Y=r) = \\frac{\\lambda^r}{r!} e^{-\\lambda} $$\n",
    "\n",
    "### What have we learned?\n",
    "\n",
    "So we now have a definition:  A random variable $Y$ is called a Poisson Process if it is coming from a trial that has the following property **$Y$ is the number of events happening in a unit of time, distance, area, volume or any thing which can be subdivide into smaller and smaller pieces which has the propeerty that for small enough subdivisions the events can only happen once and the likliehood that they happen becomes an identical independent Bernoulie trial.** Interestingly, small deviations from this assumption will still yield a good approximation. \n",
    "\n",
    "The probability distribution of a Poisson Process satisfies the probability distribution for $r \\geq 0$:\n",
    "\n",
    "$$P(Y=r) = \\frac{\\lambda^r}{r!} e^{-\\lambda} $$ \n",
    "\n",
    "with some parameter $\\lambda > 0$.\n",
    "\n",
    "#### Plotting the Distribution\n",
    "\n",
    "This distribution is coded in R as *dpois*, lets plot the distribution for the first few $r$ with a given $\\lambda$:"
   ]
  },
  {
   "cell_type": "code",
   "execution_count": 9,
   "metadata": {},
   "outputs": [
    {
     "data": {
      "image/png": "[encoded data removed]",
      "text/plain": [
       "plot without title"
      ]
     },
     "metadata": {
      "filenames": {
       "image/png": "/home/virgilpierce/Documents/GitHub/MATH_550/_build/jupyter_execute/04-Geometric_and_Poisson_17_0.png"
      },
      "image/png": {
       "height": 420,
       "width": 420
      }
     },
     "output_type": "display_data"
    }
   ],
   "source": [
    "lambda <- 1.1\n",
    "r <- c(0:100)\n",
    "v <- dpois(r, lambda)\n",
    "plot(r, v)"
   ]
  },
  {
   "cell_type": "markdown",
   "metadata": {},
   "source": [
    "What is the effect of increasing $\\lambda$?  Decreasing $\\lambda$?\n",
    "\n",
    "#### Cummulative Distribution\n",
    "\n",
    "The cumulative distribution, the probability that $Y \\leq r$, can be plotted, it is coded in R as *ppois*:"
   ]
  },
  {
   "cell_type": "code",
   "execution_count": 10,
   "metadata": {},
   "outputs": [
    {
     "data": {
      "image/png": "[encoded data removed]",
      "text/plain": [
       "plot without title"
      ]
     },
     "metadata": {
      "filenames": {
       "image/png": "/home/virgilpierce/Documents/GitHub/MATH_550/_build/jupyter_execute/04-Geometric_and_Poisson_19_0.png"
      },
      "image/png": {
       "height": 420,
       "width": 420
      }
     },
     "output_type": "display_data"
    }
   ],
   "source": [
    "lambda <- 1.1\n",
    "n <- 100 # The upper bound on n for our plot\n",
    "r <- c(-1:(10*n))/10\n",
    "plot(r, ppois(r, lambda), type=\"l\")"
   ]
  },
  {
   "cell_type": "markdown",
   "metadata": {},
   "source": [
    "Again what is the effect of changing $\\lambda$?  Make a prediction before you draw the graph. Again you may have to increase the fineness of our mesh in order for the graph to render correctly. \n",
    "\n",
    "\n",
    "### Expected Value\n",
    "\n",
    "So let's suppose we have found that $\\lambda = 1.1$ for our intersection (we will return to finding $\\lambda$ from data later). How many accidents do we expect to see each week?  I.e. over the long term if we take the mean of the number of accidents what will we find?\n",
    "\n",
    "Using R we can approximate it:"
   ]
  },
  {
   "cell_type": "code",
   "execution_count": 11,
   "metadata": {},
   "outputs": [
    {
     "data": {
      "text/html": [
       "1.1"
      ],
      "text/latex": [
       "1.1"
      ],
      "text/markdown": [
       "1.1"
      ],
      "text/plain": [
       "[1] 1.1"
      ]
     },
     "metadata": {},
     "output_type": "display_data"
    }
   ],
   "source": [
    "r <- c(0:100)\n",
    "lambda <- 1.1\n",
    "sum( r*dpois(r, lambda) )"
   ]
  },
  {
   "cell_type": "markdown",
   "metadata": {},
   "source": [
    "Which seems well.... **clearly we should be able to show that this will always happen!**\n",
    "\n",
    "$$ E(Y) = \\sum_{r =0}^\\infty r P(Y=r) = \\sum_{r=0}^\\infty r \\frac{\\lambda^r}{r!} e^{-\\lambda} $$\n",
    "\n",
    "Again I will note here that the distributions for which we have names are the ones for which the mathematical structure tends to give us formulas with which we can actually do something.  We will talk as the course goes on about why this works, and what we can do more generally.\n",
    "\n",
    "Continuing:\n",
    "\n",
    "$$ E(Y) = e^{-\\lambda} \\sum_{r=1}^\\infty \\frac{\\lambda^r}{(r-1)!} $$\n",
    "\n",
    "$$ = \\lambda e^{-\\lambda} \\sum_{s=0}^\\infty \\frac{\\lambda^s}{s!} = \\lambda e^{-\\lambda} e^{\\lambda} = \\lambda$$\n",
    "\n",
    "So the $\\lambda$ parameter for our Poisson Distribution is exactly the expected value of the random variable. \n",
    "\n",
    "### Variance of the Poisson Random Variable\n",
    "\n",
    "We can also compute the variance, using again our shortcut:  $V(Y) = E(Y^2) - \\mu^2$ where $\\mu = E(Y)$."
   ]
  },
  {
   "cell_type": "code",
   "execution_count": 12,
   "metadata": {},
   "outputs": [
    {
     "data": {
      "text/html": [
       "1.1"
      ],
      "text/latex": [
       "1.1"
      ],
      "text/markdown": [
       "1.1"
      ],
      "text/plain": [
       "[1] 1.1"
      ]
     },
     "metadata": {},
     "output_type": "display_data"
    }
   ],
   "source": [
    "r <- c(0:100)\n",
    "lambda <- 1.1\n",
    "sum( r^2*dpois(r, lambda) ) - lambda^2"
   ]
  },
  {
   "cell_type": "markdown",
   "metadata": {},
   "source": [
    "**I would forgive you if you are wondering if maybe we just made a mistake!**\n",
    "\n",
    "As before the trick to use is that $E(Y^2) = E(Y(Y-1)) + E(Y)$\n",
    "\n",
    "$$ E(Y(Y-1)) = \\sum_{r=0}^\\infty r (r-1) \\frac{\\lambda^r}{r!} e^{-\\lambda} = e^{-\\lambda} \\sum_{r=2}^\\infty \\frac{\\lambda}{(r-2)!}  $$\n",
    "\n",
    "and we find\n",
    "\n",
    "$$ = \\lambda^2 e^{-\\lambda} \\sum_{s=0}^\\infty \\frac{\\lambda^s}{s!} = \\lambda^2 $$\n",
    "\n",
    "Putting it together we have:\n",
    "\n",
    "$$ V(Y) = \\lambda^2 + \\lambda - \\lambda^2 = \\lambda$$\n",
    "\n",
    "So in summary a Poisson random variable with parameter $\\lambda$ has expected value and variance $\\lambda$. \n",
    "\n",
    "## Using the Cummulative Distribution\n",
    "\n",
    "Consider our dangerous intersection that we now know has 1.1 accidents per week. Find an upper bound for the number of accidents we will have 95% of the time. Mean we want to find the smallest $r$ such that $P(Y \\leq r) \\geq 0.95$. \n",
    "\n",
    "The *qpois* function is the inverse Cummulative Distribution Function. It takes a probability $0\\leq q \\leq 1$ and returns the value $r$ such that $P(Y\\leq r) = q$."
   ]
  },
  {
   "cell_type": "code",
   "execution_count": 13,
   "metadata": {},
   "outputs": [
    {
     "data": {
      "text/html": [
       "3"
      ],
      "text/latex": [
       "3"
      ],
      "text/markdown": [
       "3"
      ],
      "text/plain": [
       "[1] 3"
      ]
     },
     "metadata": {},
     "output_type": "display_data"
    }
   ],
   "source": [
    "qpois(0.95, 1.1)"
   ]
  },
  {
   "cell_type": "markdown",
   "metadata": {},
   "source": [
    "Note that because the probability is discrete the result is not that the CDF is exactly 0.95 here:"
   ]
  },
  {
   "cell_type": "code",
   "execution_count": 14,
   "metadata": {},
   "outputs": [
    {
     "data": {
      "text/html": [
       "0.974258183470329"
      ],
      "text/latex": [
       "0.974258183470329"
      ],
      "text/markdown": [
       "0.974258183470329"
      ],
      "text/plain": [
       "[1] 0.9742582"
      ]
     },
     "metadata": {},
     "output_type": "display_data"
    }
   ],
   "source": [
    "ppois(3, 1.1)"
   ]
  },
  {
   "cell_type": "markdown",
   "metadata": {},
   "source": [
    "Meanwhile, the likliehood that we will go a week with 3 or more accidents is $P(Y \\geq 3)$:"
   ]
  },
  {
   "cell_type": "code",
   "execution_count": 15,
   "metadata": {},
   "outputs": [
    {
     "data": {
      "text/html": [
       "0.0995837185966948"
      ],
      "text/latex": [
       "0.0995837185966948"
      ],
      "text/markdown": [
       "0.0995837185966948"
      ],
      "text/plain": [
       "[1] 0.09958372"
      ]
     },
     "metadata": {},
     "output_type": "display_data"
    }
   ],
   "source": [
    "1 - ppois(2, 1.1)"
   ]
  },
  {
   "cell_type": "markdown",
   "metadata": {},
   "source": [
    "For a given value of $\\lambda$ we can play variations on these games for any number of combinations.\n",
    "\n",
    "\n",
    "\n",
    "## Moments and Moment Generating Functions\n",
    "\n",
    "One idea which we will need later in class and we should introduce now is that of finding moments. We have seen that *Expected Value* and *Variance* have uses in characterizing a distribution, and for distributions with sufficient symmetry are things we can compute exactly. In an effort to characeterize distributions more broadly one is then led to consider the question of moments. The $m$'th moment of a distribution is defined to be:\n",
    "\n",
    "$$ E(Y^m) $$\n",
    "\n",
    "We then define the *Moment Generating Function* of a random variable to be: \n",
    "\n",
    "$$ M(t) = E(e^{t Y} ) $$ \n",
    "\n",
    "provided that it exists.\n",
    "\n",
    "This generates moments in the sense that provided that $t$ is in an open interval where $M(t)$ exists we have:\n",
    "\n",
    "$$ E(Y^k) = \\frac{d^k}{dt^k} M(t) \\bigg|_{t=0} $$\n",
    "\n",
    "Two random variables with moment generating functions that exist and are equal are identical. Meaning that moment generating functions, if they exist, will uniquely characterize a distribution. This is a fact we will use once in this class in a few weeks.\n",
    "\n",
    "### Moment Generating for a Poisson Distribution\n",
    "\n",
    "Let's compute the moment generating function of the Poisson Distribution:\n",
    "\n",
    "$$ M(t) = \\sum_{r=0}^\\infty e^{t r - \\lambda} \\frac{\\lambda^r}{r!} = e^{-\\lambda} \\sum_{r=0}^\\infty \\frac{\\left( \\lambda e^{t} \\right)^r}{r!} = e^{\\lambda (e^t - 1)} $$\n",
    "\n",
    "If you go to the wikipedia page for any of our named distributions you will find their moment generating functions given.\n",
    "\n",
    "An interesting question we unfortunately do not have time for is what the set of values of $t$ for which $M(t)$ exists tells us about the distribution. \n",
    "\n",
    "\n",
    "## What have we skipped?\n",
    "\n",
    "There are couple of things we have carefully ignored. The main one being:\n",
    "\n",
    "- While the Geometric and Poisson distributions are examples of how we can have a discrete random variable with infinitely many allowed values but with a distribution we can compute with; one might be wondering how can we work with an infinite discrete random varialbe that is for example uniform:  You are confronted with infinitely many doors, one of which has a car behind it and the rest of them goats. Can you choose one door at random with each door being equally likely that you will choose it?  If you do so, how likely is it that you will find the car rather than a goat?\n",
    "\n",
    "- For that matter, suppose you want to select a random integer to use when a date asks you \"What is your favorite Integer?\"  What are the chances you would select 1001?\n",
    "\n",
    "\n",
    "\n"
   ]
  },
  {
   "cell_type": "code",
   "execution_count": null,
   "metadata": {},
   "outputs": [],
   "source": []
  }
 ],
 "metadata": {
  "kernelspec": {
   "display_name": "R",
   "language": "R",
   "name": "ir"
  },
  "language_info": {
   "codemirror_mode": "r",
   "file_extension": ".r",
   "mimetype": "text/x-r-source",
   "name": "R",
   "pygments_lexer": "r",
   "version": "4.0.2"
  }
 },
 "nbformat": 4,
 "nbformat_minor": 4
}