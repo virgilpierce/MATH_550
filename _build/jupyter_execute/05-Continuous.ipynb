{
 "cells": [
  {
   "cell_type": "markdown",
   "metadata": {},
   "source": [
    "# Continuous Random Variables\n",
    "\n",
    "We spent the last two days thinking about discrete probability distributions. Particularly these include random variables that are counting things (what do the binomial, geometric, and Poisson random variables count?).  \n",
    "\n",
    "However you can probably give some examples of numerical random variables which are not discrete.\n",
    "\n",
    "Note the thing that should give us pause, and explains why we have to introduce these random variables in a slightly different way from how we introduced discrete random variables:\n",
    "\n",
    "- For a discrete random variable, it makes sense to ask $P(Y = r)$ for some $r$. I.e. there will be some $r$ such that this number is non-zero. In fact we took this as our starting point for all of the discrete random distributions we have talked about.\n",
    "\n",
    "- For a continuous random variable:  $P(Y=x)$ has us a little bit nervous. If $Y$ is truly continuous then near $x$ there are infinitely many (uncountably infinitely many) values that are also possible. They can't all have a non-zero value without us having trouble adding them all up, and at the same time if only a discrete set of them are non-zero so that we can add them up then what we have is a discrete variable. In other words, we have a bit of a paradox. Luckily Calculus, as it usually does, gives us the language to talk about continuous things as generalizations of discrete things. \n",
    "\n",
    "\n",
    "First we need to make our definition precise: How will we recognize a continuous random variable?  (if you were in my class last summer you might recall our *sandwich* activity). \n",
    "\n",
    "One picture that should have you thinking from earlier this week is the graphs we made of the *Cumulative Distribution Function* for our random variables, here is the one for the binomials random variable:"
   ]
  },
  {
   "cell_type": "code",
   "execution_count": 1,
   "metadata": {},
   "outputs": [
    {
     "data": {
      "image/png": "[encoded data removed]",
      "text/plain": [
       "plot without title"
      ]
     },
     "metadata": {
      "filenames": {
       "image/png": "/home/virgilpierce/Documents/GitHub/MATH_550/_build/jupyter_execute/05-Continuous_1_0.png"
      },
      "image/png": {
       "height": 420,
       "width": 420
      }
     },
     "output_type": "display_data"
    }
   ],
   "source": [
    "n <- 10\n",
    "p <- 0.38\n",
    "r <- c(-1:(50*n))/50\n",
    "plot(r, pbinom(r, n, p), type=\"l\")"
   ]
  },
  {
   "cell_type": "markdown",
   "metadata": {},
   "source": [
    "onsider instead what this graph will need to look like for a random variable that can take any value rather than just the integer values?  \n",
    "\n",
    "Recall the properties of our CDF $F(x) = P(Y \\leq x)$:\n",
    "\n",
    "- $\\lim_{x\\to -\\infty} F(x) = 0$\n",
    "- $0 \\leq F(x) \\leq 1$ for all x.\n",
    "- $F(x)$ is a non decreasing function of $x$:  given $x_1 < x_2$ then $F(x_1) < F(x_2)$. \n",
    "- $\\lim_{x\\to \\infty} F(x) = 1$\n",
    "\n",
    "A *Continuous Random Variable* is one for which the cumulative distribution function: $F(x) = P(Y \\leq x)$ is a continuous function. \n",
    "\n",
    "Note that we can't say a discrete random variable is one where the CDF is not-continuous as it could have continuous and non-continuous parts. There is a whole theory of decomposing a general random variable into discrete and continuous components that is beyond what we want to do for this class. \n",
    "\n",
    "The next thing to note is that for our discrete random variables, the jump for the steps in the CDF is the probability distribution for that value.\n",
    "\n",
    "For a continuous random variable then, the probability that the variable achieves any specific value must be 0 because otherwise $P(Y = x) $ would be the size of a jump discontinuity in the CDF.\n",
    "\n",
    "\n",
    "## Probability Density Function\n",
    "\n",
    "So we don't have a distribution in the sense that we do for discrete random variables, however note that for continuous functions the idea which captures how much the function is increasing (the size of the steps) is given by the derivative. This leads to:\n",
    "\n",
    "The *Probability Density Function* of a continuous random variable with CDF $F(x) = P(Y \\leq x)$ is given by:\n",
    "$$ f(x) = \\frac{d}{dx} F(x) $$\n",
    "where the derivative exists. \n",
    "\n",
    "Note a few consequences:\n",
    "\n",
    "- $ f(x) \\geq 0 $\n",
    "- $ \\int_{-\\infty}^\\infty f(x) dx = 1$\n",
    "\n",
    "### Why is this called the density function?  \n",
    "\n",
    "Let's assume that $f(x)$ exists everywhere. Then the Fundamental Theorem of Calculus implies that:\n",
    "\n",
    "$$ F(x) = P(Y \\leq x) = \\int_{-\\infty}^x f(t) dt $$\n",
    "\n",
    "Suppose we wanted to know $P(a \\leq Y \\leq b)$?  On the one hand we compute this from the CDF:\n",
    "\n",
    "$$ P( a \\leq Y \\leq b) = F(b) - F(a) $$\n",
    "\n",
    "However we can rewrite this in terms of the PDF using the algebra of integrals: \n",
    "\n",
    "$$ P(a \\leq Y \\leq b) = \\int_a^b f(x) dx $$\n",
    "\n",
    "I.e. the area under $f(x)$ over a region of $x$-space gives the probability that $Y$ lies in that region. Note some consequences:\n",
    "\n",
    "- This is another way of thinking about why $P(Y = x) = 0 $:  It corresponds to an integral over a single point. \n",
    "\n",
    "I think of this as density in the same sense as we would use in Physics if the density is a proportion of the whole (i.e. we choose units so the total mass is 1). The integral of the density function for an object gives the mass of that object, center of mass and mean are the same thing, and the variance we are using corresponds to moments - describing how much the mass of an object is spread from its center.\n",
    "\n",
    "## Uniform Distribution\n",
    "\n",
    "For our first example consider the cumulative distribution function:\n",
    "\n",
    "$$ F(x) = \\left\\{ \\begin{matrix} 0 & x < 0 \\\\ x & 0 \\leq x \\leq 1 \\\\ 1 & x > 1 \\end{matrix}    \\right\\} $$\n",
    "\n",
    "To plot this, we first need to define the function. We will go over this in class, but this is the syntax for definition a function in R and also because it is piecewise the syntax for *if* statements. Note this is the most complicated programming we will do and you can just copy this function and modify it. A couple of notes about using this in R - from the notebook you need to execute this command with the cursor at the very top, working from the middle will only run the middle block of code. The other note is that I want to write the function so that it handles columns the same way the builtin functions we have already met do. That means I need to assume the input is a list of values and it needs to return a list of values."
   ]
  },
  {
   "cell_type": "code",
   "execution_count": 2,
   "metadata": {},
   "outputs": [
    {
     "data": {
      "text/html": [
       "<style>\n",
       ".list-inline {list-style: none; margin:0; padding: 0}\n",
       ".list-inline>li {display: inline-block}\n",
       ".list-inline>li:not(:last-child)::after {content: \"\\00b7\"; padding: 0 .5ex}\n",
       "</style>\n",
       "<ol class=list-inline><li>0</li><li>0.25</li><li>1</li></ol>\n"
      ],
      "text/latex": [
       "\\begin{enumerate*}\n",
       "\\item 0\n",
       "\\item 0.25\n",
       "\\item 1\n",
       "\\end{enumerate*}\n"
      ],
      "text/markdown": [
       "1. 0\n",
       "2. 0.25\n",
       "3. 1\n",
       "\n",
       "\n"
      ],
      "text/plain": [
       "[1] 0.00 0.25 1.00"
      ]
     },
     "metadata": {},
     "output_type": "display_data"
    }
   ],
   "source": [
    "# We need to write functions so they take a column of input values and return a column of output values, \n",
    "# This will make what we do next easier.\n",
    "\n",
    "F <- function(x) {\n",
    "  result <- c()\n",
    "  \n",
    "  for (k in x) {\n",
    "    \n",
    "    # The actual function - note the if statements we need because of the piecewise nature\n",
    "    if (k < 0) {\n",
    "      result <- c(result, 0)\n",
    "    }\n",
    "    else if (k > 1) {\n",
    "      result <- c(result, 1)\n",
    "    }\n",
    "    else {\n",
    "      result <- c(result, k)\n",
    "    }\n",
    "  }\n",
    "  result\n",
    "} \n",
    "\n",
    "# testing that it works\n",
    "F(c(-0.25, 0.25, 3))"
   ]
  },
  {
   "cell_type": "markdown",
   "metadata": {},
   "source": [
    "With that defined we can now plot the function. "
   ]
  },
  {
   "cell_type": "code",
   "execution_count": 3,
   "metadata": {},
   "outputs": [
    {
     "data": {
      "image/png": "[encoded data removed]",
      "text/plain": [
       "plot without title"
      ]
     },
     "metadata": {
      "filenames": {
       "image/png": "/home/virgilpierce/Documents/GitHub/MATH_550/_build/jupyter_execute/05-Continuous_5_0.png"
      },
      "image/png": {
       "height": 420,
       "width": 420
      }
     },
     "output_type": "display_data"
    }
   ],
   "source": [
    "n <- 100\n",
    "x <- c((-2*n):(2*n))/n\n",
    "plot(x, F(x), type = \"l\")"
   ]
  },
  {
   "cell_type": "markdown",
   "metadata": {},
   "source": [
    "This is our cumulative distribution. Without even computing anything we can tell that the support of our density is on the interval $[0, 1]$. Note that we have corners in the CDF so there are two places where the density is not defined - your instincts from Calculus are correct that not having a density at a discrete set of values is not a big deal. You may recall from MATH 534 that there are some particularly nasty functions, but while they are theoretically interesting as CDFs they do not correspond to random variables we see often (if at all).\n",
    "\n",
    "We can compute the probability density function by differentiating this one.  We get a piecewise defined function:\n",
    "\n",
    "$$ f(x) = \\left\\{ \\begin{matrix} 0 & x < 0 \\\\ 1 & 0 \\leq x \\leq 1 \\\\ 0 & x > 1 \\end{matrix} \\right\\} $$\n",
    "\n",
    "This is an example of a uniform continuous distribution. On the support of the variable, the probability that $Y$ is in an interval is proportional to the length of that interval. It is tempting to say that each value of $Y$ is equally likely, however this while being correct is meaningless - for a continuous random variable the probability of any value occuring is zero - hence they are all the same, regardless of what the density is. For continuous random variables we can only talk in terms of (a) the probability density or (b) the probability of the variable occuring in a set.  This distinction is what separates those who have been carefully learning probability and statistics from those who tried to cut some corners or are getting sloppy.\n",
    "\n",
    "### General Unifrom Distributions\n",
    "\n",
    "Find the constant $C$ such that $f(x)$ below is a valid PDF:\n",
    "\n",
    "$$ f(x) = \\left\\{ \\begin{matrix} 0 & x < a \\\\ C & a \\leq x \\leq b \\\\ 0 & x > b \\end{matrix} \\right\\} $$\n",
    "\n",
    "If you translate this question into Physics:  Find $C$ such that the total mass of the object with density $f(x)$ is 1, you will not be surprised by the answer.\n",
    "\n",
    "1. Make a prediction about the Expected Value of the uniform random variable on $[a, b]$.\n",
    "\n",
    "### Simmulating continuous random variables\n",
    "\n",
    "Following our pattern for discrete random variables, I would like to first simmulate this random variable so we can experiment and see what we think the Expected Value and Variance are. However simmulating continuous random variables is somewhat harder than discrete ones. For example with discrete ones we could even simmulate them mechanically by filling a bag with chips with different markings on them.\n",
    "\n",
    "Luckily, R comes with a uniform random variable simmulator already prepared for us. It uses similar technology that that hiding behind our discrete *sample* command we used already. The command is *runif* r is the prefix and unif is the name of the distribution - hence we could simmulate our Poisson variable for example using *rpois*.\n",
    "\n",
    "\n",
    "\n",
    "\n"
   ]
  },
  {
   "cell_type": "code",
   "execution_count": 4,
   "metadata": {},
   "outputs": [
    {
     "data": {
      "text/html": [
       "<style>\n",
       ".list-inline {list-style: none; margin:0; padding: 0}\n",
       ".list-inline>li {display: inline-block}\n",
       ".list-inline>li:not(:last-child)::after {content: \"\\00b7\"; padding: 0 .5ex}\n",
       "</style>\n",
       "<ol class=list-inline><li>0.130034498637542</li><li>0.236988539109007</li><li>0.878033780492842</li><li>0.123445316916332</li><li>0.151011938927695</li><li>0.366149440873414</li><li>0.578933043172583</li><li>0.39635034580715</li><li>0.915267869830132</li><li>0.160882593132555</li><li>0.78313580644317</li><li>0.481052224524319</li><li>0.307725080521777</li><li>0.841248023090884</li><li>0.852283999091014</li><li>0.946694113081321</li><li>0.83781055896543</li><li>0.387396751437336</li><li>0.644093644106761</li><li>0.377424898790196</li><li>0.886793554993346</li><li>0.843237232416868</li><li>0.0249526214320213</li><li>0.928225840209052</li><li>0.819954821374267</li><li>0.0660455876495689</li><li>0.848060365067795</li><li>0.812125093769282</li><li>0.752842326648533</li><li>0.589590841904283</li><li>0.50664748554118</li><li>0.0704573250841349</li><li>0.737898416817188</li><li>0.724462226266041</li><li>0.603056266671047</li><li>0.602991639403626</li><li>0.170137893408537</li><li>0.219537856522948</li><li>0.118552691768855</li><li>0.760441457852721</li><li>0.283200703561306</li><li>0.895799139048904</li><li>0.614897035062313</li><li>0.739788820967078</li><li>0.0218195058405399</li><li>0.527199670672417</li><li>0.680242850910872</li><li>0.550035341177136</li><li>0.736301227239892</li><li>0.571132408687845</li></ol>\n"
      ],
      "text/latex": [
       "\\begin{enumerate*}\n",
       "\\item 0.130034498637542\n",
       "\\item 0.236988539109007\n",
       "\\item 0.878033780492842\n",
       "\\item 0.123445316916332\n",
       "\\item 0.151011938927695\n",
       "\\item 0.366149440873414\n",
       "\\item 0.578933043172583\n",
       "\\item 0.39635034580715\n",
       "\\item 0.915267869830132\n",
       "\\item 0.160882593132555\n",
       "\\item 0.78313580644317\n",
       "\\item 0.481052224524319\n",
       "\\item 0.307725080521777\n",
       "\\item 0.841248023090884\n",
       "\\item 0.852283999091014\n",
       "\\item 0.946694113081321\n",
       "\\item 0.83781055896543\n",
       "\\item 0.387396751437336\n",
       "\\item 0.644093644106761\n",
       "\\item 0.377424898790196\n",
       "\\item 0.886793554993346\n",
       "\\item 0.843237232416868\n",
       "\\item 0.0249526214320213\n",
       "\\item 0.928225840209052\n",
       "\\item 0.819954821374267\n",
       "\\item 0.0660455876495689\n",
       "\\item 0.848060365067795\n",
       "\\item 0.812125093769282\n",
       "\\item 0.752842326648533\n",
       "\\item 0.589590841904283\n",
       "\\item 0.50664748554118\n",
       "\\item 0.0704573250841349\n",
       "\\item 0.737898416817188\n",
       "\\item 0.724462226266041\n",
       "\\item 0.603056266671047\n",
       "\\item 0.602991639403626\n",
       "\\item 0.170137893408537\n",
       "\\item 0.219537856522948\n",
       "\\item 0.118552691768855\n",
       "\\item 0.760441457852721\n",
       "\\item 0.283200703561306\n",
       "\\item 0.895799139048904\n",
       "\\item 0.614897035062313\n",
       "\\item 0.739788820967078\n",
       "\\item 0.0218195058405399\n",
       "\\item 0.527199670672417\n",
       "\\item 0.680242850910872\n",
       "\\item 0.550035341177136\n",
       "\\item 0.736301227239892\n",
       "\\item 0.571132408687845\n",
       "\\end{enumerate*}\n"
      ],
      "text/markdown": [
       "1. 0.130034498637542\n",
       "2. 0.236988539109007\n",
       "3. 0.878033780492842\n",
       "4. 0.123445316916332\n",
       "5. 0.151011938927695\n",
       "6. 0.366149440873414\n",
       "7. 0.578933043172583\n",
       "8. 0.39635034580715\n",
       "9. 0.915267869830132\n",
       "10. 0.160882593132555\n",
       "11. 0.78313580644317\n",
       "12. 0.481052224524319\n",
       "13. 0.307725080521777\n",
       "14. 0.841248023090884\n",
       "15. 0.852283999091014\n",
       "16. 0.946694113081321\n",
       "17. 0.83781055896543\n",
       "18. 0.387396751437336\n",
       "19. 0.644093644106761\n",
       "20. 0.377424898790196\n",
       "21. 0.886793554993346\n",
       "22. 0.843237232416868\n",
       "23. 0.0249526214320213\n",
       "24. 0.928225840209052\n",
       "25. 0.819954821374267\n",
       "26. 0.0660455876495689\n",
       "27. 0.848060365067795\n",
       "28. 0.812125093769282\n",
       "29. 0.752842326648533\n",
       "30. 0.589590841904283\n",
       "31. 0.50664748554118\n",
       "32. 0.0704573250841349\n",
       "33. 0.737898416817188\n",
       "34. 0.724462226266041\n",
       "35. 0.603056266671047\n",
       "36. 0.602991639403626\n",
       "37. 0.170137893408537\n",
       "38. 0.219537856522948\n",
       "39. 0.118552691768855\n",
       "40. 0.760441457852721\n",
       "41. 0.283200703561306\n",
       "42. 0.895799139048904\n",
       "43. 0.614897035062313\n",
       "44. 0.739788820967078\n",
       "45. 0.0218195058405399\n",
       "46. 0.527199670672417\n",
       "47. 0.680242850910872\n",
       "48. 0.550035341177136\n",
       "49. 0.736301227239892\n",
       "50. 0.571132408687845\n",
       "\n",
       "\n"
      ],
      "text/plain": [
       " [1] 0.13003450 0.23698854 0.87803378 0.12344532 0.15101194 0.36614944\n",
       " [7] 0.57893304 0.39635035 0.91526787 0.16088259 0.78313581 0.48105222\n",
       "[13] 0.30772508 0.84124802 0.85228400 0.94669411 0.83781056 0.38739675\n",
       "[19] 0.64409364 0.37742490 0.88679355 0.84323723 0.02495262 0.92822584\n",
       "[25] 0.81995482 0.06604559 0.84806037 0.81212509 0.75284233 0.58959084\n",
       "[31] 0.50664749 0.07045733 0.73789842 0.72446223 0.60305627 0.60299164\n",
       "[37] 0.17013789 0.21953786 0.11855269 0.76044146 0.28320070 0.89579914\n",
       "[43] 0.61489704 0.73978882 0.02181951 0.52719967 0.68024285 0.55003534\n",
       "[49] 0.73630123 0.57113241"
      ]
     },
     "metadata": {},
     "output_type": "display_data"
    }
   ],
   "source": [
    "result <- runif(50, 0, 1)\n",
    "result"
   ]
  },
  {
   "cell_type": "code",
   "execution_count": 5,
   "metadata": {},
   "outputs": [
    {
     "data": {
      "image/png": "[encoded data removed]",
      "text/plain": [
       "Plot with title “Histogram of result”"
      ]
     },
     "metadata": {
      "filenames": {
       "image/png": "/home/virgilpierce/Documents/GitHub/MATH_550/_build/jupyter_execute/05-Continuous_8_0.png"
      },
      "image/png": {
       "height": 420,
       "width": 420
      }
     },
     "output_type": "display_data"
    }
   ],
   "source": [
    "hist(result, 20)"
   ]
  },
  {
   "cell_type": "markdown",
   "metadata": {},
   "source": [
    "and maybe you can see that we might have a problem. Our sample is just that a sample. It is only a loose approximation of the distribution and in fact if all we knew was the sample we might conclude something veyr different about our distribution. Addressing this discrepency or maybe a defeciency is going to be out goal for the next few weeks."
   ]
  },
  {
   "cell_type": "markdown",
   "metadata": {},
   "source": [
    "### Expected Value \n",
    "\n",
    "In any case, we can use our sample to estimate the expected value of the distribution - intuitively, we expect or maybe hope that the mean of the sample is close to the expected value of the distribution. We will show that this precisely what is happening later, but for now let us allow ourselves to be naive."
   ]
  },
  {
   "cell_type": "code",
   "execution_count": 6,
   "metadata": {},
   "outputs": [
    {
     "data": {
      "text/plain": [
       "   Min. 1st Qu.  Median    Mean 3rd Qu.    Max. \n",
       "0.02182 0.28933 0.59629 0.54205 0.80488 0.94669 "
      ]
     },
     "metadata": {},
     "output_type": "display_data"
    }
   ],
   "source": [
    "summary(result)"
   ]
  },
  {
   "cell_type": "markdown",
   "metadata": {},
   "source": [
    "You might try increasing the size of the sample we take and check what happens to our summary statistics.\n",
    "\n",
    "#### Exact Value\n",
    "\n",
    "We can find the exact value similarly to how we did it in the discrete case. Recall that for a discrete random variable $Y$ the expected value is computed exactly but finding the sum (if we can find it):\n",
    "\n",
    "$$ E(Y) = \\sum r P(Y=r) $$\n",
    "\n",
    "In the continuous case with a random variable $Y$ with PDF $f(x)$ we appeal to our intuition from Calculus: \n",
    "\n",
    "$$ E(Y) = \\sum x P(\\mbox{$Y$ is in a small neighborhood near x}) = \\sum x f(x) \\Delta x$$\n",
    "\n",
    "and in the limit as the neighborhood sizes $\\Delta x \\to 0$ we get (again no surprises here if you use your intuition that sums become integrals):\n",
    "\n",
    "$$ E(Y) = \\int x f(x) dx  $$\n",
    "\n",
    "Where the integral is over the support of the random variable. \n",
    "\n",
    "For $Y$ the uniform random variable on the interval $[a, b]$:\n",
    "\n",
    "$$ E(Y) = \\int_a^b x \\frac{1}{b-a} dx = \\frac{1}{2(b-a)} x^2 \\bigg|_a^b = \\frac{b^2 - a^2}{2 (b-a)} = \\frac{b+a}{2} $$\n",
    "\n",
    "Which surprise, surprise is the midpoint of the interval $[a, b]$.\n",
    "\n",
    "### Variance\n",
    "\n",
    "The estimate variance from our sample can be found using *var*:"
   ]
  },
  {
   "cell_type": "code",
   "execution_count": 7,
   "metadata": {},
   "outputs": [
    {
     "data": {
      "text/html": [
       "0.0844394151906217"
      ],
      "text/latex": [
       "0.0844394151906217"
      ],
      "text/markdown": [
       "0.0844394151906217"
      ],
      "text/plain": [
       "[1] 0.08443942"
      ]
     },
     "metadata": {},
     "output_type": "display_data"
    }
   ],
   "source": [
    "var(result)"
   ]
  },
  {
   "cell_type": "markdown",
   "metadata": {},
   "source": [
    "Again this actually just an estimate of the variance of the random variable. You should check what happens as the size of the sample is changed. \n",
    "\n",
    "#### Exact Value\n",
    "\n",
    "Again we can find the exact value using some algebra:  \n",
    "\n",
    "$$ V(Y) = E(Y^2) - \\frac{(b+a)^2}{4} $$\n",
    "\n",
    "and an integral:\n",
    "\n",
    "$$ E(Y^2) = \\int_a^b x^2 \\frac{1}{b-a} dx = \\frac{1}{3(b-a)} x^3 \\bigg|_a^b = \\frac{b^3 - a^3}{3 (b-a)} $$\n",
    "\n",
    "I would just use Wolfram Alpha to simplify this, but you could also factor the cubic using the binomial theorem:\n",
    "\n",
    "$$ E(Y^2) = \\frac{b^2 + ab + a^2}{3} $$\n",
    "\n",
    "(again one reason I like to teach this class to our MA program is all of these exercises from Calculus get used).\n",
    "\n",
    "Then we combine this with the expected value to get:\n",
    "\n",
    "$$ V(Y) = \\frac{b^2 + ab + a^2}{3} - \\frac{b^2 + 2 ab + a^2}{4} = \\frac{b^2 - 2 ab + a^2}{12} = \\frac{(b-a)^2}{12} $$ \n",
    "\n",
    "For the interval $[0, 1]$ we have:"
   ]
  },
  {
   "cell_type": "code",
   "execution_count": 8,
   "metadata": {},
   "outputs": [
    {
     "data": {
      "text/html": [
       "0.0833333333333333"
      ],
      "text/latex": [
       "0.0833333333333333"
      ],
      "text/markdown": [
       "0.0833333333333333"
      ],
      "text/plain": [
       "[1] 0.08333333"
      ]
     },
     "metadata": {},
     "output_type": "display_data"
    }
   ],
   "source": [
    "(1-0)^2 / 12"
   ]
  },
  {
   "cell_type": "markdown",
   "metadata": {},
   "source": [
    "## Normal Distributions\n",
    "\n",
    "The uniform distribution is a nice simple first example. However our next example we will see forms the basis for a large portion fo the results we will work with. The *Normal Distribution* will turn out to be a a universal structure that shows up in many instances.\n",
    "\n",
    "The Probability Density Function for the normal distirbution is the shape classically known as the Bell Curve. It is given by the function:\n",
    "\n",
    "$$ f(x) = \\frac{1}{\\sigma \\sqrt{2\\pi}} e^{-(y - \\mu)^2 / (2 \\sigma^2) } $$\n",
    "\n",
    "Note that the distribution has two free parameters (suggestively written as) $\\mu$ and $\\sigma^2$. \n",
    "\n",
    "A graph of the PDF, using the builtin expression for the function *dnorm*:"
   ]
  },
  {
   "cell_type": "code",
   "execution_count": 9,
   "metadata": {},
   "outputs": [
    {
     "data": {
      "image/png": "[encoded data removed]",
      "text/plain": [
       "plot without title"
      ]
     },
     "metadata": {
      "filenames": {
       "image/png": "/home/virgilpierce/Documents/GitHub/MATH_550/_build/jupyter_execute/05-Continuous_17_0.png"
      },
      "image/png": {
       "height": 420,
       "width": 420
      }
     },
     "output_type": "display_data"
    }
   ],
   "source": [
    "n <- 100\n",
    "mu <- 1\n",
    "sigma <- 0.5\n",
    "x <- c((-4*n):(4*n))/n\n",
    "v <- dnorm(x, mu, sigma)\n",
    "plot(x, v, type='l')"
   ]
  },
  {
   "cell_type": "markdown",
   "metadata": {},
   "source": [
    "Adjust the $\\mu$ and $\\sigma$ in this code block until you have a hypothesis about what the role is that they play in the shape of the distribution.\n",
    "\n",
    "Note that the distribution never actually gives 0, though it does get very close as $x\\to \\pm \\infty$. The support of this random variable is all real numbers.\n",
    "\n",
    "The cummulative distribution function is defined to be:\n",
    "\n",
    "$$ F(x) = \\int_{-\\infty}^x \\frac{1}{\\sigma \\sqrt{2\\pi}} e^{- (t-\\mu)^2 / (2 \\sigma^2) } dt $$\n",
    "\n",
    "Note that while this is an unbounded integral, it is one that will have no problems converging. That said, it is also an integrand for which none of the rules you learned in Calculus 2 work. We are left with numerical approximations, and in our case we can just use the builtin function *pnorm* in R."
   ]
  },
  {
   "cell_type": "code",
   "execution_count": 10,
   "metadata": {},
   "outputs": [
    {
     "data": {
      "image/png": "[encoded data removed]",
      "text/plain": [
       "plot without title"
      ]
     },
     "metadata": {
      "filenames": {
       "image/png": "/home/virgilpierce/Documents/GitHub/MATH_550/_build/jupyter_execute/05-Continuous_19_0.png"
      },
      "image/png": {
       "height": 420,
       "width": 420
      }
     },
     "output_type": "display_data"
    }
   ],
   "source": [
    "n <- 100\n",
    "mu <- 1\n",
    "sigma <- 0.5\n",
    "x <- c((-4*n):(4*n))/n\n",
    "v <- pnorm(x, mu, sigma)\n",
    "plot(x, v, type='l')"
   ]
  },
  {
   "cell_type": "markdown",
   "metadata": {},
   "source": [
    "### Sampling from the Normal Distribution\n",
    "\n",
    "We will spend a large portion of later chapters asking what happens when we sample from a normal distribution, but r provides a builtin function that does it for us, so let's go ahead and use that. Though it is worth pausing here to discuss how one would implement such a thing as it is instructive:\n",
    "\n",
    "- Suppose that we have a good pseudo random number generator that will give us a $Q$ uniformly distributed random variable on the interval $[0, 1]$.  If we generating a $Q = t$ and then take $F^{-1}(t) = x$ (the inverse of the cummulative distribution function, this will then give us an $x$ that we can use a sample from our random variable with cummulative distribution $F(x)$. \n",
    "\n",
    "- Note that because $F(x)$ is non-decreasing it is 1-1 and therefore the inverse function exists. Though we may not have a nice formula for it - for example with the normal distribution we do not have a nice formula for it.\n",
    "\n",
    "- Note that where $F(x)$ is steepest, which corresponds to where $f(x)$ is largest, the inverse function will be less steep. Therefore for a larger region of $Q$ values we will get a smaller region of $Y$ values - and vice versa.\n",
    "\n",
    "Of course it is all moot as we do not have an exact formula for $F(x)$ for the normal distribution and therefore we do not have an exact formula for the inverse of the CDF. What we do have though is a builtin sampling function *rnorm*.  \n",
    "\n",
    "Again note how consistent R is - the *r* prefix means sample from the variable."
   ]
  },
  {
   "cell_type": "code",
   "execution_count": 11,
   "metadata": {},
   "outputs": [
    {
     "data": {
      "text/html": [
       "<style>\n",
       ".list-inline {list-style: none; margin:0; padding: 0}\n",
       ".list-inline>li {display: inline-block}\n",
       ".list-inline>li:not(:last-child)::after {content: \"\\00b7\"; padding: 0 .5ex}\n",
       "</style>\n",
       "<ol class=list-inline><li>0.63892254950634</li><li>0.896793594011283</li><li>0.345771520344666</li><li>1.12969666492985</li><li>1.75558126712342</li><li>0.248469310680079</li><li>-0.0235368591401257</li><li>0.771613964775255</li><li>1.16440451771055</li><li>0.748628321452981</li><li>0.930950968073924</li><li>0.98674163151931</li><li>1.35274612429919</li><li>0.714815640607446</li><li>1.62069755914983</li><li>0.729006552434697</li><li>0.675999163989709</li><li>0.898963461852873</li><li>0.904172177264852</li><li>1.37665226793378</li><li>0.663690296469009</li><li>1.84417264286899</li><li>1.28971497328997</li><li>1.44869956818839</li><li>0.760991234724683</li><li>1.29947898206687</li><li>2.26531445855854</li><li>0.869293871249298</li><li>1.66910254426481</li><li>1.3084722257166</li><li>0.58515122401628</li><li>0.636899083888025</li><li>0.315711027362301</li><li>0.207550477472549</li><li>0.514504564207714</li><li>1.40877317711017</li><li>0.999610412070735</li><li>1.53759657836878</li><li>0.889979595588317</li><li>1.21251927274655</li><li>1.53138103204622</li><li>1.84393619907111</li><li>1.64789928362646</li><li>0.2591492113524</li><li>1.07431334175316</li><li>0.412046700487662</li><li>0.737920312515</li><li>0.407286109376149</li><li>1.40195494059928</li><li>0.904466249733155</li></ol>\n"
      ],
      "text/latex": [
       "\\begin{enumerate*}\n",
       "\\item 0.63892254950634\n",
       "\\item 0.896793594011283\n",
       "\\item 0.345771520344666\n",
       "\\item 1.12969666492985\n",
       "\\item 1.75558126712342\n",
       "\\item 0.248469310680079\n",
       "\\item -0.0235368591401257\n",
       "\\item 0.771613964775255\n",
       "\\item 1.16440451771055\n",
       "\\item 0.748628321452981\n",
       "\\item 0.930950968073924\n",
       "\\item 0.98674163151931\n",
       "\\item 1.35274612429919\n",
       "\\item 0.714815640607446\n",
       "\\item 1.62069755914983\n",
       "\\item 0.729006552434697\n",
       "\\item 0.675999163989709\n",
       "\\item 0.898963461852873\n",
       "\\item 0.904172177264852\n",
       "\\item 1.37665226793378\n",
       "\\item 0.663690296469009\n",
       "\\item 1.84417264286899\n",
       "\\item 1.28971497328997\n",
       "\\item 1.44869956818839\n",
       "\\item 0.760991234724683\n",
       "\\item 1.29947898206687\n",
       "\\item 2.26531445855854\n",
       "\\item 0.869293871249298\n",
       "\\item 1.66910254426481\n",
       "\\item 1.3084722257166\n",
       "\\item 0.58515122401628\n",
       "\\item 0.636899083888025\n",
       "\\item 0.315711027362301\n",
       "\\item 0.207550477472549\n",
       "\\item 0.514504564207714\n",
       "\\item 1.40877317711017\n",
       "\\item 0.999610412070735\n",
       "\\item 1.53759657836878\n",
       "\\item 0.889979595588317\n",
       "\\item 1.21251927274655\n",
       "\\item 1.53138103204622\n",
       "\\item 1.84393619907111\n",
       "\\item 1.64789928362646\n",
       "\\item 0.2591492113524\n",
       "\\item 1.07431334175316\n",
       "\\item 0.412046700487662\n",
       "\\item 0.737920312515\n",
       "\\item 0.407286109376149\n",
       "\\item 1.40195494059928\n",
       "\\item 0.904466249733155\n",
       "\\end{enumerate*}\n"
      ],
      "text/markdown": [
       "1. 0.63892254950634\n",
       "2. 0.896793594011283\n",
       "3. 0.345771520344666\n",
       "4. 1.12969666492985\n",
       "5. 1.75558126712342\n",
       "6. 0.248469310680079\n",
       "7. -0.0235368591401257\n",
       "8. 0.771613964775255\n",
       "9. 1.16440451771055\n",
       "10. 0.748628321452981\n",
       "11. 0.930950968073924\n",
       "12. 0.98674163151931\n",
       "13. 1.35274612429919\n",
       "14. 0.714815640607446\n",
       "15. 1.62069755914983\n",
       "16. 0.729006552434697\n",
       "17. 0.675999163989709\n",
       "18. 0.898963461852873\n",
       "19. 0.904172177264852\n",
       "20. 1.37665226793378\n",
       "21. 0.663690296469009\n",
       "22. 1.84417264286899\n",
       "23. 1.28971497328997\n",
       "24. 1.44869956818839\n",
       "25. 0.760991234724683\n",
       "26. 1.29947898206687\n",
       "27. 2.26531445855854\n",
       "28. 0.869293871249298\n",
       "29. 1.66910254426481\n",
       "30. 1.3084722257166\n",
       "31. 0.58515122401628\n",
       "32. 0.636899083888025\n",
       "33. 0.315711027362301\n",
       "34. 0.207550477472549\n",
       "35. 0.514504564207714\n",
       "36. 1.40877317711017\n",
       "37. 0.999610412070735\n",
       "38. 1.53759657836878\n",
       "39. 0.889979595588317\n",
       "40. 1.21251927274655\n",
       "41. 1.53138103204622\n",
       "42. 1.84393619907111\n",
       "43. 1.64789928362646\n",
       "44. 0.2591492113524\n",
       "45. 1.07431334175316\n",
       "46. 0.412046700487662\n",
       "47. 0.737920312515\n",
       "48. 0.407286109376149\n",
       "49. 1.40195494059928\n",
       "50. 0.904466249733155\n",
       "\n",
       "\n"
      ],
      "text/plain": [
       " [1]  0.63892255  0.89679359  0.34577152  1.12969666  1.75558127  0.24846931\n",
       " [7] -0.02353686  0.77161396  1.16440452  0.74862832  0.93095097  0.98674163\n",
       "[13]  1.35274612  0.71481564  1.62069756  0.72900655  0.67599916  0.89896346\n",
       "[19]  0.90417218  1.37665227  0.66369030  1.84417264  1.28971497  1.44869957\n",
       "[25]  0.76099123  1.29947898  2.26531446  0.86929387  1.66910254  1.30847223\n",
       "[31]  0.58515122  0.63689908  0.31571103  0.20755048  0.51450456  1.40877318\n",
       "[37]  0.99961041  1.53759658  0.88997960  1.21251927  1.53138103  1.84393620\n",
       "[43]  1.64789928  0.25914921  1.07431334  0.41204670  0.73792031  0.40728611\n",
       "[49]  1.40195494  0.90446625"
      ]
     },
     "metadata": {},
     "output_type": "display_data"
    }
   ],
   "source": [
    "result <- rnorm(50, 1, 0.5)\n",
    "result"
   ]
  },
  {
   "cell_type": "code",
   "execution_count": 12,
   "metadata": {},
   "outputs": [
    {
     "data": {
      "image/png": "[encoded data removed]",
      "text/plain": [
       "Plot with title “Histogram of result”"
      ]
     },
     "metadata": {
      "filenames": {
       "image/png": "/home/virgilpierce/Documents/GitHub/MATH_550/_build/jupyter_execute/05-Continuous_22_0.png"
      },
      "image/png": {
       "height": 420,
       "width": 420
      }
     },
     "output_type": "display_data"
    }
   ],
   "source": [
    "hist(result, 10)"
   ]
  },
  {
   "cell_type": "code",
   "execution_count": 13,
   "metadata": {},
   "outputs": [
    {
     "data": {
      "text/plain": [
       "    Min.  1st Qu.   Median     Mean  3rd Qu.     Max. \n",
       "-0.02354  0.66677  0.90432  0.99629  1.37068  2.26531 "
      ]
     },
     "metadata": {},
     "output_type": "display_data"
    }
   ],
   "source": [
    "summary(result)"
   ]
  },
  {
   "cell_type": "markdown",
   "metadata": {},
   "source": [
    "Take the time to adjust the size of the sample and see what we get."
   ]
  },
  {
   "cell_type": "markdown",
   "metadata": {},
   "source": [
    "### Examples\n",
    "\n",
    "#### Total Probability\n",
    "\n",
    "We should check that the total probability of this density is 1. That is in fact what the the fraction in the density:  $\\frac{1}{\\sigma \\sqrt{2\\pi}} $ is for. It has always fascinated me that $\\pi$ shows up here!  Unfortunately explaining why is beyond the scope of our class, but is a fascinating application of the Fourier Transformation. "
   ]
  },
  {
   "cell_type": "markdown",
   "metadata": {},
   "source": [
    "#### Probability of $Y$ in an Interval\n",
    "\n",
    "Suppose we have the normal random variable $Y$ with mean 0 and variance 1. Find the probability that $Y$ is in the interval $[0, \\infty)$.\n",
    "\n",
    "We compute this from the integral of the density over this region:\n",
    "\n",
    "$$ P( 0 \\leq Y ) = \\int_0^\\infty \\frac{1}{\\sqrt{2\\pi}} e^{-x^2 / 2 } dx $$\n",
    "\n",
    "We can ask Wolfram Alpha or use the symmetry to argue we get 0.5."
   ]
  },
  {
   "cell_type": "markdown",
   "metadata": {},
   "source": [
    "#### Expected Value of a Function\n",
    "\n",
    "The expected value of a function of our normal variable with mean 0 and variance 1 is found by integrating that function against the PDF for the distribution. For example to find\n",
    "\n",
    "$$ E( e^{x} ) $$ \n",
    "\n",
    "we need to compute:\n",
    "\n",
    "$$ \\int_{-\\infty}^\\infty e^x \\frac{1}{\\sqrt{2\\pi}} e^{-x^2 / 2 } dx $$\n",
    "\n",
    "These are not typically easy integrals to compute but we can approximate the value numerically or use Wolfram Alpha: 1.64872.\n",
    "\n",
    "#### Find an Interval with given probability\n",
    "\n",
    "Find an interval $[a, b]$ such that the normal random variable with mean 0 and variance 1 has probability 0.95 of being found in the interval. \n",
    "\n",
    "To answer this one it is worth using the cummulative distribution function defined in R *pnorm*. "
   ]
  },
  {
   "cell_type": "markdown",
   "metadata": {},
   "source": [
    "### Expected Value and Variance of Normal Random Variables\n",
    "\n",
    "As you might expect the parameters $\\mu$ and $\\sigma^2$ are so named because for the normal random variable they are precisly the mean and variance. \n",
    "\n",
    "$$E(Y) = \\int_{-\\infty}^\\infty x \\frac{1}{\\sigma \\sqrt{2\\pi}} e^{-(x-\\mu)^2 / (2\\sigma^2) } dx = \\mu $$\n",
    "\n",
    "Showing this exactly is beyond the scope of the class, really the two best ways to do it use Complex Analysis or the Fourier Transform.\n",
    "\n",
    "The variance should be compute directly (i.e. not using our algebra trick:\n",
    "\n",
    "$$ V(Y) = E( (Y-\\mu)^2 ) = \\int_{-\\infty}^\\infty (x-\\mu)^2 \\frac{1}{\\sigma \\sqrt{2\\pi}} e^{-(x-\\mu)^2 / (2\\sigma^2) } dx = \\sigma^2 $$\n",
    "\n",
    "Note that immediately a change of variables can be made that eliminates $\\mu$ - hence the $V(Y)$ must even before we compute it, only depend on $\\sigma^2$. \n"
   ]
  },
  {
   "cell_type": "code",
   "execution_count": null,
   "metadata": {},
   "outputs": [],
   "source": []
  }
 ],
 "metadata": {
  "kernelspec": {
   "display_name": "R",
   "language": "R",
   "name": "ir"
  },
  "language_info": {
   "codemirror_mode": "r",
   "file_extension": ".r",
   "mimetype": "text/x-r-source",
   "name": "R",
   "pygments_lexer": "r",
   "version": "4.0.2"
  }
 },
 "nbformat": 4,
 "nbformat_minor": 4
}