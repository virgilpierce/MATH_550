{
 "cells": [
  {
   "cell_type": "markdown",
   "metadata": {},
   "source": [
    "# Continuous Random Variables\n",
    "\n",
    "We spent the last two days thinking about discrete probability distributions. Particularly these include random variables that are counting things (what do the binomial, geometric, and Poisson random variables count?).  \n",
    "\n",
    "However you can probably give some examples of numerical random variables which are not discrete.\n",
    "\n",
    "Note the thing that should give us pause, and explains why we have to introduce these random variables in a slightly different way from how we introduced discrete random variables:\n",
    "\n",
    "- For a discrete random variable, it makes sense to ask $P(Y = r)$ for some $r$. I.e. there will be some $r$ such that this number is non-zero. In fact we took this as our starting point for all of the discrete random distributions we have talked about.\n",
    "\n",
    "- For a continuous random variable:  $P(Y=x)$ has us a little bit nervous. If $Y$ is truly continuous then near $x$ there are infinitely many (uncountably infinitely many) values that are also possible. They can't all have a non-zero value without us having trouble adding them all up, and at the same time if only a discrete set of them are non-zero so that we can add them up then what we have is a discrete variable. In other words, we have a bit of a paradox. Luckily Calculus, as it usually does, gives us the language to talk about continuous things as generalizations of discrete things. \n",
    "\n",
    "\n",
    "First we need to make our definition precise: How will we recognize a continuous random variable?  (if you were in my class last summer you might recall our *sandwich* activity). \n",
    "\n",
    "One picture that should have you thinking from earlier this week is the graphs we made of the *Cumulative Distribution Function* for our random variables, here is the one for the binomials random variable:"
   ]
  },
  {
   "cell_type": "code",
   "execution_count": 1,
   "metadata": {},
   "outputs": [
    {
     "data": {
      "image/png": "[encoded data removed]",
      "text/plain": [
       "plot without title"
      ]
     },
     "metadata": {
      "filenames": {
       "image/png": "/home/virgilpierce/Documents/GitHub/MATH_550/_build/jupyter_execute/05-Continuous_1_0.png"
      },
      "image/png": {
       "height": 420,
       "width": 420
      }
     },
     "output_type": "display_data"
    }
   ],
   "source": [
    "n <- 10\n",
    "p <- 0.38\n",
    "r <- c(-1:(50*n))/50\n",
    "plot(r, pbinom(r, n, p), type=\"l\")"
   ]
  },
  {
   "cell_type": "markdown",
   "metadata": {},
   "source": [
    "onsider instead what this graph will need to look like for a random variable that can take any value rather than just the integer values?  \n",
    "\n",
    "Recall the properties of our CDF $F(x) = P(Y \\leq x)$:\n",
    "\n",
    "- $\\lim_{x\\to -\\infty} F(x) = 0$\n",
    "- $0 \\leq F(x) \\leq 1$ for all x.\n",
    "- $F(x)$ is a non decreasing function of $x$:  given $x_1 < x_2$ then $F(x_1) < F(x_2)$. \n",
    "- $\\lim_{x\\to \\infty} F(x) = 1$\n",
    "\n",
    "A *Continuous Random Variable* is one for which the cumulative distribution function: $F(x) = P(Y \\leq x)$ is a continuous function. \n",
    "\n",
    "Note that we can't say a discrete random variable is one where the CDF is not-continuous as it could have continuous and non-continuous parts. There is a whole theory of decomposing a general random variable into discrete and continuous components that is beyond what we want to do for this class. \n",
    "\n",
    "The next thing to note is that for our discrete random variables, the jump for the steps in the CDF is the probability distribution for that value.\n",
    "\n",
    "For a continuous random variable then, the probability that the variable achieves any specific value must be 0 because otherwise $P(Y = x) $ would be the size of a jump discontinuity in the CDF.\n",
    "\n",
    "\n",
    "## Probability Density Function\n",
    "\n",
    "So we don't have a distribution in the sense that we do for discrete random variables, however note that for continuous functions the idea which captures how much the function is increasing (the size of the steps) is given by the derivative. This leads to:\n",
    "\n",
    "The *Probability Density Function* of a continuous random variable with CDF $F(x) = P(Y \\leq x)$ is given by:\n",
    "$$ f(x) = \\frac{d}{dx} F(x) $$\n",
    "where the derivative exists. \n",
    "\n",
    "Note a few consequences:\n",
    "\n",
    "- $ f(x) \\geq 0 $\n",
    "- $ \\int_{-\\infty}^\\infty f(x) dx = 1$\n",
    "\n",
    "### Why is this called the density function?  \n",
    "\n",
    "Let's assume that $f(x)$ exists everywhere. Then the Fundamental Theorem of Calculus implies that:\n",
    "\n",
    "$$ F(x) = P(Y \\leq x) = \\int_{-\\infty}^x f(t) dt $$\n",
    "\n",
    "Suppose we wanted to know $P(a \\leq Y \\leq b)$?  On the one hand we compute this from the CDF:\n",
    "\n",
    "$$ P( a \\leq Y \\leq b) = F(b) - F(a) $$\n",
    "\n",
    "However we can rewrite this in terms of the PDF using the algebra of integrals: \n",
    "\n",
    "$$ P(a \\leq Y \\leq b) = \\int_a^b f(x) dx $$\n",
    "\n",
    "I.e. the area under $f(x)$ over a region of $x$-space gives the probability that $Y$ lies in that region. Note some consequences:\n",
    "\n",
    "- This is another way of thinking about why $P(Y = x) = 0 $:  It corresponds to an integral over a single point. \n",
    "\n",
    "I think of this as density in the same sense as we would use in Physics if the density is a proportion of the whole (i.e. we choose units so the total mass is 1). The integral of the density function for an object gives the mass of that object, center of mass and mean are the same thing, and the variance we are using corresponds to moments - describing how much the mass of an object is spread from its center.\n",
    "\n",
    "## Uniform Distribution\n",
    "\n",
    "For our first example consider the cumulative distribution function:\n",
    "\n",
    "$$ F(x) = \\left\\{ \\begin{matrix} 0 & x < 0 \\\\ x & 0 \\leq x \\leq 1 \\\\ 1 & x > 1 \\end{matrix}    \\right\\} $$\n",
    "\n",
    "To plot this, we first need to define the function. We will go over this in class, but this is the syntax for definition a function in R and also because it is piecewise the syntax for *if* statements. Note this is the most complicated programming we will do and you can just copy this function and modify it. A couple of notes about using this in R - from the notebook you need to execute this command with the cursor at the very top, working from the middle will only run the middle block of code. The other note is that I want to write the function so that it handles columns the same way the builtin functions we have already met do. That means I need to assume the input is a list of values and it needs to return a list of values."
   ]
  },
  {
   "cell_type": "code",
   "execution_count": 2,
   "metadata": {},
   "outputs": [
    {
     "data": {
      "text/html": [
       "<style>\n",
       ".list-inline {list-style: none; margin:0; padding: 0}\n",
       ".list-inline>li {display: inline-block}\n",
       ".list-inline>li:not(:last-child)::after {content: \"\\00b7\"; padding: 0 .5ex}\n",
       "</style>\n",
       "<ol class=list-inline><li>0</li><li>0.25</li><li>1</li></ol>\n"
      ],
      "text/latex": [
       "\\begin{enumerate*}\n",
       "\\item 0\n",
       "\\item 0.25\n",
       "\\item 1\n",
       "\\end{enumerate*}\n"
      ],
      "text/markdown": [
       "1. 0\n",
       "2. 0.25\n",
       "3. 1\n",
       "\n",
       "\n"
      ],
      "text/plain": [
       "[1] 0.00 0.25 1.00"
      ]
     },
     "metadata": {},
     "output_type": "display_data"
    }
   ],
   "source": [
    "# We need to write functions so they take a column of input values and return a column of output values, \n",
    "# This will make what we do next easier.\n",
    "\n",
    "F <- function(x) {\n",
    "  result <- c()\n",
    "  \n",
    "  for (k in x) {\n",
    "    \n",
    "    # The actual function - note the if statements we need because of the piecewise nature\n",
    "    if (k < 0) {\n",
    "      result <- c(result, 0)\n",
    "    }\n",
    "    else if (k > 1) {\n",
    "      result <- c(result, 1)\n",
    "    }\n",
    "    else {\n",
    "      result <- c(result, k)\n",
    "    }\n",
    "  }\n",
    "  result\n",
    "} \n",
    "\n",
    "# testing that it works\n",
    "F(c(-0.25, 0.25, 3))"
   ]
  },
  {
   "cell_type": "markdown",
   "metadata": {},
   "source": [
    "With that defined we can now plot the function. "
   ]
  },
  {
   "cell_type": "code",
   "execution_count": 3,
   "metadata": {},
   "outputs": [
    {
     "data": {
      "image/png": "[encoded data removed]",
      "text/plain": [
       "plot without title"
      ]
     },
     "metadata": {
      "filenames": {
       "image/png": "/home/virgilpierce/Documents/GitHub/MATH_550/_build/jupyter_execute/05-Continuous_5_0.png"
      },
      "image/png": {
       "height": 420,
       "width": 420
      }
     },
     "output_type": "display_data"
    }
   ],
   "source": [
    "n <- 100\n",
    "x <- c((-2*n):(2*n))/n\n",
    "plot(x, F(x), type = \"l\")"
   ]
  },
  {
   "cell_type": "markdown",
   "metadata": {},
   "source": [
    "This is our cumulative distribution. Without even computing anything we can tell that the support of our density is on the interval $[0, 1]$. Note that we have corners in the CDF so there are two places where the density is not defined - your instincts from Calculus are correct that not having a density at a discrete set of values is not a big deal. You may recall from MATH 534 that there are some particularly nasty functions, but while they are theoretically interesting as CDFs they do not correspond to random variables we see often (if at all).\n",
    "\n",
    "We can compute the probability density function by differentiating this one.  We get a piecewise defined function:\n",
    "\n",
    "$$ f(x) = \\left\\{ \\begin{matrix} 0 & x < 0 \\\\ 1 & 0 \\leq x \\leq 1 \\\\ 0 & x > 1 \\end{matrix} \\right\\} $$\n",
    "\n",
    "This is an example of a uniform continuous distribution. On the support of the variable, the probability that $Y$ is in an interval is proportional to the length of that interval. It is tempting to say that each value of $Y$ is equally likely, however this while being correct is meaningless - for a continuous random variable the probability of any value occuring is zero - hence they are all the same, regardless of what the density is. For continuous random variables we can only talk in terms of (a) the probability density or (b) the probability of the variable occuring in a set.  This distinction is what separates those who have been carefully learning probability and statistics from those who tried to cut some corners or are getting sloppy.\n",
    "\n",
    "### General Unifrom Distributions\n",
    "\n",
    "Find the constant $C$ such that $f(x)$ below is a valid PDF:\n",
    "\n",
    "$$ f(x) = \\left\\{ \\begin{matrix} 0 & x < a \\\\ C & a \\leq x \\leq b \\\\ 0 & x > b \\end{matrix} \\right\\} $$\n",
    "\n",
    "If you translate this question into Physics:  Find $C$ such that the total mass of the object with density $f(x)$ is 1, you will not be surprised by the answer.\n",
    "\n",
    "1. Make a prediction about the Expected Value of the uniform random variable on $[a, b]$.\n",
    "\n",
    "### Simmulating continuous random variables\n",
    "\n",
    "Following our pattern for discrete random variables, I would like to first simmulate this random variable so we can experiment and see what we think the Expected Value and Variance are. However simmulating continuous random variables is somewhat harder than discrete ones. For example with discrete ones we could even simmulate them mechanically by filling a bag with chips with different markings on them.\n",
    "\n",
    "Luckily, R comes with a uniform random variable simmulator already prepared for us. It uses similar technology that that hiding behind our discrete *sample* command we used already. The command is *runif* r is the prefix and unif is the name of the distribution - hence we could simmulate our Poisson variable for example using *rpois*.\n",
    "\n",
    "\n",
    "\n",
    "\n"
   ]
  },
  {
   "cell_type": "code",
   "execution_count": 4,
   "metadata": {},
   "outputs": [
    {
     "data": {
      "text/html": [
       "<style>\n",
       ".list-inline {list-style: none; margin:0; padding: 0}\n",
       ".list-inline>li {display: inline-block}\n",
       ".list-inline>li:not(:last-child)::after {content: \"\\00b7\"; padding: 0 .5ex}\n",
       "</style>\n",
       "<ol class=list-inline><li>0.997181913116947</li><li>0.370294116204605</li><li>0.489848587661982</li><li>0.272655510110781</li><li>0.53787856712006</li><li>0.710522607900202</li><li>0.0488738813437521</li><li>0.131005067145452</li><li>0.533232566667721</li><li>0.166675431188196</li><li>0.100231287768111</li><li>0.362475354922935</li><li>0.838633787818253</li><li>0.23270528181456</li><li>0.4945011313539</li><li>0.908440022496507</li><li>0.805971375899389</li><li>0.76647510449402</li><li>0.340482263360173</li><li>0.889849933795631</li><li>0.647189501440153</li><li>0.683444967027754</li><li>0.213081843685359</li><li>0.385034047299996</li><li>0.481226072181016</li><li>0.176940161269158</li><li>0.466419948032126</li><li>0.171917064348236</li><li>0.981042895233259</li><li>0.850583894876763</li><li>0.51728023798205</li><li>0.748348281253129</li><li>0.883717126213014</li><li>0.114761926000938</li><li>0.589267111616209</li><li>0.989153367700055</li><li>0.467458773870021</li><li>0.154943202622235</li><li>0.562267427332699</li><li>0.0671784388832748</li><li>0.257224313681945</li><li>0.907739710994065</li><li>0.47096057375893</li><li>0.753661112859845</li><li>0.377073359442875</li><li>0.64423325820826</li><li>0.654352323152125</li><li>0.0566498858388513</li><li>0.0248836488462985</li><li>0.461491153342649</li></ol>\n"
      ],
      "text/latex": [
       "\\begin{enumerate*}\n",
       "\\item 0.997181913116947\n",
       "\\item 0.370294116204605\n",
       "\\item 0.489848587661982\n",
       "\\item 0.272655510110781\n",
       "\\item 0.53787856712006\n",
       "\\item 0.710522607900202\n",
       "\\item 0.0488738813437521\n",
       "\\item 0.131005067145452\n",
       "\\item 0.533232566667721\n",
       "\\item 0.166675431188196\n",
       "\\item 0.100231287768111\n",
       "\\item 0.362475354922935\n",
       "\\item 0.838633787818253\n",
       "\\item 0.23270528181456\n",
       "\\item 0.4945011313539\n",
       "\\item 0.908440022496507\n",
       "\\item 0.805971375899389\n",
       "\\item 0.76647510449402\n",
       "\\item 0.340482263360173\n",
       "\\item 0.889849933795631\n",
       "\\item 0.647189501440153\n",
       "\\item 0.683444967027754\n",
       "\\item 0.213081843685359\n",
       "\\item 0.385034047299996\n",
       "\\item 0.481226072181016\n",
       "\\item 0.176940161269158\n",
       "\\item 0.466419948032126\n",
       "\\item 0.171917064348236\n",
       "\\item 0.981042895233259\n",
       "\\item 0.850583894876763\n",
       "\\item 0.51728023798205\n",
       "\\item 0.748348281253129\n",
       "\\item 0.883717126213014\n",
       "\\item 0.114761926000938\n",
       "\\item 0.589267111616209\n",
       "\\item 0.989153367700055\n",
       "\\item 0.467458773870021\n",
       "\\item 0.154943202622235\n",
       "\\item 0.562267427332699\n",
       "\\item 0.0671784388832748\n",
       "\\item 0.257224313681945\n",
       "\\item 0.907739710994065\n",
       "\\item 0.47096057375893\n",
       "\\item 0.753661112859845\n",
       "\\item 0.377073359442875\n",
       "\\item 0.64423325820826\n",
       "\\item 0.654352323152125\n",
       "\\item 0.0566498858388513\n",
       "\\item 0.0248836488462985\n",
       "\\item 0.461491153342649\n",
       "\\end{enumerate*}\n"
      ],
      "text/markdown": [
       "1. 0.997181913116947\n",
       "2. 0.370294116204605\n",
       "3. 0.489848587661982\n",
       "4. 0.272655510110781\n",
       "5. 0.53787856712006\n",
       "6. 0.710522607900202\n",
       "7. 0.0488738813437521\n",
       "8. 0.131005067145452\n",
       "9. 0.533232566667721\n",
       "10. 0.166675431188196\n",
       "11. 0.100231287768111\n",
       "12. 0.362475354922935\n",
       "13. 0.838633787818253\n",
       "14. 0.23270528181456\n",
       "15. 0.4945011313539\n",
       "16. 0.908440022496507\n",
       "17. 0.805971375899389\n",
       "18. 0.76647510449402\n",
       "19. 0.340482263360173\n",
       "20. 0.889849933795631\n",
       "21. 0.647189501440153\n",
       "22. 0.683444967027754\n",
       "23. 0.213081843685359\n",
       "24. 0.385034047299996\n",
       "25. 0.481226072181016\n",
       "26. 0.176940161269158\n",
       "27. 0.466419948032126\n",
       "28. 0.171917064348236\n",
       "29. 0.981042895233259\n",
       "30. 0.850583894876763\n",
       "31. 0.51728023798205\n",
       "32. 0.748348281253129\n",
       "33. 0.883717126213014\n",
       "34. 0.114761926000938\n",
       "35. 0.589267111616209\n",
       "36. 0.989153367700055\n",
       "37. 0.467458773870021\n",
       "38. 0.154943202622235\n",
       "39. 0.562267427332699\n",
       "40. 0.0671784388832748\n",
       "41. 0.257224313681945\n",
       "42. 0.907739710994065\n",
       "43. 0.47096057375893\n",
       "44. 0.753661112859845\n",
       "45. 0.377073359442875\n",
       "46. 0.64423325820826\n",
       "47. 0.654352323152125\n",
       "48. 0.0566498858388513\n",
       "49. 0.0248836488462985\n",
       "50. 0.461491153342649\n",
       "\n",
       "\n"
      ],
      "text/plain": [
       " [1] 0.99718191 0.37029412 0.48984859 0.27265551 0.53787857 0.71052261\n",
       " [7] 0.04887388 0.13100507 0.53323257 0.16667543 0.10023129 0.36247535\n",
       "[13] 0.83863379 0.23270528 0.49450113 0.90844002 0.80597138 0.76647510\n",
       "[19] 0.34048226 0.88984993 0.64718950 0.68344497 0.21308184 0.38503405\n",
       "[25] 0.48122607 0.17694016 0.46641995 0.17191706 0.98104290 0.85058389\n",
       "[31] 0.51728024 0.74834828 0.88371713 0.11476193 0.58926711 0.98915337\n",
       "[37] 0.46745877 0.15494320 0.56226743 0.06717844 0.25722431 0.90773971\n",
       "[43] 0.47096057 0.75366111 0.37707336 0.64423326 0.65435232 0.05664989\n",
       "[49] 0.02488365 0.46149115"
      ]
     },
     "metadata": {},
     "output_type": "display_data"
    }
   ],
   "source": [
    "result <- runif(50, 0, 1)\n",
    "result"
   ]
  },
  {
   "cell_type": "code",
   "execution_count": 5,
   "metadata": {},
   "outputs": [
    {
     "data": {
      "image/png": "[encoded data removed]",
      "text/plain": [
       "Plot with title “Histogram of result”"
      ]
     },
     "metadata": {
      "filenames": {
       "image/png": "/home/virgilpierce/Documents/GitHub/MATH_550/_build/jupyter_execute/05-Continuous_8_0.png"
      },
      "image/png": {
       "height": 420,
       "width": 420
      }
     },
     "output_type": "display_data"
    }
   ],
   "source": [
    "hist(result, 20)"
   ]
  },
  {
   "cell_type": "markdown",
   "metadata": {},
   "source": [
    "and maybe you can see that we might have a problem. Our sample is just that a sample. It is only a loose approximation of the distribution and in fact if all we knew was the sample we might conclude something veyr different about our distribution. Addressing this discrepency or maybe a defeciency is going to be out goal for the next few weeks."
   ]
  },
  {
   "cell_type": "markdown",
   "metadata": {},
   "source": [
    "### Expected Value \n",
    "\n",
    "In any case, we can use our sample to estimate the expected value of the distribution - intuitively, we expect or maybe hope that the mean of the sample is close to the expected value of the distribution. We will show that this precisely what is happening later, but for now let us allow ourselves to be naive."
   ]
  },
  {
   "cell_type": "code",
   "execution_count": 6,
   "metadata": {},
   "outputs": [
    {
     "data": {
      "text/plain": [
       "   Min. 1st Qu.  Median    Mean 3rd Qu.    Max. \n",
       "0.02488 0.23883 0.48554 0.49515 0.73889 0.99718 "
      ]
     },
     "metadata": {},
     "output_type": "display_data"
    }
   ],
   "source": [
    "summary(result)"
   ]
  },
  {
   "cell_type": "markdown",
   "metadata": {},
   "source": [
    "You might try increasing the size of the sample we take and check what happens to our summary statistics.\n",
    "\n",
    "#### Exact Value\n",
    "\n",
    "We can find the exact value similarly to how we did it in the discrete case. Recall that for a discrete random variable $Y$ the expected value is computed exactly but finding the sum (if we can find it):\n",
    "\n",
    "$$ E(Y) = \\sum r P(Y=r) $$\n",
    "\n",
    "In the continuous case with a random variable $Y$ with PDF $f(x)$ we appeal to our intuition from Calculus: \n",
    "\n",
    "$$ E(Y) = \\sum x P(\\mbox{$Y$ is in a small neighborhood near x}) = \\sum x f(x) \\Delta x$$\n",
    "\n",
    "and in the limit as the neighborhood sizes $\\Delta x \\to 0$ we get (again no surprises here if you use your intuition that sums become integrals):\n",
    "\n",
    "$$ E(Y) = \\int x f(x) dx  $$\n",
    "\n",
    "Where the integral is over the support of the random variable. \n",
    "\n",
    "For $Y$ the uniform random variable on the interval $[a, b]$:\n",
    "\n",
    "$$ E(Y) = \\int_a^b x \\frac{1}{b-a} dx = \\frac{1}{2(b-a)} x^2 \\bigg|_a^b = \\frac{b^2 - a^2}{2 (b-a)} = \\frac{b+a}{2} $$\n",
    "\n",
    "Which surprise, surprise is the midpoint of the interval $[a, b]$.\n",
    "\n",
    "### Variance\n",
    "\n",
    "The estimate variance from our sample can be found using *var*:"
   ]
  },
  {
   "cell_type": "code",
   "execution_count": 7,
   "metadata": {},
   "outputs": [
    {
     "data": {
      "text/html": [
       "0.0835666373615481"
      ],
      "text/latex": [
       "0.0835666373615481"
      ],
      "text/markdown": [
       "0.0835666373615481"
      ],
      "text/plain": [
       "[1] 0.08356664"
      ]
     },
     "metadata": {},
     "output_type": "display_data"
    }
   ],
   "source": [
    "var(result)"
   ]
  },
  {
   "cell_type": "markdown",
   "metadata": {},
   "source": [
    "Again this actually just an estimate of the variance of the random variable. You should check what happens as the size of the sample is changed. \n",
    "\n",
    "#### Exact Value\n",
    "\n",
    "Again we can find the exact value using some algebra:  \n",
    "\n",
    "$$ V(Y) = E(Y^2) - \\frac{(b+a)^2}{4} $$\n",
    "\n",
    "and an integral:\n",
    "\n",
    "$$ E(Y^2) = \\int_a^b x^2 \\frac{1}{b-a} dx = \\frac{1}{3(b-a)} x^3 \\bigg|_a^b = \\frac{b^3 - a^3}{3 (b-a)} $$\n",
    "\n",
    "I would just use Wolfram Alpha to simplify this, but you could also factor the cubic using the binomial theorem:\n",
    "\n",
    "$$ E(Y^2) = \\frac{b^2 + ab + a^2}{3} $$\n",
    "\n",
    "(again one reason I like to teach this class to our MA program is all of these exercises from Calculus get used).\n",
    "\n",
    "Then we combine this with the expected value to get:\n",
    "\n",
    "$$ V(Y) = \\frac{b^2 + ab + a^2}{3} - \\frac{b^2 + 2 ab + a^2}{4} = \\frac{b^2 - 2 ab + a^2}{12} = \\frac{(b-a)^2}{12} $$ \n",
    "\n",
    "For the interval $[0, 1]$ we have:"
   ]
  },
  {
   "cell_type": "code",
   "execution_count": 8,
   "metadata": {},
   "outputs": [
    {
     "data": {
      "text/html": [
       "0.0833333333333333"
      ],
      "text/latex": [
       "0.0833333333333333"
      ],
      "text/markdown": [
       "0.0833333333333333"
      ],
      "text/plain": [
       "[1] 0.08333333"
      ]
     },
     "metadata": {},
     "output_type": "display_data"
    }
   ],
   "source": [
    "(1-0)^2 / 12"
   ]
  },
  {
   "cell_type": "markdown",
   "metadata": {},
   "source": [
    "## Normal Distributions\n",
    "\n",
    "The uniform distribution is a nice simple first example. However our next example we will see forms the basis for a large portion fo the results we will work with. The *Normal Distribution* will turn out to be a a universal structure that shows up in many instances.\n",
    "\n",
    "The Probability Density Function for the normal distirbution is the shape classically known as the Bell Curve. It is given by the function:\n",
    "\n",
    "$$ f(x) = \\frac{1}{\\sigma \\sqrt{2\\pi}} e^{-(y - \\mu)^2 / (2 \\sigma^2) } $$\n",
    "\n",
    "Note that the distribution has two free parameters (suggestively written as) $\\mu$ and $\\sigma^2$. \n",
    "\n",
    "A graph of the PDF, using the builtin expression for the function *dnorm*:"
   ]
  },
  {
   "cell_type": "code",
   "execution_count": 9,
   "metadata": {},
   "outputs": [
    {
     "data": {
      "image/png": "[encoded data removed]",
      "text/plain": [
       "plot without title"
      ]
     },
     "metadata": {
      "filenames": {
       "image/png": "/home/virgilpierce/Documents/GitHub/MATH_550/_build/jupyter_execute/05-Continuous_17_0.png"
      },
      "image/png": {
       "height": 420,
       "width": 420
      }
     },
     "output_type": "display_data"
    }
   ],
   "source": [
    "n <- 100\n",
    "mu <- 1\n",
    "sigma <- 0.5\n",
    "x <- c((-4*n):(4*n))/n\n",
    "v <- dnorm(x, mu, sigma)\n",
    "plot(x, v, type='l')"
   ]
  },
  {
   "cell_type": "markdown",
   "metadata": {},
   "source": [
    "Adjust the $\\mu$ and $\\sigma$ in this code block until you have a hypothesis about what the role is that they play in the shape of the distribution.\n",
    "\n",
    "Note that the distribution never actually gives 0, though it does get very close as $x\\to \\pm \\infty$. The support of this random variable is all real numbers.\n",
    "\n",
    "The cummulative distribution function is defined to be:\n",
    "\n",
    "$$ F(x) = \\int_{-\\infty}^x \\frac{1}{\\sigma \\sqrt{2\\pi}} e^{- (t-\\mu)^2 / (2 \\sigma^2) } dt $$\n",
    "\n",
    "Note that while this is an unbounded integral, it is one that will have no problems converging. That said, it is also an integrand for which none of the rules you learned in Calculus 2 work. We are left with numerical approximations, and in our case we can just use the builtin function *pnorm* in R."
   ]
  },
  {
   "cell_type": "code",
   "execution_count": 10,
   "metadata": {},
   "outputs": [
    {
     "data": {
      "image/png": "[encoded data removed]",
      "text/plain": [
       "plot without title"
      ]
     },
     "metadata": {
      "filenames": {
       "image/png": "/home/virgilpierce/Documents/GitHub/MATH_550/_build/jupyter_execute/05-Continuous_19_0.png"
      },
      "image/png": {
       "height": 420,
       "width": 420
      }
     },
     "output_type": "display_data"
    }
   ],
   "source": [
    "n <- 100\n",
    "mu <- 1\n",
    "sigma <- 0.5\n",
    "x <- c((-4*n):(4*n))/n\n",
    "v <- pnorm(x, mu, sigma)\n",
    "plot(x, v, type='l')"
   ]
  },
  {
   "cell_type": "markdown",
   "metadata": {},
   "source": [
    "### Sampling from the Normal Distribution\n",
    "\n",
    "We will spend a large portion of later chapters asking what happens when we sample from a normal distribution, but r provides a builtin function that does it for us, so let's go ahead and use that. Though it is worth pausing here to discuss how one would implement such a thing as it is instructive:\n",
    "\n",
    "- Suppose that we have a good pseudo random number generator that will give us a $Q$ uniformly distributed random variable on the interval $[0, 1]$.  If we generating a $Q = t$ and then take $F^{-1}(t) = x$ (the inverse of the cummulative distribution function, this will then give us an $x$ that we can use a sample from our random variable with cummulative distribution $F(x)$. \n",
    "\n",
    "- Note that because $F(x)$ is non-decreasing it is 1-1 and therefore the inverse function exists. Though we may not have a nice formula for it - for example with the normal distribution we do not have a nice formula for it.\n",
    "\n",
    "- Note that where $F(x)$ is steepest, which corresponds to where $f(x)$ is largest, the inverse function will be less steep. Therefore for a larger region of $Q$ values we will get a smaller region of $Y$ values - and vice versa.\n",
    "\n",
    "Of course it is all moot as we do not have an exact formula for $F(x)$ for the normal distribution and therefore we do not have an exact formula for the inverse of the CDF. What we do have though is a builtin sampling function *rnorm*.  \n",
    "\n",
    "Again note how consistent R is - the *r* prefix means sample from the variable."
   ]
  },
  {
   "cell_type": "code",
   "execution_count": 11,
   "metadata": {},
   "outputs": [
    {
     "data": {
      "text/html": [
       "<style>\n",
       ".list-inline {list-style: none; margin:0; padding: 0}\n",
       ".list-inline>li {display: inline-block}\n",
       ".list-inline>li:not(:last-child)::after {content: \"\\00b7\"; padding: 0 .5ex}\n",
       "</style>\n",
       "<ol class=list-inline><li>1.35200424713533</li><li>1.64596828353931</li><li>1.20766093749041</li><li>0.818900632996575</li><li>1.35326816268469</li><li>1.57419643392965</li><li>0.588782694134782</li><li>0.966871397579636</li><li>1.17652198664267</li><li>1.93739292207903</li><li>1.31314040322241</li><li>0.604643451646075</li><li>0.709746276804023</li><li>0.676418570295253</li><li>0.186857477762897</li><li>1.4817480480304</li><li>0.529435447367449</li><li>1.24564162615835</li><li>1.39938866122731</li><li>0.135490473933379</li><li>0.645353911830768</li><li>0.655662299022496</li><li>1.68816312482925</li><li>1.90810202404253</li><li>0.0441797375200285</li><li>1.31199401487314</li><li>1.21078566251951</li><li>0.246032187554814</li><li>0.911419469282907</li><li>0.514777668773818</li><li>1.2440891722075</li><li>0.406802265243738</li><li>-0.0829807363876307</li><li>0.826314081444692</li><li>1.37286104440955</li><li>1.44026438339958</li><li>1.12736306682134</li><li>1.46034893446984</li><li>0.851386195956973</li><li>1.0997971046</li><li>0.413423587808026</li><li>0.222106767372803</li><li>1.19654276476037</li><li>1.0836496643956</li><li>0.985446951917388</li><li>0.804345175793451</li><li>1.84190172637046</li><li>0.473391123492654</li><li>0.735461746543015</li><li>0.00421001633392881</li></ol>\n"
      ],
      "text/latex": [
       "\\begin{enumerate*}\n",
       "\\item 1.35200424713533\n",
       "\\item 1.64596828353931\n",
       "\\item 1.20766093749041\n",
       "\\item 0.818900632996575\n",
       "\\item 1.35326816268469\n",
       "\\item 1.57419643392965\n",
       "\\item 0.588782694134782\n",
       "\\item 0.966871397579636\n",
       "\\item 1.17652198664267\n",
       "\\item 1.93739292207903\n",
       "\\item 1.31314040322241\n",
       "\\item 0.604643451646075\n",
       "\\item 0.709746276804023\n",
       "\\item 0.676418570295253\n",
       "\\item 0.186857477762897\n",
       "\\item 1.4817480480304\n",
       "\\item 0.529435447367449\n",
       "\\item 1.24564162615835\n",
       "\\item 1.39938866122731\n",
       "\\item 0.135490473933379\n",
       "\\item 0.645353911830768\n",
       "\\item 0.655662299022496\n",
       "\\item 1.68816312482925\n",
       "\\item 1.90810202404253\n",
       "\\item 0.0441797375200285\n",
       "\\item 1.31199401487314\n",
       "\\item 1.21078566251951\n",
       "\\item 0.246032187554814\n",
       "\\item 0.911419469282907\n",
       "\\item 0.514777668773818\n",
       "\\item 1.2440891722075\n",
       "\\item 0.406802265243738\n",
       "\\item -0.0829807363876307\n",
       "\\item 0.826314081444692\n",
       "\\item 1.37286104440955\n",
       "\\item 1.44026438339958\n",
       "\\item 1.12736306682134\n",
       "\\item 1.46034893446984\n",
       "\\item 0.851386195956973\n",
       "\\item 1.0997971046\n",
       "\\item 0.413423587808026\n",
       "\\item 0.222106767372803\n",
       "\\item 1.19654276476037\n",
       "\\item 1.0836496643956\n",
       "\\item 0.985446951917388\n",
       "\\item 0.804345175793451\n",
       "\\item 1.84190172637046\n",
       "\\item 0.473391123492654\n",
       "\\item 0.735461746543015\n",
       "\\item 0.00421001633392881\n",
       "\\end{enumerate*}\n"
      ],
      "text/markdown": [
       "1. 1.35200424713533\n",
       "2. 1.64596828353931\n",
       "3. 1.20766093749041\n",
       "4. 0.818900632996575\n",
       "5. 1.35326816268469\n",
       "6. 1.57419643392965\n",
       "7. 0.588782694134782\n",
       "8. 0.966871397579636\n",
       "9. 1.17652198664267\n",
       "10. 1.93739292207903\n",
       "11. 1.31314040322241\n",
       "12. 0.604643451646075\n",
       "13. 0.709746276804023\n",
       "14. 0.676418570295253\n",
       "15. 0.186857477762897\n",
       "16. 1.4817480480304\n",
       "17. 0.529435447367449\n",
       "18. 1.24564162615835\n",
       "19. 1.39938866122731\n",
       "20. 0.135490473933379\n",
       "21. 0.645353911830768\n",
       "22. 0.655662299022496\n",
       "23. 1.68816312482925\n",
       "24. 1.90810202404253\n",
       "25. 0.0441797375200285\n",
       "26. 1.31199401487314\n",
       "27. 1.21078566251951\n",
       "28. 0.246032187554814\n",
       "29. 0.911419469282907\n",
       "30. 0.514777668773818\n",
       "31. 1.2440891722075\n",
       "32. 0.406802265243738\n",
       "33. -0.0829807363876307\n",
       "34. 0.826314081444692\n",
       "35. 1.37286104440955\n",
       "36. 1.44026438339958\n",
       "37. 1.12736306682134\n",
       "38. 1.46034893446984\n",
       "39. 0.851386195956973\n",
       "40. 1.0997971046\n",
       "41. 0.413423587808026\n",
       "42. 0.222106767372803\n",
       "43. 1.19654276476037\n",
       "44. 1.0836496643956\n",
       "45. 0.985446951917388\n",
       "46. 0.804345175793451\n",
       "47. 1.84190172637046\n",
       "48. 0.473391123492654\n",
       "49. 0.735461746543015\n",
       "50. 0.00421001633392881\n",
       "\n",
       "\n"
      ],
      "text/plain": [
       " [1]  1.352004247  1.645968284  1.207660937  0.818900633  1.353268163\n",
       " [6]  1.574196434  0.588782694  0.966871398  1.176521987  1.937392922\n",
       "[11]  1.313140403  0.604643452  0.709746277  0.676418570  0.186857478\n",
       "[16]  1.481748048  0.529435447  1.245641626  1.399388661  0.135490474\n",
       "[21]  0.645353912  0.655662299  1.688163125  1.908102024  0.044179738\n",
       "[26]  1.311994015  1.210785663  0.246032188  0.911419469  0.514777669\n",
       "[31]  1.244089172  0.406802265 -0.082980736  0.826314081  1.372861044\n",
       "[36]  1.440264383  1.127363067  1.460348934  0.851386196  1.099797105\n",
       "[41]  0.413423588  0.222106767  1.196542765  1.083649664  0.985446952\n",
       "[46]  0.804345176  1.841901726  0.473391123  0.735461747  0.004210016"
      ]
     },
     "metadata": {},
     "output_type": "display_data"
    }
   ],
   "source": [
    "result <- rnorm(50, 1, 0.5)\n",
    "result"
   ]
  },
  {
   "cell_type": "code",
   "execution_count": 12,
   "metadata": {},
   "outputs": [
    {
     "data": {
      "image/png": "[encoded data removed]",
      "text/plain": [
       "Plot with title “Histogram of result”"
      ]
     },
     "metadata": {
      "filenames": {
       "image/png": "/home/virgilpierce/Documents/GitHub/MATH_550/_build/jupyter_execute/05-Continuous_22_0.png"
      },
      "image/png": {
       "height": 420,
       "width": 420
      }
     },
     "output_type": "display_data"
    }
   ],
   "source": [
    "hist(result, 10)"
   ]
  },
  {
   "cell_type": "code",
   "execution_count": 13,
   "metadata": {},
   "outputs": [
    {
     "data": {
      "text/plain": [
       "    Min.  1st Qu.   Median     Mean  3rd Qu.     Max. \n",
       "-0.08298  0.59275  0.97616  0.95095  1.34229  1.93739 "
      ]
     },
     "metadata": {},
     "output_type": "display_data"
    }
   ],
   "source": [
    "summary(result)"
   ]
  },
  {
   "cell_type": "markdown",
   "metadata": {},
   "source": [
    "Take the time to adjust the size of the sample and see what we get."
   ]
  },
  {
   "cell_type": "code",
   "execution_count": null,
   "metadata": {},
   "outputs": [],
   "source": []
  }
 ],
 "metadata": {
  "kernelspec": {
   "display_name": "R",
   "language": "R",
   "name": "ir"
  },
  "language_info": {
   "codemirror_mode": "r",
   "file_extension": ".r",
   "mimetype": "text/x-r-source",
   "name": "R",
   "pygments_lexer": "r",
   "version": "4.0.2"
  }
 },
 "nbformat": 4,
 "nbformat_minor": 4
}