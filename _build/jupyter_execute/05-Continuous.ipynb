{
 "cells": [
  {
   "cell_type": "markdown",
   "metadata": {},
   "source": [
    "# Continuous Random Variables\n",
    "\n",
    "We spent the last two days thinking about discrete probability distributions. Particularly these include random variables that are counting things (what do the binomial, geometric, and Poisson random variables count?).  \n",
    "\n",
    "However you can probably give some examples of numerical random variables which are not discrete.\n",
    "\n",
    "Note the thing that should give us pause, and explains why we have to introduce these random variables in a slightly different way from how we introduced discrete random variables:\n",
    "\n",
    "- For a discrete random variable, it makes sense to ask $P(Y = r)$ for some $r$. I.e. there will be some $r$ such that this number is non-zero. In fact we took this as our starting point for all of the discrete random distributions we have talked about.\n",
    "\n",
    "- For a continuous random variable:  $P(Y=x)$ has us a little bit nervous. If $Y$ is truly continuous then near $x$ there are infinitely many (uncountably infinitely many) values that are also possible. They can't all have a non-zero value without us having trouble adding them all up, and at the same time if only a discrete set of them are non-zero so that we can add them up then what we have is a discrete variable. In other words, we have a bit of a paradox. Luckily Calculus, as it usually does, gives us the language to talk about continuous things as generalizations of discrete things. \n",
    "\n",
    "\n",
    "First we need to make our definition precise: How will we recognize a continuous random variable?  (if you were in my class last summer you might recall our *sandwich* activity). \n",
    "\n",
    "One picture that should have you thinking from earlier this week is the graphs we made of the *Cumulative Distribution Function* for our random variables, here is the one for the binomials random variable:"
   ]
  },
  {
   "cell_type": "code",
   "execution_count": 1,
   "metadata": {},
   "outputs": [
    {
     "data": {
      "image/png": "[encoded data removed]",
      "text/plain": [
       "plot without title"
      ]
     },
     "metadata": {
      "filenames": {
       "image/png": "/home/virgilpierce/Documents/GitHub/MATH_550/_build/jupyter_execute/05-Continuous_1_0.png"
      },
      "image/png": {
       "height": 420,
       "width": 420
      }
     },
     "output_type": "display_data"
    }
   ],
   "source": [
    "n <- 10\n",
    "p <- 0.38\n",
    "r <- c(-1:(50*n))/50\n",
    "plot(r, pbinom(r, n, p), type=\"l\")"
   ]
  },
  {
   "cell_type": "markdown",
   "metadata": {},
   "source": [
    "onsider instead what this graph will need to look like for a random variable that can take any value rather than just the integer values?  \n",
    "\n",
    "Recall the properties of our CDF $F(x) = P(Y \\leq x)$:\n",
    "\n",
    "- $\\lim_{x\\to -\\infty} F(x) = 0$\n",
    "- $0 \\leq F(x) \\leq 1$ for all x.\n",
    "- $F(x)$ is a non decreasing function of $x$:  given $x_1 < x_2$ then $F(x_1) < F(x_2)$. \n",
    "- $\\lim_{x\\to \\infty} F(x) = 1$\n",
    "\n",
    "A *Continuous Random Variable* is one for which the cumulative distribution function: $F(x) = P(Y \\leq x)$ is a continuous function. \n",
    "\n",
    "Note that we can't say a discrete random variable is one where the CDF is not-continuous as it could have continuous and non-continuous parts. There is a whole theory of decomposing a general random variable into discrete and continuous components that is beyond what we want to do for this class. \n",
    "\n",
    "The next thing to note is that for our discrete random variables, the jump for the steps in the CDF is the probability distribution for that value.\n",
    "\n",
    "For a continuous random variable then, the probability that the variable achieves any specific value must be 0 because otherwise $P(Y = x) $ would be the size of a jump discontinuity in the CDF.\n",
    "\n",
    "\n",
    "## Probability Density Function\n",
    "\n",
    "So we don't have a distribution in the sense that we do for discrete random variables, however note that for continuous functions the idea which captures how much the function is increasing (the size of the steps) is given by the derivative. This leads to:\n",
    "\n",
    "The *Probability Density Function* of a continuous random variable with CDF $F(x) = P(Y \\leq x)$ is given by:\n",
    "$$ f(x) = \\frac{d}{dx} F(x) $$\n",
    "where the derivative exists. \n",
    "\n",
    "Note a few consequences:\n",
    "\n",
    "- $ f(x) \\geq 0 $\n",
    "- $ \\int_{-\\infty}^\\infty f(x) dx = 1$\n",
    "\n",
    "### Why is this called the density function?  \n",
    "\n",
    "Let's assume that $f(x)$ exists everywhere. Then the Fundamental Theorem of Calculus implies that:\n",
    "\n",
    "$$ F(x) = P(Y \\leq x) = \\int_{-\\infty}^x f(t) dt $$\n",
    "\n",
    "Suppose we wanted to know $P(a \\leq Y \\leq b)$?  On the one hand we compute this from the CDF:\n",
    "\n",
    "$$ P( a \\leq Y \\leq b) = F(b) - F(a) $$\n",
    "\n",
    "However we can rewrite this in terms of the PDF using the algebra of integrals: \n",
    "\n",
    "$$ P(a \\leq Y \\leq b) = \\int_a^b f(x) dx $$\n",
    "\n",
    "I.e. the area under $f(x)$ over a region of $x$-space gives the probability that $Y$ lies in that region. Note some consequences:\n",
    "\n",
    "- This is another way of thinking about why $P(Y = x) = 0 $:  It corresponds to an integral over a single point. \n",
    "\n",
    "I think of this as density in the same sense as we would use in Physics if the density is a proportion of the whole (i.e. we choose units so the total mass is 1). The integral of the density function for an object gives the mass of that object, center of mass and mean are the same thing, and the variance we are using corresponds to moments - describing how much the mass of an object is spread from its center.\n",
    "\n",
    "## Uniform Distribution\n",
    "\n",
    "For our first example consider the cumulative distribution function:\n",
    "\n",
    "$$ F(x) = \\left\\{ \\begin{matrix} 0 & x < 0 \\\\ x & 0 \\leq x \\leq 1 \\\\ 1 & x > 1 \\end{matrix}    \\right\\} $$\n",
    "\n",
    "To plot this, we first need to define the function. We will go over this in class, but this is the syntax for definition a function in R and also because it is piecewise the syntax for *if* statements. Note this is the most complicated programming we will do and you can just copy this function and modify it. A couple of notes about using this in R - from the notebook you need to execute this command with the cursor at the very top, working from the middle will only run the middle block of code. The other note is that I want to write the function so that it handles columns the same way the builtin functions we have already met do. That means I need to assume the input is a list of values and it needs to return a list of values."
   ]
  },
  {
   "cell_type": "code",
   "execution_count": 2,
   "metadata": {},
   "outputs": [
    {
     "data": {
      "text/html": [
       "<style>\n",
       ".list-inline {list-style: none; margin:0; padding: 0}\n",
       ".list-inline>li {display: inline-block}\n",
       ".list-inline>li:not(:last-child)::after {content: \"\\00b7\"; padding: 0 .5ex}\n",
       "</style>\n",
       "<ol class=list-inline><li>0</li><li>0.25</li><li>1</li></ol>\n"
      ],
      "text/latex": [
       "\\begin{enumerate*}\n",
       "\\item 0\n",
       "\\item 0.25\n",
       "\\item 1\n",
       "\\end{enumerate*}\n"
      ],
      "text/markdown": [
       "1. 0\n",
       "2. 0.25\n",
       "3. 1\n",
       "\n",
       "\n"
      ],
      "text/plain": [
       "[1] 0.00 0.25 1.00"
      ]
     },
     "metadata": {},
     "output_type": "display_data"
    }
   ],
   "source": [
    "# We need to write functions so they take a column of input values and return a column of output values, \n",
    "# This will make what we do next easier.\n",
    "\n",
    "F <- function(x) {\n",
    "  result <- c()\n",
    "  \n",
    "  for (k in x) {\n",
    "    \n",
    "    # The actual function - note the if statements we need because of the piecewise nature\n",
    "    if (k < 0) {\n",
    "      result <- c(result, 0)\n",
    "    }\n",
    "    else if (k > 1) {\n",
    "      result <- c(result, 1)\n",
    "    }\n",
    "    else {\n",
    "      result <- c(result, k)\n",
    "    }\n",
    "  }\n",
    "  result\n",
    "} \n",
    "\n",
    "# testing that it works\n",
    "F(c(-0.25, 0.25, 3))"
   ]
  },
  {
   "cell_type": "markdown",
   "metadata": {},
   "source": [
    "With that defined we can now plot the function. "
   ]
  },
  {
   "cell_type": "code",
   "execution_count": 3,
   "metadata": {},
   "outputs": [
    {
     "data": {
      "image/png": "[encoded data removed]",
      "text/plain": [
       "plot without title"
      ]
     },
     "metadata": {
      "filenames": {
       "image/png": "/home/virgilpierce/Documents/GitHub/MATH_550/_build/jupyter_execute/05-Continuous_5_0.png"
      },
      "image/png": {
       "height": 420,
       "width": 420
      }
     },
     "output_type": "display_data"
    }
   ],
   "source": [
    "n <- 100\n",
    "x <- c((-2*n):(2*n))/n\n",
    "plot(x, F(x), type = \"l\")"
   ]
  },
  {
   "cell_type": "markdown",
   "metadata": {},
   "source": [
    "This is our cumulative distribution. Without even computing anything we can tell that the support of our density is on the interval $[0, 1]$. Note that we have corners in the CDF so there are two places where the density is not defined - your instincts from Calculus are correct that not having a density at a discrete set of values is not a big deal. You may recall from MATH 534 that there are some particularly nasty functions, but while they are theoretically interesting as CDFs they do not correspond to random variables we see often (if at all).\n",
    "\n",
    "We can compute the probability density function by differentiating this one.  We get a piecewise defined function:\n",
    "\n",
    "$$ f(x) = \\left\\{ \\begin{matrix} 0 & x < 0 \\\\ 1 & 0 \\leq x \\leq 1 \\\\ 0 & x > 1 \\end{matrix} \\right\\} $$\n",
    "\n",
    "This is an example of a uniform continuous distribution. On the support of the variable, the probability that $Y$ is in an interval is proportional to the length of that interval. It is tempting to say that each value of $Y$ is equally likely, however this while being correct is meaningless - for a continuous random variable the probability of any value occuring is zero - hence they are all the same, regardless of what the density is. For continuous random variables we can only talk in terms of (a) the probability density or (b) the probability of the variable occuring in a set.  This distinction is what separates those who have been carefully learning probability and statistics from those who tried to cut some corners or are getting sloppy.\n",
    "\n",
    "### General Unifrom Distributions\n",
    "\n",
    "Find the constant $C$ such that $f(x)$ below is a valid PDF:\n",
    "\n",
    "$$ f(x) = \\left\\{ \\begin{matrix} 0 & x < a \\\\ C & a \\leq x \\leq b \\\\ 0 & x > b \\end{matrix} \\right\\} $$\n",
    "\n",
    "If you translate this question into Physics:  Find $C$ such that the total mass of the object with density $f(x)$ is 1, you will not be surprised by the answer.\n",
    "\n",
    "1. Make a prediction about the Expected Value of the uniform random variable on $[a, b]$.\n",
    "\n",
    "### Simmulating continuous random variables\n",
    "\n",
    "Following our pattern for discrete random variables, I would like to first simmulate this random variable so we can experiment and see what we think the Expected Value and Variance are. However simmulating continuous random variables is somewhat harder than discrete ones. For example with discrete ones we could even simmulate them mechanically by filling a bag with chips with different markings on them.\n",
    "\n",
    "Luckily, R comes with a uniform random variable simmulator already prepared for us. It uses similar technology that that hiding behind our discrete *sample* command we used already. The command is *runif* r is the prefix and unif is the name of the distribution - hence we could simmulate our Poisson variable for example using *rpois*.\n",
    "\n",
    "\n",
    "\n",
    "\n"
   ]
  },
  {
   "cell_type": "code",
   "execution_count": 4,
   "metadata": {},
   "outputs": [
    {
     "data": {
      "text/html": [
       "<style>\n",
       ".list-inline {list-style: none; margin:0; padding: 0}\n",
       ".list-inline>li {display: inline-block}\n",
       ".list-inline>li:not(:last-child)::after {content: \"\\00b7\"; padding: 0 .5ex}\n",
       "</style>\n",
       "<ol class=list-inline><li>0.667778318980709</li><li>0.889914220198989</li><li>0.981643035309389</li><li>0.391937174834311</li><li>0.300972538068891</li><li>0.882146580843255</li><li>0.0870728858280927</li><li>0.441220494918525</li><li>0.921803984092548</li><li>0.279398754937574</li><li>0.546115692704916</li><li>0.553010371280834</li><li>0.444159492384642</li><li>0.34434882667847</li><li>0.150170294335112</li><li>0.621352873044088</li><li>0.400927466340363</li><li>0.837567364098504</li><li>0.331254042685032</li><li>0.818762107286602</li><li>0.00203811284154654</li><li>0.163579700514674</li><li>0.2898626672104</li><li>0.999377926345915</li><li>0.723002124112099</li><li>0.642416715389118</li><li>0.54450198286213</li><li>0.40027702995576</li><li>0.0971390155609697</li><li>0.919633586658165</li><li>0.315214721951634</li><li>0.499596984125674</li><li>0.561971230199561</li><li>0.113335107685998</li><li>0.118468005675822</li><li>0.873164856340736</li><li>0.373947276966646</li><li>0.999089545104653</li><li>0.45769581082277</li><li>0.878049448365346</li><li>0.505226510111243</li><li>0.60952032264322</li><li>0.173567324178293</li><li>0.444229860091582</li><li>0.403246951289475</li><li>0.853384289890528</li><li>0.264426134293899</li><li>0.925710826879367</li><li>0.72109961649403</li><li>0.805251311976463</li></ol>\n"
      ],
      "text/latex": [
       "\\begin{enumerate*}\n",
       "\\item 0.667778318980709\n",
       "\\item 0.889914220198989\n",
       "\\item 0.981643035309389\n",
       "\\item 0.391937174834311\n",
       "\\item 0.300972538068891\n",
       "\\item 0.882146580843255\n",
       "\\item 0.0870728858280927\n",
       "\\item 0.441220494918525\n",
       "\\item 0.921803984092548\n",
       "\\item 0.279398754937574\n",
       "\\item 0.546115692704916\n",
       "\\item 0.553010371280834\n",
       "\\item 0.444159492384642\n",
       "\\item 0.34434882667847\n",
       "\\item 0.150170294335112\n",
       "\\item 0.621352873044088\n",
       "\\item 0.400927466340363\n",
       "\\item 0.837567364098504\n",
       "\\item 0.331254042685032\n",
       "\\item 0.818762107286602\n",
       "\\item 0.00203811284154654\n",
       "\\item 0.163579700514674\n",
       "\\item 0.2898626672104\n",
       "\\item 0.999377926345915\n",
       "\\item 0.723002124112099\n",
       "\\item 0.642416715389118\n",
       "\\item 0.54450198286213\n",
       "\\item 0.40027702995576\n",
       "\\item 0.0971390155609697\n",
       "\\item 0.919633586658165\n",
       "\\item 0.315214721951634\n",
       "\\item 0.499596984125674\n",
       "\\item 0.561971230199561\n",
       "\\item 0.113335107685998\n",
       "\\item 0.118468005675822\n",
       "\\item 0.873164856340736\n",
       "\\item 0.373947276966646\n",
       "\\item 0.999089545104653\n",
       "\\item 0.45769581082277\n",
       "\\item 0.878049448365346\n",
       "\\item 0.505226510111243\n",
       "\\item 0.60952032264322\n",
       "\\item 0.173567324178293\n",
       "\\item 0.444229860091582\n",
       "\\item 0.403246951289475\n",
       "\\item 0.853384289890528\n",
       "\\item 0.264426134293899\n",
       "\\item 0.925710826879367\n",
       "\\item 0.72109961649403\n",
       "\\item 0.805251311976463\n",
       "\\end{enumerate*}\n"
      ],
      "text/markdown": [
       "1. 0.667778318980709\n",
       "2. 0.889914220198989\n",
       "3. 0.981643035309389\n",
       "4. 0.391937174834311\n",
       "5. 0.300972538068891\n",
       "6. 0.882146580843255\n",
       "7. 0.0870728858280927\n",
       "8. 0.441220494918525\n",
       "9. 0.921803984092548\n",
       "10. 0.279398754937574\n",
       "11. 0.546115692704916\n",
       "12. 0.553010371280834\n",
       "13. 0.444159492384642\n",
       "14. 0.34434882667847\n",
       "15. 0.150170294335112\n",
       "16. 0.621352873044088\n",
       "17. 0.400927466340363\n",
       "18. 0.837567364098504\n",
       "19. 0.331254042685032\n",
       "20. 0.818762107286602\n",
       "21. 0.00203811284154654\n",
       "22. 0.163579700514674\n",
       "23. 0.2898626672104\n",
       "24. 0.999377926345915\n",
       "25. 0.723002124112099\n",
       "26. 0.642416715389118\n",
       "27. 0.54450198286213\n",
       "28. 0.40027702995576\n",
       "29. 0.0971390155609697\n",
       "30. 0.919633586658165\n",
       "31. 0.315214721951634\n",
       "32. 0.499596984125674\n",
       "33. 0.561971230199561\n",
       "34. 0.113335107685998\n",
       "35. 0.118468005675822\n",
       "36. 0.873164856340736\n",
       "37. 0.373947276966646\n",
       "38. 0.999089545104653\n",
       "39. 0.45769581082277\n",
       "40. 0.878049448365346\n",
       "41. 0.505226510111243\n",
       "42. 0.60952032264322\n",
       "43. 0.173567324178293\n",
       "44. 0.444229860091582\n",
       "45. 0.403246951289475\n",
       "46. 0.853384289890528\n",
       "47. 0.264426134293899\n",
       "48. 0.925710826879367\n",
       "49. 0.72109961649403\n",
       "50. 0.805251311976463\n",
       "\n",
       "\n"
      ],
      "text/plain": [
       " [1] 0.667778319 0.889914220 0.981643035 0.391937175 0.300972538 0.882146581\n",
       " [7] 0.087072886 0.441220495 0.921803984 0.279398755 0.546115693 0.553010371\n",
       "[13] 0.444159492 0.344348827 0.150170294 0.621352873 0.400927466 0.837567364\n",
       "[19] 0.331254043 0.818762107 0.002038113 0.163579701 0.289862667 0.999377926\n",
       "[25] 0.723002124 0.642416715 0.544501983 0.400277030 0.097139016 0.919633587\n",
       "[31] 0.315214722 0.499596984 0.561971230 0.113335108 0.118468006 0.873164856\n",
       "[37] 0.373947277 0.999089545 0.457695811 0.878049448 0.505226510 0.609520323\n",
       "[43] 0.173567324 0.444229860 0.403246951 0.853384290 0.264426134 0.925710827\n",
       "[49] 0.721099616 0.805251312"
      ]
     },
     "metadata": {},
     "output_type": "display_data"
    }
   ],
   "source": [
    "result <- runif(50, 0, 1)\n",
    "result"
   ]
  },
  {
   "cell_type": "code",
   "execution_count": 5,
   "metadata": {},
   "outputs": [
    {
     "data": {
      "image/png": "[encoded data removed]",
      "text/plain": [
       "Plot with title “Histogram of result”"
      ]
     },
     "metadata": {
      "filenames": {
       "image/png": "/home/virgilpierce/Documents/GitHub/MATH_550/_build/jupyter_execute/05-Continuous_8_0.png"
      },
      "image/png": {
       "height": 420,
       "width": 420
      }
     },
     "output_type": "display_data"
    }
   ],
   "source": [
    "hist(result, 20)"
   ]
  },
  {
   "cell_type": "markdown",
   "metadata": {},
   "source": [
    "and maybe you can see that we might have a problem. Our sample is just that a sample. It is only a loose approximation of the distribution and in fact if all we knew was the sample we might conclude something veyr different about our distribution. Addressing this discrepency or maybe a defeciency is going to be out goal for the next few weeks."
   ]
  },
  {
   "cell_type": "markdown",
   "metadata": {},
   "source": [
    "### Expected Value \n",
    "\n",
    "In any case, we can use our sample to estimate the expected value of the distribution - intuitively, we expect or maybe hope that the mean of the sample is close to the expected value of the distribution. We will show that this precisely what is happening later, but for now let us allow ourselves to be naive."
   ]
  },
  {
   "cell_type": "code",
   "execution_count": 6,
   "metadata": {},
   "outputs": [
    {
     "data": {
      "text/plain": [
       "    Min.  1st Qu.   Median     Mean  3rd Qu.     Max. \n",
       "0.002038 0.319225 0.502412 0.531392 0.815384 0.999378 "
      ]
     },
     "metadata": {},
     "output_type": "display_data"
    }
   ],
   "source": [
    "summary(result)"
   ]
  },
  {
   "cell_type": "markdown",
   "metadata": {},
   "source": [
    "You might try increasing the size of the sample we take and check what happens to our summary statistics.\n",
    "\n",
    "#### Exact Value\n",
    "\n",
    "We can find the exact value similarly to how we did it in the discrete case. Recall that for a discrete random variable $Y$ the expected value is computed exactly but finding the sum (if we can find it):\n",
    "\n",
    "$$ E(Y) = \\sum r P(Y=r) $$\n",
    "\n",
    "In the continuous case with a random variable $Y$ with PDF $f(x)$ we appeal to our intuition from Calculus: \n",
    "\n",
    "$$ E(Y) = \\sum x P(\\mbox{$Y$ is in a small neighborhood near x}) = \\sum x f(x) \\Delta x$$\n",
    "\n",
    "and in the limit as the neighborhood sizes $\\Delta x \\to 0$ we get (again no surprises here if you use your intuition that sums become integrals):\n",
    "\n",
    "$$ E(Y) = \\int x f(x) dx  $$\n",
    "\n",
    "Where the integral is over the support of the random variable. \n",
    "\n",
    "For $Y$ the uniform random variable on the interval $[a, b]$:\n",
    "\n",
    "$$ E(Y) = \\int_a^b x \\frac{1}{b-a} dx = \\frac{1}{2(b-a)} x^2 \\bigg|_a^b = \\frac{b^2 - a^2}{2 (b-a)} = \\frac{b+a}{2} $$\n",
    "\n",
    "Which surprise, surprise is the midpoint of the interval $[a, b]$.\n",
    "\n",
    "### Variance\n",
    "\n",
    "The estimate variance from our sample can be found using *var*:"
   ]
  },
  {
   "cell_type": "code",
   "execution_count": 7,
   "metadata": {},
   "outputs": [
    {
     "data": {
      "text/html": [
       "0.0811375137028415"
      ],
      "text/latex": [
       "0.0811375137028415"
      ],
      "text/markdown": [
       "0.0811375137028415"
      ],
      "text/plain": [
       "[1] 0.08113751"
      ]
     },
     "metadata": {},
     "output_type": "display_data"
    }
   ],
   "source": [
    "var(result)"
   ]
  },
  {
   "cell_type": "markdown",
   "metadata": {},
   "source": [
    "Again this actually just an estimate of the variance of the random variable. You should check what happens as the size of the sample is changed. \n",
    "\n",
    "#### Exact Value\n",
    "\n",
    "Again we can find the exact value using some algebra:  \n",
    "\n",
    "$$ V(Y) = E(Y^2) - \\frac{(b+a)^2}{4} $$\n",
    "\n",
    "and an integral:\n",
    "\n",
    "$$ E(Y^2) = \\int_a^b x^2 \\frac{1}{b-a} dx = \\frac{1}{3(b-a)} x^3 \\bigg|_a^b = \\frac{b^3 - a^3}{3 (b-a)} $$\n",
    "\n",
    "I would just use Wolfram Alpha to simplify this, but you could also factor the cubic using the binomial theorem:\n",
    "\n",
    "$$ E(Y^2) = \\frac{b^2 + ab + a^2}{3} $$\n",
    "\n",
    "(again one reason I like to teach this class to our MA program is all of these exercises from Calculus get used).\n",
    "\n",
    "Then we combine this with the expected value to get:\n",
    "\n",
    "$$ V(Y) = \\frac{b^2 + ab + a^2}{3} - \\frac{b^2 + 2 ab + a^2}{4} = \\frac{b^2 - 2 ab + a^2}{12} = \\frac{(b-a)^2}{12} $$ \n",
    "\n",
    "For the interval $[0, 1]$ we have:"
   ]
  },
  {
   "cell_type": "code",
   "execution_count": 8,
   "metadata": {},
   "outputs": [
    {
     "data": {
      "text/html": [
       "0.0833333333333333"
      ],
      "text/latex": [
       "0.0833333333333333"
      ],
      "text/markdown": [
       "0.0833333333333333"
      ],
      "text/plain": [
       "[1] 0.08333333"
      ]
     },
     "metadata": {},
     "output_type": "display_data"
    }
   ],
   "source": [
    "(1-0)^2 / 12"
   ]
  },
  {
   "cell_type": "markdown",
   "metadata": {},
   "source": [
    "## Normal Distributions\n",
    "\n",
    "The uniform distribution is a nice simple first example. However our next example we will see forms the basis for a large portion fo the results we will work with. The *Normal Distribution* will turn out to be a a universal structure that shows up in many instances.\n",
    "\n",
    "The Probability Density Function for the normal distirbution is the shape classically known as the Bell Curve. It is given by the function:\n",
    "\n",
    "$$ f(x) = \\frac{1}{\\sigma \\sqrt{2\\pi}} e^{-(y - \\mu)^2 / (2 \\sigma^2) } $$\n",
    "\n",
    "Note that the distribution has two free parameters (suggestively written as) $\\mu$ and $\\sigma^2$. \n",
    "\n",
    "A graph of the PDF, using the builtin expression for the function *dnorm*:"
   ]
  },
  {
   "cell_type": "code",
   "execution_count": 9,
   "metadata": {},
   "outputs": [
    {
     "data": {
      "image/png": "[encoded data removed]",
      "text/plain": [
       "plot without title"
      ]
     },
     "metadata": {
      "filenames": {
       "image/png": "/home/virgilpierce/Documents/GitHub/MATH_550/_build/jupyter_execute/05-Continuous_17_0.png"
      },
      "image/png": {
       "height": 420,
       "width": 420
      }
     },
     "output_type": "display_data"
    }
   ],
   "source": [
    "n <- 100\n",
    "mu <- 1\n",
    "sigma <- 0.5\n",
    "x <- c((-4*n):(4*n))/n\n",
    "v <- dnorm(x, mu, sigma)\n",
    "plot(x, v, type='l')"
   ]
  },
  {
   "cell_type": "markdown",
   "metadata": {},
   "source": [
    "Adjust the $\\mu$ and $\\sigma$ in this code block until you have a hypothesis about what the role is that they play in the shape of the distribution.\n",
    "\n",
    "Note that the distribution never actually gives 0, though it does get very close as $x\\to \\pm \\infty$. The support of this random variable is all real numbers.\n",
    "\n",
    "The cummulative distribution function is defined to be:\n",
    "\n",
    "$$ F(x) = \\int_{-\\infty}^x \\frac{1}{\\sigma \\sqrt{2\\pi}} e^{- (t-\\mu)^2 / (2 \\sigma^2) } dt $$\n",
    "\n",
    "Note that while this is an unbounded integral, it is one that will have no problems converging. That said, it is also an integrand for which none of the rules you learned in Calculus 2 work. We are left with numerical approximations, and in our case we can just use the builtin function *pnorm* in R."
   ]
  },
  {
   "cell_type": "code",
   "execution_count": 10,
   "metadata": {},
   "outputs": [
    {
     "data": {
      "image/png": "[encoded data removed]",
      "text/plain": [
       "plot without title"
      ]
     },
     "metadata": {
      "filenames": {
       "image/png": "/home/virgilpierce/Documents/GitHub/MATH_550/_build/jupyter_execute/05-Continuous_19_0.png"
      },
      "image/png": {
       "height": 420,
       "width": 420
      }
     },
     "output_type": "display_data"
    }
   ],
   "source": [
    "n <- 100\n",
    "mu <- 1\n",
    "sigma <- 0.5\n",
    "x <- c((-4*n):(4*n))/n\n",
    "v <- pnorm(x, mu, sigma)\n",
    "plot(x, v, type='l')"
   ]
  },
  {
   "cell_type": "markdown",
   "metadata": {},
   "source": [
    "### Sampling from the Normal Distribution\n",
    "\n",
    "We will spend a large portion of later chapters asking what happens when we sample from a normal distribution, but r provides a builtin function that does it for us, so let's go ahead and use that. Though it is worth pausing here to discuss how one would implement such a thing as it is instructive:\n",
    "\n",
    "- Suppose that we have a good pseudo random number generator that will give us a $Q$ uniformly distributed random variable on the interval $[0, 1]$.  If we generating a $Q = t$ and then take $F^{-1}(t) = x$ (the inverse of the cummulative distribution function, this will then give us an $x$ that we can use a sample from our random variable with cummulative distribution $F(x)$. \n",
    "\n",
    "- Note that because $F(x)$ is non-decreasing it is 1-1 and therefore the inverse function exists. Though we may not have a nice formula for it - for example with the normal distribution we do not have a nice formula for it.\n",
    "\n",
    "- Note that where $F(x)$ is steepest, which corresponds to where $f(x)$ is largest, the inverse function will be less steep. Therefore for a larger region of $Q$ values we will get a smaller region of $Y$ values - and vice versa.\n",
    "\n",
    "Of course it is all moot as we do not have an exact formula for $F(x)$ for the normal distribution and therefore we do not have an exact formula for the inverse of the CDF. What we do have though is a builtin sampling function *rnorm*.  \n",
    "\n",
    "Again note how consistent R is - the *r* prefix means sample from the variable."
   ]
  },
  {
   "cell_type": "code",
   "execution_count": 11,
   "metadata": {},
   "outputs": [
    {
     "data": {
      "text/html": [
       "<style>\n",
       ".list-inline {list-style: none; margin:0; padding: 0}\n",
       ".list-inline>li {display: inline-block}\n",
       ".list-inline>li:not(:last-child)::after {content: \"\\00b7\"; padding: 0 .5ex}\n",
       "</style>\n",
       "<ol class=list-inline><li>0.708215852435649</li><li>0.819030883356446</li><li>0.959158537334707</li><li>1.2466344640193</li><li>0.952323594206732</li><li>1.02851495857435</li><li>1.15237431377462</li><li>1.01474155376611</li><li>0.702861171753973</li><li>1.21730195392567</li><li>-0.0542064880039312</li><li>1.16544840419351</li><li>1.09122473899765</li><li>0.842457084996945</li><li>1.2685984275337</li><li>0.899432286711772</li><li>1.00837387582597</li><li>0.899994652192197</li><li>1.0897082254868</li><li>0.558324323641317</li><li>2.22048295484001</li><li>1.0500358707625</li><li>0.783988898941797</li><li>1.1241550081927</li><li>0.669378603328938</li><li>1.05535991305281</li><li>0.806594349091717</li><li>1.10124380014101</li><li>1.78299390601441</li><li>0.178804881997948</li><li>0.263081077203433</li><li>0.90230889284341</li><li>0.741898390821838</li><li>0.365213234051181</li><li>1.34757107192365</li><li>0.870468132280703</li><li>0.911309179454063</li><li>1.22545846633511</li><li>1.5591674664777</li><li>0.711854746212935</li><li>1.23064867316112</li><li>0.999696691116852</li><li>0.343744903613192</li><li>0.737840108505115</li><li>1.4972548485612</li><li>1.15563627194504</li><li>0.551792874681491</li><li>1.33367360366425</li><li>1.37187602989826</li><li>0.205757077233461</li></ol>\n"
      ],
      "text/latex": [
       "\\begin{enumerate*}\n",
       "\\item 0.708215852435649\n",
       "\\item 0.819030883356446\n",
       "\\item 0.959158537334707\n",
       "\\item 1.2466344640193\n",
       "\\item 0.952323594206732\n",
       "\\item 1.02851495857435\n",
       "\\item 1.15237431377462\n",
       "\\item 1.01474155376611\n",
       "\\item 0.702861171753973\n",
       "\\item 1.21730195392567\n",
       "\\item -0.0542064880039312\n",
       "\\item 1.16544840419351\n",
       "\\item 1.09122473899765\n",
       "\\item 0.842457084996945\n",
       "\\item 1.2685984275337\n",
       "\\item 0.899432286711772\n",
       "\\item 1.00837387582597\n",
       "\\item 0.899994652192197\n",
       "\\item 1.0897082254868\n",
       "\\item 0.558324323641317\n",
       "\\item 2.22048295484001\n",
       "\\item 1.0500358707625\n",
       "\\item 0.783988898941797\n",
       "\\item 1.1241550081927\n",
       "\\item 0.669378603328938\n",
       "\\item 1.05535991305281\n",
       "\\item 0.806594349091717\n",
       "\\item 1.10124380014101\n",
       "\\item 1.78299390601441\n",
       "\\item 0.178804881997948\n",
       "\\item 0.263081077203433\n",
       "\\item 0.90230889284341\n",
       "\\item 0.741898390821838\n",
       "\\item 0.365213234051181\n",
       "\\item 1.34757107192365\n",
       "\\item 0.870468132280703\n",
       "\\item 0.911309179454063\n",
       "\\item 1.22545846633511\n",
       "\\item 1.5591674664777\n",
       "\\item 0.711854746212935\n",
       "\\item 1.23064867316112\n",
       "\\item 0.999696691116852\n",
       "\\item 0.343744903613192\n",
       "\\item 0.737840108505115\n",
       "\\item 1.4972548485612\n",
       "\\item 1.15563627194504\n",
       "\\item 0.551792874681491\n",
       "\\item 1.33367360366425\n",
       "\\item 1.37187602989826\n",
       "\\item 0.205757077233461\n",
       "\\end{enumerate*}\n"
      ],
      "text/markdown": [
       "1. 0.708215852435649\n",
       "2. 0.819030883356446\n",
       "3. 0.959158537334707\n",
       "4. 1.2466344640193\n",
       "5. 0.952323594206732\n",
       "6. 1.02851495857435\n",
       "7. 1.15237431377462\n",
       "8. 1.01474155376611\n",
       "9. 0.702861171753973\n",
       "10. 1.21730195392567\n",
       "11. -0.0542064880039312\n",
       "12. 1.16544840419351\n",
       "13. 1.09122473899765\n",
       "14. 0.842457084996945\n",
       "15. 1.2685984275337\n",
       "16. 0.899432286711772\n",
       "17. 1.00837387582597\n",
       "18. 0.899994652192197\n",
       "19. 1.0897082254868\n",
       "20. 0.558324323641317\n",
       "21. 2.22048295484001\n",
       "22. 1.0500358707625\n",
       "23. 0.783988898941797\n",
       "24. 1.1241550081927\n",
       "25. 0.669378603328938\n",
       "26. 1.05535991305281\n",
       "27. 0.806594349091717\n",
       "28. 1.10124380014101\n",
       "29. 1.78299390601441\n",
       "30. 0.178804881997948\n",
       "31. 0.263081077203433\n",
       "32. 0.90230889284341\n",
       "33. 0.741898390821838\n",
       "34. 0.365213234051181\n",
       "35. 1.34757107192365\n",
       "36. 0.870468132280703\n",
       "37. 0.911309179454063\n",
       "38. 1.22545846633511\n",
       "39. 1.5591674664777\n",
       "40. 0.711854746212935\n",
       "41. 1.23064867316112\n",
       "42. 0.999696691116852\n",
       "43. 0.343744903613192\n",
       "44. 0.737840108505115\n",
       "45. 1.4972548485612\n",
       "46. 1.15563627194504\n",
       "47. 0.551792874681491\n",
       "48. 1.33367360366425\n",
       "49. 1.37187602989826\n",
       "50. 0.205757077233461\n",
       "\n",
       "\n"
      ],
      "text/plain": [
       " [1]  0.70821585  0.81903088  0.95915854  1.24663446  0.95232359  1.02851496\n",
       " [7]  1.15237431  1.01474155  0.70286117  1.21730195 -0.05420649  1.16544840\n",
       "[13]  1.09122474  0.84245708  1.26859843  0.89943229  1.00837388  0.89999465\n",
       "[19]  1.08970823  0.55832432  2.22048295  1.05003587  0.78398890  1.12415501\n",
       "[25]  0.66937860  1.05535991  0.80659435  1.10124380  1.78299391  0.17880488\n",
       "[31]  0.26308108  0.90230889  0.74189839  0.36521323  1.34757107  0.87046813\n",
       "[37]  0.91130918  1.22545847  1.55916747  0.71185475  1.23064867  0.99969669\n",
       "[43]  0.34374490  0.73784011  1.49725485  1.15563627  0.55179287  1.33367360\n",
       "[49]  1.37187603  0.20575708"
      ]
     },
     "metadata": {},
     "output_type": "display_data"
    }
   ],
   "source": [
    "result <- rnorm(50, 1, 0.5)\n",
    "result"
   ]
  },
  {
   "cell_type": "code",
   "execution_count": 12,
   "metadata": {},
   "outputs": [
    {
     "data": {
      "image/png": "[encoded data removed]",
      "text/plain": [
       "Plot with title “Histogram of result”"
      ]
     },
     "metadata": {
      "filenames": {
       "image/png": "/home/virgilpierce/Documents/GitHub/MATH_550/_build/jupyter_execute/05-Continuous_22_0.png"
      },
      "image/png": {
       "height": 420,
       "width": 420
      }
     },
     "output_type": "display_data"
    }
   ],
   "source": [
    "hist(result, 10)"
   ]
  },
  {
   "cell_type": "code",
   "execution_count": 13,
   "metadata": {},
   "outputs": [
    {
     "data": {
      "text/plain": [
       "    Min.  1st Qu.   Median     Mean  3rd Qu.     Max. \n",
       "-0.05421  0.73885  0.97943  0.95340  1.16300  2.22048 "
      ]
     },
     "metadata": {},
     "output_type": "display_data"
    }
   ],
   "source": [
    "summary(result)"
   ]
  },
  {
   "cell_type": "markdown",
   "metadata": {},
   "source": [
    "Take the time to adjust the size of the sample and see what we get."
   ]
  },
  {
   "cell_type": "markdown",
   "metadata": {},
   "source": [
    "### Examples\n",
    "\n",
    "#### Total Probability\n",
    "\n",
    "We should check that the total probability of this density is 1. That is in fact what the the fraction in the density:  $\\frac{1}{\\sigma \\sqrt{2\\pi}} $ is for. It has always fascinated me that $\\pi$ shows up here!  Unfortunately explaining why is beyond the scope of our class, but is a fascinating application of the Fourier Transformation. "
   ]
  },
  {
   "cell_type": "markdown",
   "metadata": {},
   "source": [
    "#### Probability of $Y$ in an Interval\n",
    "\n",
    "Suppose we have the normal random variable $Y$ with mean 0 and variance 1. Find the probability that $Y$ is in the interval $[0, \\infty)$.\n",
    "\n",
    "We compute this from the integral of the density over this region:\n",
    "\n",
    "$$ P( 0 \\leq Y ) = \\int_0^\\infty \\frac{1}{\\sqrt{2\\pi}} e^{-x^2 / 2 } dx $$\n",
    "\n",
    "We can ask Wolfram Alpha or use the symmetry to argue we get 0.5."
   ]
  },
  {
   "cell_type": "markdown",
   "metadata": {},
   "source": [
    "#### Expected Value of a Function\n",
    "\n",
    "The expected value of a function of our normal variable with mean 0 and variance 1 is found by integrating that function against the PDF for the distribution. For example to find\n",
    "\n",
    "$$ E( e^{x} ) $$ \n",
    "\n",
    "we need to compute:\n",
    "\n",
    "$$ \\int_{-\\infty}^\\infty e^x \\frac{1}{\\sqrt{2\\pi}} e^{-x^2 / 2 } dx $$\n",
    "\n",
    "These are not typically easy integrals to compute but we can approximate the value numerically or use Wolfram Alpha: 1.64872.\n",
    "\n",
    "#### Find an Interval with given probability\n",
    "\n",
    "Find an interval $[a, b]$ such that the normal random variable with mean 0 and variance 1 has probability 0.95 of being found in the interval. \n",
    "\n",
    "To answer this one it is worth using the cummulative distribution function defined in R *pnorm*. "
   ]
  },
  {
   "cell_type": "code",
   "execution_count": null,
   "metadata": {},
   "outputs": [],
   "source": []
  }
 ],
 "metadata": {
  "kernelspec": {
   "display_name": "R",
   "language": "R",
   "name": "ir"
  },
  "language_info": {
   "codemirror_mode": "r",
   "file_extension": ".r",
   "mimetype": "text/x-r-source",
   "name": "R",
   "pygments_lexer": "r",
   "version": "4.0.2"
  }
 },
 "nbformat": 4,
 "nbformat_minor": 4
}