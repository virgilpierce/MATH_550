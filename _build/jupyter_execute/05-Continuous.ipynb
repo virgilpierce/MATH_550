{
 "cells": [
  {
   "cell_type": "markdown",
   "metadata": {},
   "source": [
    "# Continuous Random Variables\n",
    "\n",
    "We spent the last two days thinking about discrete probability distributions. Particularly these include random variables that are counting things (what do the binomial, geometric, and Poisson random variables count?).  \n",
    "\n",
    "However you can probably give some examples of numerical random variables which are not discrete.\n",
    "\n",
    "Note the thing that should give us pause, and explains why we have to introduce these random variables in a slightly different way from how we introduced discrete random variables:\n",
    "\n",
    "- For a discrete random variable, it makes sense to ask $P(Y = r)$ for some $r$. I.e. there will be some $r$ such that this number is non-zero. In fact we took this as our starting point for all of the discrete random distributions we have talked about.\n",
    "\n",
    "- For a continuous random variable:  $P(Y=x)$ has us a little bit nervous. If $Y$ is truly continuous then near $x$ there are infinitely many (uncountably infinitely many) values that are also possible. They can't all have a non-zero value without us having trouble adding them all up, and at the same time if only a discrete set of them are non-zero so that we can add them up then what we have is a discrete variable. In other words, we have a bit of a paradox. Luckily Calculus, as it usually does, gives us the language to talk about continuous things as generalizations of discrete things. \n",
    "\n",
    "\n",
    "First we need to make our definition precise: How will we recognize a continuous random variable?  (if you were in my class last summer you might recall our *sandwich* activity). \n",
    "\n",
    "One picture that should have you thinking from earlier this week is the graphs we made of the *Cumulative Distribution Function* for our random variables, here is the one for the binomials random variable:"
   ]
  },
  {
   "cell_type": "code",
   "execution_count": 1,
   "metadata": {},
   "outputs": [
    {
     "data": {
      "image/png": "[encoded data removed]",
      "text/plain": [
       "plot without title"
      ]
     },
     "metadata": {
      "filenames": {
       "image/png": "/home/virgilpierce/Documents/GitHub/MATH_550/_build/jupyter_execute/05-Continuous_1_0.png"
      },
      "image/png": {
       "height": 420,
       "width": 420
      }
     },
     "output_type": "display_data"
    }
   ],
   "source": [
    "n <- 10\n",
    "p <- 0.38\n",
    "r <- c(-1:(50*n))/50\n",
    "plot(r, pbinom(r, n, p), type=\"l\")"
   ]
  },
  {
   "cell_type": "markdown",
   "metadata": {},
   "source": [
    "onsider instead what this graph will need to look like for a random variable that can take any value rather than just the integer values?  \n",
    "\n",
    "Recall the properties of our CDF $F(x) = P(Y \\leq x)$:\n",
    "\n",
    "- $\\lim_{x\\to -\\infty} F(x) = 0$\n",
    "- $0 \\leq F(x) \\leq 1$ for all x.\n",
    "- $F(x)$ is a non decreasing function of $x$:  given $x_1 < x_2$ then $F(x_1) < F(x_2)$. \n",
    "- $\\lim_{x\\to \\infty} F(x) = 1$\n",
    "\n",
    "A *Continuous Random Variable* is one for which the cumulative distribution function: $F(x) = P(Y \\leq x)$ is a continuous function. \n",
    "\n",
    "Note that we can't say a discrete random variable is one where the CDF is not-continuous as it could have continuous and non-continuous parts. There is a whole theory of decomposing a general random variable into discrete and continuous components that is beyond what we want to do for this class. \n",
    "\n",
    "The next thing to note is that for our discrete random variables, the jump for the steps in the CDF is the probability distribution for that value.\n",
    "\n",
    "For a continuous random variable then, the probability that the variable achieves any specific value must be 0 because otherwise $P(Y = x) $ would be the size of a jump discontinuity in the CDF.\n",
    "\n",
    "\n",
    "## Probability Density Function\n",
    "\n",
    "So we don't have a distribution in the sense that we do for discrete random variables, however note that for continuous functions the idea which captures how much the function is increasing (the size of the steps) is given by the derivative. This leads to:\n",
    "\n",
    "The *Probability Density Function* of a continuous random variable with CDF $F(x) = P(Y \\leq x)$ is given by:\n",
    "$$ f(x) = \\frac{d}{dx} F(x) $$\n",
    "where the derivative exists. \n",
    "\n",
    "Note a few consequences:\n",
    "\n",
    "- $ f(x) \\geq 0 $\n",
    "- $ \\int_{-\\infty}^\\infty f(x) dx = 1$\n",
    "\n",
    "### Why is this called the density function?  \n",
    "\n",
    "Let's assume that $f(x)$ exists everywhere. Then the Fundamental Theorem of Calculus implies that:\n",
    "\n",
    "$$ F(x) = P(Y \\leq x) = \\int_{-\\infty}^x f(t) dt $$\n",
    "\n",
    "Suppose we wanted to know $P(a \\leq Y \\leq b)$?  On the one hand we compute this from the CDF:\n",
    "\n",
    "$$ P( a \\leq Y \\leq b) = F(b) - F(a) $$\n",
    "\n",
    "However we can rewrite this in terms of the PDF using the algebra of integrals: \n",
    "\n",
    "$$ P(a \\leq Y \\leq b) = \\int_a^b f(x) dx $$\n",
    "\n",
    "I.e. the area under $f(x)$ over a region of $x$-space gives the probability that $Y$ lies in that region. Note some consequences:\n",
    "\n",
    "- This is another way of thinking about why $P(Y = x) = 0 $:  It corresponds to an integral over a single point. \n",
    "\n",
    "I think of this as density in the same sense as we would use in Physics if the density is a proportion of the whole (i.e. we choose units so the total mass is 1). The integral of the density function for an object gives the mass of that object, center of mass and mean are the same thing, and the variance we are using corresponds to moments - describing how much the mass of an object is spread from its center.\n",
    "\n",
    "## Uniform Distribution\n",
    "\n",
    "For our first example consider the cumulative distribution function:\n",
    "\n",
    "$$ F(x) = \\left\\{ \\begin{matrix} 0 & x < 0 \\\\ x & 0 \\leq x \\leq 1 \\\\ 1 & x > 1 \\end{matrix}    \\right\\} $$\n",
    "\n",
    "To plot this, we first need to define the function. We will go over this in class, but this is the syntax for definition a function in R and also because it is piecewise the syntax for *if* statements. Note this is the most complicated programming we will do and you can just copy this function and modify it. A couple of notes about using this in R - from the notebook you need to execute this command with the cursor at the very top, working from the middle will only run the middle block of code. The other note is that I want to write the function so that it handles columns the same way the builtin functions we have already met do. That means I need to assume the input is a list of values and it needs to return a list of values."
   ]
  },
  {
   "cell_type": "code",
   "execution_count": 2,
   "metadata": {},
   "outputs": [
    {
     "data": {
      "text/html": [
       "<style>\n",
       ".list-inline {list-style: none; margin:0; padding: 0}\n",
       ".list-inline>li {display: inline-block}\n",
       ".list-inline>li:not(:last-child)::after {content: \"\\00b7\"; padding: 0 .5ex}\n",
       "</style>\n",
       "<ol class=list-inline><li>0</li><li>0.25</li><li>1</li></ol>\n"
      ],
      "text/latex": [
       "\\begin{enumerate*}\n",
       "\\item 0\n",
       "\\item 0.25\n",
       "\\item 1\n",
       "\\end{enumerate*}\n"
      ],
      "text/markdown": [
       "1. 0\n",
       "2. 0.25\n",
       "3. 1\n",
       "\n",
       "\n"
      ],
      "text/plain": [
       "[1] 0.00 0.25 1.00"
      ]
     },
     "metadata": {},
     "output_type": "display_data"
    }
   ],
   "source": [
    "# We need to write functions so they take a column of input values and return a column of output values, \n",
    "# This will make what we do next easier.\n",
    "\n",
    "F <- function(x) {\n",
    "  result <- c()\n",
    "  \n",
    "  for (k in x) {\n",
    "    \n",
    "    # The actual function - note the if statements we need because of the piecewise nature\n",
    "    if (k < 0) {\n",
    "      result <- c(result, 0)\n",
    "    }\n",
    "    else if (k > 1) {\n",
    "      result <- c(result, 1)\n",
    "    }\n",
    "    else {\n",
    "      result <- c(result, k)\n",
    "    }\n",
    "  }\n",
    "  result\n",
    "} \n",
    "\n",
    "# testing that it works\n",
    "F(c(-0.25, 0.25, 3))"
   ]
  },
  {
   "cell_type": "markdown",
   "metadata": {},
   "source": [
    "With that defined we can now plot the function. "
   ]
  },
  {
   "cell_type": "code",
   "execution_count": 3,
   "metadata": {},
   "outputs": [
    {
     "data": {
      "image/png": "[encoded data removed]",
      "text/plain": [
       "plot without title"
      ]
     },
     "metadata": {
      "filenames": {
       "image/png": "/home/virgilpierce/Documents/GitHub/MATH_550/_build/jupyter_execute/05-Continuous_5_0.png"
      },
      "image/png": {
       "height": 420,
       "width": 420
      }
     },
     "output_type": "display_data"
    }
   ],
   "source": [
    "n <- 100\n",
    "x <- c((-2*n):(2*n))/n\n",
    "plot(x, F(x), type = \"l\")"
   ]
  },
  {
   "cell_type": "markdown",
   "metadata": {},
   "source": [
    "This is our cumulative distribution. Without even computing anything we can tell that the support of our density is on the interval $[0, 1]$. Note that we have corners in the CDF so there are two places where the density is not defined - your instincts from Calculus are correct that not having a density at a discrete set of values is not a big deal. You may recall from MATH 534 that there are some particularly nasty functions, but while they are theoretically interesting as CDFs they do not correspond to random variables we see often (if at all).\n",
    "\n",
    "We can compute the probability density function by differentiating this one.  We get a piecewise defined function:\n",
    "\n",
    "$$ f(x) = \\left\\{ \\begin{matrix} 0 & x < 0 \\\\ 1 & 0 \\leq x \\leq 1 \\\\ 0 & x > 1 \\end{matrix} \\right\\} $$\n",
    "\n",
    "This is an example of a uniform continuous distribution. On the support of the variable, the probability that $Y$ is in an interval is proportional to the length of that interval. It is tempting to say that each value of $Y$ is equally likely, however this while being correct is meaningless - for a continuous random variable the probability of any value occuring is zero - hence they are all the same, regardless of what the density is. For continuous random variables we can only talk in terms of (a) the probability density or (b) the probability of the variable occuring in a set.  This distinction is what separates those who have been carefully learning probability and statistics from those who tried to cut some corners or are getting sloppy.\n",
    "\n",
    "### General Unifrom Distributions\n",
    "\n",
    "Find the constant $C$ such that $f(x)$ below is a valid PDF:\n",
    "\n",
    "$$ f(x) = \\left\\{ \\begin{matrix} 0 & x < a \\\\ C & a \\leq x \\leq b \\\\ 0 & x > b \\end{matrix} \\right\\} $$\n",
    "\n",
    "If you translate this question into Physics:  Find $C$ such that the total mass of the object with density $f(x)$ is 1, you will not be surprised by the answer.\n",
    "\n",
    "1. Make a prediction about the Expected Value of the uniform random variable on $[a, b]$.\n",
    "\n",
    "### Simmulating continuous random variables\n",
    "\n",
    "Following our pattern for discrete random variables, I would like to first simmulate this random variable so we can experiment and see what we think the Expected Value and Variance are. However simmulating continuous random variables is somewhat harder than discrete ones. For example with discrete ones we could even simmulate them mechanically by filling a bag with chips with different markings on them.\n",
    "\n",
    "Luckily, R comes with a uniform random variable simmulator already prepared for us. It uses similar technology that that hiding behind our discrete *sample* command we used already. The command is *runif* r is the prefix and unif is the name of the distribution - hence we could simmulate our Poisson variable for example using *rpois*.\n",
    "\n",
    "\n",
    "\n",
    "\n"
   ]
  },
  {
   "cell_type": "code",
   "execution_count": 4,
   "metadata": {},
   "outputs": [
    {
     "data": {
      "text/html": [
       "<style>\n",
       ".list-inline {list-style: none; margin:0; padding: 0}\n",
       ".list-inline>li {display: inline-block}\n",
       ".list-inline>li:not(:last-child)::after {content: \"\\00b7\"; padding: 0 .5ex}\n",
       "</style>\n",
       "<ol class=list-inline><li>0.94823931180872</li><li>0.300858364906162</li><li>0.113379060756415</li><li>0.586790978442878</li><li>0.0326976650394499</li><li>0.444076974177733</li><li>0.488593361107633</li><li>0.812710868194699</li><li>0.320344180800021</li><li>0.15043674595654</li><li>0.14831400825642</li><li>0.216065682470798</li><li>0.903186093317345</li><li>0.895285997772589</li><li>0.902522892458364</li><li>0.148966404609382</li><li>0.599899515276775</li><li>0.156943848589435</li><li>0.0464840375352651</li><li>0.947156151523814</li><li>0.871423566481099</li><li>0.856214135885239</li><li>0.230179140111431</li><li>0.273910641437396</li><li>0.175868736580014</li><li>0.393569733947515</li><li>0.732739987550303</li><li>0.0691303145140409</li><li>0.127761072479188</li><li>0.148011898621917</li><li>0.796146627981216</li><li>0.0244129137136042</li><li>0.275910664349794</li><li>0.253416555933654</li><li>0.356920757330954</li><li>0.91062398115173</li><li>0.506338343024254</li><li>0.576889363350347</li><li>0.933675888925791</li><li>0.875579277751967</li><li>0.655500730499625</li><li>0.357254738453776</li><li>0.95597208570689</li><li>0.339637870667502</li><li>0.682963946834207</li><li>0.459179398603737</li><li>0.671017033979297</li><li>0.596042811404914</li><li>0.126212345436215</li><li>0.893647462828085</li></ol>\n"
      ],
      "text/latex": [
       "\\begin{enumerate*}\n",
       "\\item 0.94823931180872\n",
       "\\item 0.300858364906162\n",
       "\\item 0.113379060756415\n",
       "\\item 0.586790978442878\n",
       "\\item 0.0326976650394499\n",
       "\\item 0.444076974177733\n",
       "\\item 0.488593361107633\n",
       "\\item 0.812710868194699\n",
       "\\item 0.320344180800021\n",
       "\\item 0.15043674595654\n",
       "\\item 0.14831400825642\n",
       "\\item 0.216065682470798\n",
       "\\item 0.903186093317345\n",
       "\\item 0.895285997772589\n",
       "\\item 0.902522892458364\n",
       "\\item 0.148966404609382\n",
       "\\item 0.599899515276775\n",
       "\\item 0.156943848589435\n",
       "\\item 0.0464840375352651\n",
       "\\item 0.947156151523814\n",
       "\\item 0.871423566481099\n",
       "\\item 0.856214135885239\n",
       "\\item 0.230179140111431\n",
       "\\item 0.273910641437396\n",
       "\\item 0.175868736580014\n",
       "\\item 0.393569733947515\n",
       "\\item 0.732739987550303\n",
       "\\item 0.0691303145140409\n",
       "\\item 0.127761072479188\n",
       "\\item 0.148011898621917\n",
       "\\item 0.796146627981216\n",
       "\\item 0.0244129137136042\n",
       "\\item 0.275910664349794\n",
       "\\item 0.253416555933654\n",
       "\\item 0.356920757330954\n",
       "\\item 0.91062398115173\n",
       "\\item 0.506338343024254\n",
       "\\item 0.576889363350347\n",
       "\\item 0.933675888925791\n",
       "\\item 0.875579277751967\n",
       "\\item 0.655500730499625\n",
       "\\item 0.357254738453776\n",
       "\\item 0.95597208570689\n",
       "\\item 0.339637870667502\n",
       "\\item 0.682963946834207\n",
       "\\item 0.459179398603737\n",
       "\\item 0.671017033979297\n",
       "\\item 0.596042811404914\n",
       "\\item 0.126212345436215\n",
       "\\item 0.893647462828085\n",
       "\\end{enumerate*}\n"
      ],
      "text/markdown": [
       "1. 0.94823931180872\n",
       "2. 0.300858364906162\n",
       "3. 0.113379060756415\n",
       "4. 0.586790978442878\n",
       "5. 0.0326976650394499\n",
       "6. 0.444076974177733\n",
       "7. 0.488593361107633\n",
       "8. 0.812710868194699\n",
       "9. 0.320344180800021\n",
       "10. 0.15043674595654\n",
       "11. 0.14831400825642\n",
       "12. 0.216065682470798\n",
       "13. 0.903186093317345\n",
       "14. 0.895285997772589\n",
       "15. 0.902522892458364\n",
       "16. 0.148966404609382\n",
       "17. 0.599899515276775\n",
       "18. 0.156943848589435\n",
       "19. 0.0464840375352651\n",
       "20. 0.947156151523814\n",
       "21. 0.871423566481099\n",
       "22. 0.856214135885239\n",
       "23. 0.230179140111431\n",
       "24. 0.273910641437396\n",
       "25. 0.175868736580014\n",
       "26. 0.393569733947515\n",
       "27. 0.732739987550303\n",
       "28. 0.0691303145140409\n",
       "29. 0.127761072479188\n",
       "30. 0.148011898621917\n",
       "31. 0.796146627981216\n",
       "32. 0.0244129137136042\n",
       "33. 0.275910664349794\n",
       "34. 0.253416555933654\n",
       "35. 0.356920757330954\n",
       "36. 0.91062398115173\n",
       "37. 0.506338343024254\n",
       "38. 0.576889363350347\n",
       "39. 0.933675888925791\n",
       "40. 0.875579277751967\n",
       "41. 0.655500730499625\n",
       "42. 0.357254738453776\n",
       "43. 0.95597208570689\n",
       "44. 0.339637870667502\n",
       "45. 0.682963946834207\n",
       "46. 0.459179398603737\n",
       "47. 0.671017033979297\n",
       "48. 0.596042811404914\n",
       "49. 0.126212345436215\n",
       "50. 0.893647462828085\n",
       "\n",
       "\n"
      ],
      "text/plain": [
       " [1] 0.94823931 0.30085836 0.11337906 0.58679098 0.03269767 0.44407697\n",
       " [7] 0.48859336 0.81271087 0.32034418 0.15043675 0.14831401 0.21606568\n",
       "[13] 0.90318609 0.89528600 0.90252289 0.14896640 0.59989952 0.15694385\n",
       "[19] 0.04648404 0.94715615 0.87142357 0.85621414 0.23017914 0.27391064\n",
       "[25] 0.17586874 0.39356973 0.73273999 0.06913031 0.12776107 0.14801190\n",
       "[31] 0.79614663 0.02441291 0.27591066 0.25341656 0.35692076 0.91062398\n",
       "[37] 0.50633834 0.57688936 0.93367589 0.87557928 0.65550073 0.35725474\n",
       "[43] 0.95597209 0.33963787 0.68296395 0.45917940 0.67101703 0.59604281\n",
       "[49] 0.12621235 0.89364746"
      ]
     },
     "metadata": {},
     "output_type": "display_data"
    }
   ],
   "source": [
    "result <- runif(50, 0, 1)\n",
    "result"
   ]
  },
  {
   "cell_type": "code",
   "execution_count": 5,
   "metadata": {},
   "outputs": [
    {
     "data": {
      "image/png": "[encoded data removed]",
      "text/plain": [
       "Plot with title “Histogram of result”"
      ]
     },
     "metadata": {
      "filenames": {
       "image/png": "/home/virgilpierce/Documents/GitHub/MATH_550/_build/jupyter_execute/05-Continuous_8_0.png"
      },
      "image/png": {
       "height": 420,
       "width": 420
      }
     },
     "output_type": "display_data"
    }
   ],
   "source": [
    "hist(result, 20)"
   ]
  },
  {
   "cell_type": "markdown",
   "metadata": {},
   "source": [
    "and maybe you can see that we might have a problem. Our sample is just that a sample. It is only a loose approximation of the distribution and in fact if all we knew was the sample we might conclude something veyr different about our distribution. Addressing this discrepency or maybe a defeciency is going to be out goal for the next few weeks."
   ]
  },
  {
   "cell_type": "markdown",
   "metadata": {},
   "source": [
    "### Expected Value \n",
    "\n",
    "In any case, we can use our sample to estimate the expected value of the distribution - intuitively, we expect or maybe hope that the mean of the sample is close to the expected value of the distribution. We will show that this precisely what is happening later, but for now let us allow ourselves to be naive."
   ]
  },
  {
   "cell_type": "code",
   "execution_count": 6,
   "metadata": {},
   "outputs": [
    {
     "data": {
      "text/plain": [
       "   Min. 1st Qu.  Median    Mean 3rd Qu.    Max. \n",
       "0.02441 0.18592 0.45163 0.48578 0.80857 0.95597 "
      ]
     },
     "metadata": {},
     "output_type": "display_data"
    }
   ],
   "source": [
    "summary(result)"
   ]
  },
  {
   "cell_type": "markdown",
   "metadata": {},
   "source": [
    "You might try increasing the size of the sample we take and check what happens to our summary statistics.\n",
    "\n",
    "#### Exact Value\n",
    "\n",
    "We can find the exact value similarly to how we did it in the discrete case. Recall that for a discrete random variable $Y$ the expected value is computed exactly but finding the sum (if we can find it):\n",
    "\n",
    "$$ E(Y) = \\sum r P(Y=r) $$\n",
    "\n",
    "In the continuous case with a random variable $Y$ with PDF $f(x)$ we appeal to our intuition from Calculus: \n",
    "\n",
    "$$ E(Y) = \\sum x P(\\mbox{$Y$ is in a small neighborhood near x}) = \\sum x f(x) \\Delta x$$\n",
    "\n",
    "and in the limit as the neighborhood sizes $\\Delta x \\to 0$ we get (again no surprises here if you use your intuition that sums become integrals):\n",
    "\n",
    "$$ E(Y) = \\int x f(x) dx  $$\n",
    "\n",
    "Where the integral is over the support of the random variable. \n",
    "\n",
    "For $Y$ the uniform random variable on the interval $[a, b]$:\n",
    "\n",
    "$$ E(Y) = \\int_a^b x \\frac{1}{b-a} dx = \\frac{1}{2(b-a)} x^2 \\bigg|_a^b = \\frac{b^2 - a^2}{2 (b-a)} = \\frac{b+a}{2} $$\n",
    "\n",
    "Which surprise, surprise is the midpoint of the interval $[a, b]$.\n",
    "\n",
    "### Variance\n",
    "\n",
    "The estimate variance from our sample can be found using *var*:"
   ]
  },
  {
   "cell_type": "code",
   "execution_count": 7,
   "metadata": {},
   "outputs": [
    {
     "data": {
      "text/html": [
       "0.0980814756965971"
      ],
      "text/latex": [
       "0.0980814756965971"
      ],
      "text/markdown": [
       "0.0980814756965971"
      ],
      "text/plain": [
       "[1] 0.09808148"
      ]
     },
     "metadata": {},
     "output_type": "display_data"
    }
   ],
   "source": [
    "var(result)"
   ]
  },
  {
   "cell_type": "markdown",
   "metadata": {},
   "source": [
    "Again this actually just an estimate of the variance of the random variable. You should check what happens as the size of the sample is changed. \n",
    "\n",
    "#### Exact Value\n",
    "\n",
    "Again we can find the exact value using some algebra:  \n",
    "\n",
    "$$ V(Y) = E(Y^2) - \\frac{(b+a)^2}{4} $$\n",
    "\n",
    "and an integral:\n",
    "\n",
    "$$ E(Y^2) = \\int_a^b x^2 \\frac{1}{b-a} dx = \\frac{1}{3(b-a)} x^3 \\bigg|_a^b = \\frac{b^3 - a^3}{3 (b-a)} $$\n",
    "\n",
    "I would just use Wolfram Alpha to simplify this, but you could also factor the cubic using the binomial theorem:\n",
    "\n",
    "$$ E(Y^2) = \\frac{b^2 + ab + a^2}{3} $$\n",
    "\n",
    "(again one reason I like to teach this class to our MA program is all of these exercises from Calculus get used).\n",
    "\n",
    "Then we combine this with the expected value to get:\n",
    "\n",
    "$$ V(Y) = \\frac{b^2 + ab + a^2}{3} - \\frac{b^2 + 2 ab + a^2}{4} = \\frac{b^2 - 2 ab + a^2}{12} = \\frac{(b-a)^2}{12} $$ \n",
    "\n",
    "For the interval $[0, 1]$ we have:"
   ]
  },
  {
   "cell_type": "code",
   "execution_count": 8,
   "metadata": {},
   "outputs": [
    {
     "data": {
      "text/html": [
       "0.0833333333333333"
      ],
      "text/latex": [
       "0.0833333333333333"
      ],
      "text/markdown": [
       "0.0833333333333333"
      ],
      "text/plain": [
       "[1] 0.08333333"
      ]
     },
     "metadata": {},
     "output_type": "display_data"
    }
   ],
   "source": [
    "(1-0)^2 / 12"
   ]
  },
  {
   "cell_type": "markdown",
   "metadata": {},
   "source": [
    "## Normal Distributions\n",
    "\n",
    "The uniform distribution is a nice simple first example. However our next example we will see forms the basis for a large portion fo the results we will work with. The *Normal Distribution* will turn out to be a a universal structure that shows up in many instances.\n",
    "\n",
    "The Probability Density Function for the normal distirbution is the shape classically known as the Bell Curve. It is given by the function:\n",
    "\n",
    "$$ f(x) = \\frac{1}{\\sigma \\sqrt{2\\pi}} e^{-(y - \\mu)^2 / (2 \\sigma^2) } $$\n",
    "\n",
    "Note that the distribution has two free parameters (suggestively written as) $\\mu$ and $\\sigma^2$. \n",
    "\n",
    "A graph of the PDF, using the builtin expression for the function *dnorm*:"
   ]
  },
  {
   "cell_type": "code",
   "execution_count": 9,
   "metadata": {},
   "outputs": [
    {
     "data": {
      "image/png": "[encoded data removed]",
      "text/plain": [
       "plot without title"
      ]
     },
     "metadata": {
      "filenames": {
       "image/png": "/home/virgilpierce/Documents/GitHub/MATH_550/_build/jupyter_execute/05-Continuous_17_0.png"
      },
      "image/png": {
       "height": 420,
       "width": 420
      }
     },
     "output_type": "display_data"
    }
   ],
   "source": [
    "n <- 100\n",
    "mu <- 1\n",
    "sigma <- 0.5\n",
    "x <- c((-4*n):(4*n))/n\n",
    "v <- dnorm(x, mu, sigma)\n",
    "plot(x, v, type='l')"
   ]
  },
  {
   "cell_type": "markdown",
   "metadata": {},
   "source": [
    "Adjust the $\\mu$ and $\\sigma$ in this code block until you have a hypothesis about what the role is that they play in the shape of the distribution.\n",
    "\n",
    "Note that the distribution never actually gives 0, though it does get very close as $x\\to \\pm \\infty$. The support of this random variable is all real numbers.\n",
    "\n",
    "The cummulative distribution function is defined to be:\n",
    "\n",
    "$$ F(x) = \\int_{-\\infty}^x \\frac{1}{\\sigma \\sqrt{2\\pi}} e^{- (t-\\mu)^2 / (2 \\sigma^2) } dt $$\n",
    "\n",
    "Note that while this is an unbounded integral, it is one that will have no problems converging. That said, it is also an integrand for which none of the rules you learned in Calculus 2 work. We are left with numerical approximations, and in our case we can just use the builtin function *pnorm* in R."
   ]
  },
  {
   "cell_type": "code",
   "execution_count": 10,
   "metadata": {},
   "outputs": [
    {
     "data": {
      "image/png": "[encoded data removed]",
      "text/plain": [
       "plot without title"
      ]
     },
     "metadata": {
      "filenames": {
       "image/png": "/home/virgilpierce/Documents/GitHub/MATH_550/_build/jupyter_execute/05-Continuous_19_0.png"
      },
      "image/png": {
       "height": 420,
       "width": 420
      }
     },
     "output_type": "display_data"
    }
   ],
   "source": [
    "n <- 100\n",
    "mu <- 1\n",
    "sigma <- 0.5\n",
    "x <- c((-4*n):(4*n))/n\n",
    "v <- pnorm(x, mu, sigma)\n",
    "plot(x, v, type='l')"
   ]
  },
  {
   "cell_type": "markdown",
   "metadata": {},
   "source": [
    "### Sampling from the Normal Distribution\n",
    "\n",
    "We will spend a large portion of later chapters asking what happens when we sample from a normal distribution, but r provides a builtin function that does it for us, so let's go ahead and use that. Though it is worth pausing here to discuss how one would implement such a thing as it is instructive:\n",
    "\n",
    "- Suppose that we have a good pseudo random number generator that will give us a $Q$ uniformly distributed random variable on the interval $[0, 1]$.  If we generating a $Q = t$ and then take $F^{-1}(t) = x$ (the inverse of the cummulative distribution function, this will then give us an $x$ that we can use a sample from our random variable with cummulative distribution $F(x)$. \n",
    "\n",
    "- Note that because $F(x)$ is non-decreasing it is 1-1 and therefore the inverse function exists. Though we may not have a nice formula for it - for example with the normal distribution we do not have a nice formula for it.\n",
    "\n",
    "- Note that where $F(x)$ is steepest, which corresponds to where $f(x)$ is largest, the inverse function will be less steep. Therefore for a larger region of $Q$ values we will get a smaller region of $Y$ values - and vice versa.\n",
    "\n",
    "Of course it is all moot as we do not have an exact formula for $F(x)$ for the normal distribution and therefore we do not have an exact formula for the inverse of the CDF. What we do have though is a builtin sampling function *rnorm*.  \n",
    "\n",
    "Again note how consistent R is - the *r* prefix means sample from the variable."
   ]
  },
  {
   "cell_type": "code",
   "execution_count": 11,
   "metadata": {},
   "outputs": [
    {
     "data": {
      "text/html": [
       "<style>\n",
       ".list-inline {list-style: none; margin:0; padding: 0}\n",
       ".list-inline>li {display: inline-block}\n",
       ".list-inline>li:not(:last-child)::after {content: \"\\00b7\"; padding: 0 .5ex}\n",
       "</style>\n",
       "<ol class=list-inline><li>0.670615985028806</li><li>0.296356348940676</li><li>1.64141597922849</li><li>0.821476733651246</li><li>1.83755856192566</li><li>1.64682825536945</li><li>0.747511396557582</li><li>0.869442749643409</li><li>0.70717653508036</li><li>0.621886542559844</li><li>0.897384863217238</li><li>1.74903128812943</li><li>0.811249108218421</li><li>1.25554676967848</li><li>1.4681954729196</li><li>0.943417505553161</li><li>1.61001222989946</li><li>-0.0217108491496993</li><li>1.40446189087596</li><li>0.630621755394681</li><li>0.966715296545592</li><li>0.737622063125075</li><li>0.569126470000438</li><li>0.867186509362722</li><li>0.253095325600072</li><li>0.950438123313233</li><li>1.91073367421348</li><li>1.00598332729808</li><li>0.742891313832073</li><li>1.24395759148212</li><li>1.32518456885827</li><li>0.870852756748221</li><li>0.720167965338783</li><li>1.27657828168937</li><li>2.25566672602767</li><li>1.28644923949093</li><li>0.600002752046567</li><li>1.22687678589445</li><li>0.24892028416923</li><li>1.22243650653294</li><li>1.7237233359924</li><li>0.470488313218513</li><li>0.931947332306313</li><li>0.574572395048047</li><li>0.657191717683628</li><li>1.14126144680785</li><li>0.521171935128898</li><li>0.331462308680486</li><li>0.0584080984764217</li><li>0.844934875319321</li></ol>\n"
      ],
      "text/latex": [
       "\\begin{enumerate*}\n",
       "\\item 0.670615985028806\n",
       "\\item 0.296356348940676\n",
       "\\item 1.64141597922849\n",
       "\\item 0.821476733651246\n",
       "\\item 1.83755856192566\n",
       "\\item 1.64682825536945\n",
       "\\item 0.747511396557582\n",
       "\\item 0.869442749643409\n",
       "\\item 0.70717653508036\n",
       "\\item 0.621886542559844\n",
       "\\item 0.897384863217238\n",
       "\\item 1.74903128812943\n",
       "\\item 0.811249108218421\n",
       "\\item 1.25554676967848\n",
       "\\item 1.4681954729196\n",
       "\\item 0.943417505553161\n",
       "\\item 1.61001222989946\n",
       "\\item -0.0217108491496993\n",
       "\\item 1.40446189087596\n",
       "\\item 0.630621755394681\n",
       "\\item 0.966715296545592\n",
       "\\item 0.737622063125075\n",
       "\\item 0.569126470000438\n",
       "\\item 0.867186509362722\n",
       "\\item 0.253095325600072\n",
       "\\item 0.950438123313233\n",
       "\\item 1.91073367421348\n",
       "\\item 1.00598332729808\n",
       "\\item 0.742891313832073\n",
       "\\item 1.24395759148212\n",
       "\\item 1.32518456885827\n",
       "\\item 0.870852756748221\n",
       "\\item 0.720167965338783\n",
       "\\item 1.27657828168937\n",
       "\\item 2.25566672602767\n",
       "\\item 1.28644923949093\n",
       "\\item 0.600002752046567\n",
       "\\item 1.22687678589445\n",
       "\\item 0.24892028416923\n",
       "\\item 1.22243650653294\n",
       "\\item 1.7237233359924\n",
       "\\item 0.470488313218513\n",
       "\\item 0.931947332306313\n",
       "\\item 0.574572395048047\n",
       "\\item 0.657191717683628\n",
       "\\item 1.14126144680785\n",
       "\\item 0.521171935128898\n",
       "\\item 0.331462308680486\n",
       "\\item 0.0584080984764217\n",
       "\\item 0.844934875319321\n",
       "\\end{enumerate*}\n"
      ],
      "text/markdown": [
       "1. 0.670615985028806\n",
       "2. 0.296356348940676\n",
       "3. 1.64141597922849\n",
       "4. 0.821476733651246\n",
       "5. 1.83755856192566\n",
       "6. 1.64682825536945\n",
       "7. 0.747511396557582\n",
       "8. 0.869442749643409\n",
       "9. 0.70717653508036\n",
       "10. 0.621886542559844\n",
       "11. 0.897384863217238\n",
       "12. 1.74903128812943\n",
       "13. 0.811249108218421\n",
       "14. 1.25554676967848\n",
       "15. 1.4681954729196\n",
       "16. 0.943417505553161\n",
       "17. 1.61001222989946\n",
       "18. -0.0217108491496993\n",
       "19. 1.40446189087596\n",
       "20. 0.630621755394681\n",
       "21. 0.966715296545592\n",
       "22. 0.737622063125075\n",
       "23. 0.569126470000438\n",
       "24. 0.867186509362722\n",
       "25. 0.253095325600072\n",
       "26. 0.950438123313233\n",
       "27. 1.91073367421348\n",
       "28. 1.00598332729808\n",
       "29. 0.742891313832073\n",
       "30. 1.24395759148212\n",
       "31. 1.32518456885827\n",
       "32. 0.870852756748221\n",
       "33. 0.720167965338783\n",
       "34. 1.27657828168937\n",
       "35. 2.25566672602767\n",
       "36. 1.28644923949093\n",
       "37. 0.600002752046567\n",
       "38. 1.22687678589445\n",
       "39. 0.24892028416923\n",
       "40. 1.22243650653294\n",
       "41. 1.7237233359924\n",
       "42. 0.470488313218513\n",
       "43. 0.931947332306313\n",
       "44. 0.574572395048047\n",
       "45. 0.657191717683628\n",
       "46. 1.14126144680785\n",
       "47. 0.521171935128898\n",
       "48. 0.331462308680486\n",
       "49. 0.0584080984764217\n",
       "50. 0.844934875319321\n",
       "\n",
       "\n"
      ],
      "text/plain": [
       " [1]  0.67061599  0.29635635  1.64141598  0.82147673  1.83755856  1.64682826\n",
       " [7]  0.74751140  0.86944275  0.70717654  0.62188654  0.89738486  1.74903129\n",
       "[13]  0.81124911  1.25554677  1.46819547  0.94341751  1.61001223 -0.02171085\n",
       "[19]  1.40446189  0.63062176  0.96671530  0.73762206  0.56912647  0.86718651\n",
       "[25]  0.25309533  0.95043812  1.91073367  1.00598333  0.74289131  1.24395759\n",
       "[31]  1.32518457  0.87085276  0.72016797  1.27657828  2.25566673  1.28644924\n",
       "[37]  0.60000275  1.22687679  0.24892028  1.22243651  1.72372334  0.47048831\n",
       "[43]  0.93194733  0.57457240  0.65719172  1.14126145  0.52117194  0.33146231\n",
       "[49]  0.05840810  0.84493488"
      ]
     },
     "metadata": {},
     "output_type": "display_data"
    }
   ],
   "source": [
    "result <- rnorm(50, 1, 0.5)\n",
    "result"
   ]
  },
  {
   "cell_type": "code",
   "execution_count": 12,
   "metadata": {},
   "outputs": [
    {
     "data": {
      "image/png": "[encoded data removed]",
      "text/plain": [
       "Plot with title “Histogram of result”"
      ]
     },
     "metadata": {
      "filenames": {
       "image/png": "/home/virgilpierce/Documents/GitHub/MATH_550/_build/jupyter_execute/05-Continuous_22_0.png"
      },
      "image/png": {
       "height": 420,
       "width": 420
      }
     },
     "output_type": "display_data"
    }
   ],
   "source": [
    "hist(result, 10)"
   ]
  },
  {
   "cell_type": "code",
   "execution_count": 13,
   "metadata": {},
   "outputs": [
    {
     "data": {
      "text/plain": [
       "    Min.  1st Qu.   Median     Mean  3rd Qu.     Max. \n",
       "-0.02171  0.63726  0.87015  0.96289  1.27132  2.25567 "
      ]
     },
     "metadata": {},
     "output_type": "display_data"
    }
   ],
   "source": [
    "summary(result)"
   ]
  },
  {
   "cell_type": "markdown",
   "metadata": {},
   "source": [
    "Take the time to adjust the size of the sample and see what we get."
   ]
  },
  {
   "cell_type": "markdown",
   "metadata": {},
   "source": [
    "### Examples\n",
    "\n",
    "#### Total Probability\n",
    "\n",
    "We should check that the total probability of this density is 1. That is in fact what the the fraction in the density:  $\\frac{1}{\\sigma \\sqrt{2\\pi}} $ is for. It has always fascinated me that $\\pi$ shows up here!  Unfortunately explaining why is beyond the scope of our class, but is a fascinating application of the Fourier Transformation. "
   ]
  },
  {
   "cell_type": "markdown",
   "metadata": {},
   "source": [
    "#### Probability of $Y$ in an Interval\n",
    "\n",
    "Suppose we have the normal random variable $Y$ with mean 0 and variance 1. Find the probability that $Y$ is in the interval $[0, \\infty)$.\n",
    "\n",
    "We compute this from the integral of the density over this region:\n",
    "\n",
    "$$ P( 0 \\leq Y ) = \\int_0^\\infty \\frac{1}{\\sqrt{2\\pi}} e^{-x^2 / 2 } dx $$\n",
    "\n",
    "We can ask Wolfram Alpha or use the symmetry to argue we get 0.5."
   ]
  },
  {
   "cell_type": "markdown",
   "metadata": {},
   "source": [
    "#### Expected Value of a Function\n",
    "\n",
    "The expected value of a function of our normal variable with mean 0 and variance 1 is found by integrating that function against the PDF for the distribution. For example to find\n",
    "\n",
    "$$ E( e^{x} ) $$ \n",
    "\n",
    "we need to compute:\n",
    "\n",
    "$$ \\int_{-\\infty}^\\infty e^x \\frac{1}{\\sqrt{2\\pi}} e^{-x^2 / 2 } dx $$\n",
    "\n",
    "These are not typically easy integrals to compute but we can approximate the value numerically or use Wolfram Alpha: 1.64872.\n",
    "\n",
    "#### Find an Interval with given probability\n",
    "\n",
    "Find an interval $[a, b]$ such that the normal random variable with mean 0 and variance 1 has probability 0.95 of being found in the interval. \n",
    "\n",
    "To answer this one it is worth using the cummulative distribution function defined in R *pnorm*. "
   ]
  },
  {
   "cell_type": "code",
   "execution_count": null,
   "metadata": {},
   "outputs": [],
   "source": []
  }
 ],
 "metadata": {
  "kernelspec": {
   "display_name": "R",
   "language": "R",
   "name": "ir"
  },
  "language_info": {
   "codemirror_mode": "r",
   "file_extension": ".r",
   "mimetype": "text/x-r-source",
   "name": "R",
   "pygments_lexer": "r",
   "version": "4.0.2"
  }
 },
 "nbformat": 4,
 "nbformat_minor": 4
}