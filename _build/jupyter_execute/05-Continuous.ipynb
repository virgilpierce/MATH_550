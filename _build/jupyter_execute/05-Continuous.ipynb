{
 "cells": [
  {
   "cell_type": "markdown",
   "metadata": {},
   "source": [
    "# Continuous Random Variables\n",
    "\n",
    "We spent the last two days thinking about discrete probability distributions. Particularly these include random variables that are counting things (what do the binomial, geometric, and Poisson random variables count?).  \n",
    "\n",
    "However you can probably give some examples of numerical random variables which are not discrete.\n",
    "\n",
    "Note the thing that should give us pause, and explains why we have to introduce these random variables in a slightly different way from how we introduced discrete random variables:\n",
    "\n",
    "- For a discrete random variable, it makes sense to ask $P(Y = r)$ for some $r$. I.e. there will be some $r$ such that this number is non-zero. In fact we took this as our starting point for all of the discrete random distributions we have talked about.\n",
    "\n",
    "- For a continuous random variable:  $P(Y=x)$ has us a little bit nervous. If $Y$ is truly continuous then near $x$ there are infinitely many (uncountably infinitely many) values that are also possible. They can't all have a non-zero value without us having trouble adding them all up, and at the same time if only a discrete set of them are non-zero so that we can add them up then what we have is a discrete variable. In other words, we have a bit of a paradox. Luckily Calculus, as it usually does, gives us the language to talk about continuous things as generalizations of discrete things. \n",
    "\n",
    "\n",
    "First we need to make our definition precise: How will we recognize a continuous random variable?  (if you were in my class last summer you might recall our *sandwich* activity). \n",
    "\n",
    "One picture that should have you thinking from earlier this week is the graphs we made of the *Cumulative Distribution Function* for our random variables, here is the one for the binomials random variable:"
   ]
  },
  {
   "cell_type": "code",
   "execution_count": 1,
   "metadata": {},
   "outputs": [
    {
     "data": {
      "image/png": "[encoded data removed]",
      "text/plain": [
       "plot without title"
      ]
     },
     "metadata": {
      "filenames": {
       "image/png": "/home/virgilpierce/Documents/GitHub/MATH_550/_build/jupyter_execute/05-Continuous_1_0.png"
      },
      "image/png": {
       "height": 420,
       "width": 420
      }
     },
     "output_type": "display_data"
    }
   ],
   "source": [
    "n <- 10\n",
    "p <- 0.38\n",
    "r <- c(-1:(50*n))/50\n",
    "plot(r, pbinom(r, n, p), type=\"l\")"
   ]
  },
  {
   "cell_type": "markdown",
   "metadata": {},
   "source": [
    "onsider instead what this graph will need to look like for a random variable that can take any value rather than just the integer values?  \n",
    "\n",
    "Recall the properties of our CDF $F(x) = P(Y \\leq x)$:\n",
    "\n",
    "- $\\lim_{x\\to -\\infty} F(x) = 0$\n",
    "- $0 \\leq F(x) \\leq 1$ for all x.\n",
    "- $F(x)$ is a non decreasing function of $x$:  given $x_1 < x_2$ then $F(x_1) < F(x_2)$. \n",
    "- $\\lim_{x\\to \\infty} F(x) = 1$\n",
    "\n",
    "A *Continuous Random Variable* is one for which the cumulative distribution function: $F(x) = P(Y \\leq x)$ is a continuous function. \n",
    "\n",
    "Note that we can't say a discrete random variable is one where the CDF is not-continuous as it could have continuous and non-continuous parts. There is a whole theory of decomposing a general random variable into discrete and continuous components that is beyond what we want to do for this class. \n",
    "\n",
    "The next thing to note is that for our discrete random variables, the jump for the steps in the CDF is the probability distribution for that value.\n",
    "\n",
    "For a continuous random variable then, the probability that the variable achieves any specific value must be 0 because otherwise $P(Y = x) $ would be the size of a jump discontinuity in the CDF.\n",
    "\n",
    "\n",
    "## Probability Density Function\n",
    "\n",
    "So we don't have a distribution in the sense that we do for discrete random variables, however note that for continuous functions the idea which captures how much the function is increasing (the size of the steps) is given by the derivative. This leads to:\n",
    "\n",
    "The *Probability Density Function* of a continuous random variable with CDF $F(x) = P(Y \\leq x)$ is given by:\n",
    "$$ f(x) = \\frac{d}{dx} F(x) $$\n",
    "where the derivative exists. \n",
    "\n",
    "Note a few consequences:\n",
    "\n",
    "- $ f(x) \\geq 0 $\n",
    "- $ \\int_{-\\infty}^\\infty f(x) dx = 1$\n",
    "\n",
    "### Why is this called the density function?  \n",
    "\n",
    "Let's assume that $f(x)$ exists everywhere. Then the Fundamental Theorem of Calculus implies that:\n",
    "\n",
    "$$ F(x) = P(Y \\leq x) = \\int_{-\\infty}^x f(t) dt $$\n",
    "\n",
    "Suppose we wanted to know $P(a \\leq Y \\leq b)$?  On the one hand we compute this from the CDF:\n",
    "\n",
    "$$ P( a \\leq Y \\leq b) = F(b) - F(a) $$\n",
    "\n",
    "However we can rewrite this in terms of the PDF using the algebra of integrals: \n",
    "\n",
    "$$ P(a \\leq Y \\leq b) = \\int_a^b f(x) dx $$\n",
    "\n",
    "I.e. the area under $f(x)$ over a region of $x$-space gives the probability that $Y$ lies in that region. Note some consequences:\n",
    "\n",
    "- This is another way of thinking about why $P(Y = x) = 0 $:  It corresponds to an integral over a single point. \n",
    "\n",
    "I think of this as density in the same sense as we would use in Physics if the density is a proportion of the whole (i.e. we choose units so the total mass is 1). The integral of the density function for an object gives the mass of that object, center of mass and mean are the same thing, and the variance we are using corresponds to moments - describing how much the mass of an object is spread from its center.\n",
    "\n",
    "## Uniform Distribution\n",
    "\n",
    "For our first example consider the cumulative distribution function:\n",
    "\n",
    "$$ F(x) = \\left\\{ \\begin{matrix} 0 & x < 0 \\\\ x & 0 \\leq x \\leq 1 \\\\ 1 & x > 1 \\end{matrix}    \\right\\} $$\n",
    "\n",
    "To plot this, we first need to define the function. We will go over this in class, but this is the syntax for definition a function in R and also because it is piecewise the syntax for *if* statements. Note this is the most complicated programming we will do and you can just copy this function and modify it. A couple of notes about using this in R - from the notebook you need to execute this command with the cursor at the very top, working from the middle will only run the middle block of code. The other note is that I want to write the function so that it handles columns the same way the builtin functions we have already met do. That means I need to assume the input is a list of values and it needs to return a list of values."
   ]
  },
  {
   "cell_type": "code",
   "execution_count": 2,
   "metadata": {},
   "outputs": [
    {
     "data": {
      "text/html": [
       "<style>\n",
       ".list-inline {list-style: none; margin:0; padding: 0}\n",
       ".list-inline>li {display: inline-block}\n",
       ".list-inline>li:not(:last-child)::after {content: \"\\00b7\"; padding: 0 .5ex}\n",
       "</style>\n",
       "<ol class=list-inline><li>0</li><li>0.25</li><li>1</li></ol>\n"
      ],
      "text/latex": [
       "\\begin{enumerate*}\n",
       "\\item 0\n",
       "\\item 0.25\n",
       "\\item 1\n",
       "\\end{enumerate*}\n"
      ],
      "text/markdown": [
       "1. 0\n",
       "2. 0.25\n",
       "3. 1\n",
       "\n",
       "\n"
      ],
      "text/plain": [
       "[1] 0.00 0.25 1.00"
      ]
     },
     "metadata": {},
     "output_type": "display_data"
    }
   ],
   "source": [
    "# We need to write functions so they take a column of input values and return a column of output values, \n",
    "# This will make what we do next easier.\n",
    "\n",
    "F <- function(x) {\n",
    "  result <- c()\n",
    "  \n",
    "  for (k in x) {\n",
    "    \n",
    "    # The actual function - note the if statements we need because of the piecewise nature\n",
    "    if (k < 0) {\n",
    "      result <- c(result, 0)\n",
    "    }\n",
    "    else if (k > 1) {\n",
    "      result <- c(result, 1)\n",
    "    }\n",
    "    else {\n",
    "      result <- c(result, k)\n",
    "    }\n",
    "  }\n",
    "  result\n",
    "} \n",
    "\n",
    "# testing that it works\n",
    "F(c(-0.25, 0.25, 3))"
   ]
  },
  {
   "cell_type": "markdown",
   "metadata": {},
   "source": [
    "With that defined we can now plot the function. "
   ]
  },
  {
   "cell_type": "code",
   "execution_count": 3,
   "metadata": {},
   "outputs": [
    {
     "data": {
      "image/png": "[encoded data removed]",
      "text/plain": [
       "plot without title"
      ]
     },
     "metadata": {
      "filenames": {
       "image/png": "/home/virgilpierce/Documents/GitHub/MATH_550/_build/jupyter_execute/05-Continuous_5_0.png"
      },
      "image/png": {
       "height": 420,
       "width": 420
      }
     },
     "output_type": "display_data"
    }
   ],
   "source": [
    "n <- 100\n",
    "x <- c((-2*n):(2*n))/n\n",
    "plot(x, F(x), type = \"l\")"
   ]
  },
  {
   "cell_type": "markdown",
   "metadata": {},
   "source": [
    "This is our cumulative distribution. Without even computing anything we can tell that the support of our density is on the interval $[0, 1]$. Note that we have corners in the CDF so there are two places where the density is not defined - your instincts from Calculus are correct that not having a density at a discrete set of values is not a big deal. You may recall from MATH 534 that there are some particularly nasty functions, but while they are theoretically interesting as CDFs they do not correspond to random variables we see often (if at all).\n",
    "\n",
    "We can compute the probability density function by differentiating this one.  We get a piecewise defined function:\n",
    "\n",
    "$$ f(x) = \\left\\{ \\begin{matrix} 0 & x < 0 \\\\ 1 & 0 \\leq x \\leq 1 \\\\ 0 & x > 1 \\end{matrix} \\right\\} $$\n",
    "\n",
    "This is an example of a uniform continuous distribution. On the support of the variable, the probability that $Y$ is in an interval is proportional to the length of that interval. It is tempting to say that each value of $Y$ is equally likely, however this while being correct is meaningless - for a continuous random variable the probability of any value occuring is zero - hence they are all the same, regardless of what the density is. For continuous random variables we can only talk in terms of (a) the probability density or (b) the probability of the variable occuring in a set.  This distinction is what separates those who have been carefully learning probability and statistics from those who tried to cut some corners or are getting sloppy.\n",
    "\n",
    "### General Unifrom Distributions\n",
    "\n",
    "Find the constant $C$ such that $f(x)$ below is a valid PDF:\n",
    "\n",
    "$$ f(x) = \\left\\{ \\begin{matrix} 0 & x < a \\\\ C & a \\leq x \\leq b \\\\ 0 & x > b \\end{matrix} \\right\\} $$\n",
    "\n",
    "If you translate this question into Physics:  Find $C$ such that the total mass of the object with density $f(x)$ is 1, you will not be surprised by the answer.\n",
    "\n",
    "1. Make a prediction about the Expected Value of the uniform random variable on $[a, b]$.\n",
    "\n",
    "### Simmulating continuous random variables\n",
    "\n",
    "Following our pattern for discrete random variables, I would like to first simmulate this random variable so we can experiment and see what we think the Expected Value and Variance are. However simmulating continuous random variables is somewhat harder than discrete ones. For example with discrete ones we could even simmulate them mechanically by filling a bag with chips with different markings on them.\n",
    "\n",
    "Luckily, R comes with a uniform random variable simmulator already prepared for us. It uses similar technology that that hiding behind our discrete *sample* command we used already. The command is *runif* r is the prefix and unif is the name of the distribution - hence we could simmulate our Poisson variable for example using *rpois*.\n",
    "\n",
    "\n",
    "\n",
    "\n"
   ]
  },
  {
   "cell_type": "code",
   "execution_count": 4,
   "metadata": {},
   "outputs": [
    {
     "data": {
      "text/html": [
       "<style>\n",
       ".list-inline {list-style: none; margin:0; padding: 0}\n",
       ".list-inline>li {display: inline-block}\n",
       ".list-inline>li:not(:last-child)::after {content: \"\\00b7\"; padding: 0 .5ex}\n",
       "</style>\n",
       "<ol class=list-inline><li>0.179883527336642</li><li>0.083208667114377</li><li>0.64214517804794</li><li>0.232845420017838</li><li>0.81601216387935</li><li>0.246764450334013</li><li>0.489712252980098</li><li>0.267855046316981</li><li>0.799960949691013</li><li>0.873074634000659</li><li>0.24154733074829</li><li>0.147789145354182</li><li>0.288510520709679</li><li>0.200610417174175</li><li>0.199446288170293</li><li>0.347083360655233</li><li>0.555725236190483</li><li>0.600989794358611</li><li>0.462660428136587</li><li>0.910222143866122</li><li>0.838361219502985</li><li>0.562663300195709</li><li>0.88272973545827</li><li>0.361528891837224</li><li>0.0407120899762958</li><li>0.384724030271173</li><li>0.333904002327472</li><li>0.200642533134669</li><li>0.612316030543298</li><li>0.82959195249714</li><li>0.307466248283163</li><li>0.257500814972445</li><li>0.164790248032659</li><li>0.176642169477418</li><li>0.902860069880262</li><li>0.988948633428663</li><li>0.596667181234807</li><li>0.0777245808858424</li><li>0.594669675221667</li><li>0.925969562260434</li><li>0.466017014812678</li><li>0.910142474574968</li><li>0.097630275413394</li><li>0.192517473129556</li><li>0.617340309079736</li><li>0.22197433677502</li><li>0.516479811863974</li><li>0.0138251530006528</li><li>0.756079850718379</li><li>0.902069105301052</li></ol>\n"
      ],
      "text/latex": [
       "\\begin{enumerate*}\n",
       "\\item 0.179883527336642\n",
       "\\item 0.083208667114377\n",
       "\\item 0.64214517804794\n",
       "\\item 0.232845420017838\n",
       "\\item 0.81601216387935\n",
       "\\item 0.246764450334013\n",
       "\\item 0.489712252980098\n",
       "\\item 0.267855046316981\n",
       "\\item 0.799960949691013\n",
       "\\item 0.873074634000659\n",
       "\\item 0.24154733074829\n",
       "\\item 0.147789145354182\n",
       "\\item 0.288510520709679\n",
       "\\item 0.200610417174175\n",
       "\\item 0.199446288170293\n",
       "\\item 0.347083360655233\n",
       "\\item 0.555725236190483\n",
       "\\item 0.600989794358611\n",
       "\\item 0.462660428136587\n",
       "\\item 0.910222143866122\n",
       "\\item 0.838361219502985\n",
       "\\item 0.562663300195709\n",
       "\\item 0.88272973545827\n",
       "\\item 0.361528891837224\n",
       "\\item 0.0407120899762958\n",
       "\\item 0.384724030271173\n",
       "\\item 0.333904002327472\n",
       "\\item 0.200642533134669\n",
       "\\item 0.612316030543298\n",
       "\\item 0.82959195249714\n",
       "\\item 0.307466248283163\n",
       "\\item 0.257500814972445\n",
       "\\item 0.164790248032659\n",
       "\\item 0.176642169477418\n",
       "\\item 0.902860069880262\n",
       "\\item 0.988948633428663\n",
       "\\item 0.596667181234807\n",
       "\\item 0.0777245808858424\n",
       "\\item 0.594669675221667\n",
       "\\item 0.925969562260434\n",
       "\\item 0.466017014812678\n",
       "\\item 0.910142474574968\n",
       "\\item 0.097630275413394\n",
       "\\item 0.192517473129556\n",
       "\\item 0.617340309079736\n",
       "\\item 0.22197433677502\n",
       "\\item 0.516479811863974\n",
       "\\item 0.0138251530006528\n",
       "\\item 0.756079850718379\n",
       "\\item 0.902069105301052\n",
       "\\end{enumerate*}\n"
      ],
      "text/markdown": [
       "1. 0.179883527336642\n",
       "2. 0.083208667114377\n",
       "3. 0.64214517804794\n",
       "4. 0.232845420017838\n",
       "5. 0.81601216387935\n",
       "6. 0.246764450334013\n",
       "7. 0.489712252980098\n",
       "8. 0.267855046316981\n",
       "9. 0.799960949691013\n",
       "10. 0.873074634000659\n",
       "11. 0.24154733074829\n",
       "12. 0.147789145354182\n",
       "13. 0.288510520709679\n",
       "14. 0.200610417174175\n",
       "15. 0.199446288170293\n",
       "16. 0.347083360655233\n",
       "17. 0.555725236190483\n",
       "18. 0.600989794358611\n",
       "19. 0.462660428136587\n",
       "20. 0.910222143866122\n",
       "21. 0.838361219502985\n",
       "22. 0.562663300195709\n",
       "23. 0.88272973545827\n",
       "24. 0.361528891837224\n",
       "25. 0.0407120899762958\n",
       "26. 0.384724030271173\n",
       "27. 0.333904002327472\n",
       "28. 0.200642533134669\n",
       "29. 0.612316030543298\n",
       "30. 0.82959195249714\n",
       "31. 0.307466248283163\n",
       "32. 0.257500814972445\n",
       "33. 0.164790248032659\n",
       "34. 0.176642169477418\n",
       "35. 0.902860069880262\n",
       "36. 0.988948633428663\n",
       "37. 0.596667181234807\n",
       "38. 0.0777245808858424\n",
       "39. 0.594669675221667\n",
       "40. 0.925969562260434\n",
       "41. 0.466017014812678\n",
       "42. 0.910142474574968\n",
       "43. 0.097630275413394\n",
       "44. 0.192517473129556\n",
       "45. 0.617340309079736\n",
       "46. 0.22197433677502\n",
       "47. 0.516479811863974\n",
       "48. 0.0138251530006528\n",
       "49. 0.756079850718379\n",
       "50. 0.902069105301052\n",
       "\n",
       "\n"
      ],
      "text/plain": [
       " [1] 0.17988353 0.08320867 0.64214518 0.23284542 0.81601216 0.24676445\n",
       " [7] 0.48971225 0.26785505 0.79996095 0.87307463 0.24154733 0.14778915\n",
       "[13] 0.28851052 0.20061042 0.19944629 0.34708336 0.55572524 0.60098979\n",
       "[19] 0.46266043 0.91022214 0.83836122 0.56266330 0.88272974 0.36152889\n",
       "[25] 0.04071209 0.38472403 0.33390400 0.20064253 0.61231603 0.82959195\n",
       "[31] 0.30746625 0.25750081 0.16479025 0.17664217 0.90286007 0.98894863\n",
       "[37] 0.59666718 0.07772458 0.59466968 0.92596956 0.46601701 0.91014247\n",
       "[43] 0.09763028 0.19251747 0.61734031 0.22197434 0.51647981 0.01382515\n",
       "[49] 0.75607985 0.90206911"
      ]
     },
     "metadata": {},
     "output_type": "display_data"
    }
   ],
   "source": [
    "result <- runif(50, 0, 1)\n",
    "result"
   ]
  },
  {
   "cell_type": "code",
   "execution_count": 5,
   "metadata": {},
   "outputs": [
    {
     "data": {
      "image/png": "[encoded data removed]",
      "text/plain": [
       "Plot with title “Histogram of result”"
      ]
     },
     "metadata": {
      "filenames": {
       "image/png": "/home/virgilpierce/Documents/GitHub/MATH_550/_build/jupyter_execute/05-Continuous_8_0.png"
      },
      "image/png": {
       "height": 420,
       "width": 420
      }
     },
     "output_type": "display_data"
    }
   ],
   "source": [
    "hist(result, 20)"
   ]
  },
  {
   "cell_type": "markdown",
   "metadata": {},
   "source": [
    "and maybe you can see that we might have a problem. Our sample is just that a sample. It is only a loose approximation of the distribution and in fact if all we knew was the sample we might conclude something veyr different about our distribution. Addressing this discrepency or maybe a defeciency is going to be out goal for the next few weeks."
   ]
  },
  {
   "cell_type": "markdown",
   "metadata": {},
   "source": [
    "### Expected Value \n",
    "\n",
    "In any case, we can use our sample to estimate the expected value of the distribution - intuitively, we expect or maybe hope that the mean of the sample is close to the expected value of the distribution. We will show that this precisely what is happening later, but for now let us allow ourselves to be naive."
   ]
  },
  {
   "cell_type": "code",
   "execution_count": 6,
   "metadata": {},
   "outputs": [
    {
     "data": {
      "text/plain": [
       "   Min. 1st Qu.  Median    Mean 3rd Qu.    Max. \n",
       "0.01383 0.20598 0.42369 0.46641 0.72760 0.98895 "
      ]
     },
     "metadata": {},
     "output_type": "display_data"
    }
   ],
   "source": [
    "summary(result)"
   ]
  },
  {
   "cell_type": "markdown",
   "metadata": {},
   "source": [
    "You might try increasing the size of the sample we take and check what happens to our summary statistics.\n",
    "\n",
    "#### Exact Value\n",
    "\n",
    "We can find the exact value similarly to how we did it in the discrete case. Recall that for a discrete random variable $Y$ the expected value is computed exactly but finding the sum (if we can find it):\n",
    "\n",
    "$$ E(Y) = \\sum r P(Y=r) $$\n",
    "\n",
    "In the continuous case with a random variable $Y$ with PDF $f(x)$ we appeal to our intuition from Calculus: \n",
    "\n",
    "$$ E(Y) = \\sum x P(\\mbox{$Y$ is in a small neighborhood near x}) = \\sum x f(x) \\Delta x$$\n",
    "\n",
    "and in the limit as the neighborhood sizes $\\Delta x \\to 0$ we get (again no surprises here if you use your intuition that sums become integrals):\n",
    "\n",
    "$$ E(Y) = \\int x f(x) dx  $$\n",
    "\n",
    "Where the integral is over the support of the random variable. \n",
    "\n",
    "For $Y$ the uniform random variable on the interval $[a, b]$:\n",
    "\n",
    "$$ E(Y) = \\int_a^b x \\frac{1}{b-a} dx = \\frac{1}{2(b-a)} x^2 \\bigg|_a^b = \\frac{b^2 - a^2}{2 (b-a)} = \\frac{b+a}{2} $$\n",
    "\n",
    "Which surprise, surprise is the midpoint of the interval $[a, b]$.\n",
    "\n",
    "### Variance\n",
    "\n",
    "The estimate variance from our sample can be found using *var*:"
   ]
  },
  {
   "cell_type": "code",
   "execution_count": 7,
   "metadata": {},
   "outputs": [
    {
     "data": {
      "text/html": [
       "0.085717723396176"
      ],
      "text/latex": [
       "0.085717723396176"
      ],
      "text/markdown": [
       "0.085717723396176"
      ],
      "text/plain": [
       "[1] 0.08571772"
      ]
     },
     "metadata": {},
     "output_type": "display_data"
    }
   ],
   "source": [
    "var(result)"
   ]
  },
  {
   "cell_type": "markdown",
   "metadata": {},
   "source": [
    "Again this actually just an estimate of the variance of the random variable. You should check what happens as the size of the sample is changed. \n",
    "\n",
    "#### Exact Value\n",
    "\n",
    "Again we can find the exact value using some algebra:  \n",
    "\n",
    "$$ V(Y) = E(Y^2) - \\frac{(b+a)^2}{4} $$\n",
    "\n",
    "and an integral:\n",
    "\n",
    "$$ E(Y^2) = \\int_a^b x^2 \\frac{1}{b-a} dx = \\frac{1}{3(b-a)} x^3 \\bigg|_a^b = \\frac{b^3 - a^3}{3 (b-a)} $$\n",
    "\n",
    "I would just use Wolfram Alpha to simplify this, but you could also factor the cubic using the binomial theorem:\n",
    "\n",
    "$$ E(Y^2) = \\frac{b^2 + ab + a^2}{3} $$\n",
    "\n",
    "(again one reason I like to teach this class to our MA program is all of these exercises from Calculus get used).\n",
    "\n",
    "Then we combine this with the expected value to get:\n",
    "\n",
    "$$ V(Y) = \\frac{b^2 + ab + a^2}{3} - \\frac{b^2 + 2 ab + a^2}{4} = \\frac{b^2 - 2 ab + a^2}{12} = \\frac{(b-a)^2}{12} $$ \n",
    "\n",
    "For the interval $[0, 1]$ we have:"
   ]
  },
  {
   "cell_type": "code",
   "execution_count": 8,
   "metadata": {},
   "outputs": [
    {
     "data": {
      "text/html": [
       "0.0833333333333333"
      ],
      "text/latex": [
       "0.0833333333333333"
      ],
      "text/markdown": [
       "0.0833333333333333"
      ],
      "text/plain": [
       "[1] 0.08333333"
      ]
     },
     "metadata": {},
     "output_type": "display_data"
    }
   ],
   "source": [
    "(1-0)^2 / 12"
   ]
  },
  {
   "cell_type": "markdown",
   "metadata": {},
   "source": [
    "## Normal Distributions\n",
    "\n",
    "The uniform distribution is a nice simple first example. However our next example we will see forms the basis for a large portion fo the results we will work with. The *Normal Distribution* will turn out to be a a universal structure that shows up in many instances.\n",
    "\n",
    "The Probability Density Function for the normal distirbution is the shape classically known as the Bell Curve. It is given by the function:\n",
    "\n",
    "$$ f(x) = \\frac{1}{\\sigma \\sqrt{2\\pi}} e^{-(y - \\mu)^2 / (2 \\sigma^2) } $$\n",
    "\n",
    "Note that the distribution has two free parameters (suggestively written as) $\\mu$ and $\\sigma^2$. \n",
    "\n",
    "A graph of the PDF, using the builtin expression for the function *dnorm*:"
   ]
  },
  {
   "cell_type": "code",
   "execution_count": 9,
   "metadata": {},
   "outputs": [
    {
     "data": {
      "image/png": "[encoded data removed]",
      "text/plain": [
       "plot without title"
      ]
     },
     "metadata": {
      "filenames": {
       "image/png": "/home/virgilpierce/Documents/GitHub/MATH_550/_build/jupyter_execute/05-Continuous_17_0.png"
      },
      "image/png": {
       "height": 420,
       "width": 420
      }
     },
     "output_type": "display_data"
    }
   ],
   "source": [
    "n <- 100\n",
    "mu <- 1\n",
    "sigma <- 0.5\n",
    "x <- c((-4*n):(4*n))/n\n",
    "v <- dnorm(x, mu, sigma)\n",
    "plot(x, v, type='l')"
   ]
  },
  {
   "cell_type": "markdown",
   "metadata": {},
   "source": [
    "Adjust the $\\mu$ and $\\sigma$ in this code block until you have a hypothesis about what the role is that they play in the shape of the distribution.\n",
    "\n",
    "Note that the distribution never actually gives 0, though it does get very close as $x\\to \\pm \\infty$. The support of this random variable is all real numbers.\n",
    "\n",
    "The cummulative distribution function is defined to be:\n",
    "\n",
    "$$ F(x) = \\int_{-\\infty}^x \\frac{1}{\\sigma \\sqrt{2\\pi}} e^{- (t-\\mu)^2 / (2 \\sigma^2) } dt $$\n",
    "\n",
    "Note that while this is an unbounded integral, it is one that will have no problems converging. That said, it is also an integrand for which none of the rules you learned in Calculus 2 work. We are left with numerical approximations, and in our case we can just use the builtin function *pnorm* in R."
   ]
  },
  {
   "cell_type": "code",
   "execution_count": 10,
   "metadata": {},
   "outputs": [
    {
     "data": {
      "image/png": "[encoded data removed]",
      "text/plain": [
       "plot without title"
      ]
     },
     "metadata": {
      "filenames": {
       "image/png": "/home/virgilpierce/Documents/GitHub/MATH_550/_build/jupyter_execute/05-Continuous_19_0.png"
      },
      "image/png": {
       "height": 420,
       "width": 420
      }
     },
     "output_type": "display_data"
    }
   ],
   "source": [
    "n <- 100\n",
    "mu <- 1\n",
    "sigma <- 0.5\n",
    "x <- c((-4*n):(4*n))/n\n",
    "v <- pnorm(x, mu, sigma)\n",
    "plot(x, v, type='l')"
   ]
  },
  {
   "cell_type": "markdown",
   "metadata": {},
   "source": [
    "### Sampling from the Normal Distribution\n",
    "\n",
    "We will spend a large portion of later chapters asking what happens when we sample from a normal distribution, but r provides a builtin function that does it for us, so let's go ahead and use that. Though it is worth pausing here to discuss how one would implement such a thing as it is instructive:\n",
    "\n",
    "- Suppose that we have a good pseudo random number generator that will give us a $Q$ uniformly distributed random variable on the interval $[0, 1]$.  If we generating a $Q = t$ and then take $F^{-1}(t) = x$ (the inverse of the cummulative distribution function, this will then give us an $x$ that we can use a sample from our random variable with cummulative distribution $F(x)$. \n",
    "\n",
    "- Note that because $F(x)$ is non-decreasing it is 1-1 and therefore the inverse function exists. Though we may not have a nice formula for it - for example with the normal distribution we do not have a nice formula for it.\n",
    "\n",
    "- Note that where $F(x)$ is steepest, which corresponds to where $f(x)$ is largest, the inverse function will be less steep. Therefore for a larger region of $Q$ values we will get a smaller region of $Y$ values - and vice versa.\n",
    "\n",
    "Of course it is all moot as we do not have an exact formula for $F(x)$ for the normal distribution and therefore we do not have an exact formula for the inverse of the CDF. What we do have though is a builtin sampling function *rnorm*.  \n",
    "\n",
    "Again note how consistent R is - the *r* prefix means sample from the variable."
   ]
  },
  {
   "cell_type": "code",
   "execution_count": 11,
   "metadata": {},
   "outputs": [
    {
     "data": {
      "text/html": [
       "<style>\n",
       ".list-inline {list-style: none; margin:0; padding: 0}\n",
       ".list-inline>li {display: inline-block}\n",
       ".list-inline>li:not(:last-child)::after {content: \"\\00b7\"; padding: 0 .5ex}\n",
       "</style>\n",
       "<ol class=list-inline><li>1.4637411042183</li><li>0.127440856886186</li><li>1.49505593108903</li><li>0.0233976422251806</li><li>0.658562374180882</li><li>1.69436635337567</li><li>1.4865861006562</li><li>1.52878416693721</li><li>0.475170164502142</li><li>0.659704766414328</li><li>0.871918827935823</li><li>0.60557529635247</li><li>-0.0602226214676727</li><li>1.25761511468149</li><li>0.849591487128277</li><li>1.95740305109704</li><li>0.81906403865906</li><li>1.54559455721518</li><li>0.848413612256218</li><li>0.510849138269244</li><li>0.757141944560981</li><li>1.56736851679131</li><li>1.33485146387942</li><li>0.527478104889261</li><li>0.390577999485876</li><li>1.72225641846789</li><li>1.25464905416659</li><li>1.94315705713891</li><li>0.955992181966351</li><li>1.77468066944099</li><li>1.64851125298453</li><li>0.676789640466834</li><li>1.25055907344264</li><li>0.752567899257575</li><li>1.22809268717047</li><li>0.585203511544965</li><li>0.664904793065033</li><li>1.59795756870139</li><li>0.789973334728589</li><li>0.74137545010301</li><li>0.246946152848301</li><li>1.36031661653293</li><li>1.64788885342802</li><li>1.18428580211459</li><li>0.898115787585576</li><li>1.02969189891262</li><li>0.919494555502157</li><li>1.71250449664392</li><li>1.13772367540531</li><li>1.61324761426894</li></ol>\n"
      ],
      "text/latex": [
       "\\begin{enumerate*}\n",
       "\\item 1.4637411042183\n",
       "\\item 0.127440856886186\n",
       "\\item 1.49505593108903\n",
       "\\item 0.0233976422251806\n",
       "\\item 0.658562374180882\n",
       "\\item 1.69436635337567\n",
       "\\item 1.4865861006562\n",
       "\\item 1.52878416693721\n",
       "\\item 0.475170164502142\n",
       "\\item 0.659704766414328\n",
       "\\item 0.871918827935823\n",
       "\\item 0.60557529635247\n",
       "\\item -0.0602226214676727\n",
       "\\item 1.25761511468149\n",
       "\\item 0.849591487128277\n",
       "\\item 1.95740305109704\n",
       "\\item 0.81906403865906\n",
       "\\item 1.54559455721518\n",
       "\\item 0.848413612256218\n",
       "\\item 0.510849138269244\n",
       "\\item 0.757141944560981\n",
       "\\item 1.56736851679131\n",
       "\\item 1.33485146387942\n",
       "\\item 0.527478104889261\n",
       "\\item 0.390577999485876\n",
       "\\item 1.72225641846789\n",
       "\\item 1.25464905416659\n",
       "\\item 1.94315705713891\n",
       "\\item 0.955992181966351\n",
       "\\item 1.77468066944099\n",
       "\\item 1.64851125298453\n",
       "\\item 0.676789640466834\n",
       "\\item 1.25055907344264\n",
       "\\item 0.752567899257575\n",
       "\\item 1.22809268717047\n",
       "\\item 0.585203511544965\n",
       "\\item 0.664904793065033\n",
       "\\item 1.59795756870139\n",
       "\\item 0.789973334728589\n",
       "\\item 0.74137545010301\n",
       "\\item 0.246946152848301\n",
       "\\item 1.36031661653293\n",
       "\\item 1.64788885342802\n",
       "\\item 1.18428580211459\n",
       "\\item 0.898115787585576\n",
       "\\item 1.02969189891262\n",
       "\\item 0.919494555502157\n",
       "\\item 1.71250449664392\n",
       "\\item 1.13772367540531\n",
       "\\item 1.61324761426894\n",
       "\\end{enumerate*}\n"
      ],
      "text/markdown": [
       "1. 1.4637411042183\n",
       "2. 0.127440856886186\n",
       "3. 1.49505593108903\n",
       "4. 0.0233976422251806\n",
       "5. 0.658562374180882\n",
       "6. 1.69436635337567\n",
       "7. 1.4865861006562\n",
       "8. 1.52878416693721\n",
       "9. 0.475170164502142\n",
       "10. 0.659704766414328\n",
       "11. 0.871918827935823\n",
       "12. 0.60557529635247\n",
       "13. -0.0602226214676727\n",
       "14. 1.25761511468149\n",
       "15. 0.849591487128277\n",
       "16. 1.95740305109704\n",
       "17. 0.81906403865906\n",
       "18. 1.54559455721518\n",
       "19. 0.848413612256218\n",
       "20. 0.510849138269244\n",
       "21. 0.757141944560981\n",
       "22. 1.56736851679131\n",
       "23. 1.33485146387942\n",
       "24. 0.527478104889261\n",
       "25. 0.390577999485876\n",
       "26. 1.72225641846789\n",
       "27. 1.25464905416659\n",
       "28. 1.94315705713891\n",
       "29. 0.955992181966351\n",
       "30. 1.77468066944099\n",
       "31. 1.64851125298453\n",
       "32. 0.676789640466834\n",
       "33. 1.25055907344264\n",
       "34. 0.752567899257575\n",
       "35. 1.22809268717047\n",
       "36. 0.585203511544965\n",
       "37. 0.664904793065033\n",
       "38. 1.59795756870139\n",
       "39. 0.789973334728589\n",
       "40. 0.74137545010301\n",
       "41. 0.246946152848301\n",
       "42. 1.36031661653293\n",
       "43. 1.64788885342802\n",
       "44. 1.18428580211459\n",
       "45. 0.898115787585576\n",
       "46. 1.02969189891262\n",
       "47. 0.919494555502157\n",
       "48. 1.71250449664392\n",
       "49. 1.13772367540531\n",
       "50. 1.61324761426894\n",
       "\n",
       "\n"
      ],
      "text/plain": [
       " [1]  1.46374110  0.12744086  1.49505593  0.02339764  0.65856237  1.69436635\n",
       " [7]  1.48658610  1.52878417  0.47517016  0.65970477  0.87191883  0.60557530\n",
       "[13] -0.06022262  1.25761511  0.84959149  1.95740305  0.81906404  1.54559456\n",
       "[19]  0.84841361  0.51084914  0.75714194  1.56736852  1.33485146  0.52747810\n",
       "[25]  0.39057800  1.72225642  1.25464905  1.94315706  0.95599218  1.77468067\n",
       "[31]  1.64851125  0.67678964  1.25055907  0.75256790  1.22809269  0.58520351\n",
       "[37]  0.66490479  1.59795757  0.78997333  0.74137545  0.24694615  1.36031662\n",
       "[43]  1.64788885  1.18428580  0.89811579  1.02969190  0.91949456  1.71250450\n",
       "[49]  1.13772368  1.61324761"
      ]
     },
     "metadata": {},
     "output_type": "display_data"
    }
   ],
   "source": [
    "result <- rnorm(50, 1, 0.5)\n",
    "result"
   ]
  },
  {
   "cell_type": "code",
   "execution_count": 12,
   "metadata": {},
   "outputs": [
    {
     "data": {
      "image/png": "[encoded data removed]",
      "text/plain": [
       "Plot with title “Histogram of result”"
      ]
     },
     "metadata": {
      "filenames": {
       "image/png": "/home/virgilpierce/Documents/GitHub/MATH_550/_build/jupyter_execute/05-Continuous_22_0.png"
      },
      "image/png": {
       "height": 420,
       "width": 420
      }
     },
     "output_type": "display_data"
    }
   ],
   "source": [
    "hist(result, 10)"
   ]
  },
  {
   "cell_type": "code",
   "execution_count": 13,
   "metadata": {},
   "outputs": [
    {
     "data": {
      "text/plain": [
       "    Min.  1st Qu.   Median     Mean  3rd Qu.     Max. \n",
       "-0.06022  0.66788  0.99284  1.05466  1.52035  1.95740 "
      ]
     },
     "metadata": {},
     "output_type": "display_data"
    }
   ],
   "source": [
    "summary(result)"
   ]
  },
  {
   "cell_type": "markdown",
   "metadata": {},
   "source": [
    "Take the time to adjust the size of the sample and see what we get."
   ]
  },
  {
   "cell_type": "markdown",
   "metadata": {},
   "source": [
    "### Examples\n",
    "\n",
    "#### Total Probability\n",
    "\n",
    "We should check that the total probability of this density is 1. That is in fact what the the fraction in the density:  $\\frac{1}{\\sigma \\sqrt{2\\pi}} $ is for. It has always fascinated me that $\\pi$ shows up here!  Unfortunately explaining why is beyond the scope of our class, but is a fascinating application of the Fourier Transformation. "
   ]
  },
  {
   "cell_type": "markdown",
   "metadata": {},
   "source": [
    "#### Probability of $Y$ in an Interval\n",
    "\n",
    "Suppose we have the normal random variable $Y$ with mean 0 and variance 1. Find the probability that $Y$ is in the interval $[0, \\infty)$.\n",
    "\n",
    "We compute this from the integral of the density over this region:\n",
    "\n",
    "$$ P( 0 \\leq Y ) = \\int_0^\\infty \\frac{1}{\\sqrt{2\\pi}} e^{-x^2 / 2 } dx $$\n",
    "\n",
    "We can ask Wolfram Alpha or use the symmetry to argue we get 0.5."
   ]
  },
  {
   "cell_type": "markdown",
   "metadata": {},
   "source": [
    "#### Expected Value of a Function\n",
    "\n",
    "The expected value of a function of our normal variable with mean 0 and variance 1 is found by integrating that function against the PDF for the distribution. For example to find\n",
    "\n",
    "$$ E( e^{x} ) $$ \n",
    "\n",
    "we need to compute:\n",
    "\n",
    "$$ \\int_{-\\infty}^\\infty e^x \\frac{1}{\\sqrt{2\\pi}} e^{-x^2 / 2 } dx $$\n",
    "\n",
    "These are not typically easy integrals to compute but we can approximate the value numerically or use Wolfram Alpha: 1.64872.\n",
    "\n",
    "#### Find an Interval with given probability\n",
    "\n",
    "Find an interval $[a, b]$ such that the normal random variable with mean 0 and variance 1 has probability 0.95 of being found in the interval. \n",
    "\n",
    "To answer this one it is worth using the cummulative distribution function defined in R *pnorm*. "
   ]
  },
  {
   "cell_type": "markdown",
   "metadata": {},
   "source": [
    "### Expected Value and Variance of Normal Random Variables\n",
    "\n",
    "As you might expect the parameters $\\mu$ and $\\sigma^2$ are so named because for the normal random variable they are precisly the mean and variance. \n",
    "\n",
    "$$E(Y) = \\int_{-\\infty}^\\infty x \\frac{1}{\\sigma \\sqrt{2\\pi}} e^{-(x-\\mu)^2 / (2\\sigma^2) } dx = \\mu $$\n",
    "\n",
    "Showing this exactly is beyond the scope of the class, really the two best ways to do it use Complex Analysis or the Fourier Transform.\n",
    "\n",
    "The variance should be compute directly (i.e. not using our algebra trick:\n",
    "\n",
    "$$ V(Y) = E( (Y-\\mu)^2 ) = \\int_{-\\infty}^\\infty (x-\\mu)^2 \\frac{1}{\\sigma \\sqrt{2\\pi}} e^{-(x-\\mu)^2 / (2\\sigma^2) } dx = \\sigma^2 $$\n",
    "\n",
    "Note that immediately a change of variables can be made that eliminates $\\mu$ - hence the $V(Y)$ must even before we compute it, only depend on $\\sigma^2$. \n"
   ]
  },
  {
   "cell_type": "code",
   "execution_count": null,
   "metadata": {},
   "outputs": [],
   "source": []
  }
 ],
 "metadata": {
  "kernelspec": {
   "display_name": "R",
   "language": "R",
   "name": "ir"
  },
  "language_info": {
   "codemirror_mode": "r",
   "file_extension": ".r",
   "mimetype": "text/x-r-source",
   "name": "R",
   "pygments_lexer": "r",
   "version": "4.0.2"
  }
 },
 "nbformat": 4,
 "nbformat_minor": 4
}