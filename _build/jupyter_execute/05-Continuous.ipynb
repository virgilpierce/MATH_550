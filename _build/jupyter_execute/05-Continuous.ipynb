{
 "cells": [
  {
   "cell_type": "markdown",
   "metadata": {},
   "source": [
    "# Continuous Random Variables\n",
    "\n",
    "We spent the last two days thinking about discrete probability distributions. Particularly these include random variables that are counting things (what do the binomial, geometric, and Poisson random variables count?).  \n",
    "\n",
    "However you can probably give some examples of numerical random variables which are not discrete.\n",
    "\n",
    "Note the thing that should give us pause, and explains why we have to introduce these random variables in a slightly different way from how we introduced discrete random variables:\n",
    "\n",
    "- For a discrete random variable, it makes sense to ask $P(Y = r)$ for some $r$. I.e. there will be some $r$ such that this number is non-zero. In fact we took this as our starting point for all of the discrete random distributions we have talked about.\n",
    "\n",
    "- For a continuous random variable:  $P(Y=x)$ has us a little bit nervous. If $Y$ is truly continuous then near $x$ there are infinitely many (uncountably infinitely many) values that are also possible. They can't all have a non-zero value without us having trouble adding them all up, and at the same time if only a discrete set of them are non-zero so that we can add them up then what we have is a discrete variable. In other words, we have a bit of a paradox. Luckily Calculus, as it usually does, gives us the language to talk about continuous things as generalizations of discrete things. \n",
    "\n",
    "\n",
    "First we need to make our definition precise: How will we recognize a continuous random variable?  (if you were in my class last summer you might recall our *sandwich* activity). \n",
    "\n",
    "One picture that should have you thinking from earlier this week is the graphs we made of the *Cumulative Distribution Function* for our random variables, here is the one for the binomials random variable:"
   ]
  },
  {
   "cell_type": "code",
   "execution_count": 1,
   "metadata": {},
   "outputs": [
    {
     "data": {
      "image/png": "[encoded data removed]",
      "text/plain": [
       "plot without title"
      ]
     },
     "metadata": {
      "filenames": {
       "image/png": "/home/virgilpierce/Documents/GitHub/MATH_550/_build/jupyter_execute/05-Continuous_1_0.png"
      },
      "image/png": {
       "height": 420,
       "width": 420
      }
     },
     "output_type": "display_data"
    }
   ],
   "source": [
    "n <- 10\n",
    "p <- 0.38\n",
    "r <- c(-1:(50*n))/50\n",
    "plot(r, pbinom(r, n, p), type=\"l\")"
   ]
  },
  {
   "cell_type": "markdown",
   "metadata": {},
   "source": [
    "onsider instead what this graph will need to look like for a random variable that can take any value rather than just the integer values?  \n",
    "\n",
    "Recall the properties of our CDF $F(x) = P(Y \\leq x)$:\n",
    "\n",
    "- $\\lim_{x\\to -\\infty} F(x) = 0$\n",
    "- $0 \\leq F(x) \\leq 1$ for all x.\n",
    "- $F(x)$ is a non decreasing function of $x$:  given $x_1 < x_2$ then $F(x_1) < F(x_2)$. \n",
    "- $\\lim_{x\\to \\infty} F(x) = 1$\n",
    "\n",
    "A *Continuous Random Variable* is one for which the cumulative distribution function: $F(x) = P(Y \\leq x)$ is a continuous function. \n",
    "\n",
    "Note that we can't say a discrete random variable is one where the CDF is not-continuous as it could have continuous and non-continuous parts. There is a whole theory of decomposing a general random variable into discrete and continuous components that is beyond what we want to do for this class. \n",
    "\n",
    "The next thing to note is that for our discrete random variables, the jump for the steps in the CDF is the probability distribution for that value.\n",
    "\n",
    "For a continuous random variable then, the probability that the variable achieves any specific value must be 0 because otherwise $P(Y = x) $ would be the size of a jump discontinuity in the CDF.\n",
    "\n",
    "\n",
    "## Probability Density Function\n",
    "\n",
    "So we don't have a distribution in the sense that we do for discrete random variables, however note that for continuous functions the idea which captures how much the function is increasing (the size of the steps) is given by the derivative. This leads to:\n",
    "\n",
    "The *Probability Density Function* of a continuous random variable with CDF $F(x) = P(Y \\leq x)$ is given by:\n",
    "$$ f(x) = \\frac{d}{dx} F(x) $$\n",
    "where the derivative exists. \n",
    "\n",
    "Note a few consequences:\n",
    "\n",
    "- $ f(x) \\geq 0 $\n",
    "- $ \\int_{-\\infty}^\\infty f(x) dx = 1$\n",
    "\n",
    "### Why is this called the density function?  \n",
    "\n",
    "Let's assume that $f(x)$ exists everywhere. Then the Fundamental Theorem of Calculus implies that:\n",
    "\n",
    "$$ F(x) = P(Y \\leq x) = \\int_{-\\infty}^x f(t) dt $$\n",
    "\n",
    "Suppose we wanted to know $P(a \\leq Y \\leq b)$?  On the one hand we compute this from the CDF:\n",
    "\n",
    "$$ P( a \\leq Y \\leq b) = F(b) - F(a) $$\n",
    "\n",
    "However we can rewrite this in terms of the PDF using the algebra of integrals: \n",
    "\n",
    "$$ P(a \\leq Y \\leq b) = \\int_a^b f(x) dx $$\n",
    "\n",
    "I.e. the area under $f(x)$ over a region of $x$-space gives the probability that $Y$ lies in that region. Note some consequences:\n",
    "\n",
    "- This is another way of thinking about why $P(Y = x) = 0 $:  It corresponds to an integral over a single point. \n",
    "\n",
    "I think of this as density in the same sense as we would use in Physics if the density is a proportion of the whole (i.e. we choose units so the total mass is 1). The integral of the density function for an object gives the mass of that object, center of mass and mean are the same thing, and the variance we are using corresponds to moments - describing how much the mass of an object is spread from its center.\n",
    "\n",
    "## Uniform Distribution\n",
    "\n",
    "For our first example consider the cumulative distribution function:\n",
    "\n",
    "$$ F(x) = \\left\\{ \\begin{matrix} 0 & x < 0 \\\\ x & 0 \\leq x \\leq 1 \\\\ 1 & x > 1 \\end{matrix}    \\right\\} $$\n",
    "\n",
    "To plot this, we first need to define the function. We will go over this in class, but this is the syntax for definition a function in R and also because it is piecewise the syntax for *if* statements. Note this is the most complicated programming we will do and you can just copy this function and modify it. A couple of notes about using this in R - from the notebook you need to execute this command with the cursor at the very top, working from the middle will only run the middle block of code. The other note is that I want to write the function so that it handles columns the same way the builtin functions we have already met do. That means I need to assume the input is a list of values and it needs to return a list of values."
   ]
  },
  {
   "cell_type": "code",
   "execution_count": 2,
   "metadata": {},
   "outputs": [
    {
     "data": {
      "text/html": [
       "<style>\n",
       ".list-inline {list-style: none; margin:0; padding: 0}\n",
       ".list-inline>li {display: inline-block}\n",
       ".list-inline>li:not(:last-child)::after {content: \"\\00b7\"; padding: 0 .5ex}\n",
       "</style>\n",
       "<ol class=list-inline><li>0</li><li>0.25</li><li>1</li></ol>\n"
      ],
      "text/latex": [
       "\\begin{enumerate*}\n",
       "\\item 0\n",
       "\\item 0.25\n",
       "\\item 1\n",
       "\\end{enumerate*}\n"
      ],
      "text/markdown": [
       "1. 0\n",
       "2. 0.25\n",
       "3. 1\n",
       "\n",
       "\n"
      ],
      "text/plain": [
       "[1] 0.00 0.25 1.00"
      ]
     },
     "metadata": {},
     "output_type": "display_data"
    }
   ],
   "source": [
    "# We need to write functions so they take a column of input values and return a column of output values, \n",
    "# This will make what we do next easier.\n",
    "\n",
    "F <- function(x) {\n",
    "  result <- c()\n",
    "  \n",
    "  for (k in x) {\n",
    "    \n",
    "    # The actual function - note the if statements we need because of the piecewise nature\n",
    "    if (k < 0) {\n",
    "      result <- c(result, 0)\n",
    "    }\n",
    "    else if (k > 1) {\n",
    "      result <- c(result, 1)\n",
    "    }\n",
    "    else {\n",
    "      result <- c(result, k)\n",
    "    }\n",
    "  }\n",
    "  result\n",
    "} \n",
    "\n",
    "# testing that it works\n",
    "F(c(-0.25, 0.25, 3))"
   ]
  },
  {
   "cell_type": "markdown",
   "metadata": {},
   "source": [
    "With that defined we can now plot the function. "
   ]
  },
  {
   "cell_type": "code",
   "execution_count": 3,
   "metadata": {},
   "outputs": [
    {
     "data": {
      "image/png": "[encoded data removed]",
      "text/plain": [
       "plot without title"
      ]
     },
     "metadata": {
      "filenames": {
       "image/png": "/home/virgilpierce/Documents/GitHub/MATH_550/_build/jupyter_execute/05-Continuous_5_0.png"
      },
      "image/png": {
       "height": 420,
       "width": 420
      }
     },
     "output_type": "display_data"
    }
   ],
   "source": [
    "n <- 100\n",
    "x <- c((-2*n):(2*n))/n\n",
    "plot(x, F(x), type = \"l\")"
   ]
  },
  {
   "cell_type": "markdown",
   "metadata": {},
   "source": [
    "This is our cumulative distribution. Without even computing anything we can tell that the support of our density is on the interval $[0, 1]$. Note that we have corners in the CDF so there are two places where the density is not defined - your instincts from Calculus are correct that not having a density at a discrete set of values is not a big deal. You may recall from MATH 534 that there are some particularly nasty functions, but while they are theoretically interesting as CDFs they do not correspond to random variables we see often (if at all).\n",
    "\n",
    "We can compute the probability density function by differentiating this one.  We get a piecewise defined function:\n",
    "\n",
    "$$ f(x) = \\left\\{ \\begin{matrix} 0 & x < 0 \\\\ 1 & 0 \\leq x \\leq 1 \\\\ 0 & x > 1 \\end{matrix} \\right\\} $$\n",
    "\n",
    "This is an example of a uniform continuous distribution. On the support of the variable, the probability that $Y$ is in an interval is proportional to the length of that interval. It is tempting to say that each value of $Y$ is equally likely, however this while being correct is meaningless - for a continuous random variable the probability of any value occuring is zero - hence they are all the same, regardless of what the density is. For continuous random variables we can only talk in terms of (a) the probability density or (b) the probability of the variable occuring in a set.  This distinction is what separates those who have been carefully learning probability and statistics from those who tried to cut some corners or are getting sloppy.\n",
    "\n",
    "### General Unifrom Distributions\n",
    "\n",
    "Find the constant $C$ such that $f(x)$ below is a valid PDF:\n",
    "\n",
    "$$ f(x) = \\left\\{ \\begin{matrix} 0 & x < a \\\\ C & a \\leq x \\leq b \\\\ 0 & x > b \\end{matrix} \\right\\} $$\n",
    "\n",
    "If you translate this question into Physics:  Find $C$ such that the total mass of the object with density $f(x)$ is 1, you will not be surprised by the answer.\n",
    "\n",
    "1. Make a prediction about the Expected Value of the uniform random variable on $[a, b]$.\n",
    "\n",
    "### Simmulating continuous random variables\n",
    "\n",
    "Following our pattern for discrete random variables, I would like to first simmulate this random variable so we can experiment and see what we think the Expected Value and Variance are. However simmulating continuous random variables is somewhat harder than discrete ones. For example with discrete ones we could even simmulate them mechanically by filling a bag with chips with different markings on them.\n",
    "\n",
    "Luckily, R comes with a uniform random variable simmulator already prepared for us. It uses similar technology that that hiding behind our discrete *sample* command we used already. The command is *runif* r is the prefix and unif is the name of the distribution - hence we could simmulate our Poisson variable for example using *rpois*.\n",
    "\n",
    "\n",
    "\n",
    "\n"
   ]
  },
  {
   "cell_type": "code",
   "execution_count": 4,
   "metadata": {},
   "outputs": [
    {
     "data": {
      "text/html": [
       "<style>\n",
       ".list-inline {list-style: none; margin:0; padding: 0}\n",
       ".list-inline>li {display: inline-block}\n",
       ".list-inline>li:not(:last-child)::after {content: \"\\00b7\"; padding: 0 .5ex}\n",
       "</style>\n",
       "<ol class=list-inline><li>0.44196895044297</li><li>0.639591481303796</li><li>0.156283399788663</li><li>0.524530499242246</li><li>0.794476743787527</li><li>0.964458289789036</li><li>0.740097160451114</li><li>0.000646769069135189</li><li>0.563960117287934</li><li>0.256437463220209</li><li>0.0728266832884401</li><li>0.190172113711014</li><li>0.895058761350811</li><li>0.346919201314449</li><li>0.609722225228325</li><li>0.428403049241751</li><li>0.962903729407117</li><li>0.420675455359742</li><li>0.16847921255976</li><li>0.104754390195012</li><li>0.929244366241619</li><li>0.329721350222826</li><li>0.716274270787835</li><li>0.572553566191345</li><li>0.49146158574149</li><li>0.629327341215685</li><li>0.693135792389512</li><li>0.0176478256471455</li><li>0.900211474159732</li><li>0.542440827004611</li><li>0.225210800068453</li><li>0.696116974111646</li><li>0.563509899424389</li><li>0.789375897496939</li><li>0.0962984010111541</li><li>0.732412374578416</li><li>0.474899863824248</li><li>0.192756704753265</li><li>0.056589160580188</li><li>0.859179525403306</li><li>0.683803251944482</li><li>0.423192921560258</li><li>0.919298293534666</li><li>0.580085315974429</li><li>0.508078619139269</li><li>0.658739357953891</li><li>0.710519689600915</li><li>0.468984005507082</li><li>0.831684718606994</li><li>0.757585759274662</li></ol>\n"
      ],
      "text/latex": [
       "\\begin{enumerate*}\n",
       "\\item 0.44196895044297\n",
       "\\item 0.639591481303796\n",
       "\\item 0.156283399788663\n",
       "\\item 0.524530499242246\n",
       "\\item 0.794476743787527\n",
       "\\item 0.964458289789036\n",
       "\\item 0.740097160451114\n",
       "\\item 0.000646769069135189\n",
       "\\item 0.563960117287934\n",
       "\\item 0.256437463220209\n",
       "\\item 0.0728266832884401\n",
       "\\item 0.190172113711014\n",
       "\\item 0.895058761350811\n",
       "\\item 0.346919201314449\n",
       "\\item 0.609722225228325\n",
       "\\item 0.428403049241751\n",
       "\\item 0.962903729407117\n",
       "\\item 0.420675455359742\n",
       "\\item 0.16847921255976\n",
       "\\item 0.104754390195012\n",
       "\\item 0.929244366241619\n",
       "\\item 0.329721350222826\n",
       "\\item 0.716274270787835\n",
       "\\item 0.572553566191345\n",
       "\\item 0.49146158574149\n",
       "\\item 0.629327341215685\n",
       "\\item 0.693135792389512\n",
       "\\item 0.0176478256471455\n",
       "\\item 0.900211474159732\n",
       "\\item 0.542440827004611\n",
       "\\item 0.225210800068453\n",
       "\\item 0.696116974111646\n",
       "\\item 0.563509899424389\n",
       "\\item 0.789375897496939\n",
       "\\item 0.0962984010111541\n",
       "\\item 0.732412374578416\n",
       "\\item 0.474899863824248\n",
       "\\item 0.192756704753265\n",
       "\\item 0.056589160580188\n",
       "\\item 0.859179525403306\n",
       "\\item 0.683803251944482\n",
       "\\item 0.423192921560258\n",
       "\\item 0.919298293534666\n",
       "\\item 0.580085315974429\n",
       "\\item 0.508078619139269\n",
       "\\item 0.658739357953891\n",
       "\\item 0.710519689600915\n",
       "\\item 0.468984005507082\n",
       "\\item 0.831684718606994\n",
       "\\item 0.757585759274662\n",
       "\\end{enumerate*}\n"
      ],
      "text/markdown": [
       "1. 0.44196895044297\n",
       "2. 0.639591481303796\n",
       "3. 0.156283399788663\n",
       "4. 0.524530499242246\n",
       "5. 0.794476743787527\n",
       "6. 0.964458289789036\n",
       "7. 0.740097160451114\n",
       "8. 0.000646769069135189\n",
       "9. 0.563960117287934\n",
       "10. 0.256437463220209\n",
       "11. 0.0728266832884401\n",
       "12. 0.190172113711014\n",
       "13. 0.895058761350811\n",
       "14. 0.346919201314449\n",
       "15. 0.609722225228325\n",
       "16. 0.428403049241751\n",
       "17. 0.962903729407117\n",
       "18. 0.420675455359742\n",
       "19. 0.16847921255976\n",
       "20. 0.104754390195012\n",
       "21. 0.929244366241619\n",
       "22. 0.329721350222826\n",
       "23. 0.716274270787835\n",
       "24. 0.572553566191345\n",
       "25. 0.49146158574149\n",
       "26. 0.629327341215685\n",
       "27. 0.693135792389512\n",
       "28. 0.0176478256471455\n",
       "29. 0.900211474159732\n",
       "30. 0.542440827004611\n",
       "31. 0.225210800068453\n",
       "32. 0.696116974111646\n",
       "33. 0.563509899424389\n",
       "34. 0.789375897496939\n",
       "35. 0.0962984010111541\n",
       "36. 0.732412374578416\n",
       "37. 0.474899863824248\n",
       "38. 0.192756704753265\n",
       "39. 0.056589160580188\n",
       "40. 0.859179525403306\n",
       "41. 0.683803251944482\n",
       "42. 0.423192921560258\n",
       "43. 0.919298293534666\n",
       "44. 0.580085315974429\n",
       "45. 0.508078619139269\n",
       "46. 0.658739357953891\n",
       "47. 0.710519689600915\n",
       "48. 0.468984005507082\n",
       "49. 0.831684718606994\n",
       "50. 0.757585759274662\n",
       "\n",
       "\n"
      ],
      "text/plain": [
       " [1] 0.4419689504 0.6395914813 0.1562833998 0.5245304992 0.7944767438\n",
       " [6] 0.9644582898 0.7400971605 0.0006467691 0.5639601173 0.2564374632\n",
       "[11] 0.0728266833 0.1901721137 0.8950587614 0.3469192013 0.6097222252\n",
       "[16] 0.4284030492 0.9629037294 0.4206754554 0.1684792126 0.1047543902\n",
       "[21] 0.9292443662 0.3297213502 0.7162742708 0.5725535662 0.4914615857\n",
       "[26] 0.6293273412 0.6931357924 0.0176478256 0.9002114742 0.5424408270\n",
       "[31] 0.2252108001 0.6961169741 0.5635098994 0.7893758975 0.0962984010\n",
       "[36] 0.7324123746 0.4748998638 0.1927567048 0.0565891606 0.8591795254\n",
       "[41] 0.6838032519 0.4231929216 0.9192982935 0.5800853160 0.5080786191\n",
       "[46] 0.6587393580 0.7105196896 0.4689840055 0.8316847186 0.7575857593"
      ]
     },
     "metadata": {},
     "output_type": "display_data"
    }
   ],
   "source": [
    "result <- runif(50, 0, 1)\n",
    "result"
   ]
  },
  {
   "cell_type": "code",
   "execution_count": 5,
   "metadata": {},
   "outputs": [
    {
     "data": {
      "image/png": "[encoded data removed]",
      "text/plain": [
       "Plot with title “Histogram of result”"
      ]
     },
     "metadata": {
      "filenames": {
       "image/png": "/home/virgilpierce/Documents/GitHub/MATH_550/_build/jupyter_execute/05-Continuous_8_0.png"
      },
      "image/png": {
       "height": 420,
       "width": 420
      }
     },
     "output_type": "display_data"
    }
   ],
   "source": [
    "hist(result, 20)"
   ]
  },
  {
   "cell_type": "markdown",
   "metadata": {},
   "source": [
    "and maybe you can see that we might have a problem. Our sample is just that a sample. It is only a loose approximation of the distribution and in fact if all we knew was the sample we might conclude something veyr different about our distribution. Addressing this discrepency or maybe a defeciency is going to be out goal for the next few weeks."
   ]
  },
  {
   "cell_type": "markdown",
   "metadata": {},
   "source": [
    "### Expected Value \n",
    "\n",
    "In any case, we can use our sample to estimate the expected value of the distribution - intuitively, we expect or maybe hope that the mean of the sample is close to the expected value of the distribution. We will show that this precisely what is happening later, but for now let us allow ourselves to be naive."
   ]
  },
  {
   "cell_type": "code",
   "execution_count": 6,
   "metadata": {},
   "outputs": [
    {
     "data": {
      "text/plain": [
       "     Min.   1st Qu.    Median      Mean   3rd Qu.      Max. \n",
       "0.0006468 0.3340208 0.5637350 0.5266541 0.7283778 0.9644583 "
      ]
     },
     "metadata": {},
     "output_type": "display_data"
    }
   ],
   "source": [
    "summary(result)"
   ]
  },
  {
   "cell_type": "markdown",
   "metadata": {},
   "source": [
    "You might try increasing the size of the sample we take and check what happens to our summary statistics.\n",
    "\n",
    "#### Exact Value\n",
    "\n",
    "We can find the exact value similarly to how we did it in the discrete case. Recall that for a discrete random variable $Y$ the expected value is computed exactly but finding the sum (if we can find it):\n",
    "\n",
    "$$ E(Y) = \\sum r P(Y=r) $$\n",
    "\n",
    "In the continuous case with a random variable $Y$ with PDF $f(x)$ we appeal to our intuition from Calculus: \n",
    "\n",
    "$$ E(Y) = \\sum x P(\\mbox{$Y$ is in a small neighborhood near x}) = \\sum x f(x) \\Delta x$$\n",
    "\n",
    "and in the limit as the neighborhood sizes $\\Delta x \\to 0$ we get (again no surprises here if you use your intuition that sums become integrals):\n",
    "\n",
    "$$ E(Y) = \\int x f(x) dx  $$\n",
    "\n",
    "Where the integral is over the support of the random variable. \n",
    "\n",
    "For $Y$ the uniform random variable on the interval $[a, b]$:\n",
    "\n",
    "$$ E(Y) = \\int_a^b x \\frac{1}{b-a} dx = \\frac{1}{2(b-a)} x^2 \\bigg|_a^b = \\frac{b^2 - a^2}{2 (b-a)} = \\frac{b+a}{2} $$\n",
    "\n",
    "Which surprise, surprise is the midpoint of the interval $[a, b]$.\n",
    "\n",
    "### Variance\n",
    "\n",
    "The estimate variance from our sample can be found using *var*:"
   ]
  },
  {
   "cell_type": "code",
   "execution_count": 7,
   "metadata": {},
   "outputs": [
    {
     "data": {
      "text/html": [
       "0.0767955908892788"
      ],
      "text/latex": [
       "0.0767955908892788"
      ],
      "text/markdown": [
       "0.0767955908892788"
      ],
      "text/plain": [
       "[1] 0.07679559"
      ]
     },
     "metadata": {},
     "output_type": "display_data"
    }
   ],
   "source": [
    "var(result)"
   ]
  },
  {
   "cell_type": "markdown",
   "metadata": {},
   "source": [
    "Again this actually just an estimate of the variance of the random variable. You should check what happens as the size of the sample is changed. \n",
    "\n",
    "#### Exact Value\n",
    "\n",
    "Again we can find the exact value using some algebra:  \n",
    "\n",
    "$$ V(Y) = E(Y^2) - \\frac{(b+a)^2}{4} $$\n",
    "\n",
    "and an integral:\n",
    "\n",
    "$$ E(Y^2) = \\int_a^b x^2 \\frac{1}{b-a} dx = \\frac{1}{3(b-a)} x^3 \\bigg|_a^b = \\frac{b^3 - a^3}{3 (b-a)} $$\n",
    "\n",
    "I would just use Wolfram Alpha to simplify this, but you could also factor the cubic using the binomial theorem:\n",
    "\n",
    "$$ E(Y^2) = \\frac{b^2 + ab + a^2}{3} $$\n",
    "\n",
    "(again one reason I like to teach this class to our MA program is all of these exercises from Calculus get used).\n",
    "\n",
    "Then we combine this with the expected value to get:\n",
    "\n",
    "$$ V(Y) = \\frac{b^2 + ab + a^2}{3} - \\frac{b^2 + 2 ab + a^2}{4} = \\frac{b^2 - 2 ab + a^2}{12} = \\frac{(b-a)^2}{12} $$ \n",
    "\n",
    "For the interval $[0, 1]$ we have:"
   ]
  },
  {
   "cell_type": "code",
   "execution_count": 8,
   "metadata": {},
   "outputs": [
    {
     "data": {
      "text/html": [
       "0.0833333333333333"
      ],
      "text/latex": [
       "0.0833333333333333"
      ],
      "text/markdown": [
       "0.0833333333333333"
      ],
      "text/plain": [
       "[1] 0.08333333"
      ]
     },
     "metadata": {},
     "output_type": "display_data"
    }
   ],
   "source": [
    "(1-0)^2 / 12"
   ]
  },
  {
   "cell_type": "markdown",
   "metadata": {},
   "source": [
    "## Normal Distributions\n",
    "\n",
    "The uniform distribution is a nice simple first example. However our next example we will see forms the basis for a large portion fo the results we will work with. The *Normal Distribution* will turn out to be a a universal structure that shows up in many instances.\n",
    "\n",
    "The Probability Density Function for the normal distirbution is the shape classically known as the Bell Curve. It is given by the function:\n",
    "\n",
    "$$ f(x) = \\frac{1}{\\sigma \\sqrt{2\\pi}} e^{-(y - \\mu)^2 / (2 \\sigma^2) } $$\n",
    "\n",
    "Note that the distribution has two free parameters (suggestively written as) $\\mu$ and $\\sigma^2$. \n",
    "\n",
    "A graph of the PDF, using the builtin expression for the function *dnorm*:"
   ]
  },
  {
   "cell_type": "code",
   "execution_count": 9,
   "metadata": {},
   "outputs": [
    {
     "data": {
      "image/png": "[encoded data removed]",
      "text/plain": [
       "plot without title"
      ]
     },
     "metadata": {
      "filenames": {
       "image/png": "/home/virgilpierce/Documents/GitHub/MATH_550/_build/jupyter_execute/05-Continuous_17_0.png"
      },
      "image/png": {
       "height": 420,
       "width": 420
      }
     },
     "output_type": "display_data"
    }
   ],
   "source": [
    "n <- 100\n",
    "mu <- 1\n",
    "sigma <- 0.5\n",
    "x <- c((-4*n):(4*n))/n\n",
    "v <- dnorm(x, mu, sigma)\n",
    "plot(x, v, type='l')"
   ]
  },
  {
   "cell_type": "markdown",
   "metadata": {},
   "source": [
    "Adjust the $\\mu$ and $\\sigma$ in this code block until you have a hypothesis about what the role is that they play in the shape of the distribution.\n",
    "\n",
    "Note that the distribution never actually gives 0, though it does get very close as $x\\to \\pm \\infty$. The support of this random variable is all real numbers.\n",
    "\n",
    "The cummulative distribution function is defined to be:\n",
    "\n",
    "$$ F(x) = \\int_{-\\infty}^x \\frac{1}{\\sigma \\sqrt{2\\pi}} e^{- (t-\\mu)^2 / (2 \\sigma^2) } dt $$\n",
    "\n",
    "Note that while this is an unbounded integral, it is one that will have no problems converging. That said, it is also an integrand for which none of the rules you learned in Calculus 2 work. We are left with numerical approximations, and in our case we can just use the builtin function *pnorm* in R."
   ]
  },
  {
   "cell_type": "code",
   "execution_count": 10,
   "metadata": {},
   "outputs": [
    {
     "data": {
      "image/png": "[encoded data removed]",
      "text/plain": [
       "plot without title"
      ]
     },
     "metadata": {
      "filenames": {
       "image/png": "/home/virgilpierce/Documents/GitHub/MATH_550/_build/jupyter_execute/05-Continuous_19_0.png"
      },
      "image/png": {
       "height": 420,
       "width": 420
      }
     },
     "output_type": "display_data"
    }
   ],
   "source": [
    "n <- 100\n",
    "mu <- 1\n",
    "sigma <- 0.5\n",
    "x <- c((-4*n):(4*n))/n\n",
    "v <- pnorm(x, mu, sigma)\n",
    "plot(x, v, type='l')"
   ]
  },
  {
   "cell_type": "markdown",
   "metadata": {},
   "source": [
    "### Sampling from the Normal Distribution\n",
    "\n",
    "We will spend a large portion of later chapters asking what happens when we sample from a normal distribution, but r provides a builtin function that does it for us, so let's go ahead and use that. Though it is worth pausing here to discuss how one would implement such a thing as it is instructive:\n",
    "\n",
    "- Suppose that we have a good pseudo random number generator that will give us a $Q$ uniformly distributed random variable on the interval $[0, 1]$.  If we generating a $Q = t$ and then take $F^{-1}(t) = x$ (the inverse of the cummulative distribution function, this will then give us an $x$ that we can use a sample from our random variable with cummulative distribution $F(x)$. \n",
    "\n",
    "- Note that because $F(x)$ is non-decreasing it is 1-1 and therefore the inverse function exists. Though we may not have a nice formula for it - for example with the normal distribution we do not have a nice formula for it.\n",
    "\n",
    "- Note that where $F(x)$ is steepest, which corresponds to where $f(x)$ is largest, the inverse function will be less steep. Therefore for a larger region of $Q$ values we will get a smaller region of $Y$ values - and vice versa.\n",
    "\n",
    "Of course it is all moot as we do not have an exact formula for $F(x)$ for the normal distribution and therefore we do not have an exact formula for the inverse of the CDF. What we do have though is a builtin sampling function *rnorm*.  \n",
    "\n",
    "Again note how consistent R is - the *r* prefix means sample from the variable."
   ]
  },
  {
   "cell_type": "code",
   "execution_count": 11,
   "metadata": {},
   "outputs": [
    {
     "data": {
      "text/html": [
       "<style>\n",
       ".list-inline {list-style: none; margin:0; padding: 0}\n",
       ".list-inline>li {display: inline-block}\n",
       ".list-inline>li:not(:last-child)::after {content: \"\\00b7\"; padding: 0 .5ex}\n",
       "</style>\n",
       "<ol class=list-inline><li>1.10302382699968</li><li>0.915567411252461</li><li>1.34078913440361</li><li>1.35518332983056</li><li>1.27732379421102</li><li>0.996764356865005</li><li>1.54999917004702</li><li>0.847284810321782</li><li>1.34149126117627</li><li>0.744467443025406</li><li>1.00364241921739</li><li>0.879413498912197</li><li>1.31074036385416</li><li>0.890134160727683</li><li>0.749300576704844</li><li>2.04862290374271</li><li>1.77907022957382</li><li>1.81485161830309</li><li>1.09277555191982</li><li>1.41363068659387</li><li>0.0441813364950897</li><li>0.160910743948317</li><li>1.36254009752661</li><li>1.05197970572718</li><li>0.587606979937809</li><li>0.661570067866324</li><li>1.3692372638617</li><li>0.201971815349588</li><li>0.761847135482081</li><li>1.13072992243876</li><li>1.44140364246529</li><li>0.727632981374012</li><li>1.22662012487936</li><li>1.44574831965139</li><li>0.382637983945087</li><li>1.46813306605027</li><li>1.35785978544413</li><li>1.12369720955207</li><li>1.05411956618817</li><li>1.16996471035764</li><li>1.78324801919079</li><li>0.443188392882776</li><li>0.746353471167837</li><li>1.51400506316582</li><li>1.07755256258947</li><li>0.347864941739979</li><li>0.591258657141711</li><li>1.53666244928099</li><li>1.253736431819</li><li>0.718412043215062</li></ol>\n"
      ],
      "text/latex": [
       "\\begin{enumerate*}\n",
       "\\item 1.10302382699968\n",
       "\\item 0.915567411252461\n",
       "\\item 1.34078913440361\n",
       "\\item 1.35518332983056\n",
       "\\item 1.27732379421102\n",
       "\\item 0.996764356865005\n",
       "\\item 1.54999917004702\n",
       "\\item 0.847284810321782\n",
       "\\item 1.34149126117627\n",
       "\\item 0.744467443025406\n",
       "\\item 1.00364241921739\n",
       "\\item 0.879413498912197\n",
       "\\item 1.31074036385416\n",
       "\\item 0.890134160727683\n",
       "\\item 0.749300576704844\n",
       "\\item 2.04862290374271\n",
       "\\item 1.77907022957382\n",
       "\\item 1.81485161830309\n",
       "\\item 1.09277555191982\n",
       "\\item 1.41363068659387\n",
       "\\item 0.0441813364950897\n",
       "\\item 0.160910743948317\n",
       "\\item 1.36254009752661\n",
       "\\item 1.05197970572718\n",
       "\\item 0.587606979937809\n",
       "\\item 0.661570067866324\n",
       "\\item 1.3692372638617\n",
       "\\item 0.201971815349588\n",
       "\\item 0.761847135482081\n",
       "\\item 1.13072992243876\n",
       "\\item 1.44140364246529\n",
       "\\item 0.727632981374012\n",
       "\\item 1.22662012487936\n",
       "\\item 1.44574831965139\n",
       "\\item 0.382637983945087\n",
       "\\item 1.46813306605027\n",
       "\\item 1.35785978544413\n",
       "\\item 1.12369720955207\n",
       "\\item 1.05411956618817\n",
       "\\item 1.16996471035764\n",
       "\\item 1.78324801919079\n",
       "\\item 0.443188392882776\n",
       "\\item 0.746353471167837\n",
       "\\item 1.51400506316582\n",
       "\\item 1.07755256258947\n",
       "\\item 0.347864941739979\n",
       "\\item 0.591258657141711\n",
       "\\item 1.53666244928099\n",
       "\\item 1.253736431819\n",
       "\\item 0.718412043215062\n",
       "\\end{enumerate*}\n"
      ],
      "text/markdown": [
       "1. 1.10302382699968\n",
       "2. 0.915567411252461\n",
       "3. 1.34078913440361\n",
       "4. 1.35518332983056\n",
       "5. 1.27732379421102\n",
       "6. 0.996764356865005\n",
       "7. 1.54999917004702\n",
       "8. 0.847284810321782\n",
       "9. 1.34149126117627\n",
       "10. 0.744467443025406\n",
       "11. 1.00364241921739\n",
       "12. 0.879413498912197\n",
       "13. 1.31074036385416\n",
       "14. 0.890134160727683\n",
       "15. 0.749300576704844\n",
       "16. 2.04862290374271\n",
       "17. 1.77907022957382\n",
       "18. 1.81485161830309\n",
       "19. 1.09277555191982\n",
       "20. 1.41363068659387\n",
       "21. 0.0441813364950897\n",
       "22. 0.160910743948317\n",
       "23. 1.36254009752661\n",
       "24. 1.05197970572718\n",
       "25. 0.587606979937809\n",
       "26. 0.661570067866324\n",
       "27. 1.3692372638617\n",
       "28. 0.201971815349588\n",
       "29. 0.761847135482081\n",
       "30. 1.13072992243876\n",
       "31. 1.44140364246529\n",
       "32. 0.727632981374012\n",
       "33. 1.22662012487936\n",
       "34. 1.44574831965139\n",
       "35. 0.382637983945087\n",
       "36. 1.46813306605027\n",
       "37. 1.35785978544413\n",
       "38. 1.12369720955207\n",
       "39. 1.05411956618817\n",
       "40. 1.16996471035764\n",
       "41. 1.78324801919079\n",
       "42. 0.443188392882776\n",
       "43. 0.746353471167837\n",
       "44. 1.51400506316582\n",
       "45. 1.07755256258947\n",
       "46. 0.347864941739979\n",
       "47. 0.591258657141711\n",
       "48. 1.53666244928099\n",
       "49. 1.253736431819\n",
       "50. 0.718412043215062\n",
       "\n",
       "\n"
      ],
      "text/plain": [
       " [1] 1.10302383 0.91556741 1.34078913 1.35518333 1.27732379 0.99676436\n",
       " [7] 1.54999917 0.84728481 1.34149126 0.74446744 1.00364242 0.87941350\n",
       "[13] 1.31074036 0.89013416 0.74930058 2.04862290 1.77907023 1.81485162\n",
       "[19] 1.09277555 1.41363069 0.04418134 0.16091074 1.36254010 1.05197971\n",
       "[25] 0.58760698 0.66157007 1.36923726 0.20197182 0.76184714 1.13072992\n",
       "[31] 1.44140364 0.72763298 1.22662012 1.44574832 0.38263798 1.46813307\n",
       "[37] 1.35785979 1.12369721 1.05411957 1.16996471 1.78324802 0.44318839\n",
       "[43] 0.74635347 1.51400506 1.07755256 0.34786494 0.59125866 1.53666245\n",
       "[49] 1.25373643 0.71841204"
      ]
     },
     "metadata": {},
     "output_type": "display_data"
    }
   ],
   "source": [
    "result <- rnorm(50, 1, 0.5)\n",
    "result"
   ]
  },
  {
   "cell_type": "code",
   "execution_count": 12,
   "metadata": {},
   "outputs": [
    {
     "data": {
      "image/png": "[encoded data removed]",
      "text/plain": [
       "Plot with title “Histogram of result”"
      ]
     },
     "metadata": {
      "filenames": {
       "image/png": "/home/virgilpierce/Documents/GitHub/MATH_550/_build/jupyter_execute/05-Continuous_22_0.png"
      },
      "image/png": {
       "height": 420,
       "width": 420
      }
     },
     "output_type": "display_data"
    }
   ],
   "source": [
    "hist(result, 10)"
   ]
  },
  {
   "cell_type": "code",
   "execution_count": 13,
   "metadata": {},
   "outputs": [
    {
     "data": {
      "text/plain": [
       "   Min. 1st Qu.  Median    Mean 3rd Qu.    Max. \n",
       "0.04418 0.74709 1.09790 1.06394 1.36137 2.04862 "
      ]
     },
     "metadata": {},
     "output_type": "display_data"
    }
   ],
   "source": [
    "summary(result)"
   ]
  },
  {
   "cell_type": "markdown",
   "metadata": {},
   "source": [
    "Take the time to adjust the size of the sample and see what we get."
   ]
  },
  {
   "cell_type": "markdown",
   "metadata": {},
   "source": [
    "### Examples\n",
    "\n",
    "#### Total Probability\n",
    "\n",
    "We should check that the total probability of this density is 1. That is in fact what the the fraction in the density:  $\\frac{1}{\\sigma \\sqrt{2\\pi}} $ is for. It has always fascinated me that $\\pi$ shows up here!  Unfortunately explaining why is beyond the scope of our class, but is a fascinating application of the Fourier Transformation. "
   ]
  },
  {
   "cell_type": "markdown",
   "metadata": {},
   "source": [
    "#### Probability of $Y$ in an Interval\n",
    "\n",
    "Suppose we have the normal random variable $Y$ with mean 0 and variance 1. Find the probability that $Y$ is in the interval $[0, \\infty)$.\n",
    "\n",
    "We compute this from the integral of the density over this region:\n",
    "\n",
    "$$ P( 0 \\leq Y ) = \\int_0^\\infty \\frac{1}{\\sqrt{2\\pi}} e^{-x^2 / 2 } dx $$\n",
    "\n",
    "We can ask Wolfram Alpha or use the symmetry to argue we get 0.5."
   ]
  },
  {
   "cell_type": "markdown",
   "metadata": {},
   "source": [
    "#### Expected Value of a Function\n",
    "\n",
    "The expected value of a function of our normal variable with mean 0 and variance 1 is found by integrating that function against the PDF for the distribution. For example to find\n",
    "\n",
    "$$ E( e^{x} ) $$ \n",
    "\n",
    "we need to compute:\n",
    "\n",
    "$$ \\int_{-\\infty}^\\infty e^x \\frac{1}{\\sqrt{2\\pi}} e^{-x^2 / 2 } dx $$\n",
    "\n",
    "These are not typically easy integrals to compute but we can approximate the value numerically or use Wolfram Alpha: 1.64872.\n",
    "\n",
    "#### Find an Interval with given probability\n",
    "\n",
    "Find an interval $[a, b]$ such that the normal random variable with mean 0 and variance 1 has probability 0.95 of being found in the interval. \n",
    "\n",
    "To answer this one it is worth using the cummulative distribution function defined in R *pnorm*. "
   ]
  },
  {
   "cell_type": "markdown",
   "metadata": {},
   "source": [
    "### Expected Value and Variance of Normal Random Variables\n",
    "\n",
    "As you might expect the parameters $\\mu$ and $\\sigma^2$ are so named because for the normal random variable they are precisly the mean and variance. \n",
    "\n",
    "$$E(Y) = \\int_{-\\infty}^\\infty x \\frac{1}{\\sigma \\sqrt{2\\pi}} e^{-(x-\\mu)^2 / (2\\sigma^2) } dx = \\mu $$\n",
    "\n",
    "Showing this exactly is beyond the scope of the class, really the two best ways to do it use Complex Analysis or the Fourier Transform.\n",
    "\n",
    "The variance should be compute directly (i.e. not using our algebra trick:\n",
    "\n",
    "$$ V(Y) = E( (Y-\\mu)^2 ) = \\int_{-\\infty}^\\infty (x-\\mu)^2 \\frac{1}{\\sigma \\sqrt{2\\pi}} e^{-(x-\\mu)^2 / (2\\sigma^2) } dx = \\sigma^2 $$\n",
    "\n",
    "Note that immediately a change of variables can be made that eliminates $\\mu$ - hence the $V(Y)$ must even before we compute it, only depend on $\\sigma^2$. \n"
   ]
  },
  {
   "cell_type": "code",
   "execution_count": null,
   "metadata": {},
   "outputs": [],
   "source": []
  }
 ],
 "metadata": {
  "kernelspec": {
   "display_name": "R",
   "language": "R",
   "name": "ir"
  },
  "language_info": {
   "codemirror_mode": "r",
   "file_extension": ".r",
   "mimetype": "text/x-r-source",
   "name": "R",
   "pygments_lexer": "r",
   "version": "4.0.2"
  }
 },
 "nbformat": 4,
 "nbformat_minor": 4
}