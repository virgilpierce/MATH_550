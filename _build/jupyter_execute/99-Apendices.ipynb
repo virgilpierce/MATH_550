{
 "cells": [
  {
   "cell_type": "markdown",
   "metadata": {},
   "source": [
    "# Class Schedule and Activities\n",
    "\n",
    "**Monday; June 14 -** Introduction, using R.\n",
    "\n",
    "\n",
    "**Tuesday; June 15 -** Probability\n",
    "\n",
    "\n",
    "**Wednesday; June 16 -** Binomial Distribution\n",
    "\n",
    "**Thursday; June 17 -** Geometric Distribution\n",
    "\n",
    "\n",
    "**Monday; June 21 -** Poisson Distribution\n",
    "\n",
    "**Wednesday; June 23 -** Continuous Distributions - Normal Distribution\n",
    "\n",
    "\n",
    "**Monday; June 28 -** Gamma and Beta Distributions.\n",
    "\n",
    "**Wednesday; June 30 -** Sampling and Multivariate Distributions\n",
    "\n",
    "**Monday; July 5 -** Central Limit Theorem and Confidence Intervals\n",
    "\n",
    "**Wednesday; July 7-** Hypothesis Tests\n",
    "\n",
    "**Monday; July 12 -** Updating our Assumptions with Data: Bayes Theorem\n",
    "\n",
    "**Wednesday; July 14 -** Credible Intervals and other Bayes Results\n",
    "\n",
    "**Monday; July 19 -** Regressions and Models\n",
    "\n",
    "**Wednesday; July 21 -** Discussion of your Final Projects\n",
    "\n",
    "\n",
    "\n"
   ]
  },
  {
   "cell_type": "code",
   "execution_count": null,
   "metadata": {},
   "outputs": [],
   "source": []
  }
 ],
 "metadata": {
  "kernelspec": {
   "display_name": "R",
   "language": "R",
   "name": "ir"
  },
  "language_info": {
   "codemirror_mode": "r",
   "file_extension": ".r",
   "mimetype": "text/x-r-source",
   "name": "R",
   "pygments_lexer": "r",
   "version": "4.0.2"
  }
 },
 "nbformat": 4,
 "nbformat_minor": 4
}