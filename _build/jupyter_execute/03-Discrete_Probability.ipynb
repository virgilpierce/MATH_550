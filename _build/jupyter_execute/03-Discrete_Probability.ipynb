{
 "cells": [
  {
   "cell_type": "markdown",
   "metadata": {},
   "source": [
    "# Discrete Random Variables - The Binomial Distribution\n",
    "\n",
    "A motivating problem: Current estimates are that 38% of college and university students report food insecurity (defined as being uncertain they will have enough food for the next month or not knowing when they will next eat). The mathematics major at UNC has 130 students enrolled, how likely is it that 39 or fewer of the students enrolled are food insecure?\n",
    "\n",
    "## Definitions\n",
    "\n",
    "To get started we will set up some definitions we will use:\n",
    "\n",
    "An *experiment* is the process by which an observation is made. In our motivating problem the experiment would be inquiring of the mathematics majors whether they are food insecure or not.\n",
    "\n",
    "*Experiments on Human Subjects* like this one are subject to additional constraints and reviews in order to protect the subjects (subjects need to be protected from harm, their identities need to be protected, and their rights to consent to be included in a study need to be protected). So in this case the actual experiment we do would involve informing the subject of possible harm, taking steps to see that their response is anonymous, and asking them to verify that they are consenting to participate. \n",
    "\n",
    "The *sample space* associated with an experiment is the set of all possible observations. In our motivating example the sample space would be a list of which students are facing food insecurity and which are not.\n",
    "\n",
    "An *event* is a set of possible observations from the sample space. \n",
    "\n",
    "### Random Variable\n",
    "\n",
    "For example we are interested, rather than in which students are food insecure, *how many* students are food insecure. This number:  $Y$ the number of mathematics majors at UNC that are food insecure is called a *random variable* of interest in our problem. Specifying a value or range of values for $Y$ corresponds to an *event* and identifies a subset of the sample space. \n",
    "\n",
    "Ther eare actually other random variables associated with the same problem that we might be concerned about, but this one is a sort of basic one.\n",
    "\n",
    "## Probability\n",
    "\n",
    "The *probability* of an event is the likliehood of that observation occuring from the sample space. What do we mean by likliehood though?  We will think of the probability of an even occuring as the proportion of the times it will occur through repetition of the experiment. In some case like rolling dice, flipping coins, or measuring the distance a spring has stretched under a weight it is clear what we mean by repeated observation. However things get a little unclear when we are talking about a situation like our motivating problem. \n",
    "\n",
    "What we mean is:  If we were to take groups of 130 students randomly selected from all students throughout the US and ask how many of them are food insecure, how often would we get the particular value of $Y$. \n",
    "\n",
    "Some basic Theorems about Probability from these definitions:\n",
    "\n",
    "- **Total Probability**: The total probability, i.e. the probability that something from the sample space happens must be 1,\n",
    "\n",
    "- **Valid Probaiblities**: no probability can have a value bigger than 1 or less than 0.\n",
    "\n",
    "- **Complement Probability**: If the probability of event A is $P(A)$ then the probability of the complement of event A (all of the members of the sample space that are not in A) is $P( \\neg A) = 1 - P(A)$.\n",
    "\n",
    "- **Mutually Exclusive Events**:  Two events are said to be *mutually exclusive* if their intersection (the cases where both events happen) is impossible i.e. $P(A\\cap B) = 0$. Note this does not necessarily mean that the intersection is empty. \n",
    "\n",
    "- **Sum of Mutually Exclusive Events**:  The probability of one of two or both mutually exclusive events happening is the sum of the probabilities of the two events:  $P(A \\cup B) = P(A) + P(B)$. \n",
    "\n",
    "- **Sum of Events**: More generally we have the probability of one of two or both events happening is almost coming from the sum, however we must take into account the possiblity of them both happening is being counted in both $P(A)$ and $P(B)$: $$P(A\\cup B) = P(A) + P(B) - P(A\\cap B) $$\n",
    "\n",
    "- **Venn Diagrams**:  These results should look familiar, they mirror statements about the size of sets A and B, and their union and intersection; with the caveat that P(S) = 0 is not exactly the same as S being empty. \n",
    "\n",
    "### Two Events Happening at Once\n",
    "\n",
    "In this case we will state that two events are inedpendent if the probability that they both happen is the product of the probabilities of either one of them happening:\n",
    "\n",
    "$$ P(A \\cap B) = P(A) P(B)$$\n",
    "\n",
    "An example of two independent events would be flipping two coins: getting a heads on one coin flip and getting a heads on the second coin flip. The result of the second flip will not depend upon the result of the first flip (or maybe the right question is, when would the second flip depend on the first one?). \n",
    "\n",
    "An example of two dependent events would be getting a head on the first coin flip of two, and then the flipping of two heads in a row in two coin flips. Note that in order to have two heads the first flip needs to be a head and thus the second event depends on whether the first event has happened or not. It is the *dependence* causing the probability of one event to change if we know the other event has occured that we are looking for.\n",
    "\n",
    "We will return to the case of dependent events later.\n",
    "\n",
    "## Uniform Distribution\n",
    "\n",
    "Generally we can define a distribution by just giving the sample space for the random variable, and assigning a probability to each possible value. A few distributions model situations that occur often enough, and have sufficient symmetry that we can compute things for them that they have earned a name. Our first example of that, which will also be the most basic, is the *uniform distribution*.  For the list of possible values our random variable could have, we assume each one is equally likely. The example used frequently comes from rolling dice. For a six sided die, if it is fair, the likliehod of rolling each value is $1/6$. (Note that you can get unfair dice from a magic or toy shop). \n",
    "\n",
    "Find the following probabilities:\n",
    "\n",
    "1. The likliehood of rolling on die and have a value of 5 or more.\n",
    "\n",
    "2. The likliehood of rolling two dice and having a value that sums to seven.\n",
    "\n",
    "3. The likliehod of rolling two dice and having the value of the second one being greater than the value of the first one.\n",
    "\n",
    "\n",
    "\n",
    "### Permutations and Choices\n",
    "\n",
    "To continue with our example we need a couple of constructions from combinatorics:  \n",
    "\n",
    "A permutation of $n$ objects is a specific ordering of the objects. For example { \"pie\", \"bread\", \"vegetable\"} and {\"vegetable\", \"pie\", \"bread\"} are two different permutations of the same 3 objects. \n",
    "\n",
    "The total number of permutations of $n$ objects is given by: $$ n! = n (n-1) (n-2) \\cdots 3 \\cdot 2 \\cdot 1 $$\n",
    "\n",
    "Verify this.\n",
    "\n",
    "#### Example: Find all 3! permutations of {\"pie\", \"bread\", \"vegetable\"}\n",
    "\n",
    "#### Example: Find all 4! permutations of {1, 2, 3, 4}\n",
    "\n",
    "#### Generalization:  Find all the possible permutations of {1, 1, 2, 3} \n",
    "\n",
    "I.e. when two of the elements are identical and so can't be distinguished.\n",
    "\n",
    "#### Choices\n",
    "\n",
    "However what we often want to do is ask a question like: In how many ways can we choose 3 cookies from a plate of 5 cookies?\n",
    "\n",
    "In math-ese this is asking: how many subsets of size 3 are there from a set of size 5?\n",
    "\n",
    "#### Suppose order matters - how many ways with ordering matter can we choose 3 numbers from the set {1, 2, 3, 4, 5}\n",
    "\n",
    "#### As posed order does not matter: how many ways ignoring order can we choose 3 cookies from a plate of 5 cookies?\n",
    "\n",
    "The answer we find will be:\n",
    "$$ \\mbox{n choose r} = \\binom{n}{r} = \\frac{n!}{r! (n-r)!} $$\n",
    "\n",
    "#### Example: How many ways can we choose 3 objects from a set of 10?\n",
    "\n",
    "## Bernouli Trials\n",
    "\n",
    "In a *Bernouli Trial* there is a simple experiment with a sample space consisting of two outcomes {Success, Failure}. Or any other size two descriptors you prefer (Heads / Tails if we are flipping a coin; Red/Black if we are playing roullete; Win/Lose if we are hockey team; etc. ). The probability of Success is given by p and the probability of failure is given by 1-p. \n",
    "\n",
    "Flipping a fair coin we expected to get a HEADS half of all flips. Note This is a statement about long term behavior. For example it means if we flip the coin one thousand times we would expect to have close to 500 HEADS. \n",
    "\n",
    "**A common misconception**:  If we flip a coin twice we expect to see two HEADS sometimes. \n",
    "\n",
    "**A common misconception**: If we flip a coin two hundred times, we expect to see sequences of just heads. Let's try it!\n",
    "\n",
    "The *sample* command in R produces a sample from a given column. By defining a column to be {\"H\", \"T\"} we can then simulate flipping a coin (much faster than actually flipping the coin) by using sample. Sample takes a parameter *replace* that identifies whether we are returning members to the set after selecting them. Because we are simulating flipping a coin repeatedly we want to replace the value after each selection."
   ]
  },
  {
   "cell_type": "code",
   "execution_count": 1,
   "metadata": {},
   "outputs": [
    {
     "data": {
      "text/html": [
       "<style>\n",
       ".list-inline {list-style: none; margin:0; padding: 0}\n",
       ".list-inline>li {display: inline-block}\n",
       ".list-inline>li:not(:last-child)::after {content: \"\\00b7\"; padding: 0 .5ex}\n",
       "</style>\n",
       "<ol class=list-inline><li>'H'</li><li>'H'</li><li>'H'</li><li>'H'</li><li>'H'</li><li>'T'</li><li>'H'</li><li>'T'</li><li>'H'</li><li>'H'</li><li>'H'</li><li>'T'</li><li>'T'</li><li>'T'</li><li>'H'</li><li>'H'</li><li>'H'</li><li>'H'</li><li>'H'</li><li>'H'</li><li>'H'</li><li>'T'</li><li>'H'</li><li>'H'</li><li>'T'</li><li>'T'</li><li>'H'</li><li>'H'</li><li>'T'</li><li>'T'</li><li>'H'</li><li>'T'</li><li>'H'</li><li>'T'</li><li>'H'</li><li>'H'</li><li>'H'</li><li>'T'</li><li>'H'</li><li>'H'</li><li>'H'</li><li>'H'</li><li>'H'</li><li>'H'</li><li>'T'</li><li>'H'</li><li>'H'</li><li>'H'</li><li>'T'</li><li>'T'</li><li>'H'</li><li>'T'</li><li>'H'</li><li>'T'</li><li>'H'</li><li>'T'</li><li>'H'</li><li>'H'</li><li>'T'</li><li>'H'</li><li>'T'</li><li>'H'</li><li>'H'</li><li>'T'</li><li>'H'</li><li>'H'</li><li>'H'</li><li>'T'</li><li>'T'</li><li>'T'</li><li>'H'</li><li>'H'</li><li>'T'</li><li>'T'</li><li>'H'</li><li>'T'</li><li>'T'</li><li>'T'</li><li>'T'</li><li>'H'</li><li>'H'</li><li>'T'</li><li>'H'</li><li>'T'</li><li>'T'</li><li>'H'</li><li>'H'</li><li>'T'</li><li>'T'</li><li>'T'</li><li>'T'</li><li>'T'</li><li>'T'</li><li>'T'</li><li>'H'</li><li>'T'</li><li>'T'</li><li>'H'</li><li>'H'</li><li>'T'</li><li>'H'</li><li>'T'</li><li>'T'</li><li>'T'</li><li>'H'</li><li>'H'</li><li>'H'</li><li>'T'</li><li>'H'</li><li>'H'</li><li>'H'</li><li>'H'</li><li>'T'</li><li>'H'</li><li>'T'</li><li>'H'</li><li>'H'</li><li>'T'</li><li>'T'</li><li>'T'</li><li>'T'</li><li>'H'</li><li>'H'</li><li>'T'</li><li>'H'</li><li>'H'</li><li>'H'</li><li>'T'</li><li>'H'</li><li>'T'</li><li>'H'</li><li>'H'</li><li>'H'</li><li>'H'</li><li>'T'</li><li>'H'</li><li>'H'</li><li>'T'</li><li>'T'</li><li>'T'</li><li>'H'</li><li>'T'</li><li>'T'</li><li>'H'</li><li>'H'</li><li>'T'</li><li>'H'</li><li>'H'</li><li>'T'</li><li>'T'</li><li>'H'</li><li>'H'</li><li>'H'</li><li>'T'</li><li>'T'</li><li>'H'</li><li>'T'</li><li>'H'</li><li>'T'</li><li>'H'</li><li>'T'</li><li>'T'</li><li>'H'</li><li>'H'</li><li>'T'</li><li>'T'</li><li>'T'</li><li>'T'</li><li>'T'</li><li>'H'</li><li>'T'</li><li>'H'</li><li>'T'</li><li>'H'</li><li>'H'</li><li>'H'</li><li>'H'</li><li>'H'</li><li>'H'</li><li>'T'</li><li>'H'</li><li>'H'</li><li>'H'</li><li>'T'</li><li>'T'</li><li>'H'</li><li>'T'</li><li>'H'</li><li>'H'</li><li>'H'</li><li>'H'</li><li>'T'</li><li>'H'</li><li>'H'</li><li>'H'</li><li>'T'</li><li>'T'</li><li>'T'</li><li>'H'</li><li>'T'</li></ol>\n"
      ],
      "text/latex": [
       "\\begin{enumerate*}\n",
       "\\item 'H'\n",
       "\\item 'H'\n",
       "\\item 'H'\n",
       "\\item 'H'\n",
       "\\item 'H'\n",
       "\\item 'T'\n",
       "\\item 'H'\n",
       "\\item 'T'\n",
       "\\item 'H'\n",
       "\\item 'H'\n",
       "\\item 'H'\n",
       "\\item 'T'\n",
       "\\item 'T'\n",
       "\\item 'T'\n",
       "\\item 'H'\n",
       "\\item 'H'\n",
       "\\item 'H'\n",
       "\\item 'H'\n",
       "\\item 'H'\n",
       "\\item 'H'\n",
       "\\item 'H'\n",
       "\\item 'T'\n",
       "\\item 'H'\n",
       "\\item 'H'\n",
       "\\item 'T'\n",
       "\\item 'T'\n",
       "\\item 'H'\n",
       "\\item 'H'\n",
       "\\item 'T'\n",
       "\\item 'T'\n",
       "\\item 'H'\n",
       "\\item 'T'\n",
       "\\item 'H'\n",
       "\\item 'T'\n",
       "\\item 'H'\n",
       "\\item 'H'\n",
       "\\item 'H'\n",
       "\\item 'T'\n",
       "\\item 'H'\n",
       "\\item 'H'\n",
       "\\item 'H'\n",
       "\\item 'H'\n",
       "\\item 'H'\n",
       "\\item 'H'\n",
       "\\item 'T'\n",
       "\\item 'H'\n",
       "\\item 'H'\n",
       "\\item 'H'\n",
       "\\item 'T'\n",
       "\\item 'T'\n",
       "\\item 'H'\n",
       "\\item 'T'\n",
       "\\item 'H'\n",
       "\\item 'T'\n",
       "\\item 'H'\n",
       "\\item 'T'\n",
       "\\item 'H'\n",
       "\\item 'H'\n",
       "\\item 'T'\n",
       "\\item 'H'\n",
       "\\item 'T'\n",
       "\\item 'H'\n",
       "\\item 'H'\n",
       "\\item 'T'\n",
       "\\item 'H'\n",
       "\\item 'H'\n",
       "\\item 'H'\n",
       "\\item 'T'\n",
       "\\item 'T'\n",
       "\\item 'T'\n",
       "\\item 'H'\n",
       "\\item 'H'\n",
       "\\item 'T'\n",
       "\\item 'T'\n",
       "\\item 'H'\n",
       "\\item 'T'\n",
       "\\item 'T'\n",
       "\\item 'T'\n",
       "\\item 'T'\n",
       "\\item 'H'\n",
       "\\item 'H'\n",
       "\\item 'T'\n",
       "\\item 'H'\n",
       "\\item 'T'\n",
       "\\item 'T'\n",
       "\\item 'H'\n",
       "\\item 'H'\n",
       "\\item 'T'\n",
       "\\item 'T'\n",
       "\\item 'T'\n",
       "\\item 'T'\n",
       "\\item 'T'\n",
       "\\item 'T'\n",
       "\\item 'T'\n",
       "\\item 'H'\n",
       "\\item 'T'\n",
       "\\item 'T'\n",
       "\\item 'H'\n",
       "\\item 'H'\n",
       "\\item 'T'\n",
       "\\item 'H'\n",
       "\\item 'T'\n",
       "\\item 'T'\n",
       "\\item 'T'\n",
       "\\item 'H'\n",
       "\\item 'H'\n",
       "\\item 'H'\n",
       "\\item 'T'\n",
       "\\item 'H'\n",
       "\\item 'H'\n",
       "\\item 'H'\n",
       "\\item 'H'\n",
       "\\item 'T'\n",
       "\\item 'H'\n",
       "\\item 'T'\n",
       "\\item 'H'\n",
       "\\item 'H'\n",
       "\\item 'T'\n",
       "\\item 'T'\n",
       "\\item 'T'\n",
       "\\item 'T'\n",
       "\\item 'H'\n",
       "\\item 'H'\n",
       "\\item 'T'\n",
       "\\item 'H'\n",
       "\\item 'H'\n",
       "\\item 'H'\n",
       "\\item 'T'\n",
       "\\item 'H'\n",
       "\\item 'T'\n",
       "\\item 'H'\n",
       "\\item 'H'\n",
       "\\item 'H'\n",
       "\\item 'H'\n",
       "\\item 'T'\n",
       "\\item 'H'\n",
       "\\item 'H'\n",
       "\\item 'T'\n",
       "\\item 'T'\n",
       "\\item 'T'\n",
       "\\item 'H'\n",
       "\\item 'T'\n",
       "\\item 'T'\n",
       "\\item 'H'\n",
       "\\item 'H'\n",
       "\\item 'T'\n",
       "\\item 'H'\n",
       "\\item 'H'\n",
       "\\item 'T'\n",
       "\\item 'T'\n",
       "\\item 'H'\n",
       "\\item 'H'\n",
       "\\item 'H'\n",
       "\\item 'T'\n",
       "\\item 'T'\n",
       "\\item 'H'\n",
       "\\item 'T'\n",
       "\\item 'H'\n",
       "\\item 'T'\n",
       "\\item 'H'\n",
       "\\item 'T'\n",
       "\\item 'T'\n",
       "\\item 'H'\n",
       "\\item 'H'\n",
       "\\item 'T'\n",
       "\\item 'T'\n",
       "\\item 'T'\n",
       "\\item 'T'\n",
       "\\item 'T'\n",
       "\\item 'H'\n",
       "\\item 'T'\n",
       "\\item 'H'\n",
       "\\item 'T'\n",
       "\\item 'H'\n",
       "\\item 'H'\n",
       "\\item 'H'\n",
       "\\item 'H'\n",
       "\\item 'H'\n",
       "\\item 'H'\n",
       "\\item 'T'\n",
       "\\item 'H'\n",
       "\\item 'H'\n",
       "\\item 'H'\n",
       "\\item 'T'\n",
       "\\item 'T'\n",
       "\\item 'H'\n",
       "\\item 'T'\n",
       "\\item 'H'\n",
       "\\item 'H'\n",
       "\\item 'H'\n",
       "\\item 'H'\n",
       "\\item 'T'\n",
       "\\item 'H'\n",
       "\\item 'H'\n",
       "\\item 'H'\n",
       "\\item 'T'\n",
       "\\item 'T'\n",
       "\\item 'T'\n",
       "\\item 'H'\n",
       "\\item 'T'\n",
       "\\end{enumerate*}\n"
      ],
      "text/markdown": [
       "1. 'H'\n",
       "2. 'H'\n",
       "3. 'H'\n",
       "4. 'H'\n",
       "5. 'H'\n",
       "6. 'T'\n",
       "7. 'H'\n",
       "8. 'T'\n",
       "9. 'H'\n",
       "10. 'H'\n",
       "11. 'H'\n",
       "12. 'T'\n",
       "13. 'T'\n",
       "14. 'T'\n",
       "15. 'H'\n",
       "16. 'H'\n",
       "17. 'H'\n",
       "18. 'H'\n",
       "19. 'H'\n",
       "20. 'H'\n",
       "21. 'H'\n",
       "22. 'T'\n",
       "23. 'H'\n",
       "24. 'H'\n",
       "25. 'T'\n",
       "26. 'T'\n",
       "27. 'H'\n",
       "28. 'H'\n",
       "29. 'T'\n",
       "30. 'T'\n",
       "31. 'H'\n",
       "32. 'T'\n",
       "33. 'H'\n",
       "34. 'T'\n",
       "35. 'H'\n",
       "36. 'H'\n",
       "37. 'H'\n",
       "38. 'T'\n",
       "39. 'H'\n",
       "40. 'H'\n",
       "41. 'H'\n",
       "42. 'H'\n",
       "43. 'H'\n",
       "44. 'H'\n",
       "45. 'T'\n",
       "46. 'H'\n",
       "47. 'H'\n",
       "48. 'H'\n",
       "49. 'T'\n",
       "50. 'T'\n",
       "51. 'H'\n",
       "52. 'T'\n",
       "53. 'H'\n",
       "54. 'T'\n",
       "55. 'H'\n",
       "56. 'T'\n",
       "57. 'H'\n",
       "58. 'H'\n",
       "59. 'T'\n",
       "60. 'H'\n",
       "61. 'T'\n",
       "62. 'H'\n",
       "63. 'H'\n",
       "64. 'T'\n",
       "65. 'H'\n",
       "66. 'H'\n",
       "67. 'H'\n",
       "68. 'T'\n",
       "69. 'T'\n",
       "70. 'T'\n",
       "71. 'H'\n",
       "72. 'H'\n",
       "73. 'T'\n",
       "74. 'T'\n",
       "75. 'H'\n",
       "76. 'T'\n",
       "77. 'T'\n",
       "78. 'T'\n",
       "79. 'T'\n",
       "80. 'H'\n",
       "81. 'H'\n",
       "82. 'T'\n",
       "83. 'H'\n",
       "84. 'T'\n",
       "85. 'T'\n",
       "86. 'H'\n",
       "87. 'H'\n",
       "88. 'T'\n",
       "89. 'T'\n",
       "90. 'T'\n",
       "91. 'T'\n",
       "92. 'T'\n",
       "93. 'T'\n",
       "94. 'T'\n",
       "95. 'H'\n",
       "96. 'T'\n",
       "97. 'T'\n",
       "98. 'H'\n",
       "99. 'H'\n",
       "100. 'T'\n",
       "101. 'H'\n",
       "102. 'T'\n",
       "103. 'T'\n",
       "104. 'T'\n",
       "105. 'H'\n",
       "106. 'H'\n",
       "107. 'H'\n",
       "108. 'T'\n",
       "109. 'H'\n",
       "110. 'H'\n",
       "111. 'H'\n",
       "112. 'H'\n",
       "113. 'T'\n",
       "114. 'H'\n",
       "115. 'T'\n",
       "116. 'H'\n",
       "117. 'H'\n",
       "118. 'T'\n",
       "119. 'T'\n",
       "120. 'T'\n",
       "121. 'T'\n",
       "122. 'H'\n",
       "123. 'H'\n",
       "124. 'T'\n",
       "125. 'H'\n",
       "126. 'H'\n",
       "127. 'H'\n",
       "128. 'T'\n",
       "129. 'H'\n",
       "130. 'T'\n",
       "131. 'H'\n",
       "132. 'H'\n",
       "133. 'H'\n",
       "134. 'H'\n",
       "135. 'T'\n",
       "136. 'H'\n",
       "137. 'H'\n",
       "138. 'T'\n",
       "139. 'T'\n",
       "140. 'T'\n",
       "141. 'H'\n",
       "142. 'T'\n",
       "143. 'T'\n",
       "144. 'H'\n",
       "145. 'H'\n",
       "146. 'T'\n",
       "147. 'H'\n",
       "148. 'H'\n",
       "149. 'T'\n",
       "150. 'T'\n",
       "151. 'H'\n",
       "152. 'H'\n",
       "153. 'H'\n",
       "154. 'T'\n",
       "155. 'T'\n",
       "156. 'H'\n",
       "157. 'T'\n",
       "158. 'H'\n",
       "159. 'T'\n",
       "160. 'H'\n",
       "161. 'T'\n",
       "162. 'T'\n",
       "163. 'H'\n",
       "164. 'H'\n",
       "165. 'T'\n",
       "166. 'T'\n",
       "167. 'T'\n",
       "168. 'T'\n",
       "169. 'T'\n",
       "170. 'H'\n",
       "171. 'T'\n",
       "172. 'H'\n",
       "173. 'T'\n",
       "174. 'H'\n",
       "175. 'H'\n",
       "176. 'H'\n",
       "177. 'H'\n",
       "178. 'H'\n",
       "179. 'H'\n",
       "180. 'T'\n",
       "181. 'H'\n",
       "182. 'H'\n",
       "183. 'H'\n",
       "184. 'T'\n",
       "185. 'T'\n",
       "186. 'H'\n",
       "187. 'T'\n",
       "188. 'H'\n",
       "189. 'H'\n",
       "190. 'H'\n",
       "191. 'H'\n",
       "192. 'T'\n",
       "193. 'H'\n",
       "194. 'H'\n",
       "195. 'H'\n",
       "196. 'T'\n",
       "197. 'T'\n",
       "198. 'T'\n",
       "199. 'H'\n",
       "200. 'T'\n",
       "\n",
       "\n"
      ],
      "text/plain": [
       "  [1] \"H\" \"H\" \"H\" \"H\" \"H\" \"T\" \"H\" \"T\" \"H\" \"H\" \"H\" \"T\" \"T\" \"T\" \"H\" \"H\" \"H\" \"H\"\n",
       " [19] \"H\" \"H\" \"H\" \"T\" \"H\" \"H\" \"T\" \"T\" \"H\" \"H\" \"T\" \"T\" \"H\" \"T\" \"H\" \"T\" \"H\" \"H\"\n",
       " [37] \"H\" \"T\" \"H\" \"H\" \"H\" \"H\" \"H\" \"H\" \"T\" \"H\" \"H\" \"H\" \"T\" \"T\" \"H\" \"T\" \"H\" \"T\"\n",
       " [55] \"H\" \"T\" \"H\" \"H\" \"T\" \"H\" \"T\" \"H\" \"H\" \"T\" \"H\" \"H\" \"H\" \"T\" \"T\" \"T\" \"H\" \"H\"\n",
       " [73] \"T\" \"T\" \"H\" \"T\" \"T\" \"T\" \"T\" \"H\" \"H\" \"T\" \"H\" \"T\" \"T\" \"H\" \"H\" \"T\" \"T\" \"T\"\n",
       " [91] \"T\" \"T\" \"T\" \"T\" \"H\" \"T\" \"T\" \"H\" \"H\" \"T\" \"H\" \"T\" \"T\" \"T\" \"H\" \"H\" \"H\" \"T\"\n",
       "[109] \"H\" \"H\" \"H\" \"H\" \"T\" \"H\" \"T\" \"H\" \"H\" \"T\" \"T\" \"T\" \"T\" \"H\" \"H\" \"T\" \"H\" \"H\"\n",
       "[127] \"H\" \"T\" \"H\" \"T\" \"H\" \"H\" \"H\" \"H\" \"T\" \"H\" \"H\" \"T\" \"T\" \"T\" \"H\" \"T\" \"T\" \"H\"\n",
       "[145] \"H\" \"T\" \"H\" \"H\" \"T\" \"T\" \"H\" \"H\" \"H\" \"T\" \"T\" \"H\" \"T\" \"H\" \"T\" \"H\" \"T\" \"T\"\n",
       "[163] \"H\" \"H\" \"T\" \"T\" \"T\" \"T\" \"T\" \"H\" \"T\" \"H\" \"T\" \"H\" \"H\" \"H\" \"H\" \"H\" \"H\" \"T\"\n",
       "[181] \"H\" \"H\" \"H\" \"T\" \"T\" \"H\" \"T\" \"H\" \"H\" \"H\" \"H\" \"T\" \"H\" \"H\" \"H\" \"T\" \"T\" \"T\"\n",
       "[199] \"H\" \"T\""
      ]
     },
     "metadata": {},
     "output_type": "display_data"
    }
   ],
   "source": [
    "x <- c(\"H\", \"T\")\n",
    "result <- sample(x, 200, replace=TRUE)\n",
    "result"
   ]
  },
  {
   "cell_type": "markdown",
   "metadata": {},
   "source": [
    "You can also pass the sample command a list of probabilities for each element of x; note that order matters so check it.  For a fair coin the default of each outcome being equally likely works. However note that unfair coins are not unheard of - you can purchase them at magic and toy shops.\n",
    "\n",
    "A typical human trying to fake coin flips will distribute them too uniformly and will not have as many long sequences of \"H\" as we expect to see from an actual experiment.\n",
    "\n",
    "## Binomial Trials\n",
    "\n",
    "We now have all the tools for the question at hand. Let's start with simulating the question using *sample*.  Randomly selecting an individual student from the population of US college students and asking whether they are food insecure or not is a Bernouli trial with a probably of 0.38 that the student is Food Insecure; and a probability of $1-0.38 = 0.62$ that they are not. Specifically the result for each student is independent of the others (the probabilities 0.38 and 0.62 in the trial are not changing). We will use the *prob* parameter and pass it a column of the two probabilities. "
   ]
  },
  {
   "cell_type": "code",
   "execution_count": 2,
   "metadata": {},
   "outputs": [
    {
     "data": {
      "text/html": [
       "<style>\n",
       ".list-inline {list-style: none; margin:0; padding: 0}\n",
       ".list-inline>li {display: inline-block}\n",
       ".list-inline>li:not(:last-child)::after {content: \"\\00b7\"; padding: 0 .5ex}\n",
       "</style>\n",
       "<ol class=list-inline><li>1</li><li>1</li><li>0</li><li>0</li><li>0</li><li>0</li><li>1</li><li>1</li><li>0</li><li>1</li><li>0</li><li>0</li><li>0</li><li>0</li><li>0</li><li>0</li><li>0</li><li>0</li><li>0</li><li>0</li><li>1</li><li>0</li><li>1</li><li>0</li><li>0</li><li>0</li><li>0</li><li>0</li><li>0</li><li>0</li><li>0</li><li>0</li><li>0</li><li>1</li><li>1</li><li>0</li><li>0</li><li>1</li><li>0</li><li>0</li><li>0</li><li>1</li><li>1</li><li>0</li><li>0</li><li>1</li><li>0</li><li>0</li><li>0</li><li>1</li><li>1</li><li>0</li><li>1</li><li>0</li><li>1</li><li>0</li><li>1</li><li>0</li><li>1</li><li>0</li><li>0</li><li>1</li><li>1</li><li>0</li><li>1</li><li>1</li><li>0</li><li>0</li><li>0</li><li>0</li><li>0</li><li>0</li><li>0</li><li>1</li><li>1</li><li>1</li><li>0</li><li>0</li><li>0</li><li>1</li><li>0</li><li>1</li><li>1</li><li>0</li><li>0</li><li>1</li><li>1</li><li>0</li><li>0</li><li>0</li><li>0</li><li>0</li><li>1</li><li>1</li><li>0</li><li>0</li><li>0</li><li>1</li><li>0</li><li>0</li><li>1</li><li>0</li><li>1</li><li>1</li><li>0</li><li>0</li><li>1</li><li>0</li><li>0</li><li>1</li><li>0</li><li>1</li><li>1</li><li>0</li><li>1</li><li>1</li><li>1</li><li>1</li><li>0</li><li>0</li><li>0</li><li>0</li><li>1</li><li>1</li><li>1</li><li>1</li><li>0</li><li>1</li><li>1</li><li>1</li></ol>\n"
      ],
      "text/latex": [
       "\\begin{enumerate*}\n",
       "\\item 1\n",
       "\\item 1\n",
       "\\item 0\n",
       "\\item 0\n",
       "\\item 0\n",
       "\\item 0\n",
       "\\item 1\n",
       "\\item 1\n",
       "\\item 0\n",
       "\\item 1\n",
       "\\item 0\n",
       "\\item 0\n",
       "\\item 0\n",
       "\\item 0\n",
       "\\item 0\n",
       "\\item 0\n",
       "\\item 0\n",
       "\\item 0\n",
       "\\item 0\n",
       "\\item 0\n",
       "\\item 1\n",
       "\\item 0\n",
       "\\item 1\n",
       "\\item 0\n",
       "\\item 0\n",
       "\\item 0\n",
       "\\item 0\n",
       "\\item 0\n",
       "\\item 0\n",
       "\\item 0\n",
       "\\item 0\n",
       "\\item 0\n",
       "\\item 0\n",
       "\\item 1\n",
       "\\item 1\n",
       "\\item 0\n",
       "\\item 0\n",
       "\\item 1\n",
       "\\item 0\n",
       "\\item 0\n",
       "\\item 0\n",
       "\\item 1\n",
       "\\item 1\n",
       "\\item 0\n",
       "\\item 0\n",
       "\\item 1\n",
       "\\item 0\n",
       "\\item 0\n",
       "\\item 0\n",
       "\\item 1\n",
       "\\item 1\n",
       "\\item 0\n",
       "\\item 1\n",
       "\\item 0\n",
       "\\item 1\n",
       "\\item 0\n",
       "\\item 1\n",
       "\\item 0\n",
       "\\item 1\n",
       "\\item 0\n",
       "\\item 0\n",
       "\\item 1\n",
       "\\item 1\n",
       "\\item 0\n",
       "\\item 1\n",
       "\\item 1\n",
       "\\item 0\n",
       "\\item 0\n",
       "\\item 0\n",
       "\\item 0\n",
       "\\item 0\n",
       "\\item 0\n",
       "\\item 0\n",
       "\\item 1\n",
       "\\item 1\n",
       "\\item 1\n",
       "\\item 0\n",
       "\\item 0\n",
       "\\item 0\n",
       "\\item 1\n",
       "\\item 0\n",
       "\\item 1\n",
       "\\item 1\n",
       "\\item 0\n",
       "\\item 0\n",
       "\\item 1\n",
       "\\item 1\n",
       "\\item 0\n",
       "\\item 0\n",
       "\\item 0\n",
       "\\item 0\n",
       "\\item 0\n",
       "\\item 1\n",
       "\\item 1\n",
       "\\item 0\n",
       "\\item 0\n",
       "\\item 0\n",
       "\\item 1\n",
       "\\item 0\n",
       "\\item 0\n",
       "\\item 1\n",
       "\\item 0\n",
       "\\item 1\n",
       "\\item 1\n",
       "\\item 0\n",
       "\\item 0\n",
       "\\item 1\n",
       "\\item 0\n",
       "\\item 0\n",
       "\\item 1\n",
       "\\item 0\n",
       "\\item 1\n",
       "\\item 1\n",
       "\\item 0\n",
       "\\item 1\n",
       "\\item 1\n",
       "\\item 1\n",
       "\\item 1\n",
       "\\item 0\n",
       "\\item 0\n",
       "\\item 0\n",
       "\\item 0\n",
       "\\item 1\n",
       "\\item 1\n",
       "\\item 1\n",
       "\\item 1\n",
       "\\item 0\n",
       "\\item 1\n",
       "\\item 1\n",
       "\\item 1\n",
       "\\end{enumerate*}\n"
      ],
      "text/markdown": [
       "1. 1\n",
       "2. 1\n",
       "3. 0\n",
       "4. 0\n",
       "5. 0\n",
       "6. 0\n",
       "7. 1\n",
       "8. 1\n",
       "9. 0\n",
       "10. 1\n",
       "11. 0\n",
       "12. 0\n",
       "13. 0\n",
       "14. 0\n",
       "15. 0\n",
       "16. 0\n",
       "17. 0\n",
       "18. 0\n",
       "19. 0\n",
       "20. 0\n",
       "21. 1\n",
       "22. 0\n",
       "23. 1\n",
       "24. 0\n",
       "25. 0\n",
       "26. 0\n",
       "27. 0\n",
       "28. 0\n",
       "29. 0\n",
       "30. 0\n",
       "31. 0\n",
       "32. 0\n",
       "33. 0\n",
       "34. 1\n",
       "35. 1\n",
       "36. 0\n",
       "37. 0\n",
       "38. 1\n",
       "39. 0\n",
       "40. 0\n",
       "41. 0\n",
       "42. 1\n",
       "43. 1\n",
       "44. 0\n",
       "45. 0\n",
       "46. 1\n",
       "47. 0\n",
       "48. 0\n",
       "49. 0\n",
       "50. 1\n",
       "51. 1\n",
       "52. 0\n",
       "53. 1\n",
       "54. 0\n",
       "55. 1\n",
       "56. 0\n",
       "57. 1\n",
       "58. 0\n",
       "59. 1\n",
       "60. 0\n",
       "61. 0\n",
       "62. 1\n",
       "63. 1\n",
       "64. 0\n",
       "65. 1\n",
       "66. 1\n",
       "67. 0\n",
       "68. 0\n",
       "69. 0\n",
       "70. 0\n",
       "71. 0\n",
       "72. 0\n",
       "73. 0\n",
       "74. 1\n",
       "75. 1\n",
       "76. 1\n",
       "77. 0\n",
       "78. 0\n",
       "79. 0\n",
       "80. 1\n",
       "81. 0\n",
       "82. 1\n",
       "83. 1\n",
       "84. 0\n",
       "85. 0\n",
       "86. 1\n",
       "87. 1\n",
       "88. 0\n",
       "89. 0\n",
       "90. 0\n",
       "91. 0\n",
       "92. 0\n",
       "93. 1\n",
       "94. 1\n",
       "95. 0\n",
       "96. 0\n",
       "97. 0\n",
       "98. 1\n",
       "99. 0\n",
       "100. 0\n",
       "101. 1\n",
       "102. 0\n",
       "103. 1\n",
       "104. 1\n",
       "105. 0\n",
       "106. 0\n",
       "107. 1\n",
       "108. 0\n",
       "109. 0\n",
       "110. 1\n",
       "111. 0\n",
       "112. 1\n",
       "113. 1\n",
       "114. 0\n",
       "115. 1\n",
       "116. 1\n",
       "117. 1\n",
       "118. 1\n",
       "119. 0\n",
       "120. 0\n",
       "121. 0\n",
       "122. 0\n",
       "123. 1\n",
       "124. 1\n",
       "125. 1\n",
       "126. 1\n",
       "127. 0\n",
       "128. 1\n",
       "129. 1\n",
       "130. 1\n",
       "\n",
       "\n"
      ],
      "text/plain": [
       "  [1] 1 1 0 0 0 0 1 1 0 1 0 0 0 0 0 0 0 0 0 0 1 0 1 0 0 0 0 0 0 0 0 0 0 1 1 0 0\n",
       " [38] 1 0 0 0 1 1 0 0 1 0 0 0 1 1 0 1 0 1 0 1 0 1 0 0 1 1 0 1 1 0 0 0 0 0 0 0 1\n",
       " [75] 1 1 0 0 0 1 0 1 1 0 0 1 1 0 0 0 0 0 1 1 0 0 0 1 0 0 1 0 1 1 0 0 1 0 0 1 0\n",
       "[112] 1 1 0 1 1 1 1 0 0 0 0 1 1 1 1 0 1 1 1"
      ]
     },
     "metadata": {},
     "output_type": "display_data"
    }
   ],
   "source": [
    "x <- c(1, 0)\n",
    "result <- sample(x, 130, replace = TRUE, prob=c(0.38, 0.62) )\n",
    "result"
   ]
  },
  {
   "cell_type": "markdown",
   "metadata": {},
   "source": [
    "You may notice that rather than using strings for the entries in *x* I used 1 and 0. The reason is that what we care about is the number of students that are food insecure, this is our random variable of interest and now we can compute its value by just summing up the numbers in *result* the value of which will be the number of 1s. "
   ]
  },
  {
   "cell_type": "code",
   "execution_count": 3,
   "metadata": {},
   "outputs": [
    {
     "data": {
      "text/html": [
       "52"
      ],
      "text/latex": [
       "52"
      ],
      "text/markdown": [
       "52"
      ],
      "text/plain": [
       "[1] 52"
      ]
     },
     "metadata": {},
     "output_type": "display_data"
    }
   ],
   "source": [
    "sum(result)"
   ]
  },
  {
   "cell_type": "markdown",
   "metadata": {},
   "source": [
    "Because the *sample* command uses (pseudo)-random numbers, if we run this again we will get a different result (also note each time I compile this textbook the values change). Do it a few times yourself and see what we get."
   ]
  },
  {
   "cell_type": "code",
   "execution_count": 4,
   "metadata": {},
   "outputs": [
    {
     "data": {
      "text/html": [
       "50"
      ],
      "text/latex": [
       "50"
      ],
      "text/markdown": [
       "50"
      ],
      "text/plain": [
       "[1] 50"
      ]
     },
     "metadata": {},
     "output_type": "display_data"
    }
   ],
   "source": [
    "sum(sample(x, 130, replace=TRUE, prob=c(0.38, 0.62)))"
   ]
  },
  {
   "cell_type": "markdown",
   "metadata": {},
   "source": [
    "This is a little bit tedious to run a bunch of times and we also should be keeping track of the results. For example, what is the smallest value you have seen so far? Luckily, one of the things computers are absolutely brilliant at is doing the same thing over and over and keeping track of the results. Let me introduce you to one of the two real programming structures we will use in this class:  a *for loop*.  A for loop tells the computer to complete the same set of commands multiple times."
   ]
  },
  {
   "cell_type": "code",
   "execution_count": 5,
   "metadata": {},
   "outputs": [
    {
     "data": {
      "text/html": [
       "<style>\n",
       ".list-inline {list-style: none; margin:0; padding: 0}\n",
       ".list-inline>li {display: inline-block}\n",
       ".list-inline>li:not(:last-child)::after {content: \"\\00b7\"; padding: 0 .5ex}\n",
       "</style>\n",
       "<ol class=list-inline><li>42</li><li>45</li><li>44</li><li>57</li><li>53</li><li>49</li><li>52</li><li>61</li><li>50</li><li>49</li><li>43</li><li>55</li><li>43</li><li>51</li><li>54</li><li>50</li><li>51</li><li>57</li><li>47</li><li>49</li><li>53</li><li>43</li><li>53</li><li>44</li><li>48</li><li>51</li><li>44</li><li>48</li><li>41</li><li>45</li><li>46</li><li>58</li><li>57</li><li>51</li><li>60</li><li>41</li><li>42</li><li>56</li><li>39</li><li>48</li><li>45</li><li>48</li><li>40</li><li>53</li><li>43</li><li>53</li><li>48</li><li>45</li><li>51</li><li>31</li><li>48</li><li>47</li><li>41</li><li>45</li><li>57</li><li>44</li><li>53</li><li>49</li><li>43</li><li>44</li><li>57</li><li>55</li><li>50</li><li>58</li><li>47</li><li>54</li><li>45</li><li>48</li><li>50</li><li>53</li><li>44</li><li>53</li><li>40</li><li>48</li><li>39</li><li>44</li><li>43</li><li>48</li><li>53</li><li>46</li><li>51</li><li>53</li><li>53</li><li>46</li><li>53</li><li>54</li><li>46</li><li>52</li><li>46</li><li>56</li><li>50</li><li>54</li><li>43</li><li>45</li><li>46</li><li>47</li><li>40</li><li>46</li><li>54</li><li>47</li></ol>\n"
      ],
      "text/latex": [
       "\\begin{enumerate*}\n",
       "\\item 42\n",
       "\\item 45\n",
       "\\item 44\n",
       "\\item 57\n",
       "\\item 53\n",
       "\\item 49\n",
       "\\item 52\n",
       "\\item 61\n",
       "\\item 50\n",
       "\\item 49\n",
       "\\item 43\n",
       "\\item 55\n",
       "\\item 43\n",
       "\\item 51\n",
       "\\item 54\n",
       "\\item 50\n",
       "\\item 51\n",
       "\\item 57\n",
       "\\item 47\n",
       "\\item 49\n",
       "\\item 53\n",
       "\\item 43\n",
       "\\item 53\n",
       "\\item 44\n",
       "\\item 48\n",
       "\\item 51\n",
       "\\item 44\n",
       "\\item 48\n",
       "\\item 41\n",
       "\\item 45\n",
       "\\item 46\n",
       "\\item 58\n",
       "\\item 57\n",
       "\\item 51\n",
       "\\item 60\n",
       "\\item 41\n",
       "\\item 42\n",
       "\\item 56\n",
       "\\item 39\n",
       "\\item 48\n",
       "\\item 45\n",
       "\\item 48\n",
       "\\item 40\n",
       "\\item 53\n",
       "\\item 43\n",
       "\\item 53\n",
       "\\item 48\n",
       "\\item 45\n",
       "\\item 51\n",
       "\\item 31\n",
       "\\item 48\n",
       "\\item 47\n",
       "\\item 41\n",
       "\\item 45\n",
       "\\item 57\n",
       "\\item 44\n",
       "\\item 53\n",
       "\\item 49\n",
       "\\item 43\n",
       "\\item 44\n",
       "\\item 57\n",
       "\\item 55\n",
       "\\item 50\n",
       "\\item 58\n",
       "\\item 47\n",
       "\\item 54\n",
       "\\item 45\n",
       "\\item 48\n",
       "\\item 50\n",
       "\\item 53\n",
       "\\item 44\n",
       "\\item 53\n",
       "\\item 40\n",
       "\\item 48\n",
       "\\item 39\n",
       "\\item 44\n",
       "\\item 43\n",
       "\\item 48\n",
       "\\item 53\n",
       "\\item 46\n",
       "\\item 51\n",
       "\\item 53\n",
       "\\item 53\n",
       "\\item 46\n",
       "\\item 53\n",
       "\\item 54\n",
       "\\item 46\n",
       "\\item 52\n",
       "\\item 46\n",
       "\\item 56\n",
       "\\item 50\n",
       "\\item 54\n",
       "\\item 43\n",
       "\\item 45\n",
       "\\item 46\n",
       "\\item 47\n",
       "\\item 40\n",
       "\\item 46\n",
       "\\item 54\n",
       "\\item 47\n",
       "\\end{enumerate*}\n"
      ],
      "text/markdown": [
       "1. 42\n",
       "2. 45\n",
       "3. 44\n",
       "4. 57\n",
       "5. 53\n",
       "6. 49\n",
       "7. 52\n",
       "8. 61\n",
       "9. 50\n",
       "10. 49\n",
       "11. 43\n",
       "12. 55\n",
       "13. 43\n",
       "14. 51\n",
       "15. 54\n",
       "16. 50\n",
       "17. 51\n",
       "18. 57\n",
       "19. 47\n",
       "20. 49\n",
       "21. 53\n",
       "22. 43\n",
       "23. 53\n",
       "24. 44\n",
       "25. 48\n",
       "26. 51\n",
       "27. 44\n",
       "28. 48\n",
       "29. 41\n",
       "30. 45\n",
       "31. 46\n",
       "32. 58\n",
       "33. 57\n",
       "34. 51\n",
       "35. 60\n",
       "36. 41\n",
       "37. 42\n",
       "38. 56\n",
       "39. 39\n",
       "40. 48\n",
       "41. 45\n",
       "42. 48\n",
       "43. 40\n",
       "44. 53\n",
       "45. 43\n",
       "46. 53\n",
       "47. 48\n",
       "48. 45\n",
       "49. 51\n",
       "50. 31\n",
       "51. 48\n",
       "52. 47\n",
       "53. 41\n",
       "54. 45\n",
       "55. 57\n",
       "56. 44\n",
       "57. 53\n",
       "58. 49\n",
       "59. 43\n",
       "60. 44\n",
       "61. 57\n",
       "62. 55\n",
       "63. 50\n",
       "64. 58\n",
       "65. 47\n",
       "66. 54\n",
       "67. 45\n",
       "68. 48\n",
       "69. 50\n",
       "70. 53\n",
       "71. 44\n",
       "72. 53\n",
       "73. 40\n",
       "74. 48\n",
       "75. 39\n",
       "76. 44\n",
       "77. 43\n",
       "78. 48\n",
       "79. 53\n",
       "80. 46\n",
       "81. 51\n",
       "82. 53\n",
       "83. 53\n",
       "84. 46\n",
       "85. 53\n",
       "86. 54\n",
       "87. 46\n",
       "88. 52\n",
       "89. 46\n",
       "90. 56\n",
       "91. 50\n",
       "92. 54\n",
       "93. 43\n",
       "94. 45\n",
       "95. 46\n",
       "96. 47\n",
       "97. 40\n",
       "98. 46\n",
       "99. 54\n",
       "100. 47\n",
       "\n",
       "\n"
      ],
      "text/plain": [
       "  [1] 42 45 44 57 53 49 52 61 50 49 43 55 43 51 54 50 51 57 47 49 53 43 53 44 48\n",
       " [26] 51 44 48 41 45 46 58 57 51 60 41 42 56 39 48 45 48 40 53 43 53 48 45 51 31\n",
       " [51] 48 47 41 45 57 44 53 49 43 44 57 55 50 58 47 54 45 48 50 53 44 53 40 48 39\n",
       " [76] 44 43 48 53 46 51 53 53 46 53 54 46 52 46 56 50 54 43 45 46 47 40 46 54 47"
      ]
     },
     "metadata": {},
     "output_type": "display_data"
    }
   ],
   "source": [
    "# We are going to keep track of the results in a variable called trials, so we first initalize this variable as an empty column\n",
    "trials <- c()\n",
    "\n",
    "# Then our for loop - in this case we just want the loop to repeat the command 100 times\n",
    "for (k in 1:100) { \n",
    "  # each loop will compute the number of food insecure students in our random sample of 130 students, \n",
    "  # make that a column, and \n",
    "  # then add that to the end of the trials column\n",
    "  trials <- c(trials, sum(sample(x, 130, replace=TRUE, prob=c(0.38, 0.62))))\n",
    "}\n",
    "\n",
    "trials"
   ]
  },
  {
   "cell_type": "markdown",
   "metadata": {},
   "source": [
    "Let's use a historgram to look at the result:"
   ]
  },
  {
   "cell_type": "code",
   "execution_count": 6,
   "metadata": {},
   "outputs": [
    {
     "data": {
      "image/png": "[encoded data removed]",
      "text/plain": [
       "Plot with title “Histogram of trials”"
      ]
     },
     "metadata": {
      "filenames": {
       "image/png": "/home/virgilpierce/Documents/GitHub/MATH_550/_build/jupyter_execute/03-Discrete_Probability_11_0.png"
      },
      "image/png": {
       "height": 420,
       "width": 420
      }
     },
     "output_type": "display_data"
    }
   ],
   "source": [
    "# The paramter breaks is determining how many bins to use\n",
    "hist(trials, breaks=10)"
   ]
  },
  {
   "cell_type": "code",
   "execution_count": 7,
   "metadata": {},
   "outputs": [
    {
     "data": {
      "text/plain": [
       "   Min. 1st Qu.  Median    Mean 3rd Qu.    Max. \n",
       "  31.00   44.75   48.00   48.55   53.00   61.00 "
      ]
     },
     "metadata": {},
     "output_type": "display_data"
    }
   ],
   "source": [
    "summary(trials)"
   ]
  },
  {
   "cell_type": "markdown",
   "metadata": {},
   "source": [
    "So interestingly the minimum value is not very small. What does this tell us about the number of mathematics majors we might see that are food insecure?  What would our interpretation be if we found only 10 of the mathematics majors were food insecure?\n",
    "\n",
    "Finally you can probably tell me you are not surprised that the mean is close to "
   ]
  },
  {
   "cell_type": "code",
   "execution_count": 8,
   "metadata": {},
   "outputs": [
    {
     "data": {
      "text/html": [
       "49.4"
      ],
      "text/latex": [
       "49.4"
      ],
      "text/markdown": [
       "49.4"
      ],
      "text/plain": [
       "[1] 49.4"
      ]
     },
     "metadata": {},
     "output_type": "display_data"
    }
   ],
   "source": [
    "0.38*130"
   ]
  },
  {
   "cell_type": "markdown",
   "metadata": {},
   "source": [
    "we will make your instinct about this precise!\n",
    "\n",
    "### Plan\n",
    "\n",
    "Let me pause here and say that this is our plan for the course. We will take a given problem and experiment with it, using R to simmulate things like flipping coins or rolling dice, or as in this example selecting random college students and asking them whether they are food insecure or not. Then we will ask the theoretical questions where we try and model the situation.\n",
    "\n",
    "### Binomial Distribution\n",
    "\n",
    "Now let's develop a model of what is happening. To do this we will ask the following question: For Y, the random variable given by the number of success in a set of 130 Bernouli trials, what is $P(Y = r)$ for a given integer r?  We could think of this as a function of $r$ and as such it is called the *Probability Distribution* of the random variable $Y$. In this case the $Y$ takes discrete values and so we would call $P(Y=r)$ a discrete probability distribution.\n",
    "\n",
    "Find the following probabilities:\n",
    "\n",
    "- $P(Y=r)$ for r < 0\n",
    "- $P(Y=r)$ for r not an integer\n",
    "- $P(Y=r)$ for r > 130\n",
    "\n",
    "Okay so now lets fix a particular r, and being mathematicians lets start simple with r = 1:\n",
    "\n",
    "1. $P(Y=1)$ is the probability that one of the 130 students is food insecure. There 130 different students who could be the one that is food insecure; and then the probability of having one success is given by 0.38; while the probability of 129 failures is $0.62^{129}$. Thus the solution is:\n",
    "\n",
    "$$ P(Y=1) = 130 \\cdot 0.38 \\cdot 0.62^{129} $$\n",
    "\n",
    "- Specifically the 130 factor is because mutually exclusive events sum their probabilities; and luckily for us each one is equally likely so we just get the multiple of the number of events. \n",
    "- The $0.38 \\cdot 0.62^{129} $ factor is because independent events multiply their probabilities.\n",
    "\n",
    "Note that this depends on the individual trials being independent. For the food insecurity quesiton, is this reasonable?\n",
    "\n",
    "We get:\n"
   ]
  },
  {
   "cell_type": "code",
   "execution_count": 9,
   "metadata": {},
   "outputs": [
    {
     "data": {
      "text/html": [
       "8.17061776947479e-26"
      ],
      "text/latex": [
       "8.17061776947479e-26"
      ],
      "text/markdown": [
       "8.17061776947479e-26"
      ],
      "text/plain": [
       "[1] 8.170618e-26"
      ]
     },
     "metadata": {},
     "output_type": "display_data"
    }
   ],
   "source": [
    "130 * 0.38 * 0.62^129"
   ]
  },
  {
   "cell_type": "markdown",
   "metadata": {},
   "source": [
    "2. $P(Y=2)$ in the case of two students out of the 130 being food insecure:  There are $$ \\binom{130}{2} $$ ways to select those two students. Then the likelihood that those two are success is $0.38^2$; and the likliehood the other 128 are failures is $0.62^{128}$. Putting it all together we have:\n",
    "\n",
    "$$ P(Y=2) = \\binom{130}{2} 0.38^2 \\cdot 0.62^{128} $$\n",
    "\n",
    "We get:"
   ]
  },
  {
   "cell_type": "code",
   "execution_count": 10,
   "metadata": {},
   "outputs": [
    {
     "data": {
      "text/html": [
       "3.23002970209399e-24"
      ],
      "text/latex": [
       "3.23002970209399e-24"
      ],
      "text/markdown": [
       "3.23002970209399e-24"
      ],
      "text/plain": [
       "[1] 3.23003e-24"
      ]
     },
     "metadata": {},
     "output_type": "display_data"
    }
   ],
   "source": [
    "choose(130, 2) * 0.38^2 * 0.62^128"
   ]
  },
  {
   "cell_type": "markdown",
   "metadata": {},
   "source": [
    "3. More generally we find:\n",
    "\n",
    "$$ P(Y=r) = \\binom{130}{r} 0.38^r \\cdot 0.62^{130 - r} $$\n",
    "\n",
    "Plotting the whole range of values:"
   ]
  },
  {
   "cell_type": "code",
   "execution_count": 11,
   "metadata": {},
   "outputs": [
    {
     "data": {
      "image/png": "[encoded data removed]",
      "text/plain": [
       "plot without title"
      ]
     },
     "metadata": {
      "filenames": {
       "image/png": "/home/virgilpierce/Documents/GitHub/MATH_550/_build/jupyter_execute/03-Discrete_Probability_20_0.png"
      },
      "image/png": {
       "height": 420,
       "width": 420
      }
     },
     "output_type": "display_data"
    }
   ],
   "source": [
    "r <- c(0:130)\n",
    "v <- choose(130, r) * 0.38^r * 0.62^(130 - r)\n",
    "plot(r, v)"
   ]
  },
  {
   "cell_type": "markdown",
   "metadata": {},
   "source": [
    "### Binomial Distribution\n",
    "\n",
    "More generally:  A Binomial Trial is made up of n identical indepedent Bernouli Trials each with probability p of success and 1-p of failure. The random variable $$Y = \\mbox{The number of successes in the n trials} $$ has a probability distribution function given by:\n",
    "\n",
    "$$ P(Y = r) = \\binom{n}{r} p^r (1-p)^{n-r} $$\n",
    "\n",
    "Vary the p and the n a bit in the plot below and see how the distribution changes:"
   ]
  },
  {
   "cell_type": "code",
   "execution_count": 12,
   "metadata": {},
   "outputs": [
    {
     "data": {
      "image/png": "[encoded data removed]",
      "text/plain": [
       "plot without title"
      ]
     },
     "metadata": {
      "filenames": {
       "image/png": "/home/virgilpierce/Documents/GitHub/MATH_550/_build/jupyter_execute/03-Discrete_Probability_22_0.png"
      },
      "image/png": {
       "height": 420,
       "width": 420
      }
     },
     "output_type": "display_data"
    }
   ],
   "source": [
    "p <- 0.01\n",
    "n <- 30\n",
    "r <- c(0:n)\n",
    "v <- choose(n, r) * p^r * (1-p)^(n - r)\n",
    "plot(r, v)"
   ]
  },
  {
   "cell_type": "markdown",
   "metadata": {},
   "source": [
    "### Checking a few things\n",
    "\n",
    "1. So a few things to check before we move on. The total probability should be 1. It's not clear it will be:\n"
   ]
  },
  {
   "cell_type": "code",
   "execution_count": 13,
   "metadata": {},
   "outputs": [
    {
     "data": {
      "text/html": [
       "1"
      ],
      "text/latex": [
       "1"
      ],
      "text/markdown": [
       "1"
      ],
      "text/plain": [
       "[1] 1"
      ]
     },
     "metadata": {},
     "output_type": "display_data"
    }
   ],
   "source": [
    "sum(v)"
   ]
  },
  {
   "cell_type": "markdown",
   "metadata": {},
   "source": [
    "It is interesting to ask why it works this way. You might recall that you have seen the binomial coefficient before, and in fact it even gets its name from the following problem:\n",
    "\n",
    "$$ (a + b)^n = \\sum_{r=0}^n \\binom{n}{r} a^r b^{n-r} $$\n",
    "\n",
    "Now suppose $a=p$ and $b=1-p$; what do we learn?\n",
    "\n",
    "2. No probability should have a value less than 0; or greater than 1.\n",
    "\n",
    "\n",
    "## Cummulative Distributions\n",
    "\n",
    "The motivating problem question was:  How likely is it that out of the 130 mathematics majors 39 or fewer of them are food insecure.  In terms of probability this quesiton is asking:  $P(Y \\leq 39)$\n",
    "\n",
    "And note we can compute that by just taking a sum:\n",
    "\n",
    "$$ P(Y \\leq 39) = \\sum_{r=0}^{39} P(Y = r) = \\sum_{r=0}^{39} \\binom{130}{r} 0.38^r \\cdot 0.62^{130-r} $$\n",
    "\n",
    "We could derive a formula for expressions right this, and if you enjoy algebra it is not a bad exercise. Do you enjoy algebra?  I frankly do not. Using a computer we can just compute it:"
   ]
  },
  {
   "cell_type": "code",
   "execution_count": 14,
   "metadata": {},
   "outputs": [
    {
     "data": {
      "text/html": [
       "0.0352862538948334"
      ],
      "text/latex": [
       "0.0352862538948334"
      ],
      "text/markdown": [
       "0.0352862538948334"
      ],
      "text/plain": [
       "[1] 0.03528625"
      ]
     },
     "metadata": {},
     "output_type": "display_data"
    }
   ],
   "source": [
    "r <- c(0:39)\n",
    "sum( choose(130, r) * 0.38^r * 0.62^(130 - r) )"
   ]
  },
  {
   "cell_type": "markdown",
   "metadata": {},
   "source": [
    "This is a good place to introduce some hard coded functions for our first named distribution:  \n",
    "\n",
    "The Probability Distribution Function for the Binomial Distribution is given by the *dbinom(r, n, p)* command:"
   ]
  },
  {
   "cell_type": "code",
   "execution_count": 15,
   "metadata": {},
   "outputs": [
    {
     "data": {
      "text/html": [
       "0.012283861450151"
      ],
      "text/latex": [
       "0.012283861450151"
      ],
      "text/markdown": [
       "0.012283861450151"
      ],
      "text/plain": [
       "[1] 0.01228386"
      ]
     },
     "metadata": {},
     "output_type": "display_data"
    }
   ],
   "source": [
    "dbinom(39, 130, 0.38)"
   ]
  },
  {
   "cell_type": "markdown",
   "metadata": {},
   "source": [
    "The Cummulative Distribution Function for the Binomial Distribution is given by the *pbinom(r, n, p)* command:"
   ]
  },
  {
   "cell_type": "code",
   "execution_count": 16,
   "metadata": {},
   "outputs": [
    {
     "data": {
      "text/html": [
       "0.0352862538948334"
      ],
      "text/latex": [
       "0.0352862538948334"
      ],
      "text/markdown": [
       "0.0352862538948334"
      ],
      "text/plain": [
       "[1] 0.03528625"
      ]
     },
     "metadata": {},
     "output_type": "display_data"
    }
   ],
   "source": [
    "pbinom(39, 130, 0.38)"
   ]
  },
  {
   "cell_type": "markdown",
   "metadata": {},
   "source": [
    "This us of *d* and *p* together with the name of the distribution will continue through all the distributions we work with."
   ]
  },
  {
   "cell_type": "markdown",
   "metadata": {},
   "source": [
    "### Conclusion to the Motivating Question\n",
    "\n",
    "So at this point we can conclude our motivating question:  What we have learned is that in a randomly selected group of 130 US college students the probability that we would have 39 or fewer of them indicating they are food insecure is less than 5%. We actually have the exact value or can at least get very good approximations of it. However in our class, and particularly in Applied Statistics, we are actually not that concerned with the exact value. We are more interested in bounding the result above and below. In fact in applications in the real world, if your answer depends on the exact value coming from your model it should set off alarm bells.\n",
    "\n",
    "In this case again we are seeing that the likliehood of 39 or fewer students with food insecurity out of 130 randomly selected US college students is small. If we had observed 39 we would then be inclined to believe that the other possibility is occurring:  Our assumption is false. Meaning in this case Mathematics Majors at UNC are not a random sample of US college students - there are lots of reasons, once we have evidence of it, we might realize are contributing to them not being random (the primary one being that there is in fact a stark difference between the food insecurity of 2-year students and 4-year students). The other possibility is that one of the other assumptions is false - perhaps the students are not well represented as independent trials.\n",
    "\n",
    "### General Cummulative Distribution Functions\n",
    "\n",
    "Its worth spending some more time on cummulative distribution functions, lets look at them in general case of a Binomial Trial with n trials with a probability of success of each trial of p."
   ]
  },
  {
   "cell_type": "code",
   "execution_count": 17,
   "metadata": {},
   "outputs": [
    {
     "data": {
      "image/png": "[encoded data removed]",
      "text/plain": [
       "plot without title"
      ]
     },
     "metadata": {
      "filenames": {
       "image/png": "/home/virgilpierce/Documents/GitHub/MATH_550/_build/jupyter_execute/03-Discrete_Probability_33_0.png"
      },
      "image/png": {
       "height": 420,
       "width": 420
      }
     },
     "output_type": "display_data"
    }
   ],
   "source": [
    "n <- 130\n",
    "p <- 0.38\n",
    "r <- c(-1:(10*n))/10\n",
    "plot(r, pbinom(r, n, p), type=\"l\")"
   ]
  },
  {
   "cell_type": "markdown",
   "metadata": {},
   "source": [
    "Note:  We only plotted the distribution function at integer values of r because it is zero everywhere else. However the cumulative distribution function gives the probability that $Y \\leq r$ and so it has a step like behavior. \n",
    "\n",
    "Note:  I generally LOVE using software to draw plots as I am an awful artist - most of my low grades in math classes like trigonometry and geometry in high school were because of my drawings. However one place where software consistently messes us up is in drawing step functions - this picture would be better without the vertical lines connecting the horizontal segments.\n",
    "\n",
    "Vary p and n to see how the plot changes. In particular for small values of n the steps should become more prominent. You might have to increase the 10 in the code snippet to get the mesh to be finer - if you notice the vertical segments are not looking very vertical this is what should be changed.\n",
    "\n",
    "## Motivating Problem - The Birthday Paradox\n",
    "\n",
    "In a class of 25 students, how likely is it that two or more of them share the same birthday (day / month)?  This seems like it might be a Binomial Trial; however are the trials identical and independent?\n",
    "\n",
    "**Question:** write a birthday problem that will be a Binomial Trial. Explain why in that case the trials are identical and independent.\n",
    "\n",
    "## Expected Value\n",
    "\n",
    "The *expected value* of a quantitative random variable is defined to be the mean of the values of the variable over a large number of repeated trials of the variable. Given a discrete probability distribution for a random variable $Y$:  $p(r) = P(Y=r)$ we can compute the expected value of $Y$ by taking the weighted average of all possible values of $r$ weighted by the likliehood of that r:\n",
    "\n",
    "$$ E(Y) = \\sum_{r: p(r) \\neq 0} r p(r) $$"
   ]
  },
  {
   "cell_type": "markdown",
   "metadata": {},
   "source": [
    "\n",
    "### The Expected Number of Students Experiencing Food Insecurity\n",
    "\n",
    "Returning to our problem. If we have a group of 130 randomly selected US college students, the likliehood that any one of them is experiencing food insecurity is 0.38; and assuming that they are independently selected the number of ones in the 130 that are experiencing food insecurity fits the Binomial Distribution. Thus we can compute the expected number by summing over r = 0, 1, 2, ..., 130 with each r weighted by  $$ \\binom{130}{r} 0.38^r \\cdot 0.62^{130 - r} $$\n",
    "\n",
    "Using R we get:"
   ]
  },
  {
   "cell_type": "code",
   "execution_count": 18,
   "metadata": {},
   "outputs": [
    {
     "data": {
      "text/html": [
       "49.4"
      ],
      "text/latex": [
       "49.4"
      ],
      "text/markdown": [
       "49.4"
      ],
      "text/plain": [
       "[1] 49.4"
      ]
     },
     "metadata": {},
     "output_type": "display_data"
    }
   ],
   "source": [
    "r <- c(0:130)\n",
    "sum( r*dbinom(r, 130, 0.38))"
   ]
  },
  {
   "cell_type": "markdown",
   "metadata": {},
   "source": [
    "It is probably not shocking that this is the same number we saw above for $130 \\cdot 0.38 = 49.4$ and that it is also close to the mean we got in our sampling experiment we ran above. \n",
    "\n",
    "#### Expected Value of a Binomial Distribution\n",
    "\n",
    "We can show that this always happens. Note that in general this is a class that I want to have focus on computations - so while we are going to give the exact proofs of some of our results like this one, we will do them as a class rather than have you work on them as excersises. I do think that this computations could be used to motivate some problems you have students do in an algebra or pre-calculus or calculus class, but they are sort of parallel but not part of the goals for our class. \n",
    "\n",
    "Let $Y$ be a binomial distributed random variable for n trials with probability of success in each trial p. Define $q = 1-p$. Then we have\n",
    "\n",
    "$$ E(Y) = \\sum_{r=0}^n r \\binom{n}{r} p^r q^{n-r} $$ \n",
    "Note that the first term in this sum is in fact 0 and so we could index the sum from 1; then expand the binomial coefficient:\n",
    "\n",
    "$$ E(Y) = \\sum_{r=1}^n \\frac{n!}{(r-1)! (n-r)!} p^r q^{n-r} $$ \n",
    "\n",
    "We then notice that the terms in this sum are themselves close to being binomial probabilities for a different number of trials. For example what happens if we factor out $np$ from each term:\n",
    "\n",
    "$$ E(Y) = np \\sum_{r=1}^n \\frac{(n-1)!}{ (r-1)! (n-1 - (r-1))! } p^{r-1} q^{n-1 - (r-1) } $$\n",
    "\n",
    "and finally we note that we could re-base the index of the sum back to 0:\n",
    "\n",
    "$$ E(Y) = np \\sum_{s = 0}^{n-1} \\binom{n-1}{s} p^s q^{n-1 -s} $$\n",
    "\n",
    "and because the sum is now a sum over all of the probabilities of a binomial distribution it gives 1 and so: $E(Y) = np$. \n",
    "\n",
    "Which is **EXACTLY** what your instinct already told you we should get!!!!\n",
    "\n",
    "### General Expected Values\n",
    "\n",
    "First we note that if $Y$ is a random variable then expressions using $Y$ are themselves random variables - though almost certainly with different distributions. Specifically given a function $f(r)$ such that every possible value of $Y$ is in the domain of $f$ we have:\n",
    "\n",
    "$$ E(f(Y)) = \\sum_{r : p(r) \\neq 0} f(r) p(r) $$\n",
    "\n",
    "### Examples\n",
    "\n",
    "\n",
    "\n",
    "Find the following Expected Value:\n",
    "\n",
    "1. If $A$ and $B$ are random variables show that $E(A + B) = E(A) + E(B)$\n",
    "\n",
    "2. If c is a number show that $E( c A) = c E(A)$\n",
    "\n",
    "3. Show that for the constant random variable 1 (i.e. the value is 1 with probability 1) E(1) = 1.\n",
    "\n",
    "4. Use 1-4 to show that $E(A - E(A)) = 0$\n",
    "\n",
    "\n",
    "## Population Variance\n",
    "\n",
    "We have just shown that the expected value of $Y$ is $np$. Now what we would like to understand is the extent to which $Y$ gives us values smaller than or lesser than $np$. The two related metrics we will frequently use to study *spread* in this class are the variance and its square root, the standard deviation of the variable. Note that there are other notions of spread that are useful, particularly the use of quartiles and percentiles is another way to quantify the spread of a random variable or data from its center.  \n",
    "\n",
    "We also are going to (try to consistently) draw a distinction between the population variance and the sample variance. The one is a statement about how the random variable spreads for the whole population; while the other is a measurement of the variance specific to that sample. Later on we will show that the two are connected, but also that they are absolutely not the same things.\n",
    "\n",
    "\n",
    "Let $\\mu = E(Y)$ by the expected value of the random variable $Y$, or in other words the *population mean*. The *Population Variance* is defined to be the expected value:\n",
    "\n",
    "$$ \\sigma^2 = V(Y) = E( (Y- \\mu)^2 ) $$\n",
    "\n",
    "We call this $\\sigma^2$ because it will have the units of $Y^2$ and its square root, $\\sigma$ is the *population standard deviation* that will have the same units as $Y$. \n",
    "\n",
    "### Methods of Computing $V(Y)$\n",
    "\n",
    "We can do a bit of algebr and show that \n",
    "\n",
    "$$ \\sigma^2 = V(Y) = E(Y^2 ) - E(Y)^2 $$ \n",
    "\n",
    "Note that this implies that $E(Y^2) \\geq E(Y)^2$.\n",
    "\n",
    "### Variance of a Binomial Random Variable\n",
    "\n",
    "So we can find the variance of our binomial random variable, either for an explicit case:\n"
   ]
  },
  {
   "cell_type": "code",
   "execution_count": 19,
   "metadata": {},
   "outputs": [
    {
     "data": {
      "text/html": [
       "30.6280000000006"
      ],
      "text/latex": [
       "30.6280000000006"
      ],
      "text/markdown": [
       "30.6280000000006"
      ],
      "text/plain": [
       "[1] 30.628"
      ]
     },
     "metadata": {},
     "output_type": "display_data"
    }
   ],
   "source": [
    "r <- c(0:130)\n",
    "sigma2 <- sum( r^2*dbinom(r, 130, 0.38)) - (130*0.38)^2\n",
    "sigma2"
   ]
  },
  {
   "cell_type": "markdown",
   "metadata": {},
   "source": [
    "Though note that usually the square root is more useful:"
   ]
  },
  {
   "cell_type": "code",
   "execution_count": 20,
   "metadata": {},
   "outputs": [
    {
     "data": {
      "text/html": [
       "5.5342569510279"
      ],
      "text/latex": [
       "5.5342569510279"
      ],
      "text/markdown": [
       "5.5342569510279"
      ],
      "text/plain": [
       "[1] 5.534257"
      ]
     },
     "metadata": {},
     "output_type": "display_data"
    }
   ],
   "source": [
    "sqrt(sigma2)"
   ]
  },
  {
   "cell_type": "markdown",
   "metadata": {},
   "source": [
    "Implying a variation of 5.5 students from the mean of 49.4. We will get to specifically what this tells us later, for now it is enough to say that the larger this value the more we expected to see the random variable return values further from the mean.\n",
    "\n",
    "#### Exact Value\n",
    "\n",
    "We can also do some algebra to find the exact value. Let $Y$ be a binomial random variable for n trials with the probability of success of each trial being p. Define $q = 1-p$:\n",
    "\n",
    "$$ V(Y) = E(Y^2) - (np)^2 $$\n",
    "\n",
    "So we need to find \n",
    "\n",
    "$$ E(Y^2) = \\sum_{r=0}^n r^2 \\binom{n}{r} p^r q^{n-r} $$\n",
    "\n",
    "Not very useful as while r is a factor of r!, $r^2$ is not. Note we could work with $E(Y(Y-1)) + np = E(Y^2)$ instead and then this will play well with the factorial (and the sum as it turns out):\n",
    "\n",
    "$$ E(Y(Y-1)) = \\sum_{r=0}^n r (r-1) \\binom{n}{r} p^r q^{n-r} $$\n",
    "\n",
    "Noting that the first two terms in the sum are zero and expanding out the binomial coefficient in factorials we have:\n",
    "\n",
    "$$ E(Y(Y-1)) = \\sum_{r=2}^n \\frac{ n!}{ (r-2)! (n-r)! } p^r q^{n-r} $$\n",
    "\n",
    "If we factor out a $n (n-1) p^2$ and rebasing the sum (using exactly the same pattern as above) we get:\n",
    "\n",
    "$$ E(Y(Y-1)) = n (n-1) p^2 \\sum_{s=0}^{n-2} \\binom{n-2}{s} p^s q^{n-2-s} $$ \n",
    "\n",
    "The sum is now a sum over a binomial distribution with $n-2$ trials and so adds up to 1; and thus we have: $E(Y(Y-1)) = n (n-1) p^2$ \n",
    "\n",
    "Putting it all together we have:  \n",
    "\n",
    "$$ V(Y) = n (n-1) p^2 + np - (np)^2 = \\mbox{algebra} = n p (1-p) $$\n",
    "\n",
    "It is interesting to fix $n$ and plot this as a function of p (it is simple enough to do by hand, but we have R sitting right here):"
   ]
  },
  {
   "cell_type": "code",
   "execution_count": 21,
   "metadata": {},
   "outputs": [
    {
     "data": {
      "image/png": "[encoded data removed]",
      "text/plain": [
       "plot without title"
      ]
     },
     "metadata": {
      "filenames": {
       "image/png": "/home/virgilpierce/Documents/GitHub/MATH_550/_build/jupyter_execute/03-Discrete_Probability_42_0.png"
      },
      "image/png": {
       "height": 420,
       "width": 420
      }
     },
     "output_type": "display_data"
    }
   ],
   "source": [
    "n <- 130\n",
    "p <- c(0:1000)/1000\n",
    "v <- n*p*(1-p)\n",
    "plot(p, v, type=\"l\")"
   ]
  },
  {
   "cell_type": "code",
   "execution_count": null,
   "metadata": {},
   "outputs": [],
   "source": []
  }
 ],
 "metadata": {
  "kernelspec": {
   "display_name": "R",
   "language": "R",
   "name": "ir"
  },
  "language_info": {
   "codemirror_mode": "r",
   "file_extension": ".r",
   "mimetype": "text/x-r-source",
   "name": "R",
   "pygments_lexer": "r",
   "version": "4.0.2"
  }
 },
 "nbformat": 4,
 "nbformat_minor": 4
}