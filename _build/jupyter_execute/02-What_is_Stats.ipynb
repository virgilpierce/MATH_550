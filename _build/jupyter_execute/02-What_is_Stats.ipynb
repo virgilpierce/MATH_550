{
 "cells": [
  {
   "cell_type": "markdown",
   "metadata": {},
   "source": [
    "# What is Statistics?\n",
    "\n",
    "Our first unit will cover:\n",
    "\n",
    "- How and why we will be using R in this course.\n",
    "- A discussion of *What is Statistics*?\n",
    "- A discussion of the differences between Exploratory versus Confirmatory analysis\n",
    "- An overview of some of the problems we will develop tools to answer in this course\n",
    "\n",
    "\n",
    "## Introduction and R\n",
    "\n",
    "This course is going to use R for the computations. Much of what we do could be computed using Excell or Google Sheets however R has certain advantages over these tools:\n",
    "\n",
    "- R is a purpose built statistics software. It is designed to do that really well.\n",
    "- R arguably is the best tool for producing good looking figures suitable for publications. The figures are easy to manipulate and adjust. Most importantly it is really easy to have your figures be consistently formatted, something that is much harder with spreadsheets. \n",
    "- R includes a markdown language for creating nice looking notebooks: It can be used as an all in one publication tool to produce a report or paper with statistical analysis. \n",
    "- The markdown language includes LaTex for typsetting mathematics: $$ \\int_a^b f(x) dx $$\n",
    "- R is an industry standard tool for doing statistics. \n",
    "\n",
    "and most importantly \n",
    "\n",
    "- R is open and free. You can download it, and the tools we will use to interact with it **Rstudio** for free. It is also possible to use R in online environments like Cocalc. \n",
    "- If you are teaching a statistics class for your high school or college, I highly recommend using R as part of your class. \n",
    "\n",
    "### What do you need\n",
    "\n",
    "To get started:\n",
    "\n",
    "1. **If you are using a Mac or PC** you should download a copy of RStudio from https://www.rstudio.com/products/rstudio/  the free version is all you will need. This includes a copy of R itself - Rstudio is a tool for interacting with R to make some of our tasks easier.\n",
    "\n",
    "2. **If you are using a Chromebook, want to use R on a tablet, or just don't want to install it** I have two options for you:\n",
    "  a. Cocalc provides an online interface that lets you issue R commands. It also includes a markdown language so you will be able to use it to prepare the documents for class. You can reach it here: https://cocalc.com/ you will need to create an account.\n",
    "  b. The university Apporto virtual machine:  https://unco.apporto.com has R studio installed. You can log in to it from any browser.\n",
    "  c. If you are in Greeley you can use R on the machines in the computer labs on campus. Near my office is Ross 2261 and 2263. Note that parking is enforced in the summer, and that the building may be locked on the weekend.\n",
    "  \n",
    "If at all possible I would recommend 1. as with the software installed locally you will not need to be using your internet connection. However students using 2. in my classes have reported that it works well for them.\n",
    "\n",
    "### Open Rstudio\n",
    "\n",
    "To actually start using R, go ahead and open R studio. You can use R directly in the console (lower-left quadrant). Or you can open a notebook. Notebooks allow you to include markdown explanations around blocks of R code. I will show you an example in class. I typically use a notebook for my work, but the console is easier particularly if you are in a exploratory phase. The frame in the upper-right contains an overview of the variables that have been assigned values; and then the frame in the lower-right gives you an view of the files in your working directory, and if you issue plot commands in the console they will display here.\n",
    "\n",
    "The button on the top-left of the tool bar is for opening new documents, click the triangle next to it and choose \"New Notebook\" form the menu. RStudio helpfully inserts some information setting up your new notebook. You can adjust it as you wish. You can save the document from the file menu or using the toolbar buttons. RStudio has provided an example of how to put in Markdown language, and how to put in R commands. You execute a section of R commands but putting the cursor inside of it and pressing \"Control+Enter\" (or on a mac \"Command+Enter\", if using Cocalc you will need to press \"Shift+Enter\").  Try it now on the *plot(cars)* command. \n",
    "\n",
    "Note that from our textbook you can copy commands to your computers clipboard which you can then paste and run in the console or paste into a notebook to run - you will have to inclose them in the code enviroment to run."
   ]
  },
  {
   "cell_type": "code",
   "execution_count": 1,
   "metadata": {},
   "outputs": [
    {
     "data": {
      "image/png": "[encoded data removed]",
      "text/plain": [
       "plot without title"
      ]
     },
     "metadata": {
      "filenames": {
       "image/png": "/home/virgilpierce/Documents/GitHub/MATH_550/_build/jupyter_execute/02-What_is_Stats_1_0.png"
      },
      "image/png": {
       "height": 420,
       "width": 420
      }
     },
     "output_type": "display_data"
    }
   ],
   "source": [
    "plot(cars)"
   ]
  },
  {
   "cell_type": "markdown",
   "metadata": {},
   "source": [
    "### A few words about programming languages\n",
    "\n",
    "Before we continue with the *Probability and Statistics* I want to just add that learning programming languages is a powerful tool to help your students advance in their thinking about mathematics, one that I worry we do not spend enough time working with students on. At UNC one of my main goals for my tenure as School Director is to incorporate Python and R into the undergraduate mathematics curriculum wherever we can. A key part of learning a programming language, or more accurately, the only thing that has ever worked for me is having a problem I am interested in that needs solving. Statistics for myself, I hope for you by the end of this course, and for your students could be that problem that motivates learning some programming.\n",
    "\n",
    "Independent of all of that R is a great language to start with for the following reasons:\n",
    "\n",
    "1. Because R is so focused on statistics and visualizations of data, it is simpler and more compact than a general language.\n",
    "2. R is human readable - you can usually read a statement outloud and you will know exactly what it is doing.\n",
    "3. R is free.\n",
    "\n",
    "If you are interested in more about how to introduce students to R in a statistics class, or Python in an algebra, trigonometry, or calculus class, please let me know. It is a topic I am very interested in.\n",
    "\n",
    "### A first example\n",
    "\n",
    "**How many students were in each of your classes this Spring?**\n",
    "While I am collecting this data you can reflect on this funny musing. I grew up in rural Vermont and one thing I remember learning as a child was that asking a farmer how many cows they had was very rude, equivalent to asking how much money they had. I've always felt a bit strange asking other teachers how many students they have because of this.\n"
   ]
  },
  {
   "cell_type": "code",
   "execution_count": 2,
   "metadata": {},
   "outputs": [
    {
     "data": {
      "text/html": [
       "<style>\n",
       ".list-inline {list-style: none; margin:0; padding: 0}\n",
       ".list-inline>li {display: inline-block}\n",
       ".list-inline>li:not(:last-child)::after {content: \"\\00b7\"; padding: 0 .5ex}\n",
       "</style>\n",
       "<ol class=list-inline><li>28</li><li>26</li><li>27</li><li>27</li><li>29</li><li>27</li><li>26</li><li>28</li><li>20</li><li>33</li><li>28</li><li>32</li><li>27</li><li>28</li><li>25</li><li>19</li><li>27</li><li>22</li><li>36</li><li>26</li></ol>\n"
      ],
      "text/latex": [
       "\\begin{enumerate*}\n",
       "\\item 28\n",
       "\\item 26\n",
       "\\item 27\n",
       "\\item 27\n",
       "\\item 29\n",
       "\\item 27\n",
       "\\item 26\n",
       "\\item 28\n",
       "\\item 20\n",
       "\\item 33\n",
       "\\item 28\n",
       "\\item 32\n",
       "\\item 27\n",
       "\\item 28\n",
       "\\item 25\n",
       "\\item 19\n",
       "\\item 27\n",
       "\\item 22\n",
       "\\item 36\n",
       "\\item 26\n",
       "\\end{enumerate*}\n"
      ],
      "text/markdown": [
       "1. 28\n",
       "2. 26\n",
       "3. 27\n",
       "4. 27\n",
       "5. 29\n",
       "6. 27\n",
       "7. 26\n",
       "8. 28\n",
       "9. 20\n",
       "10. 33\n",
       "11. 28\n",
       "12. 32\n",
       "13. 27\n",
       "14. 28\n",
       "15. 25\n",
       "16. 19\n",
       "17. 27\n",
       "18. 22\n",
       "19. 36\n",
       "20. 26\n",
       "\n",
       "\n"
      ],
      "text/plain": [
       " [1] 28 26 27 27 29 27 26 28 20 33 28 32 27 28 25 19 27 22 36 26"
      ]
     },
     "metadata": {},
     "output_type": "display_data"
    }
   ],
   "source": [
    "# for testing use this\n",
    "students <- round(rnorm(20, 25, 5))\n",
    "\n",
    "# for class use this\n",
    "# students <- c() \n",
    "\n",
    "students"
   ]
  },
  {
   "cell_type": "markdown",
   "metadata": {},
   "source": [
    "*R Notes*: c() stands for column and is one of the most basic data structures in R. Most things we will build will either manipulate columns directly or will use structures built out of columns.\n",
    "\n",
    "Comments in commands start with *hash symbols*.\n",
    "\n",
    "Another syntax note:  R uses both = and <- for assignment though they have slightly different meanings. They both work as you would expect, however <- has some nice positives in the detailed differences and it is worth getting into the habit of using it.\n",
    "\n",
    "*RStudio Note*: You might notice that the variable we have just created has appeared in the upper-right quadrant of RStudio.\n",
    "\n",
    "#### Summary Statistics\n",
    "\n",
    "To get started we can use *summary* to get an overview of what our list of student enrollments look like. Review the meaning of each of these."
   ]
  },
  {
   "cell_type": "code",
   "execution_count": 3,
   "metadata": {},
   "outputs": [
    {
     "data": {
      "text/plain": [
       "   Min. 1st Qu.  Median    Mean 3rd Qu.    Max. \n",
       "  19.00   26.00   27.00   27.05   28.00   36.00 "
      ]
     },
     "metadata": {},
     "output_type": "display_data"
    }
   ],
   "source": [
    "summary(students)"
   ]
  },
  {
   "cell_type": "markdown",
   "metadata": {},
   "source": [
    "Mean and Median are *measures of center*, while the quartiles are *measures of spread*. One measure of spread missing is the variance or its square root standard deviation:"
   ]
  },
  {
   "cell_type": "code",
   "execution_count": 4,
   "metadata": {},
   "outputs": [
    {
     "data": {
      "text/html": [
       "15.5236842105263"
      ],
      "text/latex": [
       "15.5236842105263"
      ],
      "text/markdown": [
       "15.5236842105263"
      ],
      "text/plain": [
       "[1] 15.52368"
      ]
     },
     "metadata": {},
     "output_type": "display_data"
    },
    {
     "data": {
      "text/html": [
       "3.94001068660052"
      ],
      "text/latex": [
       "3.94001068660052"
      ],
      "text/markdown": [
       "3.94001068660052"
      ],
      "text/plain": [
       "[1] 3.940011"
      ]
     },
     "metadata": {},
     "output_type": "display_data"
    }
   ],
   "source": [
    "var(students); sqrt(var(students))"
   ]
  },
  {
   "cell_type": "markdown",
   "metadata": {},
   "source": [
    "The variance is computed by taking the sum of the square differences between the data and the mean and then dividing that by number of items minus one; we will explain why this is what we divide by later in class: \n",
    "$$ S = \\frac{1}{n-1} \\sum_{j=1}^n (y_j - \\bar{y} )^2 $$ where $\\bar{y}$ is the mean of the sample made up of the $\\{ y_1, y_2, \\dots, y_n \\}$.\n",
    "\n",
    "In the code blocks below I will add some comments about what we are doing:"
   ]
  },
  {
   "cell_type": "code",
   "execution_count": 5,
   "metadata": {},
   "outputs": [
    {
     "data": {
      "text/html": [
       "<style>\n",
       ".list-inline {list-style: none; margin:0; padding: 0}\n",
       ".list-inline>li {display: inline-block}\n",
       ".list-inline>li:not(:last-child)::after {content: \"\\00b7\"; padding: 0 .5ex}\n",
       "</style>\n",
       "<ol class=list-inline><li>0.902499999999999</li><li>1.1025</li><li>0.00250000000000007</li><li>0.00250000000000007</li><li>3.8025</li><li>0.00250000000000007</li><li>1.1025</li><li>0.902499999999999</li><li>49.7025</li><li>35.4025</li><li>0.902499999999999</li><li>24.5025</li><li>0.00250000000000007</li><li>0.902499999999999</li><li>4.2025</li><li>64.8025</li><li>0.00250000000000007</li><li>25.5025</li><li>80.1025</li><li>1.1025</li></ol>\n"
      ],
      "text/latex": [
       "\\begin{enumerate*}\n",
       "\\item 0.902499999999999\n",
       "\\item 1.1025\n",
       "\\item 0.00250000000000007\n",
       "\\item 0.00250000000000007\n",
       "\\item 3.8025\n",
       "\\item 0.00250000000000007\n",
       "\\item 1.1025\n",
       "\\item 0.902499999999999\n",
       "\\item 49.7025\n",
       "\\item 35.4025\n",
       "\\item 0.902499999999999\n",
       "\\item 24.5025\n",
       "\\item 0.00250000000000007\n",
       "\\item 0.902499999999999\n",
       "\\item 4.2025\n",
       "\\item 64.8025\n",
       "\\item 0.00250000000000007\n",
       "\\item 25.5025\n",
       "\\item 80.1025\n",
       "\\item 1.1025\n",
       "\\end{enumerate*}\n"
      ],
      "text/markdown": [
       "1. 0.902499999999999\n",
       "2. 1.1025\n",
       "3. 0.00250000000000007\n",
       "4. 0.00250000000000007\n",
       "5. 3.8025\n",
       "6. 0.00250000000000007\n",
       "7. 1.1025\n",
       "8. 0.902499999999999\n",
       "9. 49.7025\n",
       "10. 35.4025\n",
       "11. 0.902499999999999\n",
       "12. 24.5025\n",
       "13. 0.00250000000000007\n",
       "14. 0.902499999999999\n",
       "15. 4.2025\n",
       "16. 64.8025\n",
       "17. 0.00250000000000007\n",
       "18. 25.5025\n",
       "19. 80.1025\n",
       "20. 1.1025\n",
       "\n",
       "\n"
      ],
      "text/plain": [
       " [1]  0.9025  1.1025  0.0025  0.0025  3.8025  0.0025  1.1025  0.9025 49.7025\n",
       "[10] 35.4025  0.9025 24.5025  0.0025  0.9025  4.2025 64.8025  0.0025 25.5025\n",
       "[19] 80.1025  1.1025"
      ]
     },
     "metadata": {},
     "output_type": "display_data"
    }
   ],
   "source": [
    "# define a variable for the mean we will consistently use bar for sample mean\n",
    "# again note I use the <- assignment rather than =\n",
    "ybar <- mean(students)\n",
    "\n",
    "# R can then do the arithmetic and when we combine a list of numbers with a single number and square it, it knows what we mean.\n",
    "(students - ybar)^2"
   ]
  },
  {
   "cell_type": "code",
   "execution_count": 6,
   "metadata": {},
   "outputs": [
    {
     "data": {
      "text/html": [
       "15.5236842105263"
      ],
      "text/latex": [
       "15.5236842105263"
      ],
      "text/markdown": [
       "15.5236842105263"
      ],
      "text/plain": [
       "[1] 15.52368"
      ]
     },
     "metadata": {},
     "output_type": "display_data"
    }
   ],
   "source": [
    "# Then as we said, we sum over all of these and then divide by the number of them\n",
    "# minus 1\n",
    "\n",
    "sum( (students - ybar)^2 ) / ( length(students) - 1 )"
   ]
  },
  {
   "cell_type": "markdown",
   "metadata": {},
   "source": [
    "Note why we compute variance in this way. We are trying to understand how far the data moves from the mean $\\bar{y}$. However we can't just sum over the differences as that will just add up to zero:"
   ]
  },
  {
   "cell_type": "code",
   "execution_count": 7,
   "metadata": {},
   "outputs": [
    {
     "data": {
      "text/html": [
       "-1.4210854715202e-14"
      ],
      "text/latex": [
       "-1.4210854715202e-14"
      ],
      "text/markdown": [
       "-1.4210854715202e-14"
      ],
      "text/plain": [
       "[1] -1.421085e-14"
      ]
     },
     "metadata": {},
     "output_type": "display_data"
    }
   ],
   "source": [
    "sum(students - ybar )"
   ]
  },
  {
   "cell_type": "markdown",
   "metadata": {},
   "source": [
    "We have choices though, we could sum over the absolute value and indeed that does give us a notion of spread. Here for example is the corresponding average for absolute deviation: "
   ]
  },
  {
   "cell_type": "code",
   "execution_count": 8,
   "metadata": {},
   "outputs": [
    {
     "data": {
      "text/html": [
       "2.69473684210526"
      ],
      "text/latex": [
       "2.69473684210526"
      ],
      "text/markdown": [
       "2.69473684210526"
      ],
      "text/plain": [
       "[1] 2.694737"
      ]
     },
     "metadata": {},
     "output_type": "display_data"
    }
   ],
   "source": [
    "sum( abs(students - ybar)) / (length(students) - 1 )"
   ]
  },
  {
   "cell_type": "markdown",
   "metadata": {},
   "source": [
    "However the advantage of summing over the squares is that it brings in tools from Calculus that work with quadratic expressions but not with absolute value expressions. We then intend to take an average. For reasons we will justify later, it turns out the correct average to do is to divide by the size of our sample minus 1:  $n-1$ is called the degrees of freedom (roughly computing $\\bar{y}$ from the sample has used up one degree of freedom).\n",
    "\n",
    "Note the units on these two statistics:  the variance is the average of the sum of the squares (by the number of degrees of freedom) so its units are the square of the units of our sample data (*students squared* in this case); and then the standard deviation is the square root of the variance and so has units of the original data (*students* in this case).\n",
    "\n",
    "\n",
    "## Plots\n",
    "\n",
    "That's all fine and good, but a picture (or two) is worth a thousand words and probably tens of thousands of computations. Let's introduce ourselves to two types of plots:\n",
    "\n",
    "### Histograms\n",
    "\n",
    "Histograms are made by binning the data and then drawing bars whose height is the number of data points in each bin. They give us a visualization of the distribution of our data:  Taller bars mean more of the data was near those values."
   ]
  },
  {
   "cell_type": "code",
   "execution_count": 9,
   "metadata": {},
   "outputs": [
    {
     "data": {
      "image/png": "[encoded data removed]",
      "text/plain": [
       "Plot with title “Histogram of students”"
      ]
     },
     "metadata": {
      "filenames": {
       "image/png": "/home/virgilpierce/Documents/GitHub/MATH_550/_build/jupyter_execute/02-What_is_Stats_16_0.png"
      },
      "image/png": {
       "height": 420,
       "width": 420
      }
     },
     "output_type": "display_data"
    }
   ],
   "source": [
    "hist(students, 20)"
   ]
  },
  {
   "cell_type": "markdown",
   "metadata": {},
   "source": [
    "Note you can adjust the number of bins to use. R tries to guess the labels from the names of the data. You can output the image to a file by right clicking on it, by using the export command in the plot tab in the lower-right quadrant of RStudio or by using a command in the console in the lower-left quadrant. Of course if you are using Markdown to compose your text you don't need to export the figure, you have it right here.\n",
    "\n",
    "Note the connection to the numerical summaries we have:  The mean gives the center of mass of the histogram, while the variance (or standard deviation describes how much it spreads out from there).\n",
    "\n",
    "### BoxPlot\n",
    "\n",
    "Boxplots are a visual representation of the quartile and median statistics for our data:"
   ]
  },
  {
   "cell_type": "code",
   "execution_count": 10,
   "metadata": {},
   "outputs": [
    {
     "data": {
      "image/png": "[encoded data removed]",
      "text/plain": [
       "plot without title"
      ]
     },
     "metadata": {
      "filenames": {
       "image/png": "/home/virgilpierce/Documents/GitHub/MATH_550/_build/jupyter_execute/02-What_is_Stats_18_0.png"
      },
      "image/png": {
       "height": 420,
       "width": 420
      }
     },
     "output_type": "display_data"
    }
   ],
   "source": [
    "boxplot(students, horizontal=TRUE)\n",
    "# Note the use of = for a parameter instead of <-"
   ]
  },
  {
   "cell_type": "markdown",
   "metadata": {},
   "source": [
    "To interpret boxplots you should think in terms of quartiles:  Half of the data is in the box. Half of the data is to either side of the median.\n",
    "\n",
    "## Categorical Data Example\n",
    "\n",
    "The class sizes data is an example of *quantitative data* where the information is a numerical quantity that is a feature of the subject. Another type of data used frequently is *categorical data*, data that gives a description of a feature of the subject. We may sometimes represent categorical data with numbers - for example *Male* and *Female* in a data set might be represented with a 0 and a 1; however it would still be categorical describing a feature. \n",
    "\n",
    "There are different types of categorical data depending on the feature:  the categories may have an ordering or not; if they have an ordering there may even be a notion of distance between them. It is important to think about what the descriptions for our category mean - If the categories do not have a natural order, or if there is no notion of distance between them, it might be misleading to represent them as numbers and then do computations with the numbers.\n",
    "\n",
    "### Grades\n",
    "\n",
    "The example as teachers you should ponder are grades. What does A, B, C, D, F in a Math, English, History, and Physical Educaiton class mean?  Is it valid to replace them with numbers for all of a students classes and compute Grade Point Averages from them? Is it ethical to report that number on a transcript and use it in hiring and admissions decisions?\n",
    "\n",
    "### Example of Categorical Data\n",
    "\n",
    "Note if you are running this code, you will need to download the \"Supermarket Transactions.xlsx\" file from Github or here. We will also need to use the tidy package. You may need to install this package using *install.packages(\"tidyverse\")*. Credit to UC Business Analytics R Programming Guide for this section, you can find the source here https://uc-r.github.io/descriptives_categorical\n",
    "\n",
    "Then you will need to load the libraries:\n"
   ]
  },
  {
   "cell_type": "code",
   "execution_count": 11,
   "metadata": {},
   "outputs": [],
   "source": [
    "library(readxl) # for reading Excel files\n",
    "library(ggplot2) # for making nice plots - part of the tidyverse"
   ]
  },
  {
   "cell_type": "code",
   "execution_count": 12,
   "metadata": {},
   "outputs": [
    {
     "data": {
      "text/html": [
       "<table class=\"dataframe\">\n",
       "<caption>A tibble: 6 × 16</caption>\n",
       "<thead>\n",
       "\t<tr><th scope=col>Transaction</th><th scope=col>Purchase Date</th><th scope=col>Customer ID</th><th scope=col>Gender</th><th scope=col>Marital Status</th><th scope=col>Homeowner</th><th scope=col>Children</th><th scope=col>Annual Income</th><th scope=col>City</th><th scope=col>State or Province</th><th scope=col>Country</th><th scope=col>Product Family</th><th scope=col>Product Department</th><th scope=col>Product Category</th><th scope=col>Units Sold</th><th scope=col>Revenue</th></tr>\n",
       "\t<tr><th scope=col>&lt;dbl&gt;</th><th scope=col>&lt;dttm&gt;</th><th scope=col>&lt;dbl&gt;</th><th scope=col>&lt;chr&gt;</th><th scope=col>&lt;chr&gt;</th><th scope=col>&lt;chr&gt;</th><th scope=col>&lt;dbl&gt;</th><th scope=col>&lt;chr&gt;</th><th scope=col>&lt;chr&gt;</th><th scope=col>&lt;chr&gt;</th><th scope=col>&lt;chr&gt;</th><th scope=col>&lt;chr&gt;</th><th scope=col>&lt;chr&gt;</th><th scope=col>&lt;chr&gt;</th><th scope=col>&lt;dbl&gt;</th><th scope=col>&lt;dbl&gt;</th></tr>\n",
       "</thead>\n",
       "<tbody>\n",
       "\t<tr><td>1</td><td>2011-12-18</td><td>7223</td><td>F</td><td>S</td><td>Y</td><td>2</td><td>$30K - $50K  </td><td>Los Angeles  </td><td>CA</td><td>USA</td><td>Food </td><td>Snack Foods</td><td>Snack Foods         </td><td>5</td><td>27.38</td></tr>\n",
       "\t<tr><td>2</td><td>2011-12-20</td><td>7841</td><td>M</td><td>M</td><td>Y</td><td>5</td><td>$70K - $90K  </td><td>Los Angeles  </td><td>CA</td><td>USA</td><td>Food </td><td>Produce    </td><td>Vegetables          </td><td>5</td><td>14.90</td></tr>\n",
       "\t<tr><td>3</td><td>2011-12-21</td><td>8374</td><td>F</td><td>M</td><td>N</td><td>2</td><td>$50K - $70K  </td><td>Bremerton    </td><td>WA</td><td>USA</td><td>Food </td><td>Snack Foods</td><td>Snack Foods         </td><td>3</td><td> 5.52</td></tr>\n",
       "\t<tr><td>4</td><td>2011-12-21</td><td>9619</td><td>M</td><td>M</td><td>Y</td><td>3</td><td>$30K - $50K  </td><td>Portland     </td><td>OR</td><td>USA</td><td>Food </td><td>Snacks     </td><td>Candy               </td><td>4</td><td> 4.44</td></tr>\n",
       "\t<tr><td>5</td><td>2011-12-22</td><td>1900</td><td>F</td><td>S</td><td>Y</td><td>3</td><td>$130K - $150K</td><td>Beverly Hills</td><td>CA</td><td>USA</td><td>Drink</td><td>Beverages  </td><td>Carbonated Beverages</td><td>4</td><td>14.00</td></tr>\n",
       "\t<tr><td>6</td><td>2011-12-22</td><td>6696</td><td>F</td><td>M</td><td>Y</td><td>3</td><td>$10K - $30K  </td><td>Beverly Hills</td><td>CA</td><td>USA</td><td>Food </td><td>Deli       </td><td>Side Dishes         </td><td>3</td><td> 4.37</td></tr>\n",
       "</tbody>\n",
       "</table>\n"
      ],
      "text/latex": [
       "A tibble: 6 × 16\n",
       "\\begin{tabular}{llllllllllllllll}\n",
       " Transaction & Purchase Date & Customer ID & Gender & Marital Status & Homeowner & Children & Annual Income & City & State or Province & Country & Product Family & Product Department & Product Category & Units Sold & Revenue\\\\\n",
       " <dbl> & <dttm> & <dbl> & <chr> & <chr> & <chr> & <dbl> & <chr> & <chr> & <chr> & <chr> & <chr> & <chr> & <chr> & <dbl> & <dbl>\\\\\n",
       "\\hline\n",
       "\t 1 & 2011-12-18 & 7223 & F & S & Y & 2 & \\$30K - \\$50K   & Los Angeles   & CA & USA & Food  & Snack Foods & Snack Foods          & 5 & 27.38\\\\\n",
       "\t 2 & 2011-12-20 & 7841 & M & M & Y & 5 & \\$70K - \\$90K   & Los Angeles   & CA & USA & Food  & Produce     & Vegetables           & 5 & 14.90\\\\\n",
       "\t 3 & 2011-12-21 & 8374 & F & M & N & 2 & \\$50K - \\$70K   & Bremerton     & WA & USA & Food  & Snack Foods & Snack Foods          & 3 &  5.52\\\\\n",
       "\t 4 & 2011-12-21 & 9619 & M & M & Y & 3 & \\$30K - \\$50K   & Portland      & OR & USA & Food  & Snacks      & Candy                & 4 &  4.44\\\\\n",
       "\t 5 & 2011-12-22 & 1900 & F & S & Y & 3 & \\$130K - \\$150K & Beverly Hills & CA & USA & Drink & Beverages   & Carbonated Beverages & 4 & 14.00\\\\\n",
       "\t 6 & 2011-12-22 & 6696 & F & M & Y & 3 & \\$10K - \\$30K   & Beverly Hills & CA & USA & Food  & Deli        & Side Dishes          & 3 &  4.37\\\\\n",
       "\\end{tabular}\n"
      ],
      "text/markdown": [
       "\n",
       "A tibble: 6 × 16\n",
       "\n",
       "| Transaction &lt;dbl&gt; | Purchase Date &lt;dttm&gt; | Customer ID &lt;dbl&gt; | Gender &lt;chr&gt; | Marital Status &lt;chr&gt; | Homeowner &lt;chr&gt; | Children &lt;dbl&gt; | Annual Income &lt;chr&gt; | City &lt;chr&gt; | State or Province &lt;chr&gt; | Country &lt;chr&gt; | Product Family &lt;chr&gt; | Product Department &lt;chr&gt; | Product Category &lt;chr&gt; | Units Sold &lt;dbl&gt; | Revenue &lt;dbl&gt; |\n",
       "|---|---|---|---|---|---|---|---|---|---|---|---|---|---|---|---|\n",
       "| 1 | 2011-12-18 | 7223 | F | S | Y | 2 | $30K - $50K   | Los Angeles   | CA | USA | Food  | Snack Foods | Snack Foods          | 5 | 27.38 |\n",
       "| 2 | 2011-12-20 | 7841 | M | M | Y | 5 | $70K - $90K   | Los Angeles   | CA | USA | Food  | Produce     | Vegetables           | 5 | 14.90 |\n",
       "| 3 | 2011-12-21 | 8374 | F | M | N | 2 | $50K - $70K   | Bremerton     | WA | USA | Food  | Snack Foods | Snack Foods          | 3 |  5.52 |\n",
       "| 4 | 2011-12-21 | 9619 | M | M | Y | 3 | $30K - $50K   | Portland      | OR | USA | Food  | Snacks      | Candy                | 4 |  4.44 |\n",
       "| 5 | 2011-12-22 | 1900 | F | S | Y | 3 | $130K - $150K | Beverly Hills | CA | USA | Drink | Beverages   | Carbonated Beverages | 4 | 14.00 |\n",
       "| 6 | 2011-12-22 | 6696 | F | M | Y | 3 | $10K - $30K   | Beverly Hills | CA | USA | Food  | Deli        | Side Dishes          | 3 |  4.37 |\n",
       "\n"
      ],
      "text/plain": [
       "  Transaction Purchase Date Customer ID Gender Marital Status Homeowner\n",
       "1 1           2011-12-18    7223        F      S              Y        \n",
       "2 2           2011-12-20    7841        M      M              Y        \n",
       "3 3           2011-12-21    8374        F      M              N        \n",
       "4 4           2011-12-21    9619        M      M              Y        \n",
       "5 5           2011-12-22    1900        F      S              Y        \n",
       "6 6           2011-12-22    6696        F      M              Y        \n",
       "  Children Annual Income City          State or Province Country Product Family\n",
       "1 2        $30K - $50K   Los Angeles   CA                USA     Food          \n",
       "2 5        $70K - $90K   Los Angeles   CA                USA     Food          \n",
       "3 2        $50K - $70K   Bremerton     WA                USA     Food          \n",
       "4 3        $30K - $50K   Portland      OR                USA     Food          \n",
       "5 3        $130K - $150K Beverly Hills CA                USA     Drink         \n",
       "6 3        $10K - $30K   Beverly Hills CA                USA     Food          \n",
       "  Product Department Product Category     Units Sold Revenue\n",
       "1 Snack Foods        Snack Foods          5          27.38  \n",
       "2 Produce            Vegetables           5          14.90  \n",
       "3 Snack Foods        Snack Foods          3           5.52  \n",
       "4 Snacks             Candy                4           4.44  \n",
       "5 Beverages          Carbonated Beverages 4          14.00  \n",
       "6 Deli               Side Dishes          3           4.37  "
      ]
     },
     "metadata": {},
     "output_type": "display_data"
    }
   ],
   "source": [
    "supermarket <- read_excel(\"Supermarket Transactions.xlsx\", sheet = 2)\n",
    "\n",
    "# head() gives us just the first part of a dataframe\n",
    "head(supermarket)"
   ]
  },
  {
   "cell_type": "markdown",
   "metadata": {},
   "source": [
    "A couple of notes are in order here before we continue: Note that this data set is made up of samples (rows) each of which has 16 features (columns) (well really 15 plus an identifying number in the first column). Some of the features are numerical - *Units Sold* and *Revenue*, while others are purely categorical giving us just a description of the value. Also note there is a factor that looks numerical but for which it would probably be misleading to treat it as such. Note that some of the categorical variables have a natural order in the categories like *Annual Income* while others will not such as *State or Province*.\n",
    "\n",
    "You will notice the note that the data set has ~14,049 rows: We can only deal with such datasets using a computer program. Without too much work we could find datasets that are too big for Excell and need to be analyzed using a software like R or Python - one reason we teach our students how to use them in their undergraduate courses.\n",
    "\n",
    "### List of features\n",
    "\n",
    "With a large data set it is helpful to list the features we have:"
   ]
  },
  {
   "cell_type": "code",
   "execution_count": 13,
   "metadata": {},
   "outputs": [
    {
     "data": {
      "text/html": [
       "<style>\n",
       ".list-inline {list-style: none; margin:0; padding: 0}\n",
       ".list-inline>li {display: inline-block}\n",
       ".list-inline>li:not(:last-child)::after {content: \"\\00b7\"; padding: 0 .5ex}\n",
       "</style>\n",
       "<ol class=list-inline><li>'Transaction'</li><li>'Purchase Date'</li><li>'Customer ID'</li><li>'Gender'</li><li>'Marital Status'</li><li>'Homeowner'</li><li>'Children'</li><li>'Annual Income'</li><li>'City'</li><li>'State or Province'</li><li>'Country'</li><li>'Product Family'</li><li>'Product Department'</li><li>'Product Category'</li><li>'Units Sold'</li><li>'Revenue'</li></ol>\n"
      ],
      "text/latex": [
       "\\begin{enumerate*}\n",
       "\\item 'Transaction'\n",
       "\\item 'Purchase Date'\n",
       "\\item 'Customer ID'\n",
       "\\item 'Gender'\n",
       "\\item 'Marital Status'\n",
       "\\item 'Homeowner'\n",
       "\\item 'Children'\n",
       "\\item 'Annual Income'\n",
       "\\item 'City'\n",
       "\\item 'State or Province'\n",
       "\\item 'Country'\n",
       "\\item 'Product Family'\n",
       "\\item 'Product Department'\n",
       "\\item 'Product Category'\n",
       "\\item 'Units Sold'\n",
       "\\item 'Revenue'\n",
       "\\end{enumerate*}\n"
      ],
      "text/markdown": [
       "1. 'Transaction'\n",
       "2. 'Purchase Date'\n",
       "3. 'Customer ID'\n",
       "4. 'Gender'\n",
       "5. 'Marital Status'\n",
       "6. 'Homeowner'\n",
       "7. 'Children'\n",
       "8. 'Annual Income'\n",
       "9. 'City'\n",
       "10. 'State or Province'\n",
       "11. 'Country'\n",
       "12. 'Product Family'\n",
       "13. 'Product Department'\n",
       "14. 'Product Category'\n",
       "15. 'Units Sold'\n",
       "16. 'Revenue'\n",
       "\n",
       "\n"
      ],
      "text/plain": [
       " [1] \"Transaction\"        \"Purchase Date\"      \"Customer ID\"       \n",
       " [4] \"Gender\"             \"Marital Status\"     \"Homeowner\"         \n",
       " [7] \"Children\"           \"Annual Income\"      \"City\"              \n",
       "[10] \"State or Province\"  \"Country\"            \"Product Family\"    \n",
       "[13] \"Product Department\" \"Product Category\"   \"Units Sold\"        \n",
       "[16] \"Revenue\"           "
      ]
     },
     "metadata": {},
     "output_type": "display_data"
    }
   ],
   "source": [
    "colnames(supermarket)"
   ]
  },
  {
   "cell_type": "markdown",
   "metadata": {},
   "source": [
    "We can use *sapply* to get information about the datatypes R has guessed for each column."
   ]
  },
  {
   "cell_type": "code",
   "execution_count": 14,
   "metadata": {},
   "outputs": [
    {
     "data": {
      "text/html": [
       "<dl>\n",
       "\t<dt>$Transaction</dt>\n",
       "\t\t<dd>'numeric'</dd>\n",
       "\t<dt>$`Purchase Date`</dt>\n",
       "\t\t<dd><style>\n",
       ".list-inline {list-style: none; margin:0; padding: 0}\n",
       ".list-inline>li {display: inline-block}\n",
       ".list-inline>li:not(:last-child)::after {content: \"\\00b7\"; padding: 0 .5ex}\n",
       "</style>\n",
       "<ol class=list-inline><li>'POSIXct'</li><li>'POSIXt'</li></ol>\n",
       "</dd>\n",
       "\t<dt>$`Customer ID`</dt>\n",
       "\t\t<dd>'numeric'</dd>\n",
       "\t<dt>$Gender</dt>\n",
       "\t\t<dd>'character'</dd>\n",
       "\t<dt>$`Marital Status`</dt>\n",
       "\t\t<dd>'character'</dd>\n",
       "\t<dt>$Homeowner</dt>\n",
       "\t\t<dd>'character'</dd>\n",
       "\t<dt>$Children</dt>\n",
       "\t\t<dd>'numeric'</dd>\n",
       "\t<dt>$`Annual Income`</dt>\n",
       "\t\t<dd>'character'</dd>\n",
       "\t<dt>$City</dt>\n",
       "\t\t<dd>'character'</dd>\n",
       "\t<dt>$`State or Province`</dt>\n",
       "\t\t<dd>'character'</dd>\n",
       "\t<dt>$Country</dt>\n",
       "\t\t<dd>'character'</dd>\n",
       "\t<dt>$`Product Family`</dt>\n",
       "\t\t<dd>'character'</dd>\n",
       "\t<dt>$`Product Department`</dt>\n",
       "\t\t<dd>'character'</dd>\n",
       "\t<dt>$`Product Category`</dt>\n",
       "\t\t<dd>'character'</dd>\n",
       "\t<dt>$`Units Sold`</dt>\n",
       "\t\t<dd>'numeric'</dd>\n",
       "\t<dt>$Revenue</dt>\n",
       "\t\t<dd>'numeric'</dd>\n",
       "</dl>\n"
      ],
      "text/latex": [
       "\\begin{description}\n",
       "\\item[\\$Transaction] 'numeric'\n",
       "\\item[\\$`Purchase Date`] \\begin{enumerate*}\n",
       "\\item 'POSIXct'\n",
       "\\item 'POSIXt'\n",
       "\\end{enumerate*}\n",
       "\n",
       "\\item[\\$`Customer ID`] 'numeric'\n",
       "\\item[\\$Gender] 'character'\n",
       "\\item[\\$`Marital Status`] 'character'\n",
       "\\item[\\$Homeowner] 'character'\n",
       "\\item[\\$Children] 'numeric'\n",
       "\\item[\\$`Annual Income`] 'character'\n",
       "\\item[\\$City] 'character'\n",
       "\\item[\\$`State or Province`] 'character'\n",
       "\\item[\\$Country] 'character'\n",
       "\\item[\\$`Product Family`] 'character'\n",
       "\\item[\\$`Product Department`] 'character'\n",
       "\\item[\\$`Product Category`] 'character'\n",
       "\\item[\\$`Units Sold`] 'numeric'\n",
       "\\item[\\$Revenue] 'numeric'\n",
       "\\end{description}\n"
      ],
      "text/markdown": [
       "$Transaction\n",
       ":   'numeric'\n",
       "$`Purchase Date`\n",
       ":   1. 'POSIXct'\n",
       "2. 'POSIXt'\n",
       "\n",
       "\n",
       "\n",
       "$`Customer ID`\n",
       ":   'numeric'\n",
       "$Gender\n",
       ":   'character'\n",
       "$`Marital Status`\n",
       ":   'character'\n",
       "$Homeowner\n",
       ":   'character'\n",
       "$Children\n",
       ":   'numeric'\n",
       "$`Annual Income`\n",
       ":   'character'\n",
       "$City\n",
       ":   'character'\n",
       "$`State or Province`\n",
       ":   'character'\n",
       "$Country\n",
       ":   'character'\n",
       "$`Product Family`\n",
       ":   'character'\n",
       "$`Product Department`\n",
       ":   'character'\n",
       "$`Product Category`\n",
       ":   'character'\n",
       "$`Units Sold`\n",
       ":   'numeric'\n",
       "$Revenue\n",
       ":   'numeric'\n",
       "\n",
       "\n"
      ],
      "text/plain": [
       "$Transaction\n",
       "[1] \"numeric\"\n",
       "\n",
       "$`Purchase Date`\n",
       "[1] \"POSIXct\" \"POSIXt\" \n",
       "\n",
       "$`Customer ID`\n",
       "[1] \"numeric\"\n",
       "\n",
       "$Gender\n",
       "[1] \"character\"\n",
       "\n",
       "$`Marital Status`\n",
       "[1] \"character\"\n",
       "\n",
       "$Homeowner\n",
       "[1] \"character\"\n",
       "\n",
       "$Children\n",
       "[1] \"numeric\"\n",
       "\n",
       "$`Annual Income`\n",
       "[1] \"character\"\n",
       "\n",
       "$City\n",
       "[1] \"character\"\n",
       "\n",
       "$`State or Province`\n",
       "[1] \"character\"\n",
       "\n",
       "$Country\n",
       "[1] \"character\"\n",
       "\n",
       "$`Product Family`\n",
       "[1] \"character\"\n",
       "\n",
       "$`Product Department`\n",
       "[1] \"character\"\n",
       "\n",
       "$`Product Category`\n",
       "[1] \"character\"\n",
       "\n",
       "$`Units Sold`\n",
       "[1] \"numeric\"\n",
       "\n",
       "$Revenue\n",
       "[1] \"numeric\"\n"
      ]
     },
     "metadata": {},
     "output_type": "display_data"
    }
   ],
   "source": [
    "sapply(supermarket, class)"
   ]
  },
  {
   "cell_type": "markdown",
   "metadata": {},
   "source": [
    "Note I say that these are guesses. Depending on the spreadsheet the data came from these may or may not be correct. In particular it is not uncommon for numerical data to be incorrectly typed as *character* data. R is efficient at cleaning data, however it is a step further than we want to go in this class, just be aware if you or your students start using data sets from the web you will often come upon this issue.\n",
    "\n",
    "### Frequencies\n",
    "\n",
    "We are going to make a contingency table for some of the features of this data. We can count how many members of the sample are in each category of a feature:"
   ]
  },
  {
   "cell_type": "code",
   "execution_count": 15,
   "metadata": {},
   "outputs": [
    {
     "data": {
      "text/plain": [
       "\n",
       "   F    M \n",
       "7170 6889 "
      ]
     },
     "metadata": {},
     "output_type": "display_data"
    }
   ],
   "source": [
    "table(supermarket$Gender)"
   ]
  },
  {
   "cell_type": "markdown",
   "metadata": {},
   "source": [
    "Maybe we want to understand the relationship between the gender of a shopper and their marital status, for this we use a cross classification count:"
   ]
  },
  {
   "cell_type": "code",
   "execution_count": 16,
   "metadata": {},
   "outputs": [
    {
     "data": {
      "text/plain": [
       "   \n",
       "       F    M\n",
       "  M 3602 3264\n",
       "  S 3568 3625"
      ]
     },
     "metadata": {},
     "output_type": "display_data"
    }
   ],
   "source": [
    "# Note that because the feature Marital Status has a space in it, we have to use quotes to refer to it:\n",
    "table( supermarket$`Marital Status`, supermarket$Gender) "
   ]
  },
  {
   "cell_type": "markdown",
   "metadata": {},
   "source": [
    "We can even do multi dimensional tables, though there is a limit to what makes sense. Can you interpret what the 190 in the upper left of this table means?"
   ]
  },
  {
   "cell_type": "code",
   "execution_count": 17,
   "metadata": {},
   "outputs": [
    {
     "data": {
      "text/plain": [
       "       BC   CA   DF Guerrero Jalisco   OR Veracruz   WA Yucatan Zacatecas\n",
       "                                                                         \n",
       "M F   190  638  188       77      15  510      142 1166     200       476\n",
       "  M   197  692  210       94       5  514      108 1160     129       155\n",
       "S F   183  686  175      107      30  607      125 1134     164       357\n",
       "  M   239  717  242      105      25  631       89 1107     161       309"
      ]
     },
     "metadata": {},
     "output_type": "display_data"
    }
   ],
   "source": [
    "# Here to make this easier to read we are going to do the operation in two separate commands; \n",
    "table1 <- table(supermarket$`Marital Status`, supermarket$Gender, supermarket$`State or Province`)\n",
    "ftable(table1)"
   ]
  },
  {
   "cell_type": "markdown",
   "metadata": {},
   "source": [
    "### Proportions\n",
    "\n",
    "Of course it is useful to think in terms of proportions of the data rather than the raw counts. We can do this by sending the result of a table command through the prop.table. Try it with one of the tables above:"
   ]
  },
  {
   "cell_type": "code",
   "execution_count": 18,
   "metadata": {},
   "outputs": [
    {
     "data": {
      "text/plain": [
       "   \n",
       "            F         M\n",
       "  M 0.2562060 0.2321644\n",
       "  S 0.2537876 0.2578420"
      ]
     },
     "metadata": {},
     "output_type": "display_data"
    }
   ],
   "source": [
    "table2 <- table(supermarket$`Marital Status`, supermarket$Gender)\n",
    "prop.table(table2)"
   ]
  },
  {
   "cell_type": "markdown",
   "metadata": {},
   "source": [
    "Note that we break the procedure into two steps - one making the table and then one producing the proportions with the prop.table() function. The syntax item is in a notebook we need the semicolon. In the console you would just do the first line and then the second line as two separate commands.\n",
    "\n",
    "### Charts\n",
    "\n",
    "Visualizations are straightforward, a typical one would be a bar chart indicating visually the frequency counts:"
   ]
  },
  {
   "cell_type": "code",
   "execution_count": 19,
   "metadata": {},
   "outputs": [
    {
     "data": {
      "image/png": "[encoded data removed]",
      "text/plain": [
       "plot without title"
      ]
     },
     "metadata": {
      "filenames": {
       "image/png": "/home/virgilpierce/Documents/GitHub/MATH_550/_build/jupyter_execute/02-What_is_Stats_35_0.png"
      },
      "image/png": {
       "height": 420,
       "width": 420
      }
     },
     "output_type": "display_data"
    }
   ],
   "source": [
    "# Note in this one the direction of the quotes matter\n",
    "ggplot(supermarket) + \n",
    "  geom_bar(mapping = aes(x=`State or Province`)) + \n",
    "  theme(axis.text.x=element_text(angle=45, hjust=1))"
   ]
  },
  {
   "cell_type": "markdown",
   "metadata": {},
   "source": [
    "Note that the labels, colors, and positions can all be set via commands. **ggplot** commands always have this structure, one command setting the dataframe to use, one command identifying what to draw, and then commands to change the theme. Using the same theme command for all of your plots in a project means they will all have identical formatting. R is built to make these figures look very nice and there are more options than we will go over - you can explore them with google if you like.\n",
    "\n",
    "\n",
    "## Exploratory versus Confirmatory Analysis\n",
    "\n",
    "We will spend time in this class doing two types of activity with data. *Exploratory Analysis* involves looking at a dataset trying to find patterns and relationships through the different features and combinations of those features. The goal in exploration is to develop hypothesis about the population the data is a sample of. *Confirmatory Analysis* seeks to use data to either confirm or deny a hypothesis - the primary question being asked is *Do we have sufficient evidence to support or reject this hypothesis?* The major difference is that confirmatory analysis rests upon mathematical models of the situation and then tests the sample against that model. The key factor is how frequently you use a member of the sample. You can use it once to test a hypothesis; but if you return to it again you are now doing an exploration. \n",
    "\n",
    "A big change in the field in the last two decades is that large datasets are becoming very common. With a large data set exploratory analysis can be very fruitful and provided you keep a portion of your data sequestered could even be combined with a confirmatory analysis.\n",
    "\n",
    "## Correlations and Predictions\n",
    "\n",
    "One of our frequent tasks is to use data to make predictions. The process usually involves exploratory analysis of a data set looking for potential relationships between factors in the sample, and then building models to reproduce features of those relationships. Let's explore this with the mpg data set, a sample of features for 234 cars. "
   ]
  },
  {
   "cell_type": "code",
   "execution_count": 20,
   "metadata": {},
   "outputs": [
    {
     "data": {
      "text/html": [
       "<table class=\"dataframe\">\n",
       "<caption>A tibble: 6 × 11</caption>\n",
       "<thead>\n",
       "\t<tr><th scope=col>manufacturer</th><th scope=col>model</th><th scope=col>displ</th><th scope=col>year</th><th scope=col>cyl</th><th scope=col>trans</th><th scope=col>drv</th><th scope=col>cty</th><th scope=col>hwy</th><th scope=col>fl</th><th scope=col>class</th></tr>\n",
       "\t<tr><th scope=col>&lt;chr&gt;</th><th scope=col>&lt;chr&gt;</th><th scope=col>&lt;dbl&gt;</th><th scope=col>&lt;int&gt;</th><th scope=col>&lt;int&gt;</th><th scope=col>&lt;chr&gt;</th><th scope=col>&lt;chr&gt;</th><th scope=col>&lt;int&gt;</th><th scope=col>&lt;int&gt;</th><th scope=col>&lt;chr&gt;</th><th scope=col>&lt;chr&gt;</th></tr>\n",
       "</thead>\n",
       "<tbody>\n",
       "\t<tr><td>audi</td><td>a4</td><td>1.8</td><td>1999</td><td>4</td><td>auto(l5)  </td><td>f</td><td>18</td><td>29</td><td>p</td><td>compact</td></tr>\n",
       "\t<tr><td>audi</td><td>a4</td><td>1.8</td><td>1999</td><td>4</td><td>manual(m5)</td><td>f</td><td>21</td><td>29</td><td>p</td><td>compact</td></tr>\n",
       "\t<tr><td>audi</td><td>a4</td><td>2.0</td><td>2008</td><td>4</td><td>manual(m6)</td><td>f</td><td>20</td><td>31</td><td>p</td><td>compact</td></tr>\n",
       "\t<tr><td>audi</td><td>a4</td><td>2.0</td><td>2008</td><td>4</td><td>auto(av)  </td><td>f</td><td>21</td><td>30</td><td>p</td><td>compact</td></tr>\n",
       "\t<tr><td>audi</td><td>a4</td><td>2.8</td><td>1999</td><td>6</td><td>auto(l5)  </td><td>f</td><td>16</td><td>26</td><td>p</td><td>compact</td></tr>\n",
       "\t<tr><td>audi</td><td>a4</td><td>2.8</td><td>1999</td><td>6</td><td>manual(m5)</td><td>f</td><td>18</td><td>26</td><td>p</td><td>compact</td></tr>\n",
       "</tbody>\n",
       "</table>\n"
      ],
      "text/latex": [
       "A tibble: 6 × 11\n",
       "\\begin{tabular}{lllllllllll}\n",
       " manufacturer & model & displ & year & cyl & trans & drv & cty & hwy & fl & class\\\\\n",
       " <chr> & <chr> & <dbl> & <int> & <int> & <chr> & <chr> & <int> & <int> & <chr> & <chr>\\\\\n",
       "\\hline\n",
       "\t audi & a4 & 1.8 & 1999 & 4 & auto(l5)   & f & 18 & 29 & p & compact\\\\\n",
       "\t audi & a4 & 1.8 & 1999 & 4 & manual(m5) & f & 21 & 29 & p & compact\\\\\n",
       "\t audi & a4 & 2.0 & 2008 & 4 & manual(m6) & f & 20 & 31 & p & compact\\\\\n",
       "\t audi & a4 & 2.0 & 2008 & 4 & auto(av)   & f & 21 & 30 & p & compact\\\\\n",
       "\t audi & a4 & 2.8 & 1999 & 6 & auto(l5)   & f & 16 & 26 & p & compact\\\\\n",
       "\t audi & a4 & 2.8 & 1999 & 6 & manual(m5) & f & 18 & 26 & p & compact\\\\\n",
       "\\end{tabular}\n"
      ],
      "text/markdown": [
       "\n",
       "A tibble: 6 × 11\n",
       "\n",
       "| manufacturer &lt;chr&gt; | model &lt;chr&gt; | displ &lt;dbl&gt; | year &lt;int&gt; | cyl &lt;int&gt; | trans &lt;chr&gt; | drv &lt;chr&gt; | cty &lt;int&gt; | hwy &lt;int&gt; | fl &lt;chr&gt; | class &lt;chr&gt; |\n",
       "|---|---|---|---|---|---|---|---|---|---|---|\n",
       "| audi | a4 | 1.8 | 1999 | 4 | auto(l5)   | f | 18 | 29 | p | compact |\n",
       "| audi | a4 | 1.8 | 1999 | 4 | manual(m5) | f | 21 | 29 | p | compact |\n",
       "| audi | a4 | 2.0 | 2008 | 4 | manual(m6) | f | 20 | 31 | p | compact |\n",
       "| audi | a4 | 2.0 | 2008 | 4 | auto(av)   | f | 21 | 30 | p | compact |\n",
       "| audi | a4 | 2.8 | 1999 | 6 | auto(l5)   | f | 16 | 26 | p | compact |\n",
       "| audi | a4 | 2.8 | 1999 | 6 | manual(m5) | f | 18 | 26 | p | compact |\n",
       "\n"
      ],
      "text/plain": [
       "  manufacturer model displ year cyl trans      drv cty hwy fl class  \n",
       "1 audi         a4    1.8   1999 4   auto(l5)   f   18  29  p  compact\n",
       "2 audi         a4    1.8   1999 4   manual(m5) f   21  29  p  compact\n",
       "3 audi         a4    2.0   2008 4   manual(m6) f   20  31  p  compact\n",
       "4 audi         a4    2.0   2008 4   auto(av)   f   21  30  p  compact\n",
       "5 audi         a4    2.8   1999 6   auto(l5)   f   16  26  p  compact\n",
       "6 audi         a4    2.8   1999 6   manual(m5) f   18  26  p  compact"
      ]
     },
     "metadata": {},
     "output_type": "display_data"
    }
   ],
   "source": [
    "head(mpg)"
   ]
  },
  {
   "cell_type": "markdown",
   "metadata": {},
   "source": [
    "*displ* for *displacement* is the total liters the car's engine has in its cylinders, while *hwy* is the *highway miles-per-gallon* efficiency of the vehicle. A basic question is what is the relationship between displacement of the engine and the fuel efficiency. Let's plot for each engine its fuel efficiency versus the engine displacement. Note that the pattern for producing the graph is similar to the one we used above. "
   ]
  },
  {
   "cell_type": "code",
   "execution_count": 21,
   "metadata": {},
   "outputs": [
    {
     "data": {
      "image/png": "[encoded data removed]",
      "text/plain": [
       "plot without title"
      ]
     },
     "metadata": {
      "filenames": {
       "image/png": "/home/virgilpierce/Documents/GitHub/MATH_550/_build/jupyter_execute/02-What_is_Stats_39_0.png"
      },
      "image/png": {
       "height": 420,
       "width": 420
      }
     },
     "output_type": "display_data"
    }
   ],
   "source": [
    "ggplot(data = mpg) + geom_point(mapping = aes( x = displ, y = hwy ))"
   ]
  },
  {
   "cell_type": "markdown",
   "metadata": {},
   "source": [
    "Not surprisingly, larger engines are less effecient *generally*. However the relationship is not exact - why not?  \n",
    "\n",
    "Our model for this is going to be that the *displacement* is known exactly and then the fuel efficiency is given by:  $$ y - y_0 = k (x - x_0) + \\mbox{Error} $$ \n",
    "Where the Error is a random variable encapsulating all of the other features (variables) in the car - its *mass*, *aerodynmaic features*, *turbo chargers*, *cargo capacity*, *transmission*, and on and on. It is likely we may never even know all of the variables that have an effect on the fuel efficiency and cause two cars with the same displacement to have different efficiencies and hence the reasonableness of thinking of this as some kind of randomness. \n",
    "\n",
    "Another possibility is that the relationship is not in fact linear. \n",
    "\n",
    "Finally. There may be a subclass of the data that does not fit with the rest. Note the set of six cars with significant displacements (greater than 5 liters) but with fuel efficiencies well \n",
    "above the linear trend. To explore this, we can add more variables to a scatter plot by using *color*, *shape*, and *size* attributes. Lets use color with the *class* variable in our data:"
   ]
  },
  {
   "cell_type": "code",
   "execution_count": 22,
   "metadata": {},
   "outputs": [
    {
     "data": {
      "image/png": "[encoded data removed]",
      "text/plain": [
       "plot without title"
      ]
     },
     "metadata": {
      "filenames": {
       "image/png": "/home/virgilpierce/Documents/GitHub/MATH_550/_build/jupyter_execute/02-What_is_Stats_41_0.png"
      },
      "image/png": {
       "height": 420,
       "width": 420
      }
     },
     "output_type": "display_data"
    }
   ],
   "source": [
    "ggplot(data = mpg) + \n",
    "    geom_point(mapping = aes( x = displ, y = hwy, color = class ))"
   ]
  },
  {
   "cell_type": "markdown",
   "metadata": {},
   "source": [
    "And indeed we can now make a hypothesis about what is happening with five of those six vehicles. If we remove them from the problems set we would expect our linear model to do even better (by which we mean the Error terms should be smaller and more controllable). \n",
    "\n",
    "## Motivating Questions\n",
    "\n",
    "I want to end this first lesson with some motivating questions we will be spending our time on this semester. These are questions for which we do not yet have tools to answer but trying to answer them is going to lead us in the technology and tools we build. \n",
    "\n",
    "### Engine Failure\n",
    "\n",
    "An aircraft engine has a 0.1% chance of failing in any given flight-hour of operation. How many flight hours do we expect it to run before its first failure?\n",
    "\n",
    "### Engine Failure 2\n",
    "\n",
    "We are testing a new aircraft engine so we run four of them continuously until they fail. They last 220, 300, 320, and 350 hours. How many flight-hours do we expect one of these engines to run?\n",
    "\n",
    "### Many Engines Failure\n",
    "\n",
    "An airline is running 655 single enginer aircraft in an hour with the engine used above. How many engine failures do we expect to happen in that hour?\n",
    "\n",
    "### Duplicate Birthdays\n",
    "\n",
    "You enter your classroom on the first day of the fall to a group of 25 students. How likely is it that two of them share the same birthday (day / month)?\n",
    "\n",
    "### Birthday Tickets\n",
    "\n",
    "You stand at the door to an auditorium and as students enter they hand you a ticket with their birthday (day/month). How many students do you expect to have entered before you have your first duplicate?\n",
    "\n",
    "### Accidents\n",
    "\n",
    "An intersection in Greeley, near my house, has on average 1.2 traffic accidents a month. The city, in an attempt to improve on the situation makes a change to the timing of the light. In the month following there are 3 accidents. Do we have evidence that the intersection is now less safe?\n",
    "\n",
    "### Detecting Fraud\n",
    "\n",
    "A common analysis used in forensic accounting, specifically in an attempt to detect if fraud is being attempting is to analyze the frequency with which each digit 0, 1, 2, ..., 9 appears in the records. In an honest accounting of a companies finances what digits should be the most common?\n",
    "\n",
    "### Combining Rare Events with Common Events\n",
    "\n",
    "At the scene of a crime the two perpetrators left two samples of blood. One was blood type O, occurring in 60% of the population; while the other was blood type AB occurring in only 3% of the population. A suspect, Oliver has his blood tested and it returns as blood type O. Does this indicate evidence in favor of Oliver committing the crime?\n",
    "\n",
    "Consider this related problem:\n",
    "Your partner draws two cards from a standard 52 card deck and tells you that one is a red face card, and the other is a number card. How likely is it that the 3 of clubs was the number card drawn?\n",
    "\n",
    "### Monty Hall\n",
    "\n",
    "You are on a game show and are presented with three doors, behind one door is a car and behind the other two there are goats. You are asked to choose a door. After you have chosen one the host, Monty Hall (ask your grandparents), opens a second door revealing a goat. He then asks you if you would like to change your selection. What should you do?\n",
    "\n",
    "### Monty-Hilbert Hall\n",
    "\n",
    "You are confronted with a countably infinite number of doors, i.e. they are numbered 1, 2, ..., and told that behind one of them is a car and behind the others goats. You are asked to choose a door. After you have chosen one the host, Hilbert, opens all of the other doors but one revealing goats (A LOT of goats). He then asks you if you would like to change your selection. What should you do?\n",
    "\n",
    "### Radioactive Decay\n",
    "\n",
    "The number of atoms of a radioactive isotope in a sample that are likely to decay in a small interval of time is proportional to the number of atoms in the sample. Cesium 137, a by product of some nuclear fission reactors, has a half life of 30 years. It decays, emitting a beta particle, into Barium 137 which has a half-life of just 2.6 minutes and decays emitting a gamma particle - this decay path leading quickly to the release of a gamma particle is what makes Cesium 137 such a dangerous contaminant. What proportion of a sample of Cesium 137 released in an accident do we expect to still be present after 50 years?\n",
    "\n",
    "### Budgets\n",
    "\n",
    "The School of Mathematical Sciences spends on average $5,800 a year on copies. How much should we budget for copies for next year?\n",
    "\n",
    "### Cherry Blossoms\n",
    "\n",
    "The Cherry Trees in Washington DC are a famous gift from the mayor Tokyo in 1914 aimed at improving the cooperation between the US and Japan. Recently they have become possibly evidence of a change in climate around DC. The last few peak blooms (the date at which 70% of the trees in DC are at full bloom) have been on:  March 28, March 20, April 1, April 5, March 25, March 25, April 10, April 10, April 9, March 20, March 29, and March 31. Over the entire historical record peak bloom has on average occured on April 3. From the recent blooms, do we have evidence that the average date of peak bloom has changed?\n",
    "\n",
    "\n",
    "### Detecting Fraud in THC Labs\n",
    "\n",
    "This problem comes from the article: https://jcannabisresearch.biomedcentral.com/articles/10.1186/s42238-021-00064-2 about cannabis testing labs in Washington state. There have been some high profile cases of labs in CA, NV, and CO as well as Canada being fine or suspended for falsifying data or for retailers or producers shopping for labs.\n",
    "\n",
    "Something suspicious is happening at some labs in Washington state that test for THC concentrations in consumer sold marajuana. The distribution of concentrations appear to be normal except that there is a discontinuity in the distribution at 20% with a higher density of results just above 20% than just below 20%. Here is the histogram that was found: \n",
    "\n",
    "<img src=\"Labs.png\" alt=\"Histogram of THC Concentrations in suspended Washington Labs\" width=\"300\"/>\n",
    "\n",
    "Whereas here is a distribution of test results from the largest lab in the sate:\n",
    "\n",
    "<img src=\"goodLab.png\" alt=\"Histogram of THC Concentrations in unsuspended Washington Labs\" width=\"300\"/>\n",
    "\n",
    "Suppose that you have a set of results from a lab for concentrations of some samples. How would you go about deciding if they have manipulated the results?  \n",
    "\n",
    "(If you would rather not think of this as a THC lab question - Volkswagon was caught doing something very similar with the effeciencies measurments of their TDI vehicles a few years ago).\n",
    "\n",
    "#### Detecting Fraud\n",
    "\n",
    "I would consider building an entire course around this question alone. \n",
    "\n",
    "### How Many Locomotives\n",
    "\n",
    "A train company numbers its locomotives sequentially 1, 2, 3, .... N  You happen to be standing at a station and you observe locomotive number 65 go by. How many locomotives does the company own?\n",
    "\n",
    "#### The German Tank Problem\n",
    "\n",
    "This is a baby example of the German Tank Problem from World War 2:  The allies were collecting maintenance records and recovering damaged tanks which included serial numbers on engines and transmissions. From this data they attempted to estimate how many tanks were being produced in Germany. \n",
    "\n",
    "\n",
    "\n",
    "\n",
    "### Median House Prices\n",
    "\n",
    "Redfin is reporting that the median price of a house in Denver over the last year is $540,000. To what extent is there evidence that something has changed in the Denver real estate market? What are our predictions about future prices?\n",
    "\n",
    "### Healthcare Costs\n",
    "\n",
    "Healthcare costs in the US are made up of three broad categories: Hospitals, Physicians and Clinics, and Prescription Drugs. How are these three costs contributing to the healthcare expenses in the US. What are our predictions about future costs? \n",
    "\n",
    "### What Questions Do You Have?\n",
    "\n",
    "Because this is a course about data, we can look for data related to questions you have. Places I look for data:\n",
    "\n",
    "- [Kaggle](kaggle.com)\n",
    "- [Colorado Data](https://data.colorado.gov/)\n",
    "- [USA Data](https://www.data.gov/)\n",
    "- [United Nations Data](http://data.un.org/)\n",
    "- [Pew Charitable Trust](https://www.pewtrusts.org/en)\n",
    "- [The University of California at Irvine Data Science Archives](https://archive.ics.uci.edu/ml/datasets.php)\n",
    "\n",
    "\n"
   ]
  },
  {
   "cell_type": "code",
   "execution_count": null,
   "metadata": {},
   "outputs": [],
   "source": []
  }
 ],
 "metadata": {
  "kernelspec": {
   "display_name": "R",
   "language": "R",
   "name": "ir"
  },
  "language_info": {
   "codemirror_mode": "r",
   "file_extension": ".r",
   "mimetype": "text/x-r-source",
   "name": "R",
   "pygments_lexer": "r",
   "version": "4.0.2"
  }
 },
 "nbformat": 4,
 "nbformat_minor": 4
}