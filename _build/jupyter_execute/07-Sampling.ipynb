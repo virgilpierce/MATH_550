{
 "cells": [
  {
   "cell_type": "markdown",
   "metadata": {},
   "source": [
    "# Sampling from Distributions\n",
    "\n",
    "Let us start by recapping where we are:  We have met both generic and some particular *named* distributions that model situations, and in the case of *named* distributions that have sufficient structure or symmetry that we can compute with them.\n",
    "\n",
    "A couple of problems then confront us:  In reality we rarely know the distribution or we may know the *type* of distribution but not the exact parameters for a random variable, and our only way to gather information about the distribution is to sample from it. \n",
    "\n",
    "An analogy:  We are trying to identify a movie. Maybe we know it is a spy thriller. But otherwise all we have are some still images from it. How many images would we need to identify the movie? \n",
    "\n",
    "We will take class to sample from our *named* distributions and see what happens. I'll give one example here to illustrate the method:  Consider a shopping center where on average 2 customers arrive at the chashiers every minute. The number of customers $Y$ that will arrive at the cashiers in a minute is then a random variable given by the Poisson distribution:  \n",
    "\n",
    "$$ P(Y=x) = \\frac{2^r}{r!} e^{-2} $$\n",
    "\n",
    "Suppose we measure the number of customers arriving each minute for 5 minutes:"
   ]
  },
  {
   "cell_type": "code",
   "execution_count": 1,
   "metadata": {},
   "outputs": [
    {
     "data": {
      "text/html": [
       "<style>\n",
       ".list-inline {list-style: none; margin:0; padding: 0}\n",
       ".list-inline>li {display: inline-block}\n",
       ".list-inline>li:not(:last-child)::after {content: \"\\00b7\"; padding: 0 .5ex}\n",
       "</style>\n",
       "<ol class=list-inline><li>0</li><li>0</li><li>5</li><li>3</li><li>2</li></ol>\n"
      ],
      "text/latex": [
       "\\begin{enumerate*}\n",
       "\\item 0\n",
       "\\item 0\n",
       "\\item 5\n",
       "\\item 3\n",
       "\\item 2\n",
       "\\end{enumerate*}\n"
      ],
      "text/markdown": [
       "1. 0\n",
       "2. 0\n",
       "3. 5\n",
       "4. 3\n",
       "5. 2\n",
       "\n",
       "\n"
      ],
      "text/plain": [
       "[1] 0 0 5 3 2"
      ]
     },
     "metadata": {},
     "output_type": "display_data"
    }
   ],
   "source": [
    "sample <- rpois(5, 2)\n",
    "sample"
   ]
  },
  {
   "cell_type": "markdown",
   "metadata": {},
   "source": [
    "Some questions:\n",
    "\n",
    "- What is the mean number of customers in our sample?\n",
    "- What do we get as we increase the size of the sample?\n"
   ]
  },
  {
   "cell_type": "code",
   "execution_count": 2,
   "metadata": {},
   "outputs": [
    {
     "data": {
      "text/html": [
       "1.955"
      ],
      "text/latex": [
       "1.955"
      ],
      "text/markdown": [
       "1.955"
      ],
      "text/plain": [
       "[1] 1.955"
      ]
     },
     "metadata": {},
     "output_type": "display_data"
    }
   ],
   "source": [
    "sample <- rpois(200, 2)\n",
    "mean(sample)"
   ]
  },
  {
   "cell_type": "markdown",
   "metadata": {},
   "source": [
    "The histogram of our sample from the Poisson Distribution, looks more like the Poisson Distribution itself as the sample size increases."
   ]
  },
  {
   "cell_type": "code",
   "execution_count": 3,
   "metadata": {},
   "outputs": [
    {
     "data": {
      "image/png": "[encoded data removed]",
      "text/plain": [
       "Plot with title “Histogram of sample”"
      ]
     },
     "metadata": {
      "filenames": {
       "image/png": "/home/virgilpierce/Documents/GitHub/MATH_550/_build/jupyter_execute/07-Sampling_5_0.png"
      },
      "image/png": {
       "height": 420,
       "width": 420
      }
     },
     "output_type": "display_data"
    }
   ],
   "source": [
    "hist(sample, 20)"
   ]
  },
  {
   "cell_type": "markdown",
   "metadata": {},
   "source": [
    "Suppose we were to treat the mean of the sample $\\bar{Y}$ as a random variable itself. Fix the size of the sample and see what we get if we run the experiment many times, what shape do you see in the histogram for values of $\\bar{Y}$ and what happens to that shape as the size of the sample is then increased?\n",
    "\n",
    "Before you run the experiment, generate a hypothesis. What will we get as we run the experiment more?  What will we get as we increase the size of the sample? Then as you run the experiment revise your hypothesis."
   ]
  },
  {
   "cell_type": "code",
   "execution_count": 4,
   "metadata": {},
   "outputs": [
    {
     "data": {
      "image/png": "[encoded data removed]",
      "text/plain": [
       "Plot with title “Histogram of result”"
      ]
     },
     "metadata": {
      "filenames": {
       "image/png": "/home/virgilpierce/Documents/GitHub/MATH_550/_build/jupyter_execute/07-Sampling_7_0.png"
      },
      "image/png": {
       "height": 420,
       "width": 420
      }
     },
     "output_type": "display_data"
    }
   ],
   "source": [
    "result <- c()\n",
    "for (k in 1:50) {\n",
    "    result <- c(result, mean(rpois(5, 2)) )\n",
    "}\n",
    "hist(result)"
   ]
  },
  {
   "cell_type": "markdown",
   "metadata": {},
   "source": [
    "## Sampling\n",
    "\n",
    "Run the experiment above with a variety of our named distributions including the normal distribution. What is happening?  Can you develop a hypothesis?\n",
    "\n",
    "## Multivariate Distributions\n",
    "\n",
    "In an effort to make our hypothesis we have develop precise, we need to build up some langauge for modeling this situation. \n",
    "\n",
    "A *multivariate distribution* is defined to be a distribution on multiple random variables describing the likliehood that values of them will come together. Explicitly given a set of discrete random variables $Y_1, Y_2, \\dots, Y_n$ we can define their joint probability distribution by:  $P(Y_1 = x_1, Y_2 = x_2, \\dots, Y_n = x_n) $ to be the probability that each of the $Y$s has the given value.\n",
    "\n",
    "In the continuous case, we need to proceed as we did before:  We define the joint cummulative distribution by:\n",
    "\n",
    "$$ F(x_1, x_2, \\dots, x_n) = P( Y_1 \\leq x_1, Y_2 \\leq x_2, \\dots, Y_n \\leq x_n) $$\n",
    "\n",
    "and then the joint probability density function is given by:\n",
    "\n",
    "$$ f(x_1, x_2, \\dots, x_n) = \\frac{\\partial^n F}{\\partial x_1 \\partial x_2 \\dots \\partial x_n}$$\n",
    "\n",
    "Again do not fall for the trap of thinking about the density as the distribution:  the values of $f$ do not give the likliehood of a particular outcome.\n",
    "\n",
    "### Marginal Probability\n",
    "\n",
    "Given two discrete random variables $Y_1$ and $Y_2$: we define the marginal probability of $Y_1$ to be the total likliehood that $Y_1$ occurs.\n",
    "\n",
    "$$ P(Y_1 = x_1) = \\sum_{x_2} P(Y_1 = x_1, Y_2 = x_2) $$ \n",
    "\n",
    "In the continuous case the marginal PDF for $Y_1$ is found by:\n",
    "\n",
    "$$ f_1(x_1) = \\int f(x_1, x_2) dx_2 $$\n",
    "\n",
    "### Conditional Probability\n",
    "\n",
    "Consider two discrete random variables: We define the conditional probability $P(Y_1=x_1 | Y_2 = x_2)$, the probability that $Y_1 = x_1$ given that we have observed that $Y_2 = x_2$. This can be compute by recognizing that the likliehood of $Y_1$ occuring given a value for $Y_2$ is the likliehood that both values occured randomly divided by the marginal probablity of $Y_2$:\n",
    "\n",
    "$$ P(Y_1 = x_1 | Y_2 = x_2) = \\frac{P(Y_1 =x_1, Y_2 = x_2)}{P(Y_2 = x_2)}$$\n",
    "\n",
    "In other words the conditional probability given $Y_2=x_2$ is the proportion of the time that $Y_1=x_1$ occured out of all cases where $Y_2 = x_2$ occured.\n",
    "\n",
    "In the continuous case, the conditional PDF is found by:\n",
    "\n",
    "$$ f(x_1 | x_2) = \\frac{f(x_1, x_2)}{ f_2(x_2) } $$\n",
    "\n",
    "### Idependent Random Variables\n",
    "\n",
    "Consider the case of two discrete random varialbes with distribution $P(Y_1 = x_1, Y_2 = x_2)$. The two variables are independent if the likliehood of them both occuring is just the product of each one indvididually occuring (the marginal probabilities of each):  \n",
    "\n",
    "$$ P(Y_1 = x_1, Y_2 = x_2) = P(Y_1 = x_1) P(Y_2 = x_2) $$\n",
    "\n",
    "equivalently what we are saying is that the variables are independent if conditioning by one of them just gives the marginal likliehood:\n",
    "\n",
    "$$ P(Y_1 = x_1 | Y_2 = x_2) = P(Y_1 = x_1) $$\n",
    "\n",
    "In the continuous case, indepdent random variables have a joint PDF that is just a product of marginal PDFs:\n",
    "\n",
    "$$ f(x_1, x_2) = f_1(x_1) f_2(x_2) $$\n",
    "\n",
    "or in terms of the conditional PDF we will have:\n",
    "\n",
    "$$ f(x_1 | x_2) = f_1(x_1) $$\n",
    "\n",
    "Again the idea is that if the variables are independent, knowing the value we got for one of them should not change our probability density of the other one. \n",
    "\n",
    "#### Example\n",
    "\n",
    "Find the constant $c$ such that \n",
    "\n",
    "$$ f(x_1, x_2) = \\left\\{ \\begin{matrix} C x_1 x_2 & 0 \\leq x_1, x_2 \\leq 1 \\\\ 0 & \\mbox{otherwise} \\end{matrix} \\right. $$\n",
    "\n",
    "is a valid PDF. Are $x_1$ and $x_2$ indepdent?\n",
    "\n",
    "#### Example 2\n",
    "\n",
    "Find the constant $c$ such that \n",
    "\n",
    "$$ f(x_1, x_2) = \\left\\{ \\begin{matrix} C x_1 x_2 & 0 \\leq x_1 < x_2 \\leq 1 \\\\ 0 & \\mbox{otherwise} \\end{matrix} \\right. $$\n",
    "\n",
    "is a valid PDF. Are $x_1$ and $x_2$ indepdent?\n",
    "\n",
    "Reminder:  You can use wolfram alpha to compute the integral, but you may need to think about how to set it up correctly. You could determine independence/dependence without actually doing the integral if you appeal to the meaning of the definitions above."
   ]
  },
  {
   "cell_type": "markdown",
   "metadata": {},
   "source": [
    "## Correlation and Covariance\n",
    "\n",
    "Given a pair of jointly distributed continuous random variables $Y_1$ and $Y_2$ one measure of their dependence is to ask how far they jointly move from the means. Let \n",
    "\n",
    "$$ \\mu_1 = E(Y_1) \\qquad \\mbox{and} \\qquad \\mu_2 = E(Y_2) $$ \n",
    "\n",
    "we have the variances\n",
    "\n",
    "$$ \\sigma_1^2 = E( (Y_1 - \\mu_1)^2) \\qquad \\mbox{and} \\qquad \\sigma_2^2 = E( (Y_2 - \\mu_2)^2 ) $$ \n",
    "\n",
    "which again measure the extent to which $Y_1$ (resp. $Y_2$) is likely to be far from its mean.\n",
    "\n",
    "However, it is also interesting to ask how far $Y_1$ will stray from its mean while $Y_2$ is simmultaneously measured from its mean. We defin the covariance of $Y_1$ and $Y_2$ to be\n",
    "\n",
    "$$ \\mbox{Cov}(Y_1, Y_2) = E( (Y_1 - \\mu_1) (Y_2 - \\mu_2) ) $$\n",
    "\n",
    "Note that if $Y_1$ and $Y_2$ are independent then \n",
    "\n",
    "$$ \\mbox{Cov}(Y_1, Y_2) = E( (Y_1 -\\mu_1) ) E( (Y_2 - \\mu_2) ) = 0 \\cdot 0 = 0 $$\n",
    "\n",
    "The units of $\\mbox{Cov}(Y_1, Y_2)$ are the products of the two units. Which means that this is not an absolute measure of the correlations between two varaibles; for example if one of the variables has a large variance it will mean a larger covariance even if the correlation is weak. We can get something that is unitless by dividing this by the square root of the product of variances. The *coefficient of correlation* is given by\n",
    "\n",
    "$$ \\rho = \\frac{\\mbox{Cov}(Y_1, Y_2)}{\\sqrt{ V(Y_1) V(Y_2) }}  $$\n",
    "\n",
    "### Algebra\n",
    "\n",
    "Some algebra of the expected values gives:\n",
    "\n",
    "$$ \\mbox{Cov}(Y_1, Y_2) = E( Y_1 Y_2) - E(Y_1) E(Y_2) $$\n",
    "\n",
    "and so one way to think about covariance is that it is measuring how far the expected value of the product varies from what it would be if the variables were not correlated.\n",
    "\n",
    "\n",
    "### Example\n",
    "\n",
    "Be careful no correlation does not imply independence. Consider the joint density:\n",
    "\n",
    "$$ f(x_1, x_2) = \\left\\{ \\begin{matrix} C & -1 < x_1 < 0; \\qquad 0 < x_2 < 1 + x_1 \\\\ C & 0 < x_1 < 1; \\qquad 0 < x_2 < 1-x_1 \\\\ 0 & \\mbox{otherwise} \\end{matrix} \\right. $$\n",
    "\n",
    "Show that for two random variables $Y_1$ and $Y_2$ with this join distribution $\\mbox{Cov}(Y_1, Y_2) = 0$ but that $Y_1$ and $Y_2$ are dependent. \n",
    "\n",
    "### Linear Combinations of Independent Random Variables\n",
    "\n",
    "Suppose that $Y_1, \\dots, Y_n$ are independent random variables with $E(Y_i) = \\mu_i$ and $V(Y_i) = \\sigma_i$. Let $U = \\sum a_i Y_i $ and $V = \\sum b_i Y_i$ for some coefficients $a_i$ and $b_i$. What can you say about \n",
    "\n",
    "- $ E(U)$ and $E(V)$?\n",
    "- $ V(U)$ and $V(V)$?\n",
    "- $\\mbox{Cov}(U, V)$?\n",
    "\n",
    "- when will $U$ and $V$ have no correlation?\n",
    "- when will $U$ and $V$ be independent?\n",
    "- when will $U$ and $V$ have no correlation but be dependent?\n",
    "\n",
    "#### Example\n",
    "\n",
    "Supppose $Y$ is a normal random variable with mean $\\mu$ and variance $\\sigma^2$. Show that \n",
    "\n",
    "$$ Z = \\frac{Y - \\mu}{\\sigma} $$\n",
    "\n",
    "is a normal random variable with mean 0 and variance 1.\n",
    "\n",
    "## Random Sampling\n",
    "\n",
    "This then brings us back to our sampling question. We can think of a random sample from a distribution, $Y_1, Y_2, \\dots, Y_n$ as a multivariate distribution of independent identically distributed random variables. \n",
    "\n",
    "If the $Y_i$ are discrete with distribution $P(Y = x) = p(x)$ then:\n",
    "\n",
    "$$ P(Y_1 = x_1, Y_2 = x_2, \\dots, Y_n = x_n) = p(x_1) p(x_2) \\dots p(x_n) $$ \n",
    "\n",
    "If the $Y_i$ are continuous with PDF $f(x)$ then:\n",
    "\n",
    "$$ f(x_1, x_2, \\dots, x_n) = f(x_1) f(x_2) \\dots f(x_n)$$\n",
    "\n",
    "We can then answer questions like:  \n",
    "\n",
    "### Mean of the sample\n",
    "\n",
    "The mean of the sample is given by:\n",
    "\n",
    "$$ \\bar{Y} = \\frac{1}{n} Y_1 + \\frac{1}{n} Y_2 + \\dots + \\frac{1}{n} Y_n $$\n",
    "\n",
    "Suppose we are in the continuous case, and we want to know what the distribution of $\\bar{Y}$ is?\n",
    "\n",
    "Well its the same trick we have used over-and-over, we compute the CDF and then differentiate:\n",
    "\n",
    "$$ F(x) = P( \\bar{Y} < x ) = \\iint \\dots \\int_{x_1 + x_2 + \\dots + x_n \\leq n x} f(x_1) f(x_2) \\dots f(x_n) dx_1 dx_2 \\dots dx_n $$\n",
    "\n",
    "Okay so there is not much to do unless we have an explicit value for the PDF, and even then it is likely to get hairy quickly. However two points (a) it is exaclty a problem that a symbolic computer system is good at, and (b) it should not be surprising that we can compute with this. \n",
    "\n",
    "We will do one example:\n",
    "\n",
    "#### Example\n",
    "\n",
    "Using the linear combination result from above what can you say about $E(\\bar{Y})$ and $V(\\bar{Y})$? \n",
    "\n",
    "We will call $\\bar{Y}$ a point estimator for $\\mu = E(Y)$. \n",
    "\n",
    "#### Sample from a Normal Distribution\n",
    "\n",
    "Let $Y_1$ and $Y_2$ be random samples from the Standard Normal distribution ( the normal distribution with mean 0 and variance 1). \n",
    "\n",
    "The PDF for each is:\n",
    "\n",
    "$$ f(x) = \\frac{1}{\\sqrt{2\\pi}} e^{-x^2/2} $$\n",
    "\n",
    "If the mean of the sample is then $\\bar{Y} = \\frac12 Y_1 + \\frac12 Y_2 $ then the CDF for the mean is:\n",
    "\n",
    "$$ F(x) = \\iint_{x_1 + x_2 < 2 x} \\frac{1}{2\\pi} e^{-x_1^2/2 - x_2^2/2} dx_1 dx_2 $$\n",
    "\n",
    "We can set up this itereated integral by fixing an $x_1$ and then integrating over all $x_2$ values such that the inequality holds, and then integrating over all possible $x_1$ values:\n",
    "\n",
    "$$ F(x) = \\frac{1}{2\\pi} \\int_{-\\infty}^\\infty dx_1 e^{-x_1^2/2} \\int_{-\\infty}^{2x - x_1} dx_2 e^{-x_2^2/2} $$\n",
    "\n",
    "Of course we don't actually care what this is, because what we want to do is differentiate it to get the PDF. Notice that the $x$ dependence is confined to just one bound on the iterated integral. We get:\n",
    "\n",
    "$$ f(x) = \\frac{dF}{dx} = \\frac{1}{\\pi} \\int_{-\\infty}^\\infty dx_1 e^{-x_1^2/2} e^{-(2x - x_1)^2/2} = \\frac{1}{\\pi} \\int_{-\\infty}^\\infty dx_1 e^{-2x^2 + 2x x_1 - x_1^2} $$\n",
    "\n",
    "If we complete the square in the exponent we get:\n",
    "\n",
    "$$ - ( x_1^2 - 2 x x_1) - 2 x^2 = - ( x_1 -x)^2 - x^2 $$\n",
    "\n",
    "Then the integral is just the normalizing constant for a normal random variable with variance $\\sigma^2 = 1/2$ and mean $\\mu = x$ and so it gives $\\sqrt{\\pi}$. Therefore we have\n",
    "\n",
    "$$ f(x) = \\frac{1}{\\sqrt{pi}} e^{- x^2} $$ \n",
    "\n",
    "Which is the PDF for a normal distribution with mean 0 and a variance of $1/2$.\n",
    "\n",
    "### General Result\n",
    "\n",
    "It's not surprising then that the above result generalizes to a sample of size $n$:  Let $Y_1, Y_2, \\dots, Y_n$ be a sample from a normal distribution with mean $\\mu$ and variance $\\sigma^2$. Then the sample mean\n",
    "\n",
    "$$ \\bar{Y} = \\frac1n Y_1 + \\frac1n Y_2 + \\dots + \\frac1n Y_n $$\n",
    "\n",
    "is a random variable given by a normal distribution with mean $\\mu$ and **variance** $\\sigma^2 / n$.  \n",
    "\n",
    "In particular as we increase the size of the sample, the variance decreases as $1/n$. \n",
    "\n",
    "The proof is just setting up the multi integral like we did above and then differentiating it, it is interesting, but not terribly enlightening so we will skip it.\n",
    "\n",
    "\n",
    "## Central Limit Theorem\n",
    "\n",
    "So let's return to our hypothesis. It was looking like, at least in the cases we were experimenting with that things became more normal as the size of the sample increased. It is one of the highlights of this subject that this is in fact a theorem.\n",
    "\n",
    "### Moment Convergence Theorem\n",
    "First we need a workhorse theorem about the relationship between moment generating functions converging and the random variables they describe:\n",
    "\n",
    "Let $Y, Y_1, Y_2, \\dots, $ be random variables with moment generating functions \n",
    "\n",
    "$$ m_j(t) = E( e^{ t Y_j}) $$\n",
    "\n",
    "and \n",
    "\n",
    "$$ m(t) = E( e^{t Y} ) $$\n",
    "\n",
    "Then if the moment generating functions converge to $m$:  $$ \\lim_{n\\to \\infty} m_n(t) = m(t) $$ then the distribution for $Y_n$ converges to the distribution of $Y$.\n",
    "\n",
    "### Central Limit Theorem\n",
    "\n",
    "The central limit theorem is then that if $Y_1, Y_2, \\dots, Y_n$ are independent identiically distributed random variables with $E(Y_i) = \\mu$ and $V(Y_i) = \\sigma^2 < \\infty$ let \n",
    "\n",
    "$$ U_n = \\frac{\\bar{Y} - \\mu}{\\sigma/\\sqrt{n}} $$\n",
    "\n",
    "Then the distribution of $U_n$ converges to the standard normal distribution as $n\\to \\infty$. \n",
    "\n",
    "Explicitly:\n",
    "\n",
    "$$ \\lim_{n\\to \\infty} P(U_n \\leq u) = \\int_{-\\infty}^u \\frac{1}{\\sqrt{2\\pi}} e^{-t^2/2} dt $$ \n",
    "\n",
    "Note how few assumptions we have on the distribution the $Y_i$ are pulled from. They could even be discrete, hence the reason we have to phrase the last formula in terms of the CDF.\n",
    "\n",
    "#### Proof\n",
    "\n",
    "This is such a powerful result (it really feels to me like more than we deserve) and as such I want to give a proof of it here:\n",
    "\n",
    "Define\n",
    "\n",
    "$$ Z_i = \\frac{Y_i - \\mu}{\\sigma} $$ \n",
    "\n",
    "and then note that we have:\n",
    "\n",
    "$$ U_n = \\frac{1}{\\sqrt{n}} \\sum_{i=1}^n Z_i $$\n",
    "\n",
    "The $Z_i$ are idependent identically distributed random variables with mean 0 and variance 1 (note that they are not necessarily normal unless the $Y$ are normal). Since they are indepdent their moment generating functions multiply and are equal:\n",
    "\n",
    "$$ m_{\\sum Z_i}(t) = m_{Z_1}(t) m_{Z_2}(t) \\cdots m_{Z_n}(t) = m_Z(t)^n $$\n",
    "\n",
    "Therefore \n",
    "\n",
    "$$ m_{U_n}(t) = m_Z(\\frac{t}{\\sqrt{n}})^n $$\n",
    "\n",
    "We use Taylors Theorem from Calculus 2:\n",
    "\n",
    "$$ m_Z(t) = m_Z(0) + m'_Z(0) t + m''_Z(\\xi) \\frac{t^2}{2} $$\n",
    "\n",
    "for some $0 < \\xi < t $.\n",
    "\n",
    "We have $m_Z(0) = E( e^{0 Z} ) = E( 1) = 1 $ and $m'_Z(0) = E( Z) = 0 $ and so \n",
    "\n",
    "$$ m_Z(t) =1 + m''_Z(\\xi) \\frac{t^2}{2} $$ \n",
    "\n",
    "Therefore:\n",
    "\n",
    "$$ m_{U_n}(t) = \\left[ 1 + m''_Z(\\xi_n) \\frac{t^2}{2n} \\right]^n $$\n",
    "\n",
    "where now $0 < \\xi_n < t / \\sqrt{n}$.  Note that as $n\\to \\infty$ the $\\xi_n$ gets pinched to 0 and therefor \n",
    "\n",
    "$$ m''_Z(\\xi_n) t^2 /2 \\to m''_Z(0) t^2 / 2 = E(Z^2) t^2/2 = t^2/2 $$ \n",
    "\n",
    "because the variance is 1 and the mean is 0:  $ V(Z) = E(Z^2) - E(Z)^2 $\n",
    "\n",
    "Recall that if $\\lim_{n\\to \\infty} b_n = b $ then\n",
    "\n",
    "$$ \\lim_{n\\to \\infty} ( 1 + \\frac{b_n}{n} )^n = e^b $$\n",
    "\n",
    "and we have that the moment generating functions converge to the moment generating function of the standard normal regardless of what the underlying distribution for the sample is!\n",
    "\n",
    "$$ \\lim_{n\\to \\infty} m_{U_n}(t) = \\lim_{n\\to \\infty} \\left[ 1 + \\frac{m''_Z(\\xi_n) t^2/2}{n} \\right]^n = e^{t^2/2} $$\n",
    "\n",
    "#### When does CLT not apply?\n",
    "\n",
    "With a theorem as powerful as CLT it is important to think about the cases when it does not apply. There are three related clues:  We need to have an mean and a variance so $E(Y)$ and $E(Y^2)$ need to exist. And not that the proof relied on there being a moment generating function so we need to know that the function \n",
    "\n",
    "$$ m_Y(t) = E( e^{tY}) $$\n",
    "\n",
    "exists and has a second derivative for some open interval containing $t=0$. This condition will also give us the existence of the mean and variance. \n",
    "\n",
    "So what random variables do not have moment generating functions? \n",
    "\n",
    "\n",
    "## Minimum of the sample\n",
    "\n",
    "\n",
    "\n"
   ]
  },
  {
   "cell_type": "code",
   "execution_count": null,
   "metadata": {},
   "outputs": [],
   "source": []
  }
 ],
 "metadata": {
  "kernelspec": {
   "display_name": "R",
   "language": "R",
   "name": "ir"
  },
  "language_info": {
   "codemirror_mode": "r",
   "file_extension": ".r",
   "mimetype": "text/x-r-source",
   "name": "R",
   "pygments_lexer": "r",
   "version": "4.0.2"
  }
 },
 "nbformat": 4,
 "nbformat_minor": 4
}